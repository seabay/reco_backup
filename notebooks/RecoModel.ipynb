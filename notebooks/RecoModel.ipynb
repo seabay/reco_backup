{
 "cells": [
  {
   "cell_type": "code",
   "execution_count": 45,
   "metadata": {},
   "outputs": [
    {
     "name": "stdout",
     "output_type": "stream",
     "text": [
      "The autoreload extension is already loaded. To reload it, use:\n",
      "  %reload_ext autoreload\n"
     ]
    }
   ],
   "source": [
    "%load_ext autoreload\n",
    "%autoreload 2"
   ]
  },
  {
   "cell_type": "code",
   "execution_count": 46,
   "metadata": {},
   "outputs": [],
   "source": [
    "import numpy as np\n",
    "import builtins\n",
    "import keras\n",
    "import tensorflow as tf\n",
    "from keras import backend as K\n",
    "from extra_keras_metrics import average_precision_at_k\n",
    "from IPython.display import SVG\n",
    "from keras.utils.vis_utils import plot_model\n",
    "import pydot as pyd\n",
    "from keras.utils.vis_utils import model_to_dot\n",
    "from keras.layers import Input, Dense, Embedding, Lambda, Reshape, Flatten, Average\n",
    "from keras.models import Model\n",
    "from keras.backend import mean, max\n",
    "from keras.preprocessing.sequence import pad_sequences\n",
    "\n",
    "keras.utils.vis_utils.pydot = pyd"
   ]
  },
  {
   "cell_type": "code",
   "execution_count": 47,
   "metadata": {},
   "outputs": [],
   "source": [
    "import data_generator"
   ]
  },
  {
   "cell_type": "code",
   "execution_count": 6,
   "metadata": {},
   "outputs": [
    {
     "data": {
      "text/plain": [
       "'1.13.1'"
      ]
     },
     "execution_count": 6,
     "metadata": {},
     "output_type": "execute_result"
    }
   ],
   "source": [
    "tf.__version__"
   ]
  },
  {
   "cell_type": "code",
   "execution_count": 7,
   "metadata": {},
   "outputs": [],
   "source": [
    "class RecoDNN():\n",
    "    \n",
    "    def __init__(self, max_transaction_history = 50, max_product_click_history = 50, max_promotion_click_history = 50,\n",
    "                 category_size = 100, single_categorical_features = None, numeric_features_size = 10,\n",
    "                 hidden_layer1_size = 256, hidden_layer2_size = 128, hidden_layer3_size = 64, activation='relu',\n",
    "                input_embedding_size = 64):\n",
    "        \n",
    "        self.max_transaction_history = max_transaction_history\n",
    "        self.max_product_click_history = max_product_click_history\n",
    "        self.max_promotion_click_history = max_promotion_click_history\n",
    "        self.category_size = category_size\n",
    "        self.hidden_layer1_size = hidden_layer1_size\n",
    "        self.hidden_layer2_size = hidden_layer2_size\n",
    "        self.hidden_layer3_size = hidden_layer3_size\n",
    "        self.single_categorical_features = single_categorical_features\n",
    "        self.numeric_features_size = numeric_features_size\n",
    "        self.activation = activation\n",
    "        self.input_embedding_size = input_embedding_size\n",
    "        \n",
    "        self.category_embeddings = Embedding(output_dim=self.input_embedding_size, input_dim = self.category_size, \n",
    "                       input_length = builtins.max(self.max_transaction_history, self.max_product_click_history, self.max_promotion_click_history), mask_zero=True, name='category_embeddings')\n",
    "        \n",
    "        self.build()\n",
    "        \n",
    "    \n",
    "    def build(self):\n",
    "        \n",
    "        inp_layer, inp_embed = self.create_input()\n",
    "        \n",
    "        v = Dense(self.hidden_layer1_size, activation = self.activation)(keras.layers.concatenate(inp_embed)) \n",
    "        v = Dense(self.hidden_layer2_size, activation = self.activation)(v)\n",
    "        v = Dense(self.hidden_layer3_size, activation = self.activation, name='user_embedding')(v)\n",
    "        output = Dense(self.category_size, activation ='softmax', name='softmax_layer')(v)\n",
    "        self.model = Model(inputs = inp_layer, outputs = [output])    \n",
    "        \n",
    "    \n",
    "    def create_input(self):\n",
    "        \n",
    "        transaction_cols = [x for x in range(self.max_transaction_history)]\n",
    "        product_click_cols = [x for x in range(self.max_product_click_history)]\n",
    "        promotion_click_cols = [x for x in range(self.max_promotion_click_history)]\n",
    "        seq_category_cols = [transaction_cols, product_click_cols, promotion_click_cols]\n",
    "        \n",
    "        seqs = []\n",
    "        for i, grp in enumerate(seq_category_cols):\n",
    "            seqs.append(self.seq_categorical_input('seq_categorical_' + str(i), len(grp)))\n",
    "\n",
    "        singles = []\n",
    "        if self.single_categorical_features:\n",
    "            for col in self.single_categorical_features:\n",
    "                singles.append(self.singe_categorical_input(str(col), self.single_categorical_features[col]))\n",
    "\n",
    "        nums = self.continous_inputs(self.numeric_features_size)\n",
    "\n",
    "        inp_layer =  [s[0] for s in seqs]\n",
    "        inp_layer += [s[0] for s in singles]\n",
    "        inp_layer.append(nums[0])\n",
    "        inp_embed = [s[1] for s in seqs]\n",
    "        inp_embed += [s[1] for s in singles]\n",
    "        inp_embed.append(nums[1])\n",
    "               \n",
    "        return inp_layer, inp_embed\n",
    "    \n",
    "    \n",
    "    def seq_categorical_input(self, name, max_history):\n",
    "    \n",
    "        seq = Input(shape=(max_history,), dtype='int32', name=name)\n",
    "        input_embeddings = self.category_embeddings(seq)\n",
    "        avg = Lambda(lambda x: mean(x, axis=1), name= name + '_avg_embedding')\n",
    "        avg_embedding = avg(input_embeddings)\n",
    "\n",
    "        maxf = Lambda(lambda x: max(x, axis=1), name = name + '_max_embedding')\n",
    "        max_embedding = maxf(input_embeddings)\n",
    "\n",
    "        return seq, avg_embedding   #keras.layers.add([avg_embedding, max_embedding])\n",
    "\n",
    "    \n",
    "    def singe_categorical_input(self, name, unique_size):\n",
    "        single = Input(shape=(1,), dtype='int32', name=name)\n",
    "        embeddings = Embedding(output_dim = self.input_embedding_size, input_dim = unique_size, \n",
    "                           input_length=1, name=name + '_embedding')(single)\n",
    "        embeddings = Flatten(name = 'flatten_' + name)(embeddings)\n",
    "        return single, embeddings\n",
    "    \n",
    "    def continous_inputs(self, size=None, name='numeric'):\n",
    "        inp = Input(shape=(size,), dtype='float32', name=name)\n",
    "        return inp, inp\n"
   ]
  },
  {
   "cell_type": "markdown",
   "metadata": {},
   "source": [
    "# fake dataset"
   ]
  },
  {
   "cell_type": "code",
   "execution_count": 30,
   "metadata": {},
   "outputs": [],
   "source": [
    "data_size = 10000\n",
    "max_transaction_history = 50\n",
    "max_product_click_history = 50\n",
    "max_promotion_click_history = 50\n",
    "input_embedding_size = 64\n",
    "category_size = 100\n",
    "numeric_size = 10\n",
    "\n",
    "data1 = np.random.randint(category_size, size=(data_size, max_transaction_history))\n",
    "data2 = np.random.randint(category_size, size=(data_size, max_product_click_history))\n",
    "data3 = np.random.randint(category_size, size=(data_size, max_promotion_click_history))\n",
    "inputs = [data1, data2, data3]\n",
    "\n",
    "single_category_cols = {105:3,106:5,107:10}   ## such as location : unique_value_size\n",
    "for k in single_category_cols:\n",
    "    inputs.append(np.random.randint(single_category_cols[k], size=(data_size, 1)))\n",
    "\n",
    "num1 = np.random.random(size=(data_size, numeric_size))\n",
    "inputs.append(num1)\n",
    "\n",
    "labels = np.random.randint(category_size, size=(data_size, 1))\n",
    "one_hot_labels = keras.utils.to_categorical(labels, num_classes=category_size)\n"
   ]
  },
  {
   "cell_type": "markdown",
   "metadata": {},
   "source": [
    "## save locally"
   ]
  },
  {
   "cell_type": "code",
   "execution_count": 9,
   "metadata": {},
   "outputs": [
    {
     "name": "stdout",
     "output_type": "stream",
     "text": [
      "(10000, 164)\n"
     ]
    }
   ],
   "source": [
    "inputs1 = inputs.copy()\n",
    "inputs1.append(labels)\n",
    "merge = np.hstack(inputs1)\n",
    "np.savetxt('../data/features.csv', merge, fmt=\"%2.3f\")"
   ]
  },
  {
   "cell_type": "code",
   "execution_count": null,
   "metadata": {},
   "outputs": [],
   "source": []
  },
  {
   "cell_type": "code",
   "execution_count": 61,
   "metadata": {},
   "outputs": [],
   "source": [
    "dataset = tf.data.Dataset.from_tensor_slices((merge,))"
   ]
  },
  {
   "cell_type": "code",
   "execution_count": 65,
   "metadata": {},
   "outputs": [
    {
     "data": {
      "text/plain": [
       "(TensorShape([Dimension(164)]),)"
      ]
     },
     "execution_count": 65,
     "metadata": {},
     "output_type": "execute_result"
    }
   ],
   "source": [
    "dataset.output_shapes"
   ]
  },
  {
   "cell_type": "code",
   "execution_count": 66,
   "metadata": {},
   "outputs": [],
   "source": [
    "dataset = dataset.batch(32).repeat()"
   ]
  },
  {
   "cell_type": "markdown",
   "metadata": {},
   "source": [
    " "
   ]
  },
  {
   "cell_type": "markdown",
   "metadata": {},
   "source": [
    "# Training"
   ]
  },
  {
   "cell_type": "code",
   "execution_count": 48,
   "metadata": {},
   "outputs": [],
   "source": [
    "model = RecoDNN(max_transaction_history,max_product_click_history, max_promotion_click_history, category_size,\n",
    "                numeric_features_size = numeric_size, input_embedding_size = input_embedding_size,\n",
    "                single_categorical_features = single_category_cols).model"
   ]
  },
  {
   "cell_type": "code",
   "execution_count": 49,
   "metadata": {},
   "outputs": [],
   "source": [
    "model.compile(loss='categorical_crossentropy',\n",
    "                       optimizer='adam',\n",
    "                       metrics=['accuracy'])"
   ]
  },
  {
   "cell_type": "code",
   "execution_count": 50,
   "metadata": {},
   "outputs": [
    {
     "name": "stdout",
     "output_type": "stream",
     "text": [
      "__________________________________________________________________________________________________\n",
      "Layer (type)                    Output Shape         Param #     Connected to                     \n",
      "==================================================================================================\n",
      "seq_categorical_0 (InputLayer)  (None, 50)           0                                            \n",
      "__________________________________________________________________________________________________\n",
      "seq_categorical_1 (InputLayer)  (None, 50)           0                                            \n",
      "__________________________________________________________________________________________________\n",
      "seq_categorical_2 (InputLayer)  (None, 50)           0                                            \n",
      "__________________________________________________________________________________________________\n",
      "105 (InputLayer)                (None, 1)            0                                            \n",
      "__________________________________________________________________________________________________\n",
      "106 (InputLayer)                (None, 1)            0                                            \n",
      "__________________________________________________________________________________________________\n",
      "107 (InputLayer)                (None, 1)            0                                            \n",
      "__________________________________________________________________________________________________\n",
      "category_embeddings (Embedding) (None, 50, 64)       6400        seq_categorical_0[0][0]          \n",
      "                                                                 seq_categorical_1[0][0]          \n",
      "                                                                 seq_categorical_2[0][0]          \n",
      "__________________________________________________________________________________________________\n",
      "105_embedding (Embedding)       (None, 1, 64)        192         105[0][0]                        \n",
      "__________________________________________________________________________________________________\n",
      "106_embedding (Embedding)       (None, 1, 64)        320         106[0][0]                        \n",
      "__________________________________________________________________________________________________\n",
      "107_embedding (Embedding)       (None, 1, 64)        640         107[0][0]                        \n",
      "__________________________________________________________________________________________________\n",
      "seq_categorical_0_avg_embedding (None, 64)           0           category_embeddings[0][0]        \n",
      "__________________________________________________________________________________________________\n",
      "seq_categorical_1_avg_embedding (None, 64)           0           category_embeddings[1][0]        \n",
      "__________________________________________________________________________________________________\n",
      "seq_categorical_2_avg_embedding (None, 64)           0           category_embeddings[2][0]        \n",
      "__________________________________________________________________________________________________\n",
      "flatten_105 (Flatten)           (None, 64)           0           105_embedding[0][0]              \n",
      "__________________________________________________________________________________________________\n",
      "flatten_106 (Flatten)           (None, 64)           0           106_embedding[0][0]              \n",
      "__________________________________________________________________________________________________\n",
      "flatten_107 (Flatten)           (None, 64)           0           107_embedding[0][0]              \n",
      "__________________________________________________________________________________________________\n",
      "numeric (InputLayer)            (None, 10)           0                                            \n",
      "__________________________________________________________________________________________________\n",
      "concatenate_5 (Concatenate)     (None, 394)          0           seq_categorical_0_avg_embedding[0\n",
      "                                                                 seq_categorical_1_avg_embedding[0\n",
      "                                                                 seq_categorical_2_avg_embedding[0\n",
      "                                                                 flatten_105[0][0]                \n",
      "                                                                 flatten_106[0][0]                \n",
      "                                                                 flatten_107[0][0]                \n",
      "                                                                 numeric[0][0]                    \n",
      "__________________________________________________________________________________________________\n",
      "dense_9 (Dense)                 (None, 256)          101120      concatenate_5[0][0]              \n",
      "__________________________________________________________________________________________________\n",
      "dense_10 (Dense)                (None, 128)          32896       dense_9[0][0]                    \n",
      "__________________________________________________________________________________________________\n",
      "user_embedding (Dense)          (None, 64)           8256        dense_10[0][0]                   \n",
      "__________________________________________________________________________________________________\n",
      "softmax_layer (Dense)           (None, 100)          6500        user_embedding[0][0]             \n",
      "==================================================================================================\n",
      "Total params: 156,324\n",
      "Trainable params: 156,324\n",
      "Non-trainable params: 0\n",
      "__________________________________________________________________________________________________\n"
     ]
    }
   ],
   "source": [
    "model.summary()"
   ]
  },
  {
   "cell_type": "code",
   "execution_count": 51,
   "metadata": {},
   "outputs": [],
   "source": [
    "#plot_model(model, to_file='model.png', show_shapes=True, show_layer_names=True)"
   ]
  },
  {
   "cell_type": "code",
   "execution_count": 53,
   "metadata": {},
   "outputs": [],
   "source": [
    "#SVG(model_to_dot(model).create(prog='dot', format='svg'))\n"
   ]
  },
  {
   "cell_type": "code",
   "execution_count": null,
   "metadata": {},
   "outputs": [],
   "source": [
    "#%time model.fit(x=inputs, y=one_hot_labels, epochs=20, batch_size=32)"
   ]
  },
  {
   "cell_type": "code",
   "execution_count": 69,
   "metadata": {},
   "outputs": [
    {
     "ename": "AttributeError",
     "evalue": "'DatasetV1Adapter' object has no attribute 'ndim'",
     "output_type": "error",
     "traceback": [
      "\u001b[0;31m---------------------------------------------------------------------------\u001b[0m",
      "\u001b[0;31mAttributeError\u001b[0m                            Traceback (most recent call last)",
      "\u001b[0;32m<timed eval>\u001b[0m in \u001b[0;36m<module>\u001b[0;34m\u001b[0m\n",
      "\u001b[0;32m~/anaconda3/envs/reco/lib/python3.6/site-packages/keras/engine/training.py\u001b[0m in \u001b[0;36mfit\u001b[0;34m(self, x, y, batch_size, epochs, verbose, callbacks, validation_split, validation_data, shuffle, class_weight, sample_weight, initial_epoch, steps_per_epoch, validation_steps, **kwargs)\u001b[0m\n\u001b[1;32m    950\u001b[0m             \u001b[0msample_weight\u001b[0m\u001b[0;34m=\u001b[0m\u001b[0msample_weight\u001b[0m\u001b[0;34m,\u001b[0m\u001b[0;34m\u001b[0m\u001b[0;34m\u001b[0m\u001b[0m\n\u001b[1;32m    951\u001b[0m             \u001b[0mclass_weight\u001b[0m\u001b[0;34m=\u001b[0m\u001b[0mclass_weight\u001b[0m\u001b[0;34m,\u001b[0m\u001b[0;34m\u001b[0m\u001b[0;34m\u001b[0m\u001b[0m\n\u001b[0;32m--> 952\u001b[0;31m             batch_size=batch_size)\n\u001b[0m\u001b[1;32m    953\u001b[0m         \u001b[0;31m# Prepare validation data.\u001b[0m\u001b[0;34m\u001b[0m\u001b[0;34m\u001b[0m\u001b[0;34m\u001b[0m\u001b[0m\n\u001b[1;32m    954\u001b[0m         \u001b[0mdo_validation\u001b[0m \u001b[0;34m=\u001b[0m \u001b[0;32mFalse\u001b[0m\u001b[0;34m\u001b[0m\u001b[0;34m\u001b[0m\u001b[0m\n",
      "\u001b[0;32m~/anaconda3/envs/reco/lib/python3.6/site-packages/keras/engine/training.py\u001b[0m in \u001b[0;36m_standardize_user_data\u001b[0;34m(self, x, y, sample_weight, class_weight, check_array_lengths, batch_size)\u001b[0m\n\u001b[1;32m    749\u001b[0m             \u001b[0mfeed_input_shapes\u001b[0m\u001b[0;34m,\u001b[0m\u001b[0;34m\u001b[0m\u001b[0;34m\u001b[0m\u001b[0m\n\u001b[1;32m    750\u001b[0m             \u001b[0mcheck_batch_axis\u001b[0m\u001b[0;34m=\u001b[0m\u001b[0;32mFalse\u001b[0m\u001b[0;34m,\u001b[0m  \u001b[0;31m# Don't enforce the batch size.\u001b[0m\u001b[0;34m\u001b[0m\u001b[0;34m\u001b[0m\u001b[0m\n\u001b[0;32m--> 751\u001b[0;31m             exception_prefix='input')\n\u001b[0m\u001b[1;32m    752\u001b[0m \u001b[0;34m\u001b[0m\u001b[0m\n\u001b[1;32m    753\u001b[0m         \u001b[0;32mif\u001b[0m \u001b[0my\u001b[0m \u001b[0;32mis\u001b[0m \u001b[0;32mnot\u001b[0m \u001b[0;32mNone\u001b[0m\u001b[0;34m:\u001b[0m\u001b[0;34m\u001b[0m\u001b[0;34m\u001b[0m\u001b[0m\n",
      "\u001b[0;32m~/anaconda3/envs/reco/lib/python3.6/site-packages/keras/engine/training_utils.py\u001b[0m in \u001b[0;36mstandardize_input_data\u001b[0;34m(data, names, shapes, check_batch_axis, exception_prefix)\u001b[0m\n\u001b[1;32m     90\u001b[0m         \u001b[0mdata\u001b[0m \u001b[0;34m=\u001b[0m \u001b[0mdata\u001b[0m\u001b[0;34m.\u001b[0m\u001b[0mvalues\u001b[0m \u001b[0;32mif\u001b[0m \u001b[0mdata\u001b[0m\u001b[0;34m.\u001b[0m\u001b[0m__class__\u001b[0m\u001b[0;34m.\u001b[0m\u001b[0m__name__\u001b[0m \u001b[0;34m==\u001b[0m \u001b[0;34m'DataFrame'\u001b[0m \u001b[0;32melse\u001b[0m \u001b[0mdata\u001b[0m\u001b[0;34m\u001b[0m\u001b[0;34m\u001b[0m\u001b[0m\n\u001b[1;32m     91\u001b[0m         \u001b[0mdata\u001b[0m \u001b[0;34m=\u001b[0m \u001b[0;34m[\u001b[0m\u001b[0mdata\u001b[0m\u001b[0;34m]\u001b[0m\u001b[0;34m\u001b[0m\u001b[0;34m\u001b[0m\u001b[0m\n\u001b[0;32m---> 92\u001b[0;31m     \u001b[0mdata\u001b[0m \u001b[0;34m=\u001b[0m \u001b[0;34m[\u001b[0m\u001b[0mstandardize_single_array\u001b[0m\u001b[0;34m(\u001b[0m\u001b[0mx\u001b[0m\u001b[0;34m)\u001b[0m \u001b[0;32mfor\u001b[0m \u001b[0mx\u001b[0m \u001b[0;32min\u001b[0m \u001b[0mdata\u001b[0m\u001b[0;34m]\u001b[0m\u001b[0;34m\u001b[0m\u001b[0;34m\u001b[0m\u001b[0m\n\u001b[0m\u001b[1;32m     93\u001b[0m \u001b[0;34m\u001b[0m\u001b[0m\n\u001b[1;32m     94\u001b[0m     \u001b[0;32mif\u001b[0m \u001b[0mlen\u001b[0m\u001b[0;34m(\u001b[0m\u001b[0mdata\u001b[0m\u001b[0;34m)\u001b[0m \u001b[0;34m!=\u001b[0m \u001b[0mlen\u001b[0m\u001b[0;34m(\u001b[0m\u001b[0mnames\u001b[0m\u001b[0;34m)\u001b[0m\u001b[0;34m:\u001b[0m\u001b[0;34m\u001b[0m\u001b[0;34m\u001b[0m\u001b[0m\n",
      "\u001b[0;32m~/anaconda3/envs/reco/lib/python3.6/site-packages/keras/engine/training_utils.py\u001b[0m in \u001b[0;36m<listcomp>\u001b[0;34m(.0)\u001b[0m\n\u001b[1;32m     90\u001b[0m         \u001b[0mdata\u001b[0m \u001b[0;34m=\u001b[0m \u001b[0mdata\u001b[0m\u001b[0;34m.\u001b[0m\u001b[0mvalues\u001b[0m \u001b[0;32mif\u001b[0m \u001b[0mdata\u001b[0m\u001b[0;34m.\u001b[0m\u001b[0m__class__\u001b[0m\u001b[0;34m.\u001b[0m\u001b[0m__name__\u001b[0m \u001b[0;34m==\u001b[0m \u001b[0;34m'DataFrame'\u001b[0m \u001b[0;32melse\u001b[0m \u001b[0mdata\u001b[0m\u001b[0;34m\u001b[0m\u001b[0;34m\u001b[0m\u001b[0m\n\u001b[1;32m     91\u001b[0m         \u001b[0mdata\u001b[0m \u001b[0;34m=\u001b[0m \u001b[0;34m[\u001b[0m\u001b[0mdata\u001b[0m\u001b[0;34m]\u001b[0m\u001b[0;34m\u001b[0m\u001b[0;34m\u001b[0m\u001b[0m\n\u001b[0;32m---> 92\u001b[0;31m     \u001b[0mdata\u001b[0m \u001b[0;34m=\u001b[0m \u001b[0;34m[\u001b[0m\u001b[0mstandardize_single_array\u001b[0m\u001b[0;34m(\u001b[0m\u001b[0mx\u001b[0m\u001b[0;34m)\u001b[0m \u001b[0;32mfor\u001b[0m \u001b[0mx\u001b[0m \u001b[0;32min\u001b[0m \u001b[0mdata\u001b[0m\u001b[0;34m]\u001b[0m\u001b[0;34m\u001b[0m\u001b[0;34m\u001b[0m\u001b[0m\n\u001b[0m\u001b[1;32m     93\u001b[0m \u001b[0;34m\u001b[0m\u001b[0m\n\u001b[1;32m     94\u001b[0m     \u001b[0;32mif\u001b[0m \u001b[0mlen\u001b[0m\u001b[0;34m(\u001b[0m\u001b[0mdata\u001b[0m\u001b[0;34m)\u001b[0m \u001b[0;34m!=\u001b[0m \u001b[0mlen\u001b[0m\u001b[0;34m(\u001b[0m\u001b[0mnames\u001b[0m\u001b[0;34m)\u001b[0m\u001b[0;34m:\u001b[0m\u001b[0;34m\u001b[0m\u001b[0;34m\u001b[0m\u001b[0m\n",
      "\u001b[0;32m~/anaconda3/envs/reco/lib/python3.6/site-packages/keras/engine/training_utils.py\u001b[0m in \u001b[0;36mstandardize_single_array\u001b[0;34m(x)\u001b[0m\n\u001b[1;32m     25\u001b[0m                 'Got tensor with shape: %s' % str(shape))\n\u001b[1;32m     26\u001b[0m         \u001b[0;32mreturn\u001b[0m \u001b[0mx\u001b[0m\u001b[0;34m\u001b[0m\u001b[0;34m\u001b[0m\u001b[0m\n\u001b[0;32m---> 27\u001b[0;31m     \u001b[0;32melif\u001b[0m \u001b[0mx\u001b[0m\u001b[0;34m.\u001b[0m\u001b[0mndim\u001b[0m \u001b[0;34m==\u001b[0m \u001b[0;36m1\u001b[0m\u001b[0;34m:\u001b[0m\u001b[0;34m\u001b[0m\u001b[0;34m\u001b[0m\u001b[0m\n\u001b[0m\u001b[1;32m     28\u001b[0m         \u001b[0mx\u001b[0m \u001b[0;34m=\u001b[0m \u001b[0mnp\u001b[0m\u001b[0;34m.\u001b[0m\u001b[0mexpand_dims\u001b[0m\u001b[0;34m(\u001b[0m\u001b[0mx\u001b[0m\u001b[0;34m,\u001b[0m \u001b[0;36m1\u001b[0m\u001b[0;34m)\u001b[0m\u001b[0;34m\u001b[0m\u001b[0;34m\u001b[0m\u001b[0m\n\u001b[1;32m     29\u001b[0m     \u001b[0;32mreturn\u001b[0m \u001b[0mx\u001b[0m\u001b[0;34m\u001b[0m\u001b[0;34m\u001b[0m\u001b[0m\n",
      "\u001b[0;31mAttributeError\u001b[0m: 'DatasetV1Adapter' object has no attribute 'ndim'"
     ]
    }
   ],
   "source": [
    "%time model.fit(x=dataset, epochs=20, batch_size=64, steps_per_epoch=10000//64)"
   ]
  },
  {
   "cell_type": "code",
   "execution_count": null,
   "metadata": {},
   "outputs": [],
   "source": []
  },
  {
   "cell_type": "code",
   "execution_count": 57,
   "metadata": {},
   "outputs": [],
   "source": [
    "generator=data_generator.data_generator('../data/features.csv', 64, [50, 100, 150], [150,151,152], [153])\n"
   ]
  },
  {
   "cell_type": "code",
   "execution_count": 58,
   "metadata": {},
   "outputs": [],
   "source": [
    "#generator=data_generator.DataGenerator('../data/features.csv', 10000, 64, 100, [50, 100, 150], [150,151,152], [153])"
   ]
  },
  {
   "cell_type": "code",
   "execution_count": 59,
   "metadata": {},
   "outputs": [
    {
     "name": "stdout",
     "output_type": "stream",
     "text": [
      "Epoch 1/50\n",
      "156/156 [==============================] - 1s 5ms/step - loss: 4.5914 - acc: 0.0142\n",
      "Epoch 2/50\n",
      "156/156 [==============================] - 1s 5ms/step - loss: 4.6005 - acc: 0.0102\n",
      "Epoch 3/50\n",
      "156/156 [==============================] - 1s 5ms/step - loss: 4.6100 - acc: 0.0060\n",
      "Epoch 4/50\n",
      "156/156 [==============================] - 1s 5ms/step - loss: 4.5966 - acc: 0.0106\n",
      "Epoch 5/50\n",
      "156/156 [==============================] - 1s 5ms/step - loss: 4.5915 - acc: 0.0114\n",
      "Epoch 6/50\n",
      "156/156 [==============================] - 1s 5ms/step - loss: 4.5941 - acc: 0.0135\n",
      "Epoch 7/50\n",
      "156/156 [==============================] - 1s 5ms/step - loss: 4.5761 - acc: 0.0103\n",
      "Epoch 8/50\n",
      "156/156 [==============================] - 1s 5ms/step - loss: 4.5642 - acc: 0.0137\n",
      "Epoch 9/50\n",
      "156/156 [==============================] - 1s 5ms/step - loss: 4.5967 - acc: 0.0155\n",
      "Epoch 10/50\n",
      "156/156 [==============================] - 1s 5ms/step - loss: 4.6013 - acc: 0.0126\n",
      "Epoch 11/50\n",
      "156/156 [==============================] - 1s 5ms/step - loss: 4.6061 - acc: 0.0082\n",
      "Epoch 12/50\n",
      "156/156 [==============================] - 1s 5ms/step - loss: 4.6123 - acc: 0.0160\n",
      "Epoch 13/50\n",
      "156/156 [==============================] - 1s 5ms/step - loss: 4.6079 - acc: 0.0099\n",
      "Epoch 14/50\n",
      "156/156 [==============================] - 1s 5ms/step - loss: 4.6060 - acc: 0.0066\n",
      "Epoch 15/50\n",
      "156/156 [==============================] - 1s 5ms/step - loss: 4.6031 - acc: 0.0103\n",
      "Epoch 16/50\n",
      "156/156 [==============================] - 1s 5ms/step - loss: 4.5882 - acc: 0.0154\n",
      "Epoch 17/50\n",
      "156/156 [==============================] - 1s 5ms/step - loss: 4.6025 - acc: 0.0117\n",
      "Epoch 18/50\n",
      "156/156 [==============================] - 1s 5ms/step - loss: 4.6054 - acc: 0.0143\n",
      "Epoch 19/50\n",
      "156/156 [==============================] - 1s 5ms/step - loss: 4.6073 - acc: 0.0135\n",
      "Epoch 20/50\n",
      "156/156 [==============================] - 1s 5ms/step - loss: 4.5761 - acc: 0.0074\n",
      "Epoch 21/50\n",
      "156/156 [==============================] - 1s 5ms/step - loss: 4.5985 - acc: 0.0136\n",
      "Epoch 22/50\n",
      "156/156 [==============================] - 1s 5ms/step - loss: 4.5921 - acc: 0.0111\n",
      "Epoch 23/50\n",
      "156/156 [==============================] - 1s 6ms/step - loss: 4.5876 - acc: 0.0163\n",
      "Epoch 24/50\n",
      "156/156 [==============================] - 1s 6ms/step - loss: 4.6036 - acc: 0.0106\n",
      "Epoch 25/50\n",
      "156/156 [==============================] - 1s 5ms/step - loss: 4.5831 - acc: 0.0165\n",
      "Epoch 26/50\n",
      "156/156 [==============================] - 1s 5ms/step - loss: 4.6024 - acc: 0.0095\n",
      "Epoch 27/50\n",
      "156/156 [==============================] - 1s 5ms/step - loss: 4.6095 - acc: 0.0168\n",
      "Epoch 28/50\n",
      "156/156 [==============================] - 1s 5ms/step - loss: 4.5971 - acc: 0.0108\n",
      "Epoch 29/50\n",
      "156/156 [==============================] - 1s 5ms/step - loss: 4.6014 - acc: 0.0066\n",
      "Epoch 30/50\n",
      "156/156 [==============================] - 1s 5ms/step - loss: 4.5980 - acc: 0.0120\n",
      "Epoch 31/50\n",
      "156/156 [==============================] - 1s 5ms/step - loss: 4.6017 - acc: 0.0134\n",
      "Epoch 32/50\n",
      "156/156 [==============================] - 1s 5ms/step - loss: 4.5987 - acc: 0.0133\n",
      "Epoch 33/50\n",
      "156/156 [==============================] - 1s 5ms/step - loss: 4.6083 - acc: 0.0138\n",
      "Epoch 34/50\n",
      "156/156 [==============================] - 1s 5ms/step - loss: 4.6105 - acc: 0.0138\n",
      "Epoch 35/50\n",
      "156/156 [==============================] - 1s 5ms/step - loss: 4.6069 - acc: 0.0036\n",
      "Epoch 36/50\n",
      "156/156 [==============================] - 1s 5ms/step - loss: 4.6027 - acc: 0.0111\n",
      "Epoch 37/50\n",
      "156/156 [==============================] - 1s 5ms/step - loss: 4.6011 - acc: 0.0104\n",
      "Epoch 38/50\n",
      "156/156 [==============================] - 1s 5ms/step - loss: 4.5976 - acc: 0.0151\n",
      "Epoch 39/50\n",
      "156/156 [==============================] - 1s 5ms/step - loss: 4.5956 - acc: 0.0134\n",
      "Epoch 40/50\n",
      "156/156 [==============================] - 1s 5ms/step - loss: 4.5980 - acc: 0.0147\n",
      "Epoch 41/50\n",
      "156/156 [==============================] - 1s 5ms/step - loss: 4.6014 - acc: 0.0096\n",
      "Epoch 42/50\n",
      "156/156 [==============================] - 1s 5ms/step - loss: 4.6107 - acc: 0.0164\n",
      "Epoch 43/50\n",
      "156/156 [==============================] - 1s 5ms/step - loss: 4.5952 - acc: 0.0108\n",
      "Epoch 44/50\n",
      "156/156 [==============================] - 1s 5ms/step - loss: 4.6073 - acc: 0.0091\n",
      "Epoch 45/50\n",
      "156/156 [==============================] - 1s 5ms/step - loss: 4.5962 - acc: 0.0128\n",
      "Epoch 46/50\n",
      "156/156 [==============================] - 1s 5ms/step - loss: 4.6013 - acc: 0.0140\n",
      "Epoch 47/50\n",
      "156/156 [==============================] - 1s 5ms/step - loss: 4.6027 - acc: 0.0123\n",
      "Epoch 48/50\n",
      "156/156 [==============================] - 1s 5ms/step - loss: 4.6102 - acc: 0.0126\n",
      "Epoch 49/50\n",
      "156/156 [==============================] - 1s 5ms/step - loss: 4.6050 - acc: 0.0166\n",
      "Epoch 50/50\n",
      "156/156 [==============================] - 1s 6ms/step - loss: 4.5999 - acc: 0.0060\n",
      "CPU times: user 1min 23s, sys: 50.5 s, total: 2min 13s\n",
      "Wall time: 40.8 s\n"
     ]
    },
    {
     "data": {
      "text/plain": [
       "<keras.callbacks.History at 0x12eaa22e8>"
      ]
     },
     "execution_count": 59,
     "metadata": {},
     "output_type": "execute_result"
    }
   ],
   "source": [
    "%time model.fit_generator(generator,steps_per_epoch=10000//64, verbose=1, epochs=50, shuffle=True, use_multiprocessing=True, workers=15)\n"
   ]
  },
  {
   "cell_type": "code",
   "execution_count": null,
   "metadata": {},
   "outputs": [],
   "source": []
  }
 ],
 "metadata": {
  "kernelspec": {
   "display_name": "Python 3",
   "language": "python",
   "name": "python3"
  },
  "language_info": {
   "codemirror_mode": {
    "name": "ipython",
    "version": 3
   },
   "file_extension": ".py",
   "mimetype": "text/x-python",
   "name": "python",
   "nbconvert_exporter": "python",
   "pygments_lexer": "ipython3",
   "version": "3.6.8"
  }
 },
 "nbformat": 4,
 "nbformat_minor": 2
}
