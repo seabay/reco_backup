{
 "cells": [
  {
   "cell_type": "code",
   "execution_count": 199,
   "metadata": {},
   "outputs": [],
   "source": [
    "import tensorflow as tf\n",
    "import numpy as np\n",
    "import random"
   ]
  },
  {
   "cell_type": "code",
   "execution_count": 200,
   "metadata": {},
   "outputs": [],
   "source": [
    "tf.logging.set_verbosity(tf.logging.INFO)"
   ]
  },
  {
   "cell_type": "code",
   "execution_count": null,
   "metadata": {},
   "outputs": [],
   "source": []
  },
  {
   "cell_type": "code",
   "execution_count": 285,
   "metadata": {},
   "outputs": [],
   "source": [
    "data_size = 50000\n",
    "max_transaction_history = 20\n",
    "max_product_click_history = 20\n",
    "max_promotion_click_history = 20\n",
    "input_embedding_size = 64\n",
    "category_size = 50\n",
    "numeric_size = 1\n",
    "\n",
    "data1 = np.random.randint(category_size, size=(data_size, random.randint(1,max_transaction_history)))\n",
    "data1 = tf.keras.preprocessing.sequence.pad_sequences(data1, max_transaction_history, padding='post')\n",
    "#data1 = np.array([[1,2], [1,2,4]])\n",
    "\n",
    "data2 = np.random.randint(category_size, size=(data_size, max_product_click_history-3))\n",
    "data2 = tf.keras.preprocessing.sequence.pad_sequences(data2, max_product_click_history, padding='post')\n",
    "\n",
    "data3 = np.random.randint(category_size, size=(data_size, max_promotion_click_history-4))\n",
    "data3 = tf.keras.preprocessing.sequence.pad_sequences(data3, max_promotion_click_history, padding='post')\n",
    "\n",
    "inputs = [data1, data2, data3]\n",
    "\n",
    "single_category_cols = {105:(3,8),106:(5,8),107:(10,8)}   ## such as location : unique_value_size\n",
    "for k in single_category_cols:\n",
    "    inputs.append(np.random.randint(single_category_cols[k][0], size=(data_size, 1)))\n",
    "\n",
    "num1 = np.random.random(size=(data_size, numeric_size))\n",
    "inputs.append(num1)\n",
    "\n",
    "labels = np.random.randint(0, category_size-1, size=(data_size, 1))\n",
    "one_hot_labels = tf.keras.utils.to_categorical(labels, num_classes=category_size)"
   ]
  },
  {
   "cell_type": "code",
   "execution_count": 286,
   "metadata": {},
   "outputs": [],
   "source": [
    "output_filename = \"../data/tf.tfrecord\"\n",
    "\n",
    "def float_feature(value):\n",
    "    return tf.train.Feature(float_list=tf.train.FloatList(value=value))\n",
    "\n",
    "def int64_feature(value):\n",
    "    return tf.train.Feature(int64_list=tf.train.Int64List(value=list(value)))\n",
    "\n",
    "with tf.python_io.TFRecordWriter(output_filename) as writer:\n",
    "    for (v1,v2,v3,v4,v5,v6,v7,v8) in zip(data1, data2, data3, inputs[3], inputs[4], inputs[5], inputs[6], labels):\n",
    "        features = {'seq_categorical_0': int64_feature(v1), 'seq_categorical_1': int64_feature(v2),\n",
    "                    'seq_categorical_2': int64_feature(v3),'105': int64_feature(v4),\n",
    "                    '106': int64_feature(v5),'107': int64_feature(v6), 'numeric': float_feature(v7),\n",
    "                    'labels': int64_feature(v8)}\n",
    "        tf_example = tf.train.Example(features=tf.train.Features(feature=features))\n",
    "        writer.write(tf_example.SerializeToString())\n"
   ]
  },
  {
   "cell_type": "code",
   "execution_count": 287,
   "metadata": {},
   "outputs": [],
   "source": [
    "def parse_function(example_proto):\n",
    "    features = {\"seq_categorical_0\":tf.FixedLenFeature([max_transaction_history],tf.int64),\n",
    "                \"seq_categorical_1\":tf.FixedLenFeature([max_product_click_history], tf.int64),\n",
    "                \"seq_categorical_2\":tf.FixedLenFeature([max_promotion_click_history], tf.int64),\n",
    "                \"105\":tf.FixedLenFeature([1], tf.int64),\n",
    "                \"106\":tf.FixedLenFeature([1], tf.int64),\n",
    "                \"107\":tf.FixedLenFeature([1], tf.int64),\n",
    "                \"numeric\":tf.FixedLenFeature([1], tf.float32),\n",
    "                \"labels\":tf.FixedLenFeature([1], tf.int64),\n",
    "         }\n",
    "    parsed_features = tf.parse_single_example(example_proto, features)\n",
    "    #return parsed_features\n",
    "    #return (parsed_features[\"seq_categorical_0\"], parsed_features[\"seq_categorical_1\"], parsed_features[\"seq_categorical_2\"], parsed_features[\"105\"], parsed_features[\"106\"], parsed_features[\"107\"], parsed_features[\"numeric\"]), parsed_features[\"labels\"]\n",
    "    return {'seq_categorical_0': parsed_features[\"seq_categorical_0\"], 'seq_categorical_1':parsed_features[\"seq_categorical_1\"], 'numeric':parsed_features[\"numeric\"]}, parsed_features[\"labels\"]\n",
    "\n"
   ]
  },
  {
   "cell_type": "code",
   "execution_count": 288,
   "metadata": {},
   "outputs": [],
   "source": [
    "def load_data():\n",
    "    ds=tf.data.TFRecordDataset('../data/tf.tfrecord')\n",
    "    ds=ds.map(parse_function, num_parallel_calls=4)\n",
    "    ds=ds.repeat() \n",
    "    ds=ds.batch(64)\n",
    "    return ds"
   ]
  },
  {
   "cell_type": "code",
   "execution_count": 289,
   "metadata": {},
   "outputs": [],
   "source": [
    "tran_seq = tf.feature_column.categorical_column_with_identity('seq_categorical_0', category_size)\n",
    "promo_seq = tf.feature_column.categorical_column_with_identity('seq_categorical_1', category_size)"
   ]
  },
  {
   "cell_type": "code",
   "execution_count": 290,
   "metadata": {},
   "outputs": [],
   "source": [
    "tans_emb = tf.feature_column.embedding_column(categorical_column=tran_seq, dimension=input_embedding_size, combiner='sqrtn')\n",
    "promo_emb = tf.feature_column.embedding_column(categorical_column=promo_seq, dimension=input_embedding_size, combiner='sqrtn')"
   ]
  },
  {
   "cell_type": "code",
   "execution_count": 291,
   "metadata": {},
   "outputs": [
    {
     "name": "stderr",
     "output_type": "stream",
     "text": [
      "I0812 12:43:30.344661 4798883264 estimator.py:1790] Using default config.\n",
      "W0812 12:43:30.348038 4798883264 estimator.py:1811] Using temporary folder as model directory: /var/folders/0m/rqkyx9816pq795n34h08zf7r0000gn/T/tmpczv5jlzc\n",
      "I0812 12:43:30.351577 4798883264 estimator.py:209] Using config: {'_model_dir': '/var/folders/0m/rqkyx9816pq795n34h08zf7r0000gn/T/tmpczv5jlzc', '_tf_random_seed': None, '_save_summary_steps': 100, '_save_checkpoints_steps': None, '_save_checkpoints_secs': 600, '_session_config': allow_soft_placement: true\n",
      "graph_options {\n",
      "  rewrite_options {\n",
      "    meta_optimizer_iterations: ONE\n",
      "  }\n",
      "}\n",
      ", '_keep_checkpoint_max': 5, '_keep_checkpoint_every_n_hours': 10000, '_log_step_count_steps': 100, '_train_distribute': None, '_device_fn': None, '_protocol': None, '_eval_distribute': None, '_experimental_distribute': None, '_experimental_max_worker_delay_secs': None, '_service': None, '_cluster_spec': <tensorflow.python.training.server_lib.ClusterSpec object at 0x1655ba6d8>, '_task_type': 'worker', '_task_id': 0, '_global_id_in_cluster': 0, '_master': '', '_evaluation_master': '', '_is_chief': True, '_num_ps_replicas': 0, '_num_worker_replicas': 1}\n"
     ]
    }
   ],
   "source": [
    "estimator = tf.estimator.DNNClassifier(\n",
    "    feature_columns=[tans_emb, promo_emb],\n",
    "    n_classes=category_size,\n",
    "    hidden_units=[2048, 1024, 512, 256, 128],\n",
    "    #optimizer=tf.train.AdamOptimizer(0.0001),\n",
    "    optimizer=lambda: tf.train.AdamOptimizer(\n",
    "        learning_rate=tf.train.exponential_decay(\n",
    "            learning_rate=0.001,\n",
    "            global_step=tf.train.get_global_step(),\n",
    "            decay_steps=5000,\n",
    "            decay_rate=0.96)))"
   ]
  },
  {
   "cell_type": "code",
   "execution_count": 304,
   "metadata": {},
   "outputs": [
    {
     "name": "stderr",
     "output_type": "stream",
     "text": [
      "I0812 13:26:28.901501 4798883264 estimator.py:1145] Calling model_fn.\n",
      "I0812 13:26:30.446964 4798883264 estimator.py:1147] Done calling model_fn.\n",
      "I0812 13:26:30.448822 4798883264 basic_session_run_hooks.py:541] Create CheckpointSaverHook.\n",
      "I0812 13:26:30.979308 4798883264 monitored_session.py:240] Graph was finalized.\n",
      "I0812 13:26:30.985590 4798883264 saver.py:1280] Restoring parameters from /var/folders/0m/rqkyx9816pq795n34h08zf7r0000gn/T/tmpczv5jlzc/model.ckpt-60000\n",
      "I0812 13:26:31.222370 4798883264 session_manager.py:500] Running local_init_op.\n",
      "I0812 13:26:31.270895 4798883264 session_manager.py:502] Done running local_init_op.\n",
      "I0812 13:26:32.639109 4798883264 basic_session_run_hooks.py:606] Saving checkpoints for 60000 into /var/folders/0m/rqkyx9816pq795n34h08zf7r0000gn/T/tmpczv5jlzc/model.ckpt.\n",
      "I0812 13:26:33.515489 4798883264 basic_session_run_hooks.py:262] loss = 62.501167, step = 60001\n",
      "I0812 13:26:36.284466 4798883264 basic_session_run_hooks.py:692] global_step/sec: 36.108\n",
      "I0812 13:26:36.286686 4798883264 basic_session_run_hooks.py:260] loss = 3.4902616, step = 60101 (2.771 sec)\n",
      "I0812 13:26:38.808336 4798883264 basic_session_run_hooks.py:692] global_step/sec: 39.6195\n",
      "I0812 13:26:38.810213 4798883264 basic_session_run_hooks.py:260] loss = 20.982853, step = 60201 (2.524 sec)\n",
      "I0812 13:26:41.372163 4798883264 basic_session_run_hooks.py:692] global_step/sec: 39.0045\n",
      "I0812 13:26:41.373933 4798883264 basic_session_run_hooks.py:260] loss = 7.801818, step = 60301 (2.564 sec)\n",
      "I0812 13:26:43.877007 4798883264 basic_session_run_hooks.py:692] global_step/sec: 39.9224\n",
      "I0812 13:26:43.878720 4798883264 basic_session_run_hooks.py:260] loss = 9.266762, step = 60401 (2.505 sec)\n",
      "I0812 13:26:46.381994 4798883264 basic_session_run_hooks.py:692] global_step/sec: 39.921\n",
      "I0812 13:26:46.383802 4798883264 basic_session_run_hooks.py:260] loss = 5.515835, step = 60501 (2.505 sec)\n",
      "I0812 13:26:48.914259 4798883264 basic_session_run_hooks.py:692] global_step/sec: 39.4903\n",
      "I0812 13:26:48.916164 4798883264 basic_session_run_hooks.py:260] loss = 5.8237004, step = 60601 (2.532 sec)\n",
      "I0812 13:26:51.414501 4798883264 basic_session_run_hooks.py:692] global_step/sec: 39.997\n",
      "I0812 13:26:51.416692 4798883264 basic_session_run_hooks.py:260] loss = 6.7331963, step = 60701 (2.501 sec)\n",
      "I0812 13:26:54.332674 4798883264 basic_session_run_hooks.py:692] global_step/sec: 34.2674\n",
      "I0812 13:26:54.334944 4798883264 basic_session_run_hooks.py:260] loss = 7.0241933, step = 60801 (2.918 sec)\n",
      "I0812 13:26:56.997861 4798883264 basic_session_run_hooks.py:692] global_step/sec: 37.5212\n",
      "I0812 13:26:56.999381 4798883264 basic_session_run_hooks.py:260] loss = 1.6367898, step = 60901 (2.664 sec)\n",
      "I0812 13:26:59.366192 4798883264 basic_session_run_hooks.py:692] global_step/sec: 42.2227\n",
      "I0812 13:26:59.367555 4798883264 basic_session_run_hooks.py:260] loss = 2.5734105, step = 61001 (2.368 sec)\n",
      "I0812 13:27:01.685070 4798883264 basic_session_run_hooks.py:692] global_step/sec: 43.1242\n",
      "I0812 13:27:01.686928 4798883264 basic_session_run_hooks.py:260] loss = 7.8108425, step = 61101 (2.319 sec)\n",
      "I0812 13:27:04.077845 4798883264 basic_session_run_hooks.py:692] global_step/sec: 41.7937\n",
      "I0812 13:27:04.079408 4798883264 basic_session_run_hooks.py:260] loss = 31.135351, step = 61201 (2.392 sec)\n",
      "I0812 13:27:06.530498 4798883264 basic_session_run_hooks.py:692] global_step/sec: 40.7709\n",
      "I0812 13:27:06.532583 4798883264 basic_session_run_hooks.py:260] loss = 11.616009, step = 61301 (2.453 sec)\n",
      "I0812 13:27:08.866365 4798883264 basic_session_run_hooks.py:692] global_step/sec: 42.8111\n",
      "I0812 13:27:08.868229 4798883264 basic_session_run_hooks.py:260] loss = 2.4391556, step = 61401 (2.336 sec)\n",
      "I0812 13:27:11.188331 4798883264 basic_session_run_hooks.py:692] global_step/sec: 43.0672\n",
      "I0812 13:27:11.190433 4798883264 basic_session_run_hooks.py:260] loss = 14.512722, step = 61501 (2.322 sec)\n",
      "I0812 13:27:13.577218 4798883264 basic_session_run_hooks.py:692] global_step/sec: 41.86\n",
      "I0812 13:27:13.579286 4798883264 basic_session_run_hooks.py:260] loss = 6.52832, step = 61601 (2.389 sec)\n",
      "I0812 13:27:16.155547 4798883264 basic_session_run_hooks.py:692] global_step/sec: 38.7853\n",
      "I0812 13:27:16.157305 4798883264 basic_session_run_hooks.py:260] loss = 0.23580498, step = 61701 (2.578 sec)\n",
      "I0812 13:27:19.111995 4798883264 basic_session_run_hooks.py:692] global_step/sec: 33.8244\n",
      "I0812 13:27:19.114305 4798883264 basic_session_run_hooks.py:260] loss = 12.391081, step = 61801 (2.957 sec)\n",
      "I0812 13:27:21.753135 4798883264 basic_session_run_hooks.py:692] global_step/sec: 37.8618\n",
      "I0812 13:27:21.754657 4798883264 basic_session_run_hooks.py:260] loss = 7.873926, step = 61901 (2.640 sec)\n",
      "I0812 13:27:24.438500 4798883264 basic_session_run_hooks.py:692] global_step/sec: 37.2395\n",
      "I0812 13:27:24.440545 4798883264 basic_session_run_hooks.py:260] loss = 2.293607, step = 62001 (2.686 sec)\n",
      "I0812 13:27:27.079138 4798883264 basic_session_run_hooks.py:692] global_step/sec: 37.8699\n",
      "I0812 13:27:27.081065 4798883264 basic_session_run_hooks.py:260] loss = 3.4198852, step = 62101 (2.641 sec)\n",
      "I0812 13:27:29.642096 4798883264 basic_session_run_hooks.py:692] global_step/sec: 39.0174\n",
      "I0812 13:27:29.643813 4798883264 basic_session_run_hooks.py:260] loss = 3.8426814, step = 62201 (2.563 sec)\n",
      "I0812 13:27:32.036003 4798883264 basic_session_run_hooks.py:692] global_step/sec: 41.7729\n",
      "I0812 13:27:32.037868 4798883264 basic_session_run_hooks.py:260] loss = 6.581423, step = 62301 (2.394 sec)\n",
      "I0812 13:27:34.559177 4798883264 basic_session_run_hooks.py:692] global_step/sec: 39.6316\n",
      "I0812 13:27:34.561342 4798883264 basic_session_run_hooks.py:260] loss = 2.83045, step = 62401 (2.523 sec)\n",
      "I0812 13:27:37.185700 4798883264 basic_session_run_hooks.py:692] global_step/sec: 38.0748\n",
      "I0812 13:27:37.187402 4798883264 basic_session_run_hooks.py:260] loss = 8.01298, step = 62501 (2.626 sec)\n",
      "I0812 13:27:39.849076 4798883264 basic_session_run_hooks.py:692] global_step/sec: 37.5448\n",
      "I0812 13:27:39.851023 4798883264 basic_session_run_hooks.py:260] loss = 2.5329576, step = 62601 (2.664 sec)\n",
      "I0812 13:27:42.724730 4798883264 basic_session_run_hooks.py:692] global_step/sec: 34.7746\n",
      "I0812 13:27:42.726192 4798883264 basic_session_run_hooks.py:260] loss = 7.19489, step = 62701 (2.875 sec)\n",
      "I0812 13:27:45.358779 4798883264 basic_session_run_hooks.py:692] global_step/sec: 37.9645\n",
      "I0812 13:27:45.360498 4798883264 basic_session_run_hooks.py:260] loss = 6.203568, step = 62801 (2.634 sec)\n",
      "I0812 13:27:47.879199 4798883264 basic_session_run_hooks.py:692] global_step/sec: 39.6765\n",
      "I0812 13:27:47.881288 4798883264 basic_session_run_hooks.py:260] loss = 11.860971, step = 62901 (2.521 sec)\n",
      "I0812 13:27:50.513479 4798883264 basic_session_run_hooks.py:692] global_step/sec: 37.9607\n",
      "I0812 13:27:50.515351 4798883264 basic_session_run_hooks.py:260] loss = 10.512377, step = 63001 (2.634 sec)\n",
      "I0812 13:27:53.177771 4798883264 basic_session_run_hooks.py:692] global_step/sec: 37.5339\n",
      "I0812 13:27:53.179615 4798883264 basic_session_run_hooks.py:260] loss = 7.646728, step = 63101 (2.664 sec)\n",
      "I0812 13:27:55.856349 4798883264 basic_session_run_hooks.py:692] global_step/sec: 37.3331\n",
      "I0812 13:27:55.858518 4798883264 basic_session_run_hooks.py:260] loss = 1.0453227, step = 63201 (2.679 sec)\n",
      "I0812 13:27:58.339370 4798883264 basic_session_run_hooks.py:692] global_step/sec: 40.2734\n",
      "I0812 13:27:58.341410 4798883264 basic_session_run_hooks.py:260] loss = 5.0052814, step = 63301 (2.483 sec)\n",
      "I0812 13:28:00.955245 4798883264 basic_session_run_hooks.py:692] global_step/sec: 38.2281\n",
      "I0812 13:28:00.957165 4798883264 basic_session_run_hooks.py:260] loss = 7.2609644, step = 63401 (2.616 sec)\n",
      "I0812 13:28:03.410111 4798883264 basic_session_run_hooks.py:692] global_step/sec: 40.7349\n",
      "I0812 13:28:03.411777 4798883264 basic_session_run_hooks.py:260] loss = 18.829117, step = 63501 (2.455 sec)\n",
      "I0812 13:28:05.830796 4798883264 basic_session_run_hooks.py:692] global_step/sec: 41.311\n",
      "I0812 13:28:05.832868 4798883264 basic_session_run_hooks.py:260] loss = 14.495441, step = 63601 (2.421 sec)\n",
      "I0812 13:28:09.181640 4798883264 basic_session_run_hooks.py:692] global_step/sec: 29.8433\n",
      "I0812 13:28:09.183382 4798883264 basic_session_run_hooks.py:260] loss = 7.1735153, step = 63701 (3.351 sec)\n"
     ]
    },
    {
     "name": "stderr",
     "output_type": "stream",
     "text": [
      "I0812 13:28:11.896317 4798883264 basic_session_run_hooks.py:692] global_step/sec: 36.8373\n",
      "I0812 13:28:11.898344 4798883264 basic_session_run_hooks.py:260] loss = 16.739208, step = 63801 (2.715 sec)\n",
      "I0812 13:28:14.463960 4798883264 basic_session_run_hooks.py:692] global_step/sec: 38.9457\n",
      "I0812 13:28:14.465499 4798883264 basic_session_run_hooks.py:260] loss = 9.515968, step = 63901 (2.567 sec)\n",
      "I0812 13:28:16.851572 4798883264 basic_session_run_hooks.py:692] global_step/sec: 41.8827\n",
      "I0812 13:28:16.853372 4798883264 basic_session_run_hooks.py:260] loss = 8.419453, step = 64001 (2.388 sec)\n",
      "I0812 13:28:19.325573 4798883264 basic_session_run_hooks.py:692] global_step/sec: 40.4198\n",
      "I0812 13:28:19.327362 4798883264 basic_session_run_hooks.py:260] loss = 6.8614426, step = 64101 (2.474 sec)\n",
      "I0812 13:28:21.724669 4798883264 basic_session_run_hooks.py:692] global_step/sec: 41.6833\n",
      "I0812 13:28:21.726477 4798883264 basic_session_run_hooks.py:260] loss = 7.6913314, step = 64201 (2.399 sec)\n",
      "I0812 13:28:24.528015 4798883264 basic_session_run_hooks.py:692] global_step/sec: 35.6711\n",
      "I0812 13:28:24.529487 4798883264 basic_session_run_hooks.py:260] loss = 10.760092, step = 64301 (2.803 sec)\n",
      "I0812 13:28:27.117221 4798883264 basic_session_run_hooks.py:692] global_step/sec: 38.6225\n",
      "I0812 13:28:27.119421 4798883264 basic_session_run_hooks.py:260] loss = 8.49609, step = 64401 (2.590 sec)\n",
      "I0812 13:28:29.649806 4798883264 basic_session_run_hooks.py:692] global_step/sec: 39.4852\n",
      "I0812 13:28:29.651784 4798883264 basic_session_run_hooks.py:260] loss = 16.595476, step = 64501 (2.532 sec)\n",
      "I0812 13:28:32.203788 4798883264 basic_session_run_hooks.py:692] global_step/sec: 39.1547\n",
      "I0812 13:28:32.205617 4798883264 basic_session_run_hooks.py:260] loss = 11.794913, step = 64601 (2.554 sec)\n",
      "I0812 13:28:34.800067 4798883264 basic_session_run_hooks.py:692] global_step/sec: 38.516\n",
      "I0812 13:28:34.801840 4798883264 basic_session_run_hooks.py:260] loss = 2.9287877, step = 64701 (2.596 sec)\n",
      "I0812 13:28:37.317153 4798883264 basic_session_run_hooks.py:692] global_step/sec: 39.7288\n",
      "I0812 13:28:37.319025 4798883264 basic_session_run_hooks.py:260] loss = 3.6420033, step = 64801 (2.517 sec)\n",
      "I0812 13:28:39.933961 4798883264 basic_session_run_hooks.py:692] global_step/sec: 38.2148\n",
      "I0812 13:28:39.936046 4798883264 basic_session_run_hooks.py:260] loss = 6.7976475, step = 64901 (2.617 sec)\n",
      "I0812 13:28:42.504797 4798883264 basic_session_run_hooks.py:692] global_step/sec: 38.8978\n",
      "I0812 13:28:42.506704 4798883264 basic_session_run_hooks.py:260] loss = 7.2987347, step = 65001 (2.571 sec)\n",
      "I0812 13:28:45.076760 4798883264 basic_session_run_hooks.py:692] global_step/sec: 38.8807\n",
      "I0812 13:28:45.078343 4798883264 basic_session_run_hooks.py:260] loss = 5.5421743, step = 65101 (2.572 sec)\n",
      "I0812 13:28:47.653982 4798883264 basic_session_run_hooks.py:692] global_step/sec: 38.8017\n",
      "I0812 13:28:47.655872 4798883264 basic_session_run_hooks.py:260] loss = 4.9205155, step = 65201 (2.578 sec)\n",
      "I0812 13:28:50.213274 4798883264 basic_session_run_hooks.py:692] global_step/sec: 39.0734\n",
      "I0812 13:28:50.215857 4798883264 basic_session_run_hooks.py:260] loss = 6.11906, step = 65301 (2.560 sec)\n",
      "I0812 13:28:52.746006 4798883264 basic_session_run_hooks.py:692] global_step/sec: 39.4827\n",
      "I0812 13:28:52.748152 4798883264 basic_session_run_hooks.py:260] loss = 9.710569, step = 65401 (2.532 sec)\n",
      "I0812 13:28:55.293638 4798883264 basic_session_run_hooks.py:692] global_step/sec: 39.2526\n",
      "I0812 13:28:55.295664 4798883264 basic_session_run_hooks.py:260] loss = 3.7549486, step = 65501 (2.548 sec)\n",
      "I0812 13:28:57.876967 4798883264 basic_session_run_hooks.py:692] global_step/sec: 38.7088\n",
      "I0812 13:28:57.878858 4798883264 basic_session_run_hooks.py:260] loss = 17.106756, step = 65601 (2.583 sec)\n",
      "I0812 13:29:00.414452 4798883264 basic_session_run_hooks.py:692] global_step/sec: 39.4097\n",
      "I0812 13:29:00.416199 4798883264 basic_session_run_hooks.py:260] loss = 6.975273, step = 65701 (2.537 sec)\n",
      "I0812 13:29:02.919795 4798883264 basic_session_run_hooks.py:692] global_step/sec: 39.9142\n",
      "I0812 13:29:02.921682 4798883264 basic_session_run_hooks.py:260] loss = 11.665477, step = 65801 (2.505 sec)\n",
      "I0812 13:29:05.425349 4798883264 basic_session_run_hooks.py:692] global_step/sec: 39.9113\n",
      "I0812 13:29:05.427162 4798883264 basic_session_run_hooks.py:260] loss = 5.6153445, step = 65901 (2.505 sec)\n",
      "I0812 13:29:07.929512 4798883264 basic_session_run_hooks.py:692] global_step/sec: 39.9341\n",
      "I0812 13:29:07.931540 4798883264 basic_session_run_hooks.py:260] loss = 4.5476313, step = 66001 (2.504 sec)\n",
      "I0812 13:29:10.529788 4798883264 basic_session_run_hooks.py:692] global_step/sec: 38.4576\n",
      "I0812 13:29:10.531446 4798883264 basic_session_run_hooks.py:260] loss = 13.014236, step = 66101 (2.600 sec)\n",
      "I0812 13:29:13.049045 4798883264 basic_session_run_hooks.py:692] global_step/sec: 39.6943\n",
      "I0812 13:29:13.051036 4798883264 basic_session_run_hooks.py:260] loss = 2.736057, step = 66201 (2.520 sec)\n",
      "I0812 13:29:15.555471 4798883264 basic_session_run_hooks.py:692] global_step/sec: 39.8972\n",
      "I0812 13:29:15.557368 4798883264 basic_session_run_hooks.py:260] loss = 9.224193, step = 66301 (2.506 sec)\n",
      "I0812 13:29:18.108958 4798883264 basic_session_run_hooks.py:692] global_step/sec: 39.162\n",
      "I0812 13:29:18.110920 4798883264 basic_session_run_hooks.py:260] loss = 4.5024166, step = 66401 (2.554 sec)\n",
      "I0812 13:29:20.635871 4798883264 basic_session_run_hooks.py:692] global_step/sec: 39.574\n",
      "I0812 13:29:20.637317 4798883264 basic_session_run_hooks.py:260] loss = 13.502726, step = 66501 (2.526 sec)\n",
      "I0812 13:29:23.164518 4798883264 basic_session_run_hooks.py:692] global_step/sec: 39.5467\n",
      "I0812 13:29:23.166349 4798883264 basic_session_run_hooks.py:260] loss = 17.131805, step = 66601 (2.529 sec)\n",
      "I0812 13:29:25.731856 4798883264 basic_session_run_hooks.py:692] global_step/sec: 38.9512\n",
      "I0812 13:29:25.733824 4798883264 basic_session_run_hooks.py:260] loss = 5.840963, step = 66701 (2.567 sec)\n",
      "I0812 13:29:28.265492 4798883264 basic_session_run_hooks.py:692] global_step/sec: 39.4705\n",
      "I0812 13:29:28.266736 4798883264 basic_session_run_hooks.py:260] loss = 8.795851, step = 66801 (2.533 sec)\n",
      "I0812 13:29:30.767405 4798883264 basic_session_run_hooks.py:692] global_step/sec: 39.9672\n",
      "I0812 13:29:30.769221 4798883264 basic_session_run_hooks.py:260] loss = 3.4394689, step = 66901 (2.502 sec)\n",
      "I0812 13:29:33.332754 4798883264 basic_session_run_hooks.py:692] global_step/sec: 38.9815\n",
      "I0812 13:29:33.334362 4798883264 basic_session_run_hooks.py:260] loss = 2.8858535, step = 67001 (2.565 sec)\n",
      "I0812 13:29:35.989040 4798883264 basic_session_run_hooks.py:692] global_step/sec: 37.6465\n",
      "I0812 13:29:35.990648 4798883264 basic_session_run_hooks.py:260] loss = 2.7322276, step = 67101 (2.656 sec)\n",
      "I0812 13:29:38.576714 4798883264 basic_session_run_hooks.py:692] global_step/sec: 38.6448\n",
      "I0812 13:29:38.578805 4798883264 basic_session_run_hooks.py:260] loss = 7.457448, step = 67201 (2.588 sec)\n",
      "I0812 13:29:41.150425 4798883264 basic_session_run_hooks.py:692] global_step/sec: 38.8544\n",
      "I0812 13:29:41.152766 4798883264 basic_session_run_hooks.py:260] loss = 7.1379547, step = 67301 (2.574 sec)\n",
      "I0812 13:29:43.677170 4798883264 basic_session_run_hooks.py:692] global_step/sec: 39.5764\n",
      "I0812 13:29:43.678821 4798883264 basic_session_run_hooks.py:260] loss = 1.8246906, step = 67401 (2.526 sec)\n",
      "I0812 13:29:46.229775 4798883264 basic_session_run_hooks.py:692] global_step/sec: 39.1759\n",
      "I0812 13:29:46.231801 4798883264 basic_session_run_hooks.py:260] loss = 13.362634, step = 67501 (2.553 sec)\n",
      "I0812 13:29:48.809621 4798883264 basic_session_run_hooks.py:692] global_step/sec: 38.7618\n",
      "I0812 13:29:48.811515 4798883264 basic_session_run_hooks.py:260] loss = 0.9546364, step = 67601 (2.580 sec)\n",
      "I0812 13:29:51.357762 4798883264 basic_session_run_hooks.py:692] global_step/sec: 39.2438\n",
      "I0812 13:29:51.359335 4798883264 basic_session_run_hooks.py:260] loss = 4.307754, step = 67701 (2.548 sec)\n",
      "I0812 13:29:53.895556 4798883264 basic_session_run_hooks.py:692] global_step/sec: 39.4049\n",
      "I0812 13:29:53.897253 4798883264 basic_session_run_hooks.py:260] loss = 3.8733048, step = 67801 (2.538 sec)\n",
      "I0812 13:29:56.463996 4798883264 basic_session_run_hooks.py:692] global_step/sec: 38.9341\n",
      "I0812 13:29:56.465672 4798883264 basic_session_run_hooks.py:260] loss = 1.1179798, step = 67901 (2.568 sec)\n"
     ]
    },
    {
     "name": "stderr",
     "output_type": "stream",
     "text": [
      "I0812 13:29:59.007759 4798883264 basic_session_run_hooks.py:692] global_step/sec: 39.3132\n",
      "I0812 13:29:59.010280 4798883264 basic_session_run_hooks.py:260] loss = 11.527557, step = 68001 (2.545 sec)\n",
      "I0812 13:30:01.545178 4798883264 basic_session_run_hooks.py:692] global_step/sec: 39.4089\n",
      "I0812 13:30:01.547007 4798883264 basic_session_run_hooks.py:260] loss = 4.7333727, step = 68101 (2.537 sec)\n",
      "I0812 13:30:04.120306 4798883264 basic_session_run_hooks.py:692] global_step/sec: 38.8331\n",
      "I0812 13:30:04.122070 4798883264 basic_session_run_hooks.py:260] loss = 4.5427365, step = 68201 (2.575 sec)\n",
      "I0812 13:30:06.615477 4798883264 basic_session_run_hooks.py:692] global_step/sec: 40.0766\n",
      "I0812 13:30:06.617798 4798883264 basic_session_run_hooks.py:260] loss = 3.7183228, step = 68301 (2.496 sec)\n",
      "I0812 13:30:09.147878 4798883264 basic_session_run_hooks.py:692] global_step/sec: 39.4884\n",
      "I0812 13:30:09.149681 4798883264 basic_session_run_hooks.py:260] loss = 4.88975, step = 68401 (2.532 sec)\n",
      "I0812 13:30:11.701688 4798883264 basic_session_run_hooks.py:692] global_step/sec: 39.1576\n",
      "I0812 13:30:11.703533 4798883264 basic_session_run_hooks.py:260] loss = 6.78516, step = 68501 (2.554 sec)\n",
      "I0812 13:30:14.269613 4798883264 basic_session_run_hooks.py:692] global_step/sec: 38.9421\n",
      "I0812 13:30:14.271524 4798883264 basic_session_run_hooks.py:260] loss = 5.438638, step = 68601 (2.568 sec)\n",
      "I0812 13:30:16.896756 4798883264 basic_session_run_hooks.py:692] global_step/sec: 38.0636\n",
      "I0812 13:30:16.898167 4798883264 basic_session_run_hooks.py:260] loss = 0.49915045, step = 68701 (2.627 sec)\n",
      "I0812 13:30:19.465338 4798883264 basic_session_run_hooks.py:692] global_step/sec: 38.932\n",
      "I0812 13:30:19.466773 4798883264 basic_session_run_hooks.py:260] loss = 0.7599835, step = 68801 (2.569 sec)\n",
      "I0812 13:30:21.992027 4798883264 basic_session_run_hooks.py:692] global_step/sec: 39.5777\n",
      "I0812 13:30:21.993618 4798883264 basic_session_run_hooks.py:260] loss = 7.607032, step = 68901 (2.527 sec)\n",
      "I0812 13:30:24.553740 4798883264 basic_session_run_hooks.py:692] global_step/sec: 39.0359\n",
      "I0812 13:30:24.555298 4798883264 basic_session_run_hooks.py:260] loss = 3.5611331, step = 69001 (2.562 sec)\n",
      "I0812 13:30:27.150083 4798883264 basic_session_run_hooks.py:692] global_step/sec: 38.5163\n",
      "I0812 13:30:27.152016 4798883264 basic_session_run_hooks.py:260] loss = 8.699824, step = 69101 (2.597 sec)\n",
      "I0812 13:30:29.694628 4798883264 basic_session_run_hooks.py:692] global_step/sec: 39.2999\n",
      "I0812 13:30:29.696550 4798883264 basic_session_run_hooks.py:260] loss = 2.2309556, step = 69201 (2.545 sec)\n",
      "I0812 13:30:32.264561 4798883264 basic_session_run_hooks.py:692] global_step/sec: 38.9116\n",
      "I0812 13:30:32.266595 4798883264 basic_session_run_hooks.py:260] loss = 21.843388, step = 69301 (2.570 sec)\n",
      "I0812 13:30:34.840762 4798883264 basic_session_run_hooks.py:692] global_step/sec: 38.8197\n",
      "I0812 13:30:34.843952 4798883264 basic_session_run_hooks.py:260] loss = 0.9682013, step = 69401 (2.577 sec)\n",
      "I0812 13:30:37.396213 4798883264 basic_session_run_hooks.py:692] global_step/sec: 39.1293\n",
      "I0812 13:30:37.397967 4798883264 basic_session_run_hooks.py:260] loss = 11.037987, step = 69501 (2.554 sec)\n",
      "I0812 13:30:40.011143 4798883264 basic_session_run_hooks.py:692] global_step/sec: 38.2418\n",
      "I0812 13:30:40.012889 4798883264 basic_session_run_hooks.py:260] loss = 8.183009, step = 69601 (2.615 sec)\n",
      "I0812 13:30:42.567122 4798883264 basic_session_run_hooks.py:692] global_step/sec: 39.1232\n",
      "I0812 13:30:42.568640 4798883264 basic_session_run_hooks.py:260] loss = 3.3615766, step = 69701 (2.556 sec)\n",
      "I0812 13:30:45.100528 4798883264 basic_session_run_hooks.py:692] global_step/sec: 39.4742\n",
      "I0812 13:30:45.102592 4798883264 basic_session_run_hooks.py:260] loss = 5.2047687, step = 69801 (2.534 sec)\n",
      "I0812 13:30:47.666767 4798883264 basic_session_run_hooks.py:692] global_step/sec: 38.9668\n",
      "I0812 13:30:47.668704 4798883264 basic_session_run_hooks.py:260] loss = 3.4938369, step = 69901 (2.566 sec)\n",
      "I0812 13:30:50.161723 4798883264 basic_session_run_hooks.py:606] Saving checkpoints for 70000 into /var/folders/0m/rqkyx9816pq795n34h08zf7r0000gn/T/tmpczv5jlzc/model.ckpt.\n",
      "I0812 13:30:50.512639 4798883264 estimator.py:368] Loss for final step: 3.7541034.\n"
     ]
    },
    {
     "data": {
      "text/plain": [
       "<tensorflow_estimator.python.estimator.canned.dnn.DNNClassifier at 0x1655bac18>"
      ]
     },
     "execution_count": 304,
     "metadata": {},
     "output_type": "execute_result"
    }
   ],
   "source": [
    "estimator.train(input_fn=load_data, steps=10000)"
   ]
  },
  {
   "cell_type": "code",
   "execution_count": 305,
   "metadata": {},
   "outputs": [
    {
     "name": "stderr",
     "output_type": "stream",
     "text": [
      "I0812 13:32:33.455986 4798883264 estimator.py:1145] Calling model_fn.\n",
      "I0812 13:32:34.461858 4798883264 estimator.py:1147] Done calling model_fn.\n",
      "I0812 13:32:34.508867 4798883264 evaluation.py:255] Starting evaluation at 2019-08-12T13:32:34Z\n",
      "I0812 13:32:34.770307 4798883264 monitored_session.py:240] Graph was finalized.\n",
      "I0812 13:32:34.775408 4798883264 saver.py:1280] Restoring parameters from /var/folders/0m/rqkyx9816pq795n34h08zf7r0000gn/T/tmpczv5jlzc/model.ckpt-70000\n",
      "I0812 13:32:34.891050 4798883264 session_manager.py:500] Running local_init_op.\n",
      "I0812 13:32:34.932044 4798883264 session_manager.py:502] Done running local_init_op.\n",
      "I0812 13:32:35.214597 4798883264 evaluation.py:167] Evaluation [7/78]\n",
      "I0812 13:32:35.267539 4798883264 evaluation.py:167] Evaluation [14/78]\n",
      "I0812 13:32:35.330278 4798883264 evaluation.py:167] Evaluation [21/78]\n",
      "I0812 13:32:35.390110 4798883264 evaluation.py:167] Evaluation [28/78]\n",
      "I0812 13:32:35.451578 4798883264 evaluation.py:167] Evaluation [35/78]\n",
      "I0812 13:32:35.510637 4798883264 evaluation.py:167] Evaluation [42/78]\n",
      "I0812 13:32:35.567984 4798883264 evaluation.py:167] Evaluation [49/78]\n",
      "I0812 13:32:35.630506 4798883264 evaluation.py:167] Evaluation [56/78]\n",
      "I0812 13:32:35.697914 4798883264 evaluation.py:167] Evaluation [63/78]\n",
      "I0812 13:32:35.753541 4798883264 evaluation.py:167] Evaluation [70/78]\n",
      "I0812 13:32:35.802779 4798883264 evaluation.py:167] Evaluation [77/78]\n",
      "I0812 13:32:35.812735 4798883264 evaluation.py:167] Evaluation [78/78]\n",
      "I0812 13:32:35.850516 4798883264 evaluation.py:275] Finished evaluation at 2019-08-12-13:32:35\n",
      "I0812 13:32:35.851552 4798883264 estimator.py:2039] Saving dict for global step 70000: accuracy = 0.5983574, average_loss = 2.7168224, global_step = 70000, loss = 173.87663\n",
      "I0812 13:32:35.852859 4798883264 estimator.py:2099] Saving 'checkpoint_path' summary for global step 70000: /var/folders/0m/rqkyx9816pq795n34h08zf7r0000gn/T/tmpczv5jlzc/model.ckpt-70000\n"
     ]
    },
    {
     "data": {
      "text/plain": [
       "{'accuracy': 0.5983574,\n",
       " 'average_loss': 2.7168224,\n",
       " 'loss': 173.87663,\n",
       " 'global_step': 70000}"
      ]
     },
     "execution_count": 305,
     "metadata": {},
     "output_type": "execute_result"
    }
   ],
   "source": [
    "estimator.evaluate(input_fn=load_data, steps=5000//64)"
   ]
  },
  {
   "cell_type": "code",
   "execution_count": null,
   "metadata": {},
   "outputs": [],
   "source": []
  },
  {
   "cell_type": "code",
   "execution_count": null,
   "metadata": {},
   "outputs": [],
   "source": []
  },
  {
   "cell_type": "code",
   "execution_count": 130,
   "metadata": {},
   "outputs": [],
   "source": [
    "def custom_metric(labels, predictions):\n",
    "    # This function will be called by the Estimator, passing its predictions.\n",
    "    # Let's suppose you want to add the \"mean\" metric...\n",
    "\n",
    "    # Accessing the class predictions (careful, the key name may change from one canned Estimator to another)\n",
    "    predicted_classes = predictions[\"class_ids\"]  \n",
    "\n",
    "    # Defining the metric (value and update tensors):\n",
    "    custom_metric = tf.metrics.mean(labels, predicted_classes, name=\"custom_metric\")\n",
    "\n",
    "    # Returning as a dict:\n",
    "    return {\"custom_metric\": custom_metric}"
   ]
  },
  {
   "cell_type": "code",
   "execution_count": 151,
   "metadata": {},
   "outputs": [],
   "source": [
    "class RecoEstimator():\n",
    "    \n",
    "    def __init__(self, max_transaction_history = 20, max_product_click_history = 20, max_promotion_click_history = 20,\n",
    "                 category_size = 100, single_categorical_features = None, numeric_features_size = 10,\n",
    "                 hidden_layer1_size = 1024, hidden_layer2_size = 512, hidden_layer3_size = 256, activation='relu',\n",
    "                input_embedding_size = 128):\n",
    "        \n",
    "        self.max_transaction_history = max_transaction_history\n",
    "        self.max_product_click_history = max_product_click_history\n",
    "        self.max_promotion_click_history = max_promotion_click_history\n",
    "        self.category_size = category_size\n",
    "        self.hidden_layer1_size = hidden_layer1_size\n",
    "        self.hidden_layer2_size = hidden_layer2_size\n",
    "        self.hidden_layer3_size = hidden_layer3_size\n",
    "        self.single_categorical_features = single_categorical_features\n",
    "        self.numeric_features_size = numeric_features_size\n",
    "        self.activation = activation\n",
    "        self.input_embedding_size = input_embedding_size\n",
    "        self.model = None\n",
    "        self.build()\n",
    "        \n",
    "    \n",
    "    def build(self):\n",
    "        seqs = self.create_input()\n",
    "        \n",
    "        self.model = tf.estimator.DNNClassifier(feature_columns=seqs,n_classes=self.category_size,\n",
    "                                               hidden_units=[self.hidden_layer1_size, self.hidden_layer2_size, self.hidden_layer3_size],\n",
    "                                               optimizer=tf.train.AdamOptimizer(0.0005))\n",
    "        \n",
    "        \n",
    "    def create_input(self):\n",
    "        \n",
    "        transaction_cols = [x for x in range(self.max_transaction_history)]\n",
    "        promotion_click_cols = [x for x in range(self.max_promotion_click_history)]\n",
    "        seqs=[]\n",
    "        seqs.append(self.seq_categorical_input('seq_categorical_0', len(transaction_cols)))\n",
    "        seqs.append(self.seq_categorical_input('seq_categorical_1', len(promotion_click_cols)))\n",
    "        \n",
    "        seqs.append(tf.feature_column.numeric_column('numeric'))\n",
    "            \n",
    "        return seqs\n",
    "        \n",
    "    def seq_categorical_input(self, name, max_history):\n",
    "        seq_input = tf.feature_column.categorical_column_with_identity(name, self.category_size)\n",
    "        seq_emb = tf.feature_column.embedding_column(categorical_column=seq_input, dimension=self.input_embedding_size)\n",
    "        return seq_emb"
   ]
  },
  {
   "cell_type": "code",
   "execution_count": 152,
   "metadata": {},
   "outputs": [
    {
     "name": "stderr",
     "output_type": "stream",
     "text": [
      "I0810 21:25:05.375322 4798883264 estimator.py:1790] Using default config.\n",
      "W0810 21:25:05.376998 4798883264 estimator.py:1811] Using temporary folder as model directory: /var/folders/0m/rqkyx9816pq795n34h08zf7r0000gn/T/tmppy1dlhmj\n",
      "I0810 21:25:05.377900 4798883264 estimator.py:209] Using config: {'_model_dir': '/var/folders/0m/rqkyx9816pq795n34h08zf7r0000gn/T/tmppy1dlhmj', '_tf_random_seed': None, '_save_summary_steps': 100, '_save_checkpoints_steps': None, '_save_checkpoints_secs': 600, '_session_config': allow_soft_placement: true\n",
      "graph_options {\n",
      "  rewrite_options {\n",
      "    meta_optimizer_iterations: ONE\n",
      "  }\n",
      "}\n",
      ", '_keep_checkpoint_max': 5, '_keep_checkpoint_every_n_hours': 10000, '_log_step_count_steps': 100, '_train_distribute': None, '_device_fn': None, '_protocol': None, '_eval_distribute': None, '_experimental_distribute': None, '_experimental_max_worker_delay_secs': None, '_service': None, '_cluster_spec': <tensorflow.python.training.server_lib.ClusterSpec object at 0x14d234c18>, '_task_type': 'worker', '_task_id': 0, '_global_id_in_cluster': 0, '_master': '', '_evaluation_master': '', '_is_chief': True, '_num_ps_replicas': 0, '_num_worker_replicas': 1}\n"
     ]
    }
   ],
   "source": [
    "model = RecoEstimator(max_transaction_history, max_product_click_history, max_promotion_click_history, category_size,\n",
    "                numeric_features_size = numeric_size, input_embedding_size = input_embedding_size,\n",
    "                single_categorical_features = single_category_cols).model"
   ]
  },
  {
   "cell_type": "code",
   "execution_count": 153,
   "metadata": {},
   "outputs": [
    {
     "name": "stderr",
     "output_type": "stream",
     "text": [
      "I0810 21:25:06.280400 4798883264 estimator.py:209] Using config: {'_model_dir': '/var/folders/0m/rqkyx9816pq795n34h08zf7r0000gn/T/tmppy1dlhmj', '_tf_random_seed': None, '_save_summary_steps': 100, '_save_checkpoints_steps': None, '_save_checkpoints_secs': 600, '_session_config': allow_soft_placement: true\n",
      "graph_options {\n",
      "  rewrite_options {\n",
      "    meta_optimizer_iterations: ONE\n",
      "  }\n",
      "}\n",
      ", '_keep_checkpoint_max': 5, '_keep_checkpoint_every_n_hours': 10000, '_log_step_count_steps': 100, '_train_distribute': None, '_device_fn': None, '_protocol': None, '_eval_distribute': None, '_experimental_distribute': None, '_experimental_max_worker_delay_secs': None, '_service': None, '_cluster_spec': <tensorflow.python.training.server_lib.ClusterSpec object at 0x14d234cf8>, '_task_type': 'worker', '_task_id': 0, '_global_id_in_cluster': 0, '_master': '', '_evaluation_master': '', '_is_chief': True, '_num_ps_replicas': 0, '_num_worker_replicas': 1}\n"
     ]
    }
   ],
   "source": [
    "model = tf.estimator.add_metrics(model, custom_metric)"
   ]
  },
  {
   "cell_type": "code",
   "execution_count": null,
   "metadata": {},
   "outputs": [],
   "source": [
    "model = tf.estimator.add_metrics(model, my_auc)"
   ]
  },
  {
   "cell_type": "code",
   "execution_count": 154,
   "metadata": {},
   "outputs": [
    {
     "name": "stderr",
     "output_type": "stream",
     "text": [
      "I0810 21:25:06.889348 4798883264 estimator.py:1145] Calling model_fn.\n",
      "I0810 21:25:06.890159 4798883264 estimator.py:1145] Calling model_fn.\n",
      "I0810 21:25:07.860321 4798883264 estimator.py:1147] Done calling model_fn.\n",
      "I0810 21:25:07.861361 4798883264 estimator.py:1147] Done calling model_fn.\n",
      "I0810 21:25:07.862575 4798883264 basic_session_run_hooks.py:541] Create CheckpointSaverHook.\n",
      "I0810 21:25:08.108912 4798883264 monitored_session.py:240] Graph was finalized.\n",
      "I0810 21:25:08.199267 4798883264 session_manager.py:500] Running local_init_op.\n",
      "I0810 21:25:08.215583 4798883264 session_manager.py:502] Done running local_init_op.\n",
      "I0810 21:25:08.584144 4798883264 basic_session_run_hooks.py:606] Saving checkpoints for 0 into /var/folders/0m/rqkyx9816pq795n34h08zf7r0000gn/T/tmppy1dlhmj/model.ckpt.\n",
      "I0810 21:25:08.857649 4798883264 basic_session_run_hooks.py:262] loss = 73.93373, step = 1\n",
      "I0810 21:25:09.354086 4798883264 basic_session_run_hooks.py:692] global_step/sec: 201.317\n",
      "I0810 21:25:09.354933 4798883264 basic_session_run_hooks.py:260] loss = 71.03924, step = 101 (0.497 sec)\n",
      "I0810 21:25:09.713320 4798883264 basic_session_run_hooks.py:692] global_step/sec: 278.37\n",
      "I0810 21:25:09.714179 4798883264 basic_session_run_hooks.py:260] loss = 69.967125, step = 201 (0.359 sec)\n",
      "I0810 21:25:10.060576 4798883264 basic_session_run_hooks.py:692] global_step/sec: 287.969\n",
      "I0810 21:25:10.061588 4798883264 basic_session_run_hooks.py:260] loss = 70.76921, step = 301 (0.347 sec)\n",
      "I0810 21:25:10.423046 4798883264 basic_session_run_hooks.py:692] global_step/sec: 275.903\n",
      "I0810 21:25:10.423900 4798883264 basic_session_run_hooks.py:260] loss = 70.24311, step = 401 (0.362 sec)\n",
      "I0810 21:25:10.781929 4798883264 basic_session_run_hooks.py:692] global_step/sec: 278.643\n",
      "I0810 21:25:10.782919 4798883264 basic_session_run_hooks.py:260] loss = 70.26322, step = 501 (0.359 sec)\n",
      "I0810 21:25:11.145572 4798883264 basic_session_run_hooks.py:692] global_step/sec: 274.986\n",
      "I0810 21:25:11.146559 4798883264 basic_session_run_hooks.py:260] loss = 70.41557, step = 601 (0.364 sec)\n",
      "I0810 21:25:11.508705 4798883264 basic_session_run_hooks.py:692] global_step/sec: 275.377\n",
      "I0810 21:25:11.509685 4798883264 basic_session_run_hooks.py:260] loss = 70.14983, step = 701 (0.363 sec)\n",
      "I0810 21:25:11.841512 4798883264 basic_session_run_hooks.py:692] global_step/sec: 300.475\n",
      "I0810 21:25:11.842397 4798883264 basic_session_run_hooks.py:260] loss = 70.38106, step = 801 (0.333 sec)\n",
      "I0810 21:25:12.190649 4798883264 basic_session_run_hooks.py:692] global_step/sec: 286.416\n",
      "I0810 21:25:12.191627 4798883264 basic_session_run_hooks.py:260] loss = 70.40892, step = 901 (0.349 sec)\n",
      "I0810 21:25:12.540301 4798883264 basic_session_run_hooks.py:692] global_step/sec: 286\n",
      "I0810 21:25:12.541279 4798883264 basic_session_run_hooks.py:260] loss = 70.10606, step = 1001 (0.350 sec)\n",
      "I0810 21:25:12.899120 4798883264 basic_session_run_hooks.py:692] global_step/sec: 278.69\n",
      "I0810 21:25:12.900098 4798883264 basic_session_run_hooks.py:260] loss = 70.16116, step = 1101 (0.359 sec)\n",
      "I0810 21:25:13.245082 4798883264 basic_session_run_hooks.py:692] global_step/sec: 289.05\n",
      "I0810 21:25:13.245964 4798883264 basic_session_run_hooks.py:260] loss = 71.04358, step = 1201 (0.346 sec)\n",
      "I0810 21:25:13.602810 4798883264 basic_session_run_hooks.py:692] global_step/sec: 279.541\n",
      "I0810 21:25:13.603785 4798883264 basic_session_run_hooks.py:260] loss = 69.48903, step = 1301 (0.358 sec)\n",
      "I0810 21:25:13.972913 4798883264 basic_session_run_hooks.py:692] global_step/sec: 270.197\n",
      "I0810 21:25:13.973776 4798883264 basic_session_run_hooks.py:260] loss = 70.76039, step = 1401 (0.370 sec)\n",
      "I0810 21:25:14.340922 4798883264 basic_session_run_hooks.py:606] Saving checkpoints for 1500 into /var/folders/0m/rqkyx9816pq795n34h08zf7r0000gn/T/tmppy1dlhmj/model.ckpt.\n",
      "I0810 21:25:14.448810 4798883264 estimator.py:368] Loss for final step: 70.59444.\n"
     ]
    },
    {
     "data": {
      "text/plain": [
       "<tensorflow_estimator.python.estimator.estimator.Estimator at 0x14d234908>"
      ]
     },
     "execution_count": 154,
     "metadata": {},
     "output_type": "execute_result"
    }
   ],
   "source": [
    "model.train(input_fn=load_data, steps=1500)"
   ]
  },
  {
   "cell_type": "code",
   "execution_count": 156,
   "metadata": {},
   "outputs": [
    {
     "name": "stderr",
     "output_type": "stream",
     "text": [
      "I0810 21:25:19.454617 4798883264 estimator.py:1145] Calling model_fn.\n",
      "I0810 21:25:19.455368 4798883264 estimator.py:1145] Calling model_fn.\n",
      "I0810 21:25:19.748594 4798883264 estimator.py:1147] Done calling model_fn.\n",
      "I0810 21:25:19.791748 4798883264 estimator.py:1147] Done calling model_fn.\n",
      "I0810 21:25:19.808421 4798883264 evaluation.py:255] Starting evaluation at 2019-08-10T21:25:19Z\n",
      "I0810 21:25:19.902137 4798883264 monitored_session.py:240] Graph was finalized.\n",
      "I0810 21:25:19.903477 4798883264 saver.py:1280] Restoring parameters from /var/folders/0m/rqkyx9816pq795n34h08zf7r0000gn/T/tmppy1dlhmj/model.ckpt-1500\n",
      "I0810 21:25:19.949110 4798883264 session_manager.py:500] Running local_init_op.\n",
      "I0810 21:25:19.964850 4798883264 session_manager.py:502] Done running local_init_op.\n",
      "I0810 21:25:20.084677 4798883264 evaluation.py:167] Evaluation [1/15]\n",
      "I0810 21:25:20.087746 4798883264 evaluation.py:167] Evaluation [2/15]\n",
      "I0810 21:25:20.090905 4798883264 evaluation.py:167] Evaluation [3/15]\n",
      "I0810 21:25:20.093843 4798883264 evaluation.py:167] Evaluation [4/15]\n",
      "I0810 21:25:20.096766 4798883264 evaluation.py:167] Evaluation [5/15]\n",
      "I0810 21:25:20.100188 4798883264 evaluation.py:167] Evaluation [6/15]\n",
      "I0810 21:25:20.103328 4798883264 evaluation.py:167] Evaluation [7/15]\n",
      "I0810 21:25:20.106380 4798883264 evaluation.py:167] Evaluation [8/15]\n",
      "I0810 21:25:20.109309 4798883264 evaluation.py:167] Evaluation [9/15]\n",
      "I0810 21:25:20.112287 4798883264 evaluation.py:167] Evaluation [10/15]\n",
      "I0810 21:25:20.115553 4798883264 evaluation.py:167] Evaluation [11/15]\n",
      "I0810 21:25:20.118978 4798883264 evaluation.py:167] Evaluation [12/15]\n",
      "I0810 21:25:20.122282 4798883264 evaluation.py:167] Evaluation [13/15]\n",
      "I0810 21:25:20.125391 4798883264 evaluation.py:167] Evaluation [14/15]\n",
      "I0810 21:25:20.128266 4798883264 evaluation.py:167] Evaluation [15/15]\n",
      "I0810 21:25:20.149816 4798883264 evaluation.py:275] Finished evaluation at 2019-08-10-21:25:20\n",
      "I0810 21:25:20.150450 4798883264 estimator.py:2039] Saving dict for global step 1500: accuracy = 0.10208333, average_loss = 2.1984663, custom_metric = 3.791076, global_step = 1500, loss = 70.35092\n",
      "I0810 21:25:20.151620 4798883264 estimator.py:2099] Saving 'checkpoint_path' summary for global step 1500: /var/folders/0m/rqkyx9816pq795n34h08zf7r0000gn/T/tmppy1dlhmj/model.ckpt-1500\n"
     ]
    },
    {
     "data": {
      "text/plain": [
       "{'accuracy': 0.10208333,\n",
       " 'average_loss': 2.1984663,\n",
       " 'custom_metric': 3.791076,\n",
       " 'loss': 70.35092,\n",
       " 'global_step': 1500}"
      ]
     },
     "execution_count": 156,
     "metadata": {},
     "output_type": "execute_result"
    }
   ],
   "source": [
    "model.evaluate(input_fn=load_data, steps=500//32)"
   ]
  },
  {
   "cell_type": "code",
   "execution_count": null,
   "metadata": {},
   "outputs": [],
   "source": []
  }
 ],
 "metadata": {
  "kernelspec": {
   "display_name": "Python 3",
   "language": "python",
   "name": "python3"
  },
  "language_info": {
   "codemirror_mode": {
    "name": "ipython",
    "version": 3
   },
   "file_extension": ".py",
   "mimetype": "text/x-python",
   "name": "python",
   "nbconvert_exporter": "python",
   "pygments_lexer": "ipython3",
   "version": "3.6.8"
  }
 },
 "nbformat": 4,
 "nbformat_minor": 2
}
