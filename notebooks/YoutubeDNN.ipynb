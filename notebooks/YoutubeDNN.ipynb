{
 "cells": [
  {
   "cell_type": "code",
   "execution_count": 1,
   "metadata": {},
   "outputs": [
    {
     "name": "stderr",
     "output_type": "stream",
     "text": [
      "Using TensorFlow backend.\n"
     ]
    }
   ],
   "source": [
    "from keras.layers import Input, Dense, Embedding, Lambda, Reshape, Flatten\n",
    "from keras.models import Model\n",
    "from keras.backend import mean\n",
    "from keras.preprocessing.sequence import pad_sequences"
   ]
  },
  {
   "cell_type": "code",
   "execution_count": 2,
   "metadata": {},
   "outputs": [],
   "source": [
    "import numpy as np\n",
    "from keras import backend as K"
   ]
  },
  {
   "cell_type": "code",
   "execution_count": 3,
   "metadata": {},
   "outputs": [],
   "source": [
    "import keras"
   ]
  },
  {
   "cell_type": "code",
   "execution_count": 4,
   "metadata": {},
   "outputs": [],
   "source": [
    "from IPython.display import SVG\n",
    "from keras.utils.vis_utils import plot_model\n",
    "import pydot as pyd\n",
    "from keras.utils.vis_utils import model_to_dot\n",
    "keras.utils.vis_utils.pydot = pyd"
   ]
  },
  {
   "cell_type": "code",
   "execution_count": 5,
   "metadata": {},
   "outputs": [],
   "source": [
    "import tensorflow as tf"
   ]
  },
  {
   "cell_type": "code",
   "execution_count": 6,
   "metadata": {},
   "outputs": [],
   "source": [
    "from keras_contrib.callbacks import CyclicLR"
   ]
  },
  {
   "cell_type": "code",
   "execution_count": 7,
   "metadata": {},
   "outputs": [],
   "source": [
    "class NCE(keras.layers.Layer):\n",
    "    def __init__(self, num_classes, neg_samples=100, **kwargs):\n",
    "\n",
    "        self.num_classes = num_classes\n",
    "        self.neg_samples = neg_samples\n",
    "\n",
    "        super(NCE, self).__init__(**kwargs)\n",
    "\n",
    "    # keras Layer interface\n",
    "    def build(self, input_shape):\n",
    "\n",
    "        self.W = self.add_weight(\n",
    "            name=\"approx_softmax_weights\",\n",
    "            shape=(self.num_classes, input_shape[0][1]),\n",
    "            initializer=\"glorot_normal\",\n",
    "        )\n",
    "\n",
    "        self.b = self.add_weight(\n",
    "            name=\"approx_softmax_biases\", shape=(self.num_classes,), initializer=\"zeros\"\n",
    "        )\n",
    "\n",
    "        # keras\n",
    "        super(NCE, self).build(input_shape)\n",
    "\n",
    "    # keras Layer interface\n",
    "    def call(self, x):\n",
    "        predictions, targets = x\n",
    "\n",
    "        # tensorflow\n",
    "        loss = tf.nn.nce_loss(\n",
    "            self.W, self.b, targets, predictions, self.neg_samples, self.num_classes\n",
    "        )\n",
    "\n",
    "        # keras\n",
    "        self.add_loss(K.mean(loss))\n",
    "\n",
    "        output = K.dot(predictions, K.transpose(self.W))\n",
    "        output = K.bias_add(output, self.b)\n",
    "\n",
    "        return output\n",
    "\n",
    "    # keras Layer interface\n",
    "    def compute_output_shape(self, input_shape):\n",
    "        return 1"
   ]
  },
  {
   "cell_type": "code",
   "execution_count": null,
   "metadata": {},
   "outputs": [],
   "source": []
  },
  {
   "cell_type": "code",
   "execution_count": 205,
   "metadata": {},
   "outputs": [],
   "source": [
    "max_history = 50\n",
    "category_size = 100\n"
   ]
  },
  {
   "cell_type": "code",
   "execution_count": 206,
   "metadata": {},
   "outputs": [],
   "source": [
    "hidden_layer1_size = 256\n",
    "hidden_layer2_size = 128\n",
    "hidden_layer3_size = 64\n",
    "\n",
    "input_embedding_size = 64"
   ]
  },
  {
   "cell_type": "code",
   "execution_count": 207,
   "metadata": {},
   "outputs": [],
   "source": [
    "purchase_cols = [x for x in range(max_history)]\n"
   ]
  },
  {
   "cell_type": "code",
   "execution_count": 208,
   "metadata": {},
   "outputs": [],
   "source": [
    "watch_cols = [x for x in range(max_history, max_history*2)]"
   ]
  },
  {
   "cell_type": "code",
   "execution_count": 209,
   "metadata": {},
   "outputs": [],
   "source": [
    "numeric_cols = [x for x in range(max_history*2, max_history*2 + 5)]"
   ]
  },
  {
   "cell_type": "code",
   "execution_count": 210,
   "metadata": {},
   "outputs": [],
   "source": [
    "seq_category_cols = [purchase_cols, watch_cols]"
   ]
  },
  {
   "cell_type": "code",
   "execution_count": 211,
   "metadata": {},
   "outputs": [],
   "source": [
    "single_category_cols = {105:3,106:5,107:10}   ## such as location : unique_value_size"
   ]
  },
  {
   "cell_type": "code",
   "execution_count": 230,
   "metadata": {},
   "outputs": [],
   "source": [
    "embeddings = Embedding(output_dim=input_embedding_size, input_dim = category_size, \n",
    "                       input_length=max_history, mask_zero=True, name='embedding_category')"
   ]
  },
  {
   "cell_type": "code",
   "execution_count": 231,
   "metadata": {},
   "outputs": [],
   "source": [
    "def seq_categorical_input(name):\n",
    "    \n",
    "    seq = Input(shape=(max_history,), dtype='int32', name=name)\n",
    "    input_embeddings = embeddings(seq)\n",
    "    avg = Lambda(lambda x: mean(x, axis=1), name='avg_' + name)\n",
    "    avg_embedding = avg(input_embeddings)\n",
    "    return seq, avg_embedding"
   ]
  },
  {
   "cell_type": "code",
   "execution_count": 232,
   "metadata": {},
   "outputs": [],
   "source": [
    "def singe_categorical_input(name, unique_size):\n",
    "    single = Input(shape=(1,), dtype='int32', name=name)\n",
    "    embeddings = Embedding(output_dim=input_embedding_size, input_dim = unique_size, \n",
    "                       input_length=1, name='embedding_' + name)(single)\n",
    "    #embeddings = Reshape((input_embedding_size,), name = 'reshape_' + name)(embeddings)\n",
    "    embeddings = Flatten(name = 'flatten_' + name)(embeddings)\n",
    "    return single, embeddings"
   ]
  },
  {
   "cell_type": "code",
   "execution_count": 233,
   "metadata": {},
   "outputs": [],
   "source": [
    "def continous_input(name='numeric'):\n",
    "    inp = Input(shape=(1,), dtype='float32', name=name)\n",
    "    return inp, inp"
   ]
  },
  {
   "cell_type": "code",
   "execution_count": 234,
   "metadata": {},
   "outputs": [],
   "source": [
    "def continous_inputs(size=None, name='numeric'):\n",
    "    inp = Input(shape=(size,), dtype='float32', name=name)\n",
    "    return inp, inp"
   ]
  },
  {
   "cell_type": "code",
   "execution_count": 235,
   "metadata": {},
   "outputs": [],
   "source": [
    "def RecoDNN():\n",
    "\n",
    "    seqs = []\n",
    "    for i, grp in enumerate(seq_category_cols):\n",
    "        seqs.append(seq_categorical_input('categorical_' + str(i)))\n",
    "        \n",
    "    singles = []\n",
    "    for col in single_category_cols:\n",
    "        singles.append(singe_categorical_input('single_'  + str(col), single_category_cols[col]))\n",
    "    \n",
    "    #nums = []\n",
    "    #for i, grp in enumerate(numeric_cols):\n",
    "        #nums.append(continous_input('numeric_' + str(i)))\n",
    "    \n",
    "    nums = continous_inputs(len(numeric_cols))\n",
    "    \n",
    "    inp_layer =  [s[0] for s in seqs]\n",
    "    inp_layer += [s[0] for s in singles]\n",
    "    inp_layer.append(nums[0])\n",
    "    inp_embed = [s[1] for s in seqs]\n",
    "    inp_embed += [s[1] for s in singles]\n",
    "    inp_embed.append(nums[1])\n",
    "    \n",
    "    v = Dense(hidden_layer1_size, activation='relu')(keras.layers.concatenate(inp_embed)) \n",
    "    v = Dense(hidden_layer2_size, activation='relu')(v)\n",
    "    v = Dense(hidden_layer3_size, activation='relu')(v)\n",
    "    output = Dense(category_size, activation='softmax', name='output')(v)\n",
    "    model = Model(inputs=inp_layer, outputs=[output])\n",
    "    \n",
    "    return model"
   ]
  },
  {
   "cell_type": "code",
   "execution_count": 20,
   "metadata": {},
   "outputs": [],
   "source": [
    "def RecoDNNNCE():\n",
    "\n",
    "    seqs = []\n",
    "    for i, grp in enumerate(seq_category_cols):\n",
    "        seqs.append(seq_categorical_input('categorical_' + str(i)))\n",
    "        \n",
    "    singles = []\n",
    "    for col in single_category_cols:\n",
    "        singles.append(singe_categorical_input('single_'  + str(col), single_category_cols[col]))\n",
    "    \n",
    "    nums = continous_inputs(len(numeric_cols))\n",
    "    \n",
    "    inp_layer =  [s[0] for s in seqs]\n",
    "    inp_layer += [s[0] for s in singles]\n",
    "    inp_layer.append(nums[0])\n",
    "    inp_embed = [s[1] for s in seqs]\n",
    "    inp_embed += [s[1] for s in singles]\n",
    "    inp_embed.append(nums[1])\n",
    "    \n",
    "    targets = Input(shape=(1,), dtype=\"int32\", name=\"target_ids\")\n",
    "    inp_layer.append(targets)\n",
    "    \n",
    "    v = Dense(hidden_layer1_size, activation='relu')(keras.layers.concatenate(inp_embed)) \n",
    "    v = Dense(hidden_layer2_size, activation='relu')(v)\n",
    "    sm_logits = NCE(category_size, name=\"nce\")([v, targets])\n",
    "    \n",
    "    model = Model(inputs=inp_layer, outputs=[sm_logits])\n",
    "    \n",
    "    return model"
   ]
  },
  {
   "cell_type": "code",
   "execution_count": null,
   "metadata": {},
   "outputs": [],
   "source": []
  },
  {
   "cell_type": "markdown",
   "metadata": {},
   "source": [
    "# Create Test data"
   ]
  },
  {
   "cell_type": "code",
   "execution_count": 213,
   "metadata": {},
   "outputs": [],
   "source": [
    "data_size = 10000"
   ]
  },
  {
   "cell_type": "code",
   "execution_count": 214,
   "metadata": {},
   "outputs": [],
   "source": [
    "#create fake data\n",
    "\n",
    "data1 = np.random.randint(category_size, size=(data_size, max_history))\n",
    "data2 = np.random.randint(category_size, size=(data_size, max_history))\n",
    "single1 = np.random.randint(3, size=(data_size, 1))\n",
    "single2 = np.random.randint(5, size=(data_size, 1))\n",
    "single3 = np.random.randint(10, size=(data_size, 1))\n",
    "num1 = np.random.random(size=(data_size, 5))\n",
    "\n",
    "labels = np.random.randint(category_size, size=(data_size, 1))\n",
    "# Convert labels to categorical one-hot encoding\n",
    "one_hot_labels = keras.utils.to_categorical(labels, num_classes=category_size)"
   ]
  },
  {
   "cell_type": "code",
   "execution_count": null,
   "metadata": {},
   "outputs": [],
   "source": []
  },
  {
   "cell_type": "markdown",
   "metadata": {},
   "source": [
    "# Test NCE LOSS"
   ]
  },
  {
   "cell_type": "code",
   "execution_count": null,
   "metadata": {},
   "outputs": [],
   "source": [
    "model_nce = RecoDNNNCE()\n"
   ]
  },
  {
   "cell_type": "code",
   "execution_count": null,
   "metadata": {},
   "outputs": [],
   "source": [
    "model_nce.summary()\n"
   ]
  },
  {
   "cell_type": "code",
   "execution_count": null,
   "metadata": {},
   "outputs": [],
   "source": [
    "model_nce.compile(optimizer='adam', loss=None)\n"
   ]
  },
  {
   "cell_type": "code",
   "execution_count": null,
   "metadata": {},
   "outputs": [],
   "source": [
    "model_nce.fit(x=[data1, data2, single1, single2, single3, num1, labels], epochs=150, batch_size=32)\n"
   ]
  },
  {
   "cell_type": "code",
   "execution_count": null,
   "metadata": {},
   "outputs": [],
   "source": [
    "model_nce.evaluate([data1, data2, single1, single2, single3, num1, labels], batch_size=32)"
   ]
  },
  {
   "cell_type": "markdown",
   "metadata": {},
   "source": []
  },
  {
   "cell_type": "markdown",
   "metadata": {},
   "source": [
    "# Test softmax"
   ]
  },
  {
   "cell_type": "code",
   "execution_count": 236,
   "metadata": {},
   "outputs": [],
   "source": [
    "model = RecoDNN()"
   ]
  },
  {
   "cell_type": "code",
   "execution_count": 237,
   "metadata": {},
   "outputs": [
    {
     "name": "stdout",
     "output_type": "stream",
     "text": [
      "__________________________________________________________________________________________________\n",
      "Layer (type)                    Output Shape         Param #     Connected to                     \n",
      "==================================================================================================\n",
      "categorical_0 (InputLayer)      (None, 50)           0                                            \n",
      "__________________________________________________________________________________________________\n",
      "categorical_1 (InputLayer)      (None, 50)           0                                            \n",
      "__________________________________________________________________________________________________\n",
      "single_105 (InputLayer)         (None, 1)            0                                            \n",
      "__________________________________________________________________________________________________\n",
      "single_106 (InputLayer)         (None, 1)            0                                            \n",
      "__________________________________________________________________________________________________\n",
      "single_107 (InputLayer)         (None, 1)            0                                            \n",
      "__________________________________________________________________________________________________\n",
      "embedding_category (Embedding)  (None, 50, 64)       6400        categorical_0[0][0]              \n",
      "                                                                 categorical_1[0][0]              \n",
      "__________________________________________________________________________________________________\n",
      "embedding_single_105 (Embedding (None, 1, 64)        192         single_105[0][0]                 \n",
      "__________________________________________________________________________________________________\n",
      "embedding_single_106 (Embedding (None, 1, 64)        320         single_106[0][0]                 \n",
      "__________________________________________________________________________________________________\n",
      "embedding_single_107 (Embedding (None, 1, 64)        640         single_107[0][0]                 \n",
      "__________________________________________________________________________________________________\n",
      "avg_categorical_0 (Lambda)      (None, 64)           0           embedding_category[0][0]         \n",
      "__________________________________________________________________________________________________\n",
      "avg_categorical_1 (Lambda)      (None, 64)           0           embedding_category[1][0]         \n",
      "__________________________________________________________________________________________________\n",
      "flatten_single_105 (Flatten)    (None, 64)           0           embedding_single_105[0][0]       \n",
      "__________________________________________________________________________________________________\n",
      "flatten_single_106 (Flatten)    (None, 64)           0           embedding_single_106[0][0]       \n",
      "__________________________________________________________________________________________________\n",
      "flatten_single_107 (Flatten)    (None, 64)           0           embedding_single_107[0][0]       \n",
      "__________________________________________________________________________________________________\n",
      "numeric (InputLayer)            (None, 5)            0                                            \n",
      "__________________________________________________________________________________________________\n",
      "concatenate_18 (Concatenate)    (None, 325)          0           avg_categorical_0[0][0]          \n",
      "                                                                 avg_categorical_1[0][0]          \n",
      "                                                                 flatten_single_105[0][0]         \n",
      "                                                                 flatten_single_106[0][0]         \n",
      "                                                                 flatten_single_107[0][0]         \n",
      "                                                                 numeric[0][0]                    \n",
      "__________________________________________________________________________________________________\n",
      "dense_42 (Dense)                (None, 256)          83456       concatenate_18[0][0]             \n",
      "__________________________________________________________________________________________________\n",
      "dense_43 (Dense)                (None, 128)          32896       dense_42[0][0]                   \n",
      "__________________________________________________________________________________________________\n",
      "dense_44 (Dense)                (None, 64)           8256        dense_43[0][0]                   \n",
      "__________________________________________________________________________________________________\n",
      "output (Dense)                  (None, 100)          6500        dense_44[0][0]                   \n",
      "==================================================================================================\n",
      "Total params: 138,660\n",
      "Trainable params: 138,660\n",
      "Non-trainable params: 0\n",
      "__________________________________________________________________________________________________\n"
     ]
    }
   ],
   "source": [
    "model.summary()"
   ]
  },
  {
   "cell_type": "code",
   "execution_count": 238,
   "metadata": {},
   "outputs": [],
   "source": [
    "#plot_model(model, to_file='model.png', show_shapes=True, show_layer_names=True)"
   ]
  },
  {
   "cell_type": "code",
   "execution_count": 239,
   "metadata": {},
   "outputs": [],
   "source": [
    "#SVG(model_to_dot(model).create(prog='dot', format='svg'))"
   ]
  },
  {
   "cell_type": "code",
   "execution_count": 240,
   "metadata": {},
   "outputs": [],
   "source": [
    "model.compile(loss='categorical_crossentropy',\n",
    "                       optimizer='adam',\n",
    "                       metrics=['accuracy'])"
   ]
  },
  {
   "cell_type": "code",
   "execution_count": null,
   "metadata": {},
   "outputs": [],
   "source": [
    "model.fit(x=[data1, data2, single1, single2, single3, num1], \n",
    "          y=one_hot_labels, epochs=100, batch_size=32)"
   ]
  },
  {
   "cell_type": "code",
   "execution_count": 242,
   "metadata": {},
   "outputs": [
    {
     "name": "stdout",
     "output_type": "stream",
     "text": [
      "10000/10000 [==============================] - 1s 77us/step\n"
     ]
    },
    {
     "data": {
      "text/plain": [
       "[0.003155421318486333, 1.0]"
      ]
     },
     "execution_count": 242,
     "metadata": {},
     "output_type": "execute_result"
    }
   ],
   "source": [
    "model.evaluate([data1, data2, single1, single2, single3, num1], y=one_hot_labels, batch_size=32)"
   ]
  },
  {
   "cell_type": "code",
   "execution_count": null,
   "metadata": {},
   "outputs": [],
   "source": []
  },
  {
   "cell_type": "code",
   "execution_count": null,
   "metadata": {},
   "outputs": [],
   "source": []
  },
  {
   "cell_type": "code",
   "execution_count": null,
   "metadata": {},
   "outputs": [],
   "source": []
  },
  {
   "cell_type": "markdown",
   "metadata": {},
   "source": [
    "# lr finder"
   ]
  },
  {
   "cell_type": "code",
   "execution_count": 173,
   "metadata": {},
   "outputs": [],
   "source": [
    "from lr_finder import LRFinder\n",
    "lr_finder = LRFinder(min_lr=1e-3, max_lr=1, steps_per_epoch=np.ceil(data_size/16), epochs=3)          "
   ]
  },
  {
   "cell_type": "code",
   "execution_count": 175,
   "metadata": {},
   "outputs": [
    {
     "name": "stdout",
     "output_type": "stream",
     "text": [
      "Epoch 1/1\n",
      "1000/1000 [==============================] - 0s 143us/step - loss: 13.3361 - acc: 0.1540\n"
     ]
    },
    {
     "data": {
      "text/plain": [
       "<keras.callbacks.History at 0x135aafe10>"
      ]
     },
     "execution_count": 175,
     "metadata": {},
     "output_type": "execute_result"
    }
   ],
   "source": [
    "model.fit(x=[data1, data2, single1, single2, single3, num1], y=one_hot_labels,callbacks=[lr_finder])"
   ]
  },
  {
   "cell_type": "code",
   "execution_count": 176,
   "metadata": {},
   "outputs": [
    {
     "data": {
      "image/png": "[encoded data removed]",
      "text/plain": [
       "<Figure size 432x288 with 1 Axes>"
      ]
     },
     "metadata": {
      "needs_background": "light"
     },
     "output_type": "display_data"
    }
   ],
   "source": [
    "lr_finder.plot_loss()"
   ]
  },
  {
   "cell_type": "code",
   "execution_count": null,
   "metadata": {},
   "outputs": [],
   "source": []
  },
  {
   "cell_type": "markdown",
   "metadata": {},
   "source": [
    "# cyclic lr"
   ]
  },
  {
   "cell_type": "code",
   "execution_count": 150,
   "metadata": {},
   "outputs": [],
   "source": [
    "clr = CyclicLR(base_lr=0.001, max_lr=0.006,\n",
    "                                step_size=2000., mode='triangular')"
   ]
  },
  {
   "cell_type": "code",
   "execution_count": 151,
   "metadata": {},
   "outputs": [],
   "source": [
    "#clr = CyclicLR(mode='triangular')"
   ]
  },
  {
   "cell_type": "code",
   "execution_count": null,
   "metadata": {},
   "outputs": [],
   "source": []
  },
  {
   "cell_type": "code",
   "execution_count": null,
   "metadata": {},
   "outputs": [],
   "source": []
  },
  {
   "cell_type": "code",
   "execution_count": 177,
   "metadata": {},
   "outputs": [
    {
     "name": "stdout",
     "output_type": "stream",
     "text": [
      "1000/1000 [==============================] - 0s 44us/step\n"
     ]
    },
    {
     "data": {
      "text/plain": [
       "[14.490167610168458, 0.101]"
      ]
     },
     "execution_count": 177,
     "metadata": {},
     "output_type": "execute_result"
    }
   ],
   "source": [
    "model.evaluate([data1, data2, single1, single2, single3, num1], y=one_hot_labels, batch_size=32)"
   ]
  },
  {
   "cell_type": "code",
   "execution_count": null,
   "metadata": {},
   "outputs": [],
   "source": []
  },
  {
   "cell_type": "code",
   "execution_count": null,
   "metadata": {},
   "outputs": [],
   "source": []
  },
  {
   "cell_type": "code",
   "execution_count": null,
   "metadata": {},
   "outputs": [],
   "source": []
  }
 ],
 "metadata": {
  "kernelspec": {
   "display_name": "Python 3",
   "language": "python",
   "name": "python3"
  },
  "language_info": {
   "codemirror_mode": {
    "name": "ipython",
    "version": 3
   },
   "file_extension": ".py",
   "mimetype": "text/x-python",
   "name": "python",
   "nbconvert_exporter": "python",
   "pygments_lexer": "ipython3",
   "version": "3.6.8"
  }
 },
 "nbformat": 4,
 "nbformat_minor": 2
}
