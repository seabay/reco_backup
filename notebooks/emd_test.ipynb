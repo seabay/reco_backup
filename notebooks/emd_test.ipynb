{
 "cells": [
  {
   "cell_type": "code",
   "execution_count": 1,
   "metadata": {},
   "outputs": [],
   "source": [
    "import tensorflow as tf"
   ]
  },
  {
   "cell_type": "code",
   "execution_count": 2,
   "metadata": {},
   "outputs": [],
   "source": [
    "tf.enable_eager_execution()"
   ]
  },
  {
   "cell_type": "code",
   "execution_count": 20,
   "metadata": {},
   "outputs": [],
   "source": [
    "max_history = 5\n",
    "category_size = 100"
   ]
  },
  {
   "cell_type": "code",
   "execution_count": 43,
   "metadata": {},
   "outputs": [],
   "source": [
    "embeddings = tf.keras.layers.Embedding(output_dim=4, input_dim = category_size, \n",
    "                       input_length=max_history, mask_zero=True, name='embedding_category')"
   ]
  },
  {
   "cell_type": "code",
   "execution_count": 44,
   "metadata": {},
   "outputs": [
    {
     "data": {
      "text/plain": [
       "array([[1, 0, 0, 0, 0],\n",
       "       [4, 0, 0, 0, 0]], dtype=int32)"
      ]
     },
     "execution_count": 44,
     "metadata": {},
     "output_type": "execute_result"
    }
   ],
   "source": [
    "tt = [[1], [4]]\n",
    "tt = tf.keras.preprocessing.sequence.pad_sequences(tt, max_history, padding='post')\n",
    "tt"
   ]
  },
  {
   "cell_type": "code",
   "execution_count": 45,
   "metadata": {},
   "outputs": [],
   "source": [
    "tt=tf.convert_to_tensor(tt)"
   ]
  },
  {
   "cell_type": "code",
   "execution_count": 46,
   "metadata": {},
   "outputs": [
    {
     "data": {
      "text/plain": [
       "<tf.Tensor: id=156, shape=(2, 5), dtype=bool, numpy=\n",
       "array([[ True, False, False, False, False],\n",
       "       [ True, False, False, False, False]])>"
      ]
     },
     "execution_count": 46,
     "metadata": {},
     "output_type": "execute_result"
    }
   ],
   "source": [
    "embeddings.compute_mask(tt)  ## compute masks"
   ]
  },
  {
   "cell_type": "code",
   "execution_count": 47,
   "metadata": {},
   "outputs": [],
   "source": [
    "input_embeddings=embeddings(tt)"
   ]
  },
  {
   "cell_type": "code",
   "execution_count": 48,
   "metadata": {},
   "outputs": [
    {
     "data": {
      "text/plain": [
       "<tf.Tensor: id=171, shape=(2, 5, 4), dtype=float32, numpy=\n",
       "array([[[-0.04444074, -0.0032139 ,  0.04822842,  0.04766295],\n",
       "        [-0.01655685,  0.02014457,  0.01598669, -0.03960187],\n",
       "        [-0.01655685,  0.02014457,  0.01598669, -0.03960187],\n",
       "        [-0.01655685,  0.02014457,  0.01598669, -0.03960187],\n",
       "        [-0.01655685,  0.02014457,  0.01598669, -0.03960187]],\n",
       "\n",
       "       [[ 0.02881174, -0.02919713,  0.0369429 ,  0.03400585],\n",
       "        [-0.01655685,  0.02014457,  0.01598669, -0.03960187],\n",
       "        [-0.01655685,  0.02014457,  0.01598669, -0.03960187],\n",
       "        [-0.01655685,  0.02014457,  0.01598669, -0.03960187],\n",
       "        [-0.01655685,  0.02014457,  0.01598669, -0.03960187]]],\n",
       "      dtype=float32)>"
      ]
     },
     "execution_count": 48,
     "metadata": {},
     "output_type": "execute_result"
    }
   ],
   "source": [
    "input_embeddings"
   ]
  },
  {
   "cell_type": "code",
   "execution_count": 49,
   "metadata": {},
   "outputs": [
    {
     "data": {
      "text/plain": [
       "<tf.Tensor: id=183, shape=(2, 4), dtype=float32, numpy=\n",
       "array([[-0.04444074, -0.0032139 ,  0.04822842,  0.04766295],\n",
       "       [ 0.02881174, -0.02919713,  0.0369429 ,  0.03400585]],\n",
       "      dtype=float32)>"
      ]
     },
     "execution_count": 49,
     "metadata": {},
     "output_type": "execute_result"
    }
   ],
   "source": [
    "tf.keras.layers.GlobalAveragePooling1D(name='_avg_embedding')(input_embeddings, mask=embeddings.compute_mask(tt))"
   ]
  },
  {
   "cell_type": "code",
   "execution_count": null,
   "metadata": {},
   "outputs": [],
   "source": []
  }
 ],
 "metadata": {
  "kernelspec": {
   "display_name": "Python 3",
   "language": "python",
   "name": "python3"
  },
  "language_info": {
   "codemirror_mode": {
    "name": "ipython",
    "version": 3
   },
   "file_extension": ".py",
   "mimetype": "text/x-python",
   "name": "python",
   "nbconvert_exporter": "python",
   "pygments_lexer": "ipython3",
   "version": "3.6.8"
  }
 },
 "nbformat": 4,
 "nbformat_minor": 2
}
