{
 "cells": [
  {
   "cell_type": "code",
   "execution_count": 393,
   "metadata": {},
   "outputs": [
    {
     "name": "stdout",
     "output_type": "stream",
     "text": [
      "The autoreload extension is already loaded. To reload it, use:\n",
      "  %reload_ext autoreload\n"
     ]
    }
   ],
   "source": [
    "%load_ext autoreload\n",
    "%autoreload 2"
   ]
  },
  {
   "cell_type": "code",
   "execution_count": 356,
   "metadata": {},
   "outputs": [],
   "source": [
    "import numpy as np\n",
    "import builtins\n",
    "import keras\n",
    "import tensorflow as tf\n",
    "import math\n",
    "from extra_keras_metrics import average_precision_at_k"
   ]
  },
  {
   "cell_type": "code",
   "execution_count": 357,
   "metadata": {},
   "outputs": [],
   "source": [
    "import random\n",
    "import keras_metrics as km"
   ]
  },
  {
   "cell_type": "code",
   "execution_count": 358,
   "metadata": {},
   "outputs": [],
   "source": [
    "import sys\n",
    "sys.path.append('..')"
   ]
  },
  {
   "cell_type": "code",
   "execution_count": 359,
   "metadata": {},
   "outputs": [],
   "source": [
    "from data_loader import data_generator"
   ]
  },
  {
   "cell_type": "code",
   "execution_count": 370,
   "metadata": {},
   "outputs": [],
   "source": [
    "import os"
   ]
  },
  {
   "cell_type": "code",
   "execution_count": 384,
   "metadata": {},
   "outputs": [],
   "source": [
    "os.environ['TF_KERAS'] = '1'"
   ]
  },
  {
   "cell_type": "code",
   "execution_count": 385,
   "metadata": {},
   "outputs": [
    {
     "data": {
      "text/plain": [
       "'1'"
      ]
     },
     "execution_count": 385,
     "metadata": {},
     "output_type": "execute_result"
    }
   ],
   "source": [
    "os.environ['TF_KERAS']"
   ]
  },
  {
   "cell_type": "code",
   "execution_count": 360,
   "metadata": {},
   "outputs": [
    {
     "data": {
      "text/plain": [
       "'1.14.0'"
      ]
     },
     "execution_count": 360,
     "metadata": {},
     "output_type": "execute_result"
    }
   ],
   "source": [
    "tf.__version__"
   ]
  },
  {
   "cell_type": "code",
   "execution_count": 423,
   "metadata": {},
   "outputs": [],
   "source": [
    "#from keras_pos_embd import PositionEmbedding, TrigPosEmbedding\n",
    "import trig_pos_embd   # https://github.com/CyberZHG/keras-pos-embd\n",
    "import pos_embd"
   ]
  },
  {
   "cell_type": "code",
   "execution_count": 390,
   "metadata": {},
   "outputs": [
    {
     "data": {
      "text/plain": [
       "<module 'keras.backend' from '/Users/pengcheng.jia/anaconda3/envs/reco/lib/python3.6/site-packages/keras/backend/__init__.py'>"
      ]
     },
     "execution_count": 390,
     "metadata": {},
     "output_type": "execute_result"
    }
   ],
   "source": [
    "keras_pos_embd.backend.backend"
   ]
  },
  {
   "cell_type": "code",
   "execution_count": 391,
   "metadata": {},
   "outputs": [
    {
     "data": {
      "text/plain": [
       "<module 'tensorflow.python.keras.api._v1.keras.backend' from '/Users/pengcheng.jia/anaconda3/envs/reco/lib/python3.6/site-packages/tensorflow/python/keras/api/_v1/keras/backend/__init__.py'>"
      ]
     },
     "execution_count": 391,
     "metadata": {},
     "output_type": "execute_result"
    }
   ],
   "source": [
    "tf.keras.backend"
   ]
  },
  {
   "cell_type": "code",
   "execution_count": 424,
   "metadata": {},
   "outputs": [],
   "source": [
    "class RecoDNN():\n",
    "    \n",
    "    def __init__(self, max_transaction_history = 50, max_product_click_history = 50, max_promotion_click_history = 50,\n",
    "                 category_size = 100, single_categorical_features = None, numeric_features_size = 10,\n",
    "                 hidden_layer1_size = 256, hidden_layer2_size = 128, hidden_layer3_size = 64, activation='relu',\n",
    "                input_embedding_size = 128):\n",
    "        \n",
    "        self.max_transaction_history = max_transaction_history\n",
    "        self.max_product_click_history = max_product_click_history\n",
    "        self.max_promotion_click_history = max_promotion_click_history\n",
    "        self.category_size = category_size\n",
    "        self.hidden_layer1_size = hidden_layer1_size\n",
    "        self.hidden_layer2_size = hidden_layer2_size\n",
    "        self.hidden_layer3_size = hidden_layer3_size\n",
    "        self.single_categorical_features = single_categorical_features\n",
    "        self.numeric_features_size = numeric_features_size\n",
    "        self.activation = activation\n",
    "        self.input_embedding_size = input_embedding_size\n",
    "        \n",
    "        self.category_embeddings = tf.keras.layers.Embedding(output_dim=self.input_embedding_size, \n",
    "                                                             input_dim = self.category_size, mask_zero=True, name='category_embeddings')\n",
    "        \n",
    "        self.build()\n",
    "        \n",
    "    \n",
    "    def build(self):\n",
    "        \n",
    "        inp_layer, inp_embed = self.create_input()\n",
    "        v = tf.keras.layers.Dense(512, activation = self.activation)(tf.keras.layers.concatenate(inp_embed)) \n",
    "        v = tf.keras.layers.Dense(self.hidden_layer1_size, activation = self.activation)(v) \n",
    "        v = tf.keras.layers.Dense(self.hidden_layer2_size, activation = self.activation)(v)\n",
    "        v = tf.keras.layers.Dense(self.hidden_layer3_size, activation = self.activation, name='user_embedding')(v)\n",
    "        output = tf.keras.layers.Dense(self.category_size, activation ='softmax', name='softmax_layer')(v)\n",
    "        self.model = tf.keras.models.Model(inputs = inp_layer, outputs = [output])    \n",
    "        \n",
    "    \n",
    "    def create_input(self):\n",
    "        \n",
    "        transaction_cols = [x for x in range(self.max_transaction_history)]\n",
    "        product_click_cols = [x for x in range(self.max_product_click_history)]\n",
    "        promotion_click_cols = [x for x in range(self.max_promotion_click_history)]\n",
    "        seq_category_cols = [transaction_cols, product_click_cols, promotion_click_cols]\n",
    "        \n",
    "        seqs = []\n",
    "        for i, grp in enumerate(seq_category_cols):\n",
    "            seqs.append(self.seq_categorical_input('seq_categorical_' + str(i), len(grp)))\n",
    "\n",
    "        singles = []\n",
    "        if self.single_categorical_features:\n",
    "            for col in self.single_categorical_features:\n",
    "                singles.append(self.singe_categorical_input(str(col), self.single_categorical_features[col][0],\n",
    "                                                           self.single_categorical_features[col][1]))\n",
    "\n",
    "        nums = self.continous_inputs(self.numeric_features_size)\n",
    "\n",
    "        inp_layer =  [s[0] for s in seqs]\n",
    "        inp_layer += [s[0] for s in singles]\n",
    "        inp_layer.append(nums[0])\n",
    "        inp_embed = [s[1] for s in seqs]\n",
    "        inp_embed += [s[1] for s in singles]\n",
    "        inp_embed.append(nums[1])\n",
    "               \n",
    "        return inp_layer, inp_embed\n",
    "    \n",
    "    \n",
    "    def seq_categorical_input(self, name, max_history):\n",
    "    \n",
    "        seq = tf.keras.layers.Input(shape=(max_history,), dtype='int32', name=name)\n",
    "        category_embeddings = tf.keras.layers.Embedding(output_dim=self.input_embedding_size,input_dim = self.category_size, mask_zero=True, name=name+'category_embeddings')\n",
    "        input_embeddings = category_embeddings(seq)\n",
    "        #position_embeddings = trig_pos_embd.TrigPosEmbedding(output_dim=self.input_embedding_size,mode=TrigPosEmbedding.MODE_ADD)\n",
    "        position_embeddings = pos_embd.PositionEmbedding(input_dim=self.category_size, output_dim=self.input_embedding_size,mode=PositionEmbedding.MODE_ADD)\n",
    "\n",
    "        input_embeddings = position_embeddings(input_embeddings)\n",
    "        avg_embedding = tf.keras.layers.GlobalAveragePooling1D(name=name + '_avg_embedding')(input_embeddings)\n",
    "        \n",
    "        #cat_embeddings = tf.reshape(input_embeddings, [, -1])\n",
    "\n",
    "        #maxf = tf.keras.layers.Lambda(lambda x: tf.keras.backend.max(x, axis=1), name = name + '_max_embedding')\n",
    "        #max_embedding = maxf(input_embeddings)\n",
    "\n",
    "        return seq, avg_embedding\n",
    "        #return seq, tf.keras.layers.Flatten(name = 'flatten_' + name)(input_embeddings)   #keras.layers.add([avg_embedding, max_embedding])\n",
    "        #return seq, tf.keras.layers.concatenate([avg_embedding, max_embedding])\n",
    "\n",
    "    \n",
    "    def singe_categorical_input(self, name, unique_size, embedding_size):\n",
    "        single = tf.keras.layers.Input(shape=(1,), dtype='int32', name=name)\n",
    "        embeddings = tf.keras.layers.Embedding(output_dim = embedding_size, input_dim = unique_size, \n",
    "                           input_length=1, name=name + '_embedding')(single)\n",
    "        embeddings = tf.keras.layers.Flatten(name = 'flatten_' + name)(embeddings)\n",
    "        return single, embeddings\n",
    "    \n",
    "    def continous_inputs(self, size=None, name='numeric'):\n",
    "        inp = tf.keras.layers.Input(shape=(size,), dtype='float32', name=name)\n",
    "        return inp, inp\n"
   ]
  },
  {
   "cell_type": "markdown",
   "metadata": {},
   "source": [
    "# fake dataset"
   ]
  },
  {
   "cell_type": "code",
   "execution_count": 379,
   "metadata": {},
   "outputs": [],
   "source": [
    "data_size = 5000\n",
    "max_transaction_history = 20\n",
    "max_product_click_history = 20\n",
    "max_promotion_click_history = 20\n",
    "input_embedding_size = 16\n",
    "category_size = 50\n",
    "numeric_size = 1\n",
    "\n",
    "data1 = np.random.randint(category_size, size=(data_size, random.randint(1,max_transaction_history)))\n",
    "data1 = tf.keras.preprocessing.sequence.pad_sequences(data1, max_transaction_history, padding='post')\n",
    "#data1 = np.array([[1,2], [1,2,4]])\n",
    "\n",
    "data2 = np.random.randint(category_size, size=(data_size, max_product_click_history-3))\n",
    "data2 = tf.keras.preprocessing.sequence.pad_sequences(data2, max_product_click_history, padding='post')\n",
    "\n",
    "data3 = np.random.randint(category_size, size=(data_size, max_promotion_click_history-4))\n",
    "data3 = tf.keras.preprocessing.sequence.pad_sequences(data3, max_promotion_click_history, padding='post')\n",
    "\n",
    "inputs = [data1, data2, data3]\n",
    "\n",
    "single_category_cols = {105:(3,8),106:(5,8),107:(10,8)}   ## such as location : unique_value_size\n",
    "for k in single_category_cols:\n",
    "    inputs.append(np.random.randint(single_category_cols[k][0], size=(data_size, 1)))\n",
    "\n",
    "num1 = np.random.random(size=(data_size, numeric_size))\n",
    "inputs.append(num1)\n",
    "\n",
    "labels = np.random.randint(0, category_size-1, size=(data_size, 1))\n",
    "one_hot_labels = tf.keras.utils.to_categorical(labels, num_classes=category_size)"
   ]
  },
  {
   "cell_type": "code",
   "execution_count": 380,
   "metadata": {},
   "outputs": [
    {
     "data": {
      "text/plain": [
       "array([[ 6, 23, 23, ...,  0,  0,  0],\n",
       "       [24, 25, 26, ...,  0,  0,  0],\n",
       "       [36, 35, 40, ...,  0,  0,  0],\n",
       "       ...,\n",
       "       [17, 25, 20, ...,  0,  0,  0],\n",
       "       [ 2, 19, 10, ...,  0,  0,  0],\n",
       "       [36, 41, 48, ...,  0,  0,  0]], dtype=int32)"
      ]
     },
     "execution_count": 380,
     "metadata": {},
     "output_type": "execute_result"
    }
   ],
   "source": [
    "inputs[0]"
   ]
  },
  {
   "cell_type": "markdown",
   "metadata": {},
   "source": [
    " "
   ]
  },
  {
   "cell_type": "markdown",
   "metadata": {},
   "source": [
    "# Training"
   ]
  },
  {
   "cell_type": "code",
   "execution_count": 149,
   "metadata": {},
   "outputs": [],
   "source": [
    "# learning rate schedule\n",
    "def step_decay(epoch):\n",
    "    initial_lrate = 0.1\n",
    "    drop = 0.8\n",
    "    epochs_drop = 10.0\n",
    "    lrate = initial_lrate * math.pow(drop, math.floor((1+epoch)/epochs_drop))\n",
    "    return lrate"
   ]
  },
  {
   "cell_type": "code",
   "execution_count": 192,
   "metadata": {},
   "outputs": [],
   "source": [
    "def top_2(y_true, y_pred):\n",
    "    return tf.keras.metrics.sparse_top_k_categorical_accuracy(y_true, y_pred, k=2) "
   ]
  },
  {
   "cell_type": "code",
   "execution_count": 292,
   "metadata": {},
   "outputs": [],
   "source": [
    "def tf_loss_wrapper(y_true, y_pred, loss):\n",
    "    score, up_opt = loss(tf.cast(y_true,tf.int64), tf.cast(y_pred,tf.float32), k=2) \n",
    "    tf.keras.backend.get_session().run(tf.local_variables_initializer())\n",
    "    with tf.control_dependencies([up_opt]):\n",
    "        score = tf.identity(score)\n",
    "    return score"
   ]
  },
  {
   "cell_type": "code",
   "execution_count": 303,
   "metadata": {},
   "outputs": [],
   "source": [
    "def average_precision_at_k(y_true, y_pred):\n",
    "    score, up_opt = tf.metrics.average_precision_at_k(tf.cast(y_true,tf.int64), tf.cast(y_pred,tf.float32), k=2) \n",
    "    tf.keras.backend.get_session().run(tf.local_variables_initializer())\n",
    "    with tf.control_dependencies([up_opt]):\n",
    "        score = tf.identity(score)\n",
    "    return score"
   ]
  },
  {
   "cell_type": "code",
   "execution_count": 344,
   "metadata": {},
   "outputs": [],
   "source": [
    "def precision_at_2(y_true, y_pred):\n",
    "    return tf.metrics.precision_at_k(tf.cast(y_true,tf.int64), tf.cast(y_pred,tf.float32), k=2) "
   ]
  },
  {
   "cell_type": "code",
   "execution_count": 345,
   "metadata": {},
   "outputs": [],
   "source": [
    "def precision_at_1(y_true, y_pred):\n",
    "    score, up_opt = tf.metrics.precision_at_k(tf.cast(y_true,tf.int64), tf.cast(y_pred,tf.float32), k=1) \n",
    "    tf.keras.backend.get_session().run(tf.local_variables_initializer())\n",
    "    with tf.control_dependencies([up_opt]):\n",
    "        score = tf.identity(score)\n",
    "    return score"
   ]
  },
  {
   "cell_type": "code",
   "execution_count": 346,
   "metadata": {},
   "outputs": [],
   "source": [
    "def overlapping_at_2(y_true, y_pred):\n",
    "    pass"
   ]
  },
  {
   "cell_type": "code",
   "execution_count": 425,
   "metadata": {},
   "outputs": [],
   "source": [
    "model = RecoDNN(max_transaction_history, max_product_click_history, max_promotion_click_history, category_size,\n",
    "                numeric_features_size = numeric_size, input_embedding_size = input_embedding_size,\n",
    "                single_categorical_features = single_category_cols).model"
   ]
  },
  {
   "cell_type": "code",
   "execution_count": 426,
   "metadata": {},
   "outputs": [],
   "source": [
    "model.compile(loss='sparse_categorical_crossentropy',\n",
    "                       optimizer=tf.keras.optimizers.Adam(0.001),\n",
    "                       metrics=['accuracy', precision_at_2])"
   ]
  },
  {
   "cell_type": "code",
   "execution_count": 427,
   "metadata": {},
   "outputs": [],
   "source": [
    "#model.summary()"
   ]
  },
  {
   "cell_type": "code",
   "execution_count": 428,
   "metadata": {},
   "outputs": [],
   "source": [
    "#tf.keras.utils.plot_model(model, to_file='../figures/model.png', show_shapes=True, show_layer_names=True)"
   ]
  },
  {
   "cell_type": "code",
   "execution_count": 429,
   "metadata": {},
   "outputs": [],
   "source": [
    "tf.keras.backend.get_session().run(tf.local_variables_initializer())"
   ]
  },
  {
   "cell_type": "code",
   "execution_count": null,
   "metadata": {},
   "outputs": [],
   "source": [
    "%time model.fit(x=inputs, y=labels, epochs=200, batch_size=64, callbacks=[], validation_split=0.2)"
   ]
  },
  {
   "cell_type": "code",
   "execution_count": null,
   "metadata": {},
   "outputs": [],
   "source": [
    "model.save('../outputs/reco_dnn.h5')  # save model "
   ]
  },
  {
   "cell_type": "code",
   "execution_count": null,
   "metadata": {},
   "outputs": [],
   "source": []
  },
  {
   "cell_type": "code",
   "execution_count": null,
   "metadata": {},
   "outputs": [],
   "source": []
  },
  {
   "cell_type": "markdown",
   "metadata": {},
   "source": [
    "# infere user embedding"
   ]
  },
  {
   "cell_type": "code",
   "execution_count": 132,
   "metadata": {},
   "outputs": [],
   "source": [
    "lmodel = tf.keras.models.load_model('../outputs/reco_dnn.h5')"
   ]
  },
  {
   "cell_type": "code",
   "execution_count": 133,
   "metadata": {},
   "outputs": [],
   "source": [
    "layer_name = 'user_embedding'\n",
    "intermediate_layer_model = tf.keras.Model(inputs=lmodel.input,\n",
    "                                 outputs=lmodel.get_layer(layer_name).output)\n"
   ]
  },
  {
   "cell_type": "code",
   "execution_count": 134,
   "metadata": {},
   "outputs": [],
   "source": [
    "sz=3  # use first three rows as inputs\n",
    "dat = inputs[0][0:sz], inputs[1][0:sz],inputs[2][0:sz],inputs[3][0:sz],inputs[4][0:sz],inputs[5][0:sz],inputs[6][0:sz]"
   ]
  },
  {
   "cell_type": "code",
   "execution_count": 135,
   "metadata": {},
   "outputs": [],
   "source": [
    "intermediate_output = intermediate_layer_model.predict(dat)"
   ]
  },
  {
   "cell_type": "code",
   "execution_count": 136,
   "metadata": {},
   "outputs": [
    {
     "data": {
      "text/plain": [
       "array([[ 0.       ,  0.       ,  4.400964 ,  0.       ,  6.740262 ,\n",
       "         0.       , 11.438016 ,  6.269281 ,  1.6220105,  5.1103024,\n",
       "         0.       , 10.057777 ,  2.1798482,  7.217703 ,  2.2895126,\n",
       "         0.       ,  5.0285788,  1.2717619,  0.       , 11.747034 ,\n",
       "        14.142303 , 20.50268  ,  2.7235174,  0.       ,  1.0890514,\n",
       "         7.7049932,  6.673367 , 10.590452 ,  8.015552 , 20.846992 ,\n",
       "        16.123056 , 18.163578 ,  4.228752 ,  0.       ,  1.5433388,\n",
       "         0.6095442,  0.       ,  0.       ,  0.       , 11.783399 ,\n",
       "         1.5408026,  0.       ,  5.787854 ,  0.       ,  8.5177765,\n",
       "         0.       , 11.734498 ,  0.       , 25.783195 ,  1.3734124,\n",
       "        11.107173 ,  4.8844457,  1.2880889,  0.       ,  7.4841986,\n",
       "         9.729629 ,  7.0148015,  6.7179275,  2.5550754, 16.474016 ,\n",
       "         0.       ,  0.       ,  3.206796 ,  0.       ],\n",
       "       [ 6.6823826,  0.       ,  2.0572307,  0.       , 10.38165  ,\n",
       "         0.       ,  4.9173765,  5.3423514, 12.363356 ,  3.9497435,\n",
       "         0.       ,  5.692775 ,  5.0740414,  4.536315 ,  4.5850186,\n",
       "         0.       ,  2.128633 ,  5.3718367,  0.       ,  6.3510103,\n",
       "         6.726371 , 11.6131115, 11.235753 ,  0.       ,  4.559942 ,\n",
       "         6.34781  ,  4.060547 , 12.359335 , 10.404564 , 12.993472 ,\n",
       "         5.538404 , 15.169612 ,  8.443724 ,  0.       ,  3.899745 ,\n",
       "         9.0077305,  0.       ,  0.       ,  0.       ,  3.3737612,\n",
       "         0.7548806,  0.       ,  4.124926 ,  0.       ,  4.5386357,\n",
       "         0.       ,  8.989477 ,  0.       , 17.325354 ,  9.545462 ,\n",
       "         8.149521 ,  3.7469108,  5.750167 ,  0.       ,  5.733634 ,\n",
       "         6.304149 ,  9.989488 ,  5.130796 ,  6.4906735,  5.7825904,\n",
       "         0.       ,  0.       ,  3.5599194,  0.       ],\n",
       "       [ 3.5844536,  0.       ,  9.823479 ,  0.       , 15.313739 ,\n",
       "         0.       , 15.154134 , 10.0354595,  4.0349426,  5.555904 ,\n",
       "         0.       ,  6.724185 ,  7.1151304,  2.8776102,  2.8826697,\n",
       "         0.       , 14.437597 ,  2.8133028,  0.       , 16.319885 ,\n",
       "        14.347888 , 17.910963 ,  2.4191263,  0.       ,  3.759598 ,\n",
       "         4.0868177, 14.231205 ,  2.7331374,  9.908298 ,  9.841405 ,\n",
       "        21.906836 , 17.32924  , 15.619852 ,  0.       ,  1.0932479,\n",
       "         3.5437574,  0.       ,  0.       ,  0.       , 16.493633 ,\n",
       "         0.       ,  0.       ,  4.8718557,  0.       ,  8.114633 ,\n",
       "         0.       , 19.759714 ,  0.       , 22.779318 ,  3.3991983,\n",
       "         4.3736124,  6.559805 ,  5.9121366,  0.       ,  6.0992665,\n",
       "         9.325127 ,  1.0160261,  3.6242023,  9.288266 , 11.081712 ,\n",
       "         0.       ,  0.       ,  3.5657713,  0.       ]], dtype=float32)"
      ]
     },
     "execution_count": 136,
     "metadata": {},
     "output_type": "execute_result"
    }
   ],
   "source": [
    "intermediate_output   # these are embeddings for users"
   ]
  },
  {
   "cell_type": "code",
   "execution_count": null,
   "metadata": {},
   "outputs": [],
   "source": []
  },
  {
   "cell_type": "code",
   "execution_count": 262,
   "metadata": {},
   "outputs": [
    {
     "data": {
      "text/plain": [
       "array([[9.88500866e-14, 1.66809485e-07, 8.02611992e-13, 5.57731146e-05,\n",
       "        2.01628845e-20, 3.55871374e-11, 4.18647318e-07, 8.19514900e-10,\n",
       "        6.91004449e-17, 3.52575065e-04, 1.46854493e-13, 1.39596227e-06,\n",
       "        5.18735532e-12, 1.07548644e-10, 3.26124949e-09, 2.33259256e-04,\n",
       "        3.78430604e-13, 7.89409770e-12, 5.96693326e-08, 2.84212961e-14,\n",
       "        5.26116650e-10, 6.93088948e-20, 2.22797962e-06, 3.25721611e-12,\n",
       "        4.92618014e-15, 4.56983652e-11, 1.02549454e-03, 5.16495277e-07,\n",
       "        3.06632064e-05, 2.56538044e-07, 4.08812921e-05, 2.99763379e-08,\n",
       "        3.87134548e-07, 5.26721378e-09, 9.98016841e-14, 6.25430082e-04,\n",
       "        2.86690261e-14, 1.62516951e-08, 6.75517142e-11, 2.02315914e-05,\n",
       "        2.32272708e-12, 1.97077854e-10, 5.13877219e-10, 3.10492964e-04,\n",
       "        1.84082262e-06, 9.97060716e-01, 2.27206576e-04, 9.92866080e-06,\n",
       "        2.66013101e-12, 1.99611918e-31],\n",
       "       [4.68875896e-07, 1.37154132e-07, 9.82510414e-07, 1.38129623e-08,\n",
       "        3.57998857e-08, 3.61926843e-11, 1.58203165e-05, 1.06208768e-06,\n",
       "        1.82829208e-05, 1.72593388e-08, 1.22966956e-10, 1.96964291e-04,\n",
       "        1.04387198e-06, 2.32576735e-06, 6.10032794e-06, 2.37652372e-07,\n",
       "        3.89663768e-09, 1.96896017e-05, 1.69177667e-08, 2.33958544e-05,\n",
       "        8.93483048e-06, 1.48254287e-07, 9.88503279e-10, 6.18494989e-04,\n",
       "        2.88479811e-07, 6.88312284e-05, 2.40059972e-08, 6.01187651e-08,\n",
       "        1.41265651e-03, 1.22752508e-05, 1.07443984e-05, 4.20538599e-05,\n",
       "        2.19512231e-07, 3.50595255e-05, 9.27271770e-09, 1.18620392e-07,\n",
       "        8.08654299e-09, 9.97420549e-01, 1.85326794e-08, 2.07346935e-11,\n",
       "        7.81469935e-05, 2.04008742e-07, 7.07738792e-08, 1.28103920e-06,\n",
       "        6.81199097e-10, 3.16021192e-06, 1.65718383e-10, 3.48920963e-08,\n",
       "        5.37599854e-10, 1.98863689e-24],\n",
       "       [1.19360436e-22, 1.77081631e-06, 3.77134435e-10, 6.38980346e-05,\n",
       "        2.64935969e-22, 8.78896739e-04, 2.42555442e-09, 6.82383317e-12,\n",
       "        2.29468939e-18, 6.63507308e-05, 3.29161267e-08, 6.43555440e-14,\n",
       "        3.42184232e-11, 6.51483771e-12, 7.56566720e-08, 8.84728308e-07,\n",
       "        1.03469745e-06, 1.99373423e-13, 1.70746972e-09, 4.33749425e-11,\n",
       "        7.63137643e-12, 1.63463876e-17, 1.51872159e-09, 2.80096710e-11,\n",
       "        2.08017631e-11, 4.69697198e-13, 5.97293372e-04, 4.01933175e-05,\n",
       "        5.03339814e-10, 2.99598812e-09, 2.28947897e-06, 6.98410676e-13,\n",
       "        1.83715165e-04, 2.49303480e-06, 1.74348602e-09, 9.97274458e-01,\n",
       "        3.94084410e-08, 4.82350748e-12, 1.35545600e-12, 6.54452670e-09,\n",
       "        1.51610196e-17, 4.07095300e-08, 8.71429394e-04, 3.03528896e-10,\n",
       "        3.28652305e-09, 1.50781298e-05, 2.37513426e-10, 5.86231609e-16,\n",
       "        2.59059332e-12, 1.29715184e-32]], dtype=float32)"
      ]
     },
     "execution_count": 262,
     "metadata": {},
     "output_type": "execute_result"
    }
   ],
   "source": [
    "lmodel.predict(dat)"
   ]
  },
  {
   "cell_type": "code",
   "execution_count": null,
   "metadata": {},
   "outputs": [],
   "source": []
  },
  {
   "cell_type": "code",
   "execution_count": null,
   "metadata": {},
   "outputs": [],
   "source": []
  },
  {
   "cell_type": "code",
   "execution_count": null,
   "metadata": {},
   "outputs": [],
   "source": []
  },
  {
   "cell_type": "code",
   "execution_count": null,
   "metadata": {},
   "outputs": [],
   "source": []
  },
  {
   "cell_type": "code",
   "execution_count": null,
   "metadata": {},
   "outputs": [],
   "source": []
  }
 ],
 "metadata": {
  "kernelspec": {
   "display_name": "Python 3",
   "language": "python",
   "name": "python3"
  },
  "language_info": {
   "codemirror_mode": {
    "name": "ipython",
    "version": 3
   },
   "file_extension": ".py",
   "mimetype": "text/x-python",
   "name": "python",
   "nbconvert_exporter": "python",
   "pygments_lexer": "ipython3",
   "version": "3.6.8"
  }
 },
 "nbformat": 4,
 "nbformat_minor": 2
}
