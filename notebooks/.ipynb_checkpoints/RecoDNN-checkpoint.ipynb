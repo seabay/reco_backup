{
 "cells": [
  {
   "cell_type": "code",
   "execution_count": 1,
   "metadata": {},
   "outputs": [
    {
     "name": "stderr",
     "output_type": "stream",
     "text": [
      "Using TensorFlow backend.\n"
     ]
    }
   ],
   "source": [
    "import numpy as np\n",
    "import keras\n",
    "import tensorflow as tf\n",
    "from keras import backend as K\n",
    "from extra_keras_metrics import average_precision_at_k\n",
    "from IPython.display import SVG\n",
    "from keras.utils.vis_utils import plot_model\n",
    "import pydot as pyd\n",
    "from keras.utils.vis_utils import model_to_dot\n",
    "from keras.layers import Input, Dense, Embedding, Lambda, Reshape, Flatten, Average\n",
    "from keras.models import Model\n",
    "from keras.backend import mean, max\n",
    "from keras.preprocessing.sequence import pad_sequences\n",
    "\n",
    "keras.utils.vis_utils.pydot = pyd"
   ]
  },
  {
   "cell_type": "code",
   "execution_count": 2,
   "metadata": {},
   "outputs": [
    {
     "data": {
      "text/plain": [
       "'1.13.1'"
      ]
     },
     "execution_count": 2,
     "metadata": {},
     "output_type": "execute_result"
    }
   ],
   "source": [
    "tf.__version__"
   ]
  },
  {
   "cell_type": "code",
   "execution_count": 3,
   "metadata": {},
   "outputs": [],
   "source": [
    "max_history = 50\n",
    "category_size = 100"
   ]
  },
  {
   "cell_type": "code",
   "execution_count": 4,
   "metadata": {},
   "outputs": [],
   "source": [
    "hidden_layer1_size = 256\n",
    "hidden_layer2_size = 128\n",
    "hidden_layer3_size = 64\n",
    "\n",
    "input_embedding_size = 64"
   ]
  },
  {
   "cell_type": "code",
   "execution_count": 5,
   "metadata": {},
   "outputs": [],
   "source": [
    "purchase_cols = [x for x in range(max_history)]\n",
    "product_click_cols = [x for x in range(max_history, max_history*2)]\n",
    "promotion_click_cols = [x for x in range(max_history*2, max_history*3)]\n",
    "seq_category_cols = [purchase_cols, product_click_cols, promotion_click_cols]\n",
    "\n",
    "\n",
    "numeric_cols = [x for x in range(max_history*3, max_history*3 + 10)]\n",
    "single_category_cols = {105:3,106:5,107:10}   ## such as location : unique_value_size"
   ]
  },
  {
   "cell_type": "code",
   "execution_count": 6,
   "metadata": {},
   "outputs": [],
   "source": [
    "category_embeddings = Embedding(output_dim=input_embedding_size, input_dim = category_size, \n",
    "                       input_length=max_history, mask_zero=True, name='category_embeddings')"
   ]
  },
  {
   "cell_type": "code",
   "execution_count": 35,
   "metadata": {},
   "outputs": [],
   "source": [
    "def seq_categorical_input(name):\n",
    "    \n",
    "    seq = Input(shape=(max_history,), dtype='int32', name=name)\n",
    "    input_embeddings = category_embeddings(seq)\n",
    "    avg = Lambda(lambda x: mean(x, axis=1), name= name + '_avg_embedding')\n",
    "    avg_embedding = avg(input_embeddings)\n",
    "    \n",
    "    maxf = Lambda(lambda x: max(x, axis=1), name = name + '_max_embedding')\n",
    "    max_embedding = maxf(input_embeddings)\n",
    "    \n",
    "    return seq, avg_embedding   #keras.layers.add([avg_embedding, max_embedding])"
   ]
  },
  {
   "cell_type": "code",
   "execution_count": 29,
   "metadata": {},
   "outputs": [],
   "source": [
    "def singe_categorical_input(name, unique_size):\n",
    "    single = Input(shape=(1,), dtype='int32', name=name)\n",
    "    embeddings = Embedding(output_dim=input_embedding_size, input_dim = unique_size, \n",
    "                       input_length=1, name=name + '_embedding')(single)\n",
    "    embeddings = Flatten(name = 'flatten_' + name)(embeddings)\n",
    "    return single, embeddings"
   ]
  },
  {
   "cell_type": "code",
   "execution_count": 9,
   "metadata": {},
   "outputs": [],
   "source": [
    "def continous_inputs(size=None, name='numeric'):\n",
    "    inp = Input(shape=(size,), dtype='float32', name=name)\n",
    "    return inp, inp"
   ]
  },
  {
   "cell_type": "code",
   "execution_count": 40,
   "metadata": {},
   "outputs": [],
   "source": [
    "def RecoDNN():\n",
    "\n",
    "    seqs = []\n",
    "    for i, grp in enumerate(seq_category_cols):\n",
    "        seqs.append(seq_categorical_input('categorical_' + str(i)))\n",
    "        \n",
    "    singles = []\n",
    "    for col in single_category_cols:\n",
    "        singles.append(singe_categorical_input(str(col), single_category_cols[col]))\n",
    "\n",
    "    nums = continous_inputs(len(numeric_cols))\n",
    "    \n",
    "    inp_layer =  [s[0] for s in seqs]\n",
    "    inp_layer += [s[0] for s in singles]\n",
    "    inp_layer.append(nums[0])\n",
    "    inp_embed = [s[1] for s in seqs]\n",
    "    inp_embed += [s[1] for s in singles]\n",
    "    inp_embed.append(nums[1])\n",
    "    \n",
    "    v = Dense(hidden_layer1_size, activation='relu')(keras.layers.concatenate(inp_embed)) \n",
    "    v = Dense(hidden_layer2_size, activation='relu')(v)\n",
    "    v = Dense(hidden_layer3_size, activation='relu', name='user_embedding')(v)\n",
    "    output = Dense(category_size, activation='softmax', name='softmax_layer')(v)\n",
    "    model = Model(inputs=inp_layer, outputs=[output])\n",
    "    \n",
    "    return model"
   ]
  },
  {
   "cell_type": "code",
   "execution_count": null,
   "metadata": {},
   "outputs": [],
   "source": []
  },
  {
   "cell_type": "markdown",
   "metadata": {},
   "source": [
    "# Fake data"
   ]
  },
  {
   "cell_type": "code",
   "execution_count": 11,
   "metadata": {},
   "outputs": [],
   "source": [
    "data_size = 10000"
   ]
  },
  {
   "cell_type": "code",
   "execution_count": 12,
   "metadata": {},
   "outputs": [],
   "source": [
    "\n",
    "data1 = np.random.randint(category_size, size=(data_size, max_history))\n",
    "data2 = np.random.randint(category_size, size=(data_size, max_history))\n",
    "data3 = np.random.randint(category_size, size=(data_size, max_history))\n",
    "\n",
    "single1 = np.random.randint(3, size=(data_size, 1))\n",
    "single2 = np.random.randint(5, size=(data_size, 1))\n",
    "single3 = np.random.randint(10, size=(data_size, 1))\n",
    "num1 = np.random.random(size=(data_size, len(numeric_cols)))\n",
    "\n",
    "labels = np.random.randint(category_size, size=(data_size, 1))\n",
    "one_hot_labels = keras.utils.to_categorical(labels, num_classes=category_size)"
   ]
  },
  {
   "cell_type": "markdown",
   "metadata": {},
   "source": [
    "* raw features extraction and integration\n",
    "* sample and build raw training set\n",
    "* feature creation, transformation and normalization"
   ]
  },
  {
   "cell_type": "markdown",
   "metadata": {},
   "source": [
    "# Train model"
   ]
  },
  {
   "cell_type": "code",
   "execution_count": 41,
   "metadata": {},
   "outputs": [],
   "source": [
    "model = RecoDNN()"
   ]
  },
  {
   "cell_type": "code",
   "execution_count": 42,
   "metadata": {},
   "outputs": [
    {
     "name": "stdout",
     "output_type": "stream",
     "text": [
      "__________________________________________________________________________________________________\n",
      "Layer (type)                    Output Shape         Param #     Connected to                     \n",
      "==================================================================================================\n",
      "categorical_0 (InputLayer)      (None, 50)           0                                            \n",
      "__________________________________________________________________________________________________\n",
      "categorical_1 (InputLayer)      (None, 50)           0                                            \n",
      "__________________________________________________________________________________________________\n",
      "categorical_2 (InputLayer)      (None, 50)           0                                            \n",
      "__________________________________________________________________________________________________\n",
      "105 (InputLayer)                (None, 1)            0                                            \n",
      "__________________________________________________________________________________________________\n",
      "106 (InputLayer)                (None, 1)            0                                            \n",
      "__________________________________________________________________________________________________\n",
      "107 (InputLayer)                (None, 1)            0                                            \n",
      "__________________________________________________________________________________________________\n",
      "category_embeddings (Embedding) (None, 50, 64)       6400        categorical_0[0][0]              \n",
      "                                                                 categorical_1[0][0]              \n",
      "                                                                 categorical_2[0][0]              \n",
      "__________________________________________________________________________________________________\n",
      "105_embedding (Embedding)       (None, 1, 64)        192         105[0][0]                        \n",
      "__________________________________________________________________________________________________\n",
      "106_embedding (Embedding)       (None, 1, 64)        320         106[0][0]                        \n",
      "__________________________________________________________________________________________________\n",
      "107_embedding (Embedding)       (None, 1, 64)        640         107[0][0]                        \n",
      "__________________________________________________________________________________________________\n",
      "categorical_0_avg_embedding (La (None, 64)           0           category_embeddings[9][0]        \n",
      "__________________________________________________________________________________________________\n",
      "categorical_1_avg_embedding (La (None, 64)           0           category_embeddings[10][0]       \n",
      "__________________________________________________________________________________________________\n",
      "categorical_2_avg_embedding (La (None, 64)           0           category_embeddings[11][0]       \n",
      "__________________________________________________________________________________________________\n",
      "flatten_105 (Flatten)           (None, 64)           0           105_embedding[0][0]              \n",
      "__________________________________________________________________________________________________\n",
      "flatten_106 (Flatten)           (None, 64)           0           106_embedding[0][0]              \n",
      "__________________________________________________________________________________________________\n",
      "flatten_107 (Flatten)           (None, 64)           0           107_embedding[0][0]              \n",
      "__________________________________________________________________________________________________\n",
      "numeric (InputLayer)            (None, 10)           0                                            \n",
      "__________________________________________________________________________________________________\n",
      "concatenate_4 (Concatenate)     (None, 394)          0           categorical_0_avg_embedding[0][0]\n",
      "                                                                 categorical_1_avg_embedding[0][0]\n",
      "                                                                 categorical_2_avg_embedding[0][0]\n",
      "                                                                 flatten_105[0][0]                \n",
      "                                                                 flatten_106[0][0]                \n",
      "                                                                 flatten_107[0][0]                \n",
      "                                                                 numeric[0][0]                    \n",
      "__________________________________________________________________________________________________\n",
      "dense_10 (Dense)                (None, 256)          101120      concatenate_4[0][0]              \n",
      "__________________________________________________________________________________________________\n",
      "dense_11 (Dense)                (None, 128)          32896       dense_10[0][0]                   \n",
      "__________________________________________________________________________________________________\n",
      "user_embedding (Dense)          (None, 64)           8256        dense_11[0][0]                   \n",
      "__________________________________________________________________________________________________\n",
      "softmax_layer (Dense)           (None, 100)          6500        user_embedding[0][0]             \n",
      "==================================================================================================\n",
      "Total params: 156,324\n",
      "Trainable params: 156,324\n",
      "Non-trainable params: 0\n",
      "__________________________________________________________________________________________________\n"
     ]
    }
   ],
   "source": [
    "model.summary()"
   ]
  },
  {
   "cell_type": "code",
   "execution_count": 43,
   "metadata": {},
   "outputs": [],
   "source": [
    "plot_model(model, to_file='model.png', show_shapes=True, show_layer_names=True)"
   ]
  },
  {
   "cell_type": "code",
   "execution_count": 44,
   "metadata": {},
   "outputs": [
    {
     "data": {
      "image/svg+xml": [
       "<svg height=\"556pt\" viewBox=\"0.00 0.00 1345.27 556.00\" width=\"1345pt\" xmlns=\"http://www.w3.org/2000/svg\" xmlns:xlink=\"http://www.w3.org/1999/xlink\">\n",
       "<g class=\"graph\" id=\"graph0\" transform=\"scale(1 1) rotate(0) translate(4 552)\">\n",
       "<title>G</title>\n",
       "<polygon fill=\"#ffffff\" points=\"-4,4 -4,-552 1341.2661,-552 1341.2661,4 -4,4\" stroke=\"transparent\"/>\n",
       "<!-- 5129351120 -->\n",
       "<g class=\"node\" id=\"node1\">\n",
       "<title>5129351120</title>\n",
       "<polygon fill=\"none\" points=\"120.0483,-511.5 120.0483,-547.5 281.0317,-547.5 281.0317,-511.5 120.0483,-511.5\" stroke=\"#000000\"/>\n",
       "<text fill=\"#000000\" font-family=\"Times,serif\" font-size=\"14.00\" text-anchor=\"middle\" x=\"200.54\" y=\"-525.3\">categorical_0: InputLayer</text>\n",
       "</g>\n",
       "<!-- 5073248040 -->\n",
       "<g class=\"node\" id=\"node7\">\n",
       "<title>5073248040</title>\n",
       "<polygon fill=\"none\" points=\"274.1484,-438.5 274.1484,-474.5 484.9316,-474.5 484.9316,-438.5 274.1484,-438.5\" stroke=\"#000000\"/>\n",
       "<text fill=\"#000000\" font-family=\"Times,serif\" font-size=\"14.00\" text-anchor=\"middle\" x=\"379.54\" y=\"-452.3\">category_embeddings: Embedding</text>\n",
       "</g>\n",
       "<!-- 5129351120&#45;&gt;5073248040 -->\n",
       "<g class=\"edge\" id=\"edge1\">\n",
       "<title>5129351120-&gt;5073248040</title>\n",
       "<path d=\"M244.7872,-511.4551C269.314,-501.4525 299.9937,-488.9407 325.8811,-478.3833\" fill=\"none\" stroke=\"#000000\"/>\n",
       "<polygon fill=\"#000000\" points=\"327.2436,-481.6075 335.1815,-474.5904 324.6002,-475.1258 327.2436,-481.6075\" stroke=\"#000000\"/>\n",
       "</g>\n",
       "<!-- 5129349440 -->\n",
       "<g class=\"node\" id=\"node2\">\n",
       "<title>5129349440</title>\n",
       "<polygon fill=\"none\" points=\"299.0483,-511.5 299.0483,-547.5 460.0317,-547.5 460.0317,-511.5 299.0483,-511.5\" stroke=\"#000000\"/>\n",
       "<text fill=\"#000000\" font-family=\"Times,serif\" font-size=\"14.00\" text-anchor=\"middle\" x=\"379.54\" y=\"-525.3\">categorical_1: InputLayer</text>\n",
       "</g>\n",
       "<!-- 5129349440&#45;&gt;5073248040 -->\n",
       "<g class=\"edge\" id=\"edge2\">\n",
       "<title>5129349440-&gt;5073248040</title>\n",
       "<path d=\"M379.54,-511.4551C379.54,-503.3828 379.54,-493.6764 379.54,-484.6817\" fill=\"none\" stroke=\"#000000\"/>\n",
       "<polygon fill=\"#000000\" points=\"383.0401,-484.5903 379.54,-474.5904 376.0401,-484.5904 383.0401,-484.5903\" stroke=\"#000000\"/>\n",
       "</g>\n",
       "<!-- 5129290640 -->\n",
       "<g class=\"node\" id=\"node3\">\n",
       "<title>5129290640</title>\n",
       "<polygon fill=\"none\" points=\"478.0483,-511.5 478.0483,-547.5 639.0317,-547.5 639.0317,-511.5 478.0483,-511.5\" stroke=\"#000000\"/>\n",
       "<text fill=\"#000000\" font-family=\"Times,serif\" font-size=\"14.00\" text-anchor=\"middle\" x=\"558.54\" y=\"-525.3\">categorical_2: InputLayer</text>\n",
       "</g>\n",
       "<!-- 5129290640&#45;&gt;5073248040 -->\n",
       "<g class=\"edge\" id=\"edge3\">\n",
       "<title>5129290640-&gt;5073248040</title>\n",
       "<path d=\"M514.2928,-511.4551C489.7661,-501.4525 459.0864,-488.9407 433.199,-478.3833\" fill=\"none\" stroke=\"#000000\"/>\n",
       "<polygon fill=\"#000000\" points=\"434.4799,-475.1258 423.8986,-474.5904 431.8365,-481.6075 434.4799,-475.1258\" stroke=\"#000000\"/>\n",
       "</g>\n",
       "<!-- 5129321160 -->\n",
       "<g class=\"node\" id=\"node4\">\n",
       "<title>5129321160</title>\n",
       "<polygon fill=\"none\" points=\"733.2485,-511.5 733.2485,-547.5 839.8315,-547.5 839.8315,-511.5 733.2485,-511.5\" stroke=\"#000000\"/>\n",
       "<text fill=\"#000000\" font-family=\"Times,serif\" font-size=\"14.00\" text-anchor=\"middle\" x=\"786.54\" y=\"-525.3\">105: InputLayer</text>\n",
       "</g>\n",
       "<!-- 5129331488 -->\n",
       "<g class=\"node\" id=\"node8\">\n",
       "<title>5129331488</title>\n",
       "<polygon fill=\"none\" points=\"697.4692,-438.5 697.4692,-474.5 875.6108,-474.5 875.6108,-438.5 697.4692,-438.5\" stroke=\"#000000\"/>\n",
       "<text fill=\"#000000\" font-family=\"Times,serif\" font-size=\"14.00\" text-anchor=\"middle\" x=\"786.54\" y=\"-452.3\">105_embedding: Embedding</text>\n",
       "</g>\n",
       "<!-- 5129321160&#45;&gt;5129331488 -->\n",
       "<g class=\"edge\" id=\"edge4\">\n",
       "<title>5129321160-&gt;5129331488</title>\n",
       "<path d=\"M786.54,-511.4551C786.54,-503.3828 786.54,-493.6764 786.54,-484.6817\" fill=\"none\" stroke=\"#000000\"/>\n",
       "<polygon fill=\"#000000\" points=\"790.0401,-484.5903 786.54,-474.5904 783.0401,-484.5904 790.0401,-484.5903\" stroke=\"#000000\"/>\n",
       "</g>\n",
       "<!-- 5128457352 -->\n",
       "<g class=\"node\" id=\"node5\">\n",
       "<title>5128457352</title>\n",
       "<polygon fill=\"none\" points=\"929.2485,-511.5 929.2485,-547.5 1035.8315,-547.5 1035.8315,-511.5 929.2485,-511.5\" stroke=\"#000000\"/>\n",
       "<text fill=\"#000000\" font-family=\"Times,serif\" font-size=\"14.00\" text-anchor=\"middle\" x=\"982.54\" y=\"-525.3\">106: InputLayer</text>\n",
       "</g>\n",
       "<!-- 5128456680 -->\n",
       "<g class=\"node\" id=\"node9\">\n",
       "<title>5128456680</title>\n",
       "<polygon fill=\"none\" points=\"893.4692,-438.5 893.4692,-474.5 1071.6108,-474.5 1071.6108,-438.5 893.4692,-438.5\" stroke=\"#000000\"/>\n",
       "<text fill=\"#000000\" font-family=\"Times,serif\" font-size=\"14.00\" text-anchor=\"middle\" x=\"982.54\" y=\"-452.3\">106_embedding: Embedding</text>\n",
       "</g>\n",
       "<!-- 5128457352&#45;&gt;5128456680 -->\n",
       "<g class=\"edge\" id=\"edge5\">\n",
       "<title>5128457352-&gt;5128456680</title>\n",
       "<path d=\"M982.54,-511.4551C982.54,-503.3828 982.54,-493.6764 982.54,-484.6817\" fill=\"none\" stroke=\"#000000\"/>\n",
       "<polygon fill=\"#000000\" points=\"986.0401,-484.5903 982.54,-474.5904 979.0401,-484.5904 986.0401,-484.5903\" stroke=\"#000000\"/>\n",
       "</g>\n",
       "<!-- 5128418920 -->\n",
       "<g class=\"node\" id=\"node6\">\n",
       "<title>5128418920</title>\n",
       "<polygon fill=\"none\" points=\"1125.2485,-511.5 1125.2485,-547.5 1231.8315,-547.5 1231.8315,-511.5 1125.2485,-511.5\" stroke=\"#000000\"/>\n",
       "<text fill=\"#000000\" font-family=\"Times,serif\" font-size=\"14.00\" text-anchor=\"middle\" x=\"1178.54\" y=\"-525.3\">107: InputLayer</text>\n",
       "</g>\n",
       "<!-- 5128417632 -->\n",
       "<g class=\"node\" id=\"node10\">\n",
       "<title>5128417632</title>\n",
       "<polygon fill=\"none\" points=\"1089.4692,-438.5 1089.4692,-474.5 1267.6108,-474.5 1267.6108,-438.5 1089.4692,-438.5\" stroke=\"#000000\"/>\n",
       "<text fill=\"#000000\" font-family=\"Times,serif\" font-size=\"14.00\" text-anchor=\"middle\" x=\"1178.54\" y=\"-452.3\">107_embedding: Embedding</text>\n",
       "</g>\n",
       "<!-- 5128418920&#45;&gt;5128417632 -->\n",
       "<g class=\"edge\" id=\"edge6\">\n",
       "<title>5128418920-&gt;5128417632</title>\n",
       "<path d=\"M1178.54,-511.4551C1178.54,-503.3828 1178.54,-493.6764 1178.54,-484.6817\" fill=\"none\" stroke=\"#000000\"/>\n",
       "<polygon fill=\"#000000\" points=\"1182.0401,-484.5903 1178.54,-474.5904 1175.0401,-484.5904 1182.0401,-484.5903\" stroke=\"#000000\"/>\n",
       "</g>\n",
       "<!-- 5129350224 -->\n",
       "<g class=\"node\" id=\"node11\">\n",
       "<title>5129350224</title>\n",
       "<polygon fill=\"none\" points=\"0,-365.5 0,-401.5 241.0801,-401.5 241.0801,-365.5 0,-365.5\" stroke=\"#000000\"/>\n",
       "<text fill=\"#000000\" font-family=\"Times,serif\" font-size=\"14.00\" text-anchor=\"middle\" x=\"120.54\" y=\"-379.3\">categorical_0_avg_embedding: Lambda</text>\n",
       "</g>\n",
       "<!-- 5073248040&#45;&gt;5129350224 -->\n",
       "<g class=\"edge\" id=\"edge7\">\n",
       "<title>5073248040-&gt;5129350224</title>\n",
       "<path d=\"M315.5176,-438.4551C278.9396,-428.1454 232.9037,-415.1701 194.7507,-404.4165\" fill=\"none\" stroke=\"#000000\"/>\n",
       "<polygon fill=\"#000000\" points=\"195.2982,-400.9345 184.7236,-401.5904 193.3991,-407.672 195.2982,-400.9345\" stroke=\"#000000\"/>\n",
       "</g>\n",
       "<!-- 5129348712 -->\n",
       "<g class=\"node\" id=\"node12\">\n",
       "<title>5129348712</title>\n",
       "<polygon fill=\"none\" points=\"259,-365.5 259,-401.5 500.0801,-401.5 500.0801,-365.5 259,-365.5\" stroke=\"#000000\"/>\n",
       "<text fill=\"#000000\" font-family=\"Times,serif\" font-size=\"14.00\" text-anchor=\"middle\" x=\"379.54\" y=\"-379.3\">categorical_1_avg_embedding: Lambda</text>\n",
       "</g>\n",
       "<!-- 5073248040&#45;&gt;5129348712 -->\n",
       "<g class=\"edge\" id=\"edge8\">\n",
       "<title>5073248040-&gt;5129348712</title>\n",
       "<path d=\"M379.54,-438.4551C379.54,-430.3828 379.54,-420.6764 379.54,-411.6817\" fill=\"none\" stroke=\"#000000\"/>\n",
       "<polygon fill=\"#000000\" points=\"383.0401,-411.5903 379.54,-401.5904 376.0401,-411.5904 383.0401,-411.5903\" stroke=\"#000000\"/>\n",
       "</g>\n",
       "<!-- 5129293720 -->\n",
       "<g class=\"node\" id=\"node13\">\n",
       "<title>5129293720</title>\n",
       "<polygon fill=\"none\" points=\"518,-365.5 518,-401.5 759.0801,-401.5 759.0801,-365.5 518,-365.5\" stroke=\"#000000\"/>\n",
       "<text fill=\"#000000\" font-family=\"Times,serif\" font-size=\"14.00\" text-anchor=\"middle\" x=\"638.54\" y=\"-379.3\">categorical_2_avg_embedding: Lambda</text>\n",
       "</g>\n",
       "<!-- 5073248040&#45;&gt;5129293720 -->\n",
       "<g class=\"edge\" id=\"edge9\">\n",
       "<title>5073248040-&gt;5129293720</title>\n",
       "<path d=\"M443.5625,-438.4551C480.1405,-428.1454 526.1764,-415.1701 564.3294,-404.4165\" fill=\"none\" stroke=\"#000000\"/>\n",
       "<polygon fill=\"#000000\" points=\"565.681,-407.672 574.3564,-401.5904 563.7819,-400.9345 565.681,-407.672\" stroke=\"#000000\"/>\n",
       "</g>\n",
       "<!-- 5129291816 -->\n",
       "<g class=\"node\" id=\"node14\">\n",
       "<title>5129291816</title>\n",
       "<polygon fill=\"none\" points=\"776.9072,-365.5 776.9072,-401.5 902.1729,-401.5 902.1729,-365.5 776.9072,-365.5\" stroke=\"#000000\"/>\n",
       "<text fill=\"#000000\" font-family=\"Times,serif\" font-size=\"14.00\" text-anchor=\"middle\" x=\"839.54\" y=\"-379.3\">flatten_105: Flatten</text>\n",
       "</g>\n",
       "<!-- 5129331488&#45;&gt;5129291816 -->\n",
       "<g class=\"edge\" id=\"edge10\">\n",
       "<title>5129331488-&gt;5129291816</title>\n",
       "<path d=\"M799.6412,-438.4551C805.884,-429.8564 813.4732,-419.4034 820.3499,-409.9316\" fill=\"none\" stroke=\"#000000\"/>\n",
       "<polygon fill=\"#000000\" points=\"823.363,-411.7388 826.4059,-401.5904 817.6985,-407.6262 823.363,-411.7388\" stroke=\"#000000\"/>\n",
       "</g>\n",
       "<!-- 5129332160 -->\n",
       "<g class=\"node\" id=\"node15\">\n",
       "<title>5129332160</title>\n",
       "<polygon fill=\"none\" points=\"919.9072,-365.5 919.9072,-401.5 1045.1729,-401.5 1045.1729,-365.5 919.9072,-365.5\" stroke=\"#000000\"/>\n",
       "<text fill=\"#000000\" font-family=\"Times,serif\" font-size=\"14.00\" text-anchor=\"middle\" x=\"982.54\" y=\"-379.3\">flatten_106: Flatten</text>\n",
       "</g>\n",
       "<!-- 5128456680&#45;&gt;5129332160 -->\n",
       "<g class=\"edge\" id=\"edge11\">\n",
       "<title>5128456680-&gt;5129332160</title>\n",
       "<path d=\"M982.54,-438.4551C982.54,-430.3828 982.54,-420.6764 982.54,-411.6817\" fill=\"none\" stroke=\"#000000\"/>\n",
       "<polygon fill=\"#000000\" points=\"986.0401,-411.5903 982.54,-401.5904 979.0401,-411.5904 986.0401,-411.5903\" stroke=\"#000000\"/>\n",
       "</g>\n",
       "<!-- 5093307616 -->\n",
       "<g class=\"node\" id=\"node16\">\n",
       "<title>5093307616</title>\n",
       "<polygon fill=\"none\" points=\"1062.9072,-365.5 1062.9072,-401.5 1188.1729,-401.5 1188.1729,-365.5 1062.9072,-365.5\" stroke=\"#000000\"/>\n",
       "<text fill=\"#000000\" font-family=\"Times,serif\" font-size=\"14.00\" text-anchor=\"middle\" x=\"1125.54\" y=\"-379.3\">flatten_107: Flatten</text>\n",
       "</g>\n",
       "<!-- 5128417632&#45;&gt;5093307616 -->\n",
       "<g class=\"edge\" id=\"edge12\">\n",
       "<title>5128417632-&gt;5093307616</title>\n",
       "<path d=\"M1165.4389,-438.4551C1159.196,-429.8564 1151.6069,-419.4034 1144.7301,-409.9316\" fill=\"none\" stroke=\"#000000\"/>\n",
       "<polygon fill=\"#000000\" points=\"1147.3816,-407.6262 1138.6741,-401.5904 1141.717,-411.7388 1147.3816,-407.6262\" stroke=\"#000000\"/>\n",
       "</g>\n",
       "<!-- 5073146320 -->\n",
       "<g class=\"node\" id=\"node18\">\n",
       "<title>5073146320</title>\n",
       "<polygon fill=\"none\" points=\"753.2207,-292.5 753.2207,-328.5 925.8594,-328.5 925.8594,-292.5 753.2207,-292.5\" stroke=\"#000000\"/>\n",
       "<text fill=\"#000000\" font-family=\"Times,serif\" font-size=\"14.00\" text-anchor=\"middle\" x=\"839.54\" y=\"-306.3\">concatenate_4: Concatenate</text>\n",
       "</g>\n",
       "<!-- 5129350224&#45;&gt;5073146320 -->\n",
       "<g class=\"edge\" id=\"edge13\">\n",
       "<title>5129350224-&gt;5073146320</title>\n",
       "<path d=\"M241.3678,-365.9839C244.1167,-365.6462 246.8437,-365.3177 249.54,-365 423.0089,-344.5626 625.928,-327.2597 742.9124,-317.9246\" fill=\"none\" stroke=\"#000000\"/>\n",
       "<polygon fill=\"#000000\" points=\"743.2283,-321.4106 752.9193,-317.1288 742.6733,-314.4326 743.2283,-321.4106\" stroke=\"#000000\"/>\n",
       "</g>\n",
       "<!-- 5129348712&#45;&gt;5073146320 -->\n",
       "<g class=\"edge\" id=\"edge14\">\n",
       "<title>5129348712-&gt;5073146320</title>\n",
       "<path d=\"M493.2479,-365.4551C569.9866,-353.277 670.1634,-337.3793 743.017,-325.8178\" fill=\"none\" stroke=\"#000000\"/>\n",
       "<polygon fill=\"#000000\" points=\"743.7826,-329.2402 753.1104,-324.216 742.6854,-322.3267 743.7826,-329.2402\" stroke=\"#000000\"/>\n",
       "</g>\n",
       "<!-- 5129293720&#45;&gt;5073146320 -->\n",
       "<g class=\"edge\" id=\"edge15\">\n",
       "<title>5129293720-&gt;5073146320</title>\n",
       "<path d=\"M688.2254,-365.4551C716.0082,-355.3648 750.8219,-342.721 780.0499,-332.1059\" fill=\"none\" stroke=\"#000000\"/>\n",
       "<polygon fill=\"#000000\" points=\"781.5251,-335.2939 789.7296,-328.5904 779.1355,-328.7143 781.5251,-335.2939\" stroke=\"#000000\"/>\n",
       "</g>\n",
       "<!-- 5129291816&#45;&gt;5073146320 -->\n",
       "<g class=\"edge\" id=\"edge16\">\n",
       "<title>5129291816-&gt;5073146320</title>\n",
       "<path d=\"M839.54,-365.4551C839.54,-357.3828 839.54,-347.6764 839.54,-338.6817\" fill=\"none\" stroke=\"#000000\"/>\n",
       "<polygon fill=\"#000000\" points=\"843.0401,-338.5903 839.54,-328.5904 836.0401,-338.5904 843.0401,-338.5903\" stroke=\"#000000\"/>\n",
       "</g>\n",
       "<!-- 5129332160&#45;&gt;5073146320 -->\n",
       "<g class=\"edge\" id=\"edge17\">\n",
       "<title>5129332160-&gt;5073146320</title>\n",
       "<path d=\"M947.1917,-365.4551C928.1134,-355.7157 904.3748,-343.5975 884.0477,-333.2207\" fill=\"none\" stroke=\"#000000\"/>\n",
       "<polygon fill=\"#000000\" points=\"885.4753,-330.0198 874.9773,-328.5904 882.2925,-336.2544 885.4753,-330.0198\" stroke=\"#000000\"/>\n",
       "</g>\n",
       "<!-- 5093307616&#45;&gt;5073146320 -->\n",
       "<g class=\"edge\" id=\"edge18\">\n",
       "<title>5093307616-&gt;5073146320</title>\n",
       "<path d=\"M1062.826,-367.1349C1060.0262,-366.4119 1057.2542,-365.6976 1054.54,-365 1010.439,-353.665 961.2063,-341.1732 920.9924,-331.0118\" fill=\"none\" stroke=\"#000000\"/>\n",
       "<polygon fill=\"#000000\" points=\"921.7897,-327.6034 911.237,-328.5478 920.0754,-334.3902 921.7897,-327.6034\" stroke=\"#000000\"/>\n",
       "</g>\n",
       "<!-- 5093412144 -->\n",
       "<g class=\"node\" id=\"node17\">\n",
       "<title>5093412144</title>\n",
       "<polygon fill=\"none\" points=\"1205.814,-365.5 1205.814,-401.5 1337.2661,-401.5 1337.2661,-365.5 1205.814,-365.5\" stroke=\"#000000\"/>\n",
       "<text fill=\"#000000\" font-family=\"Times,serif\" font-size=\"14.00\" text-anchor=\"middle\" x=\"1271.54\" y=\"-379.3\">numeric: InputLayer</text>\n",
       "</g>\n",
       "<!-- 5093412144&#45;&gt;5073146320 -->\n",
       "<g class=\"edge\" id=\"edge19\">\n",
       "<title>5093412144-&gt;5073146320</title>\n",
       "<path d=\"M1205.445,-366.6496C1202.7795,-366.0736 1200.1368,-365.5211 1197.54,-365 1109.5276,-347.3397 1008.3244,-332.4253 936.0242,-322.6877\" fill=\"none\" stroke=\"#000000\"/>\n",
       "<polygon fill=\"#000000\" points=\"936.3946,-319.2061 926.0186,-321.3482 935.4657,-326.1442 936.3946,-319.2061\" stroke=\"#000000\"/>\n",
       "</g>\n",
       "<!-- 5093308736 -->\n",
       "<g class=\"node\" id=\"node19\">\n",
       "<title>5093308736</title>\n",
       "<polygon fill=\"none\" points=\"783.9141,-219.5 783.9141,-255.5 895.166,-255.5 895.166,-219.5 783.9141,-219.5\" stroke=\"#000000\"/>\n",
       "<text fill=\"#000000\" font-family=\"Times,serif\" font-size=\"14.00\" text-anchor=\"middle\" x=\"839.54\" y=\"-233.3\">dense_10: Dense</text>\n",
       "</g>\n",
       "<!-- 5073146320&#45;&gt;5093308736 -->\n",
       "<g class=\"edge\" id=\"edge20\">\n",
       "<title>5073146320-&gt;5093308736</title>\n",
       "<path d=\"M839.54,-292.4551C839.54,-284.3828 839.54,-274.6764 839.54,-265.6817\" fill=\"none\" stroke=\"#000000\"/>\n",
       "<polygon fill=\"#000000\" points=\"843.0401,-265.5903 839.54,-255.5904 836.0401,-265.5904 843.0401,-265.5903\" stroke=\"#000000\"/>\n",
       "</g>\n",
       "<!-- 5093633384 -->\n",
       "<g class=\"node\" id=\"node20\">\n",
       "<title>5093633384</title>\n",
       "<polygon fill=\"none\" points=\"784.1704,-146.5 784.1704,-182.5 894.9097,-182.5 894.9097,-146.5 784.1704,-146.5\" stroke=\"#000000\"/>\n",
       "<text fill=\"#000000\" font-family=\"Times,serif\" font-size=\"14.00\" text-anchor=\"middle\" x=\"839.54\" y=\"-160.3\">dense_11: Dense</text>\n",
       "</g>\n",
       "<!-- 5093308736&#45;&gt;5093633384 -->\n",
       "<g class=\"edge\" id=\"edge21\">\n",
       "<title>5093308736-&gt;5093633384</title>\n",
       "<path d=\"M839.54,-219.4551C839.54,-211.3828 839.54,-201.6764 839.54,-192.6817\" fill=\"none\" stroke=\"#000000\"/>\n",
       "<polygon fill=\"#000000\" points=\"843.0401,-192.5903 839.54,-182.5904 836.0401,-192.5904 843.0401,-192.5903\" stroke=\"#000000\"/>\n",
       "</g>\n",
       "<!-- 5129423336 -->\n",
       "<g class=\"node\" id=\"node21\">\n",
       "<title>5129423336</title>\n",
       "<polygon fill=\"none\" points=\"764.0864,-73.5 764.0864,-109.5 914.9937,-109.5 914.9937,-73.5 764.0864,-73.5\" stroke=\"#000000\"/>\n",
       "<text fill=\"#000000\" font-family=\"Times,serif\" font-size=\"14.00\" text-anchor=\"middle\" x=\"839.54\" y=\"-87.3\">user_embedding: Dense</text>\n",
       "</g>\n",
       "<!-- 5093633384&#45;&gt;5129423336 -->\n",
       "<g class=\"edge\" id=\"edge22\">\n",
       "<title>5093633384-&gt;5129423336</title>\n",
       "<path d=\"M839.54,-146.4551C839.54,-138.3828 839.54,-128.6764 839.54,-119.6817\" fill=\"none\" stroke=\"#000000\"/>\n",
       "<polygon fill=\"#000000\" points=\"843.0401,-119.5903 839.54,-109.5904 836.0401,-119.5904 843.0401,-119.5903\" stroke=\"#000000\"/>\n",
       "</g>\n",
       "<!-- 5129465136 -->\n",
       "<g class=\"node\" id=\"node22\">\n",
       "<title>5129465136</title>\n",
       "<polygon fill=\"none\" points=\"770.3105,-.5 770.3105,-36.5 908.7695,-36.5 908.7695,-.5 770.3105,-.5\" stroke=\"#000000\"/>\n",
       "<text fill=\"#000000\" font-family=\"Times,serif\" font-size=\"14.00\" text-anchor=\"middle\" x=\"839.54\" y=\"-14.3\">softmax_layer: Dense</text>\n",
       "</g>\n",
       "<!-- 5129423336&#45;&gt;5129465136 -->\n",
       "<g class=\"edge\" id=\"edge23\">\n",
       "<title>5129423336-&gt;5129465136</title>\n",
       "<path d=\"M839.54,-73.4551C839.54,-65.3828 839.54,-55.6764 839.54,-46.6817\" fill=\"none\" stroke=\"#000000\"/>\n",
       "<polygon fill=\"#000000\" points=\"843.0401,-46.5903 839.54,-36.5904 836.0401,-46.5904 843.0401,-46.5903\" stroke=\"#000000\"/>\n",
       "</g>\n",
       "</g>\n",
       "</svg>"
      ],
      "text/plain": [
       "<IPython.core.display.SVG object>"
      ]
     },
     "execution_count": 44,
     "metadata": {},
     "output_type": "execute_result"
    }
   ],
   "source": [
    "SVG(model_to_dot(model).create(prog='dot', format='svg'))"
   ]
  },
  {
   "cell_type": "code",
   "execution_count": 45,
   "metadata": {},
   "outputs": [],
   "source": [
    "model.compile(loss='categorical_crossentropy',\n",
    "                       optimizer='adam',\n",
    "                       metrics=['accuracy'])"
   ]
  },
  {
   "cell_type": "code",
   "execution_count": 46,
   "metadata": {},
   "outputs": [
    {
     "name": "stdout",
     "output_type": "stream",
     "text": [
      "Epoch 1/70\n",
      "10000/10000 [==============================] - 1s 135us/step - loss: 4.6068 - acc: 0.0097\n",
      "Epoch 2/70\n",
      "10000/10000 [==============================] - 1s 82us/step - loss: 4.5983 - acc: 0.0124\n",
      "Epoch 3/70\n",
      "10000/10000 [==============================] - 1s 84us/step - loss: 4.5732 - acc: 0.0192\n",
      "Epoch 4/70\n",
      "10000/10000 [==============================] - 1s 84us/step - loss: 4.5123 - acc: 0.0257\n",
      "Epoch 5/70\n",
      "10000/10000 [==============================] - 1s 83us/step - loss: 4.4048 - acc: 0.0404\n",
      "Epoch 6/70\n",
      "10000/10000 [==============================] - 1s 83us/step - loss: 4.2481 - acc: 0.0588\n",
      "Epoch 7/70\n",
      "10000/10000 [==============================] - 1s 84us/step - loss: 4.0513 - acc: 0.0875\n",
      "Epoch 8/70\n",
      "10000/10000 [==============================] - 1s 84us/step - loss: 3.8228 - acc: 0.1215\n",
      "Epoch 9/70\n",
      "10000/10000 [==============================] - 1s 83us/step - loss: 3.5574 - acc: 0.1618\n",
      "Epoch 10/70\n",
      "10000/10000 [==============================] - 1s 99us/step - loss: 3.2836 - acc: 0.2106\n",
      "Epoch 11/70\n",
      "10000/10000 [==============================] - 1s 88us/step - loss: 3.0078 - acc: 0.2627\n",
      "Epoch 12/70\n",
      "10000/10000 [==============================] - 1s 86us/step - loss: 2.7319 - acc: 0.3184\n",
      "Epoch 13/70\n",
      "10000/10000 [==============================] - 1s 86us/step - loss: 2.4700 - acc: 0.3718\n",
      "Epoch 14/70\n",
      "10000/10000 [==============================] - 1s 85us/step - loss: 2.2220 - acc: 0.4324\n",
      "Epoch 15/70\n",
      "10000/10000 [==============================] - 1s 94us/step - loss: 1.9712 - acc: 0.4849\n",
      "Epoch 16/70\n",
      "10000/10000 [==============================] - 1s 86us/step - loss: 1.7537 - acc: 0.5416\n",
      "Epoch 17/70\n",
      "10000/10000 [==============================] - 1s 81us/step - loss: 1.5424 - acc: 0.5971\n",
      "Epoch 18/70\n",
      "10000/10000 [==============================] - 1s 81us/step - loss: 1.3429 - acc: 0.6501\n",
      "Epoch 19/70\n",
      "10000/10000 [==============================] - 1s 84us/step - loss: 1.1574 - acc: 0.6988\n",
      "Epoch 20/70\n",
      "10000/10000 [==============================] - 1s 86us/step - loss: 0.9737 - acc: 0.7473\n",
      "Epoch 21/70\n",
      "10000/10000 [==============================] - 1s 86us/step - loss: 0.8226 - acc: 0.7943\n",
      "Epoch 22/70\n",
      "10000/10000 [==============================] - 1s 89us/step - loss: 0.6933 - acc: 0.8333\n",
      "Epoch 23/70\n",
      "10000/10000 [==============================] - 1s 84us/step - loss: 0.5700 - acc: 0.8707\n",
      "Epoch 24/70\n",
      "10000/10000 [==============================] - 1s 85us/step - loss: 0.4605 - acc: 0.8976\n",
      "Epoch 25/70\n",
      "10000/10000 [==============================] - 1s 82us/step - loss: 0.3678 - acc: 0.9283\n",
      "Epoch 26/70\n",
      "10000/10000 [==============================] - 1s 81us/step - loss: 0.2837 - acc: 0.9526\n",
      "Epoch 27/70\n",
      "10000/10000 [==============================] - 1s 83us/step - loss: 0.2388 - acc: 0.9608\n",
      "Epoch 28/70\n",
      "10000/10000 [==============================] - 1s 84us/step - loss: 0.2121 - acc: 0.9622\n",
      "Epoch 29/70\n",
      "10000/10000 [==============================] - 1s 84us/step - loss: 0.1846 - acc: 0.9702\n",
      "Epoch 30/70\n",
      "10000/10000 [==============================] - 1s 83us/step - loss: 0.1415 - acc: 0.9801\n",
      "Epoch 31/70\n",
      "10000/10000 [==============================] - 1s 83us/step - loss: 0.1291 - acc: 0.9804\n",
      "Epoch 32/70\n",
      "10000/10000 [==============================] - 1s 86us/step - loss: 0.1682 - acc: 0.9646\n",
      "Epoch 33/70\n",
      "10000/10000 [==============================] - 1s 85us/step - loss: 0.2696 - acc: 0.9277\n",
      "Epoch 34/70\n",
      "10000/10000 [==============================] - 1s 84us/step - loss: 0.2207 - acc: 0.9381\n",
      "Epoch 35/70\n",
      "10000/10000 [==============================] - 1s 87us/step - loss: 0.1190 - acc: 0.9741\n",
      "Epoch 36/70\n",
      "10000/10000 [==============================] - 1s 87us/step - loss: 0.0455 - acc: 0.9963\n",
      "Epoch 37/70\n",
      "10000/10000 [==============================] - 1s 85us/step - loss: 0.0171 - acc: 0.9999\n",
      "Epoch 38/70\n",
      "10000/10000 [==============================] - 1s 85us/step - loss: 0.0094 - acc: 1.0000\n",
      "Epoch 39/70\n",
      "10000/10000 [==============================] - 1s 84us/step - loss: 0.0072 - acc: 1.0000\n",
      "Epoch 40/70\n",
      "10000/10000 [==============================] - 1s 85us/step - loss: 0.0061 - acc: 1.0000\n",
      "Epoch 41/70\n",
      "10000/10000 [==============================] - 1s 86us/step - loss: 0.0052 - acc: 1.0000\n",
      "Epoch 42/70\n",
      "10000/10000 [==============================] - 1s 86us/step - loss: 0.0045 - acc: 1.0000\n",
      "Epoch 43/70\n",
      "10000/10000 [==============================] - 1s 86us/step - loss: 0.0039 - acc: 1.0000\n",
      "Epoch 44/70\n",
      "10000/10000 [==============================] - 1s 84us/step - loss: 0.0034 - acc: 1.0000\n",
      "Epoch 45/70\n",
      "10000/10000 [==============================] - 1s 84us/step - loss: 0.0030 - acc: 1.0000\n",
      "Epoch 46/70\n",
      "10000/10000 [==============================] - 1s 86us/step - loss: 0.0026 - acc: 1.0000\n",
      "Epoch 47/70\n",
      "10000/10000 [==============================] - 1s 86us/step - loss: 0.0023 - acc: 1.0000\n",
      "Epoch 48/70\n",
      "10000/10000 [==============================] - 1s 87us/step - loss: 0.0020 - acc: 1.0000\n",
      "Epoch 49/70\n",
      "10000/10000 [==============================] - 1s 87us/step - loss: 0.0017 - acc: 1.0000\n",
      "Epoch 50/70\n",
      "10000/10000 [==============================] - 1s 87us/step - loss: 0.0015 - acc: 1.0000\n",
      "Epoch 51/70\n",
      "10000/10000 [==============================] - 1s 86us/step - loss: 0.0013 - acc: 1.0000\n",
      "Epoch 52/70\n",
      "10000/10000 [==============================] - 1s 84us/step - loss: 0.0011 - acc: 1.0000\n",
      "Epoch 53/70\n",
      "10000/10000 [==============================] - 1s 86us/step - loss: 9.6733e-04 - acc: 1.0000\n",
      "Epoch 54/70\n",
      "10000/10000 [==============================] - 1s 85us/step - loss: 8.3153e-04 - acc: 1.0000\n",
      "Epoch 55/70\n",
      "10000/10000 [==============================] - 1s 87us/step - loss: 7.0999e-04 - acc: 1.0000\n",
      "Epoch 56/70\n",
      "10000/10000 [==============================] - 1s 88us/step - loss: 6.0690e-04 - acc: 1.0000\n",
      "Epoch 57/70\n",
      "10000/10000 [==============================] - 1s 86us/step - loss: 5.2066e-04 - acc: 1.0000\n",
      "Epoch 58/70\n",
      "10000/10000 [==============================] - 1s 88us/step - loss: 4.3868e-04 - acc: 1.0000\n",
      "Epoch 59/70\n",
      "10000/10000 [==============================] - 1s 87us/step - loss: 3.7380e-04 - acc: 1.0000\n",
      "Epoch 60/70\n",
      "10000/10000 [==============================] - 1s 86us/step - loss: 3.1733e-04 - acc: 1.0000\n",
      "Epoch 61/70\n",
      "10000/10000 [==============================] - 1s 86us/step - loss: 2.6778e-04 - acc: 1.0000\n",
      "Epoch 62/70\n",
      "10000/10000 [==============================] - 1s 86us/step - loss: 2.2712e-04 - acc: 1.0000\n",
      "Epoch 63/70\n",
      "10000/10000 [==============================] - 1s 88us/step - loss: 1.9111e-04 - acc: 1.0000: 0s - loss: 1.8777e-04 - acc: 1.0\n",
      "Epoch 64/70\n",
      "10000/10000 [==============================] - 1s 86us/step - loss: 1.6073e-04 - acc: 1.0000\n",
      "Epoch 65/70\n",
      "10000/10000 [==============================] - 1s 87us/step - loss: 1.3604e-04 - acc: 1.0000\n",
      "Epoch 66/70\n",
      "10000/10000 [==============================] - 1s 87us/step - loss: 1.1371e-04 - acc: 1.0000\n",
      "Epoch 67/70\n",
      "10000/10000 [==============================] - 1s 86us/step - loss: 9.5589e-05 - acc: 1.0000\n",
      "Epoch 68/70\n",
      "10000/10000 [==============================] - 1s 86us/step - loss: 8.0214e-05 - acc: 1.0000\n",
      "Epoch 69/70\n",
      "10000/10000 [==============================] - 1s 87us/step - loss: 6.7283e-05 - acc: 1.0000\n",
      "Epoch 70/70\n",
      "10000/10000 [==============================] - 1s 90us/step - loss: 5.6972e-05 - acc: 1.0000\n"
     ]
    },
    {
     "data": {
      "text/plain": [
       "<keras.callbacks.History at 0x131e72a90>"
      ]
     },
     "execution_count": 46,
     "metadata": {},
     "output_type": "execute_result"
    }
   ],
   "source": [
    "model.fit(x=[data1, data2, data3, single1, single2, single3, num1], \n",
    "          y=one_hot_labels, epochs=70, batch_size=32)"
   ]
  },
  {
   "cell_type": "code",
   "execution_count": 47,
   "metadata": {},
   "outputs": [
    {
     "name": "stdout",
     "output_type": "stream",
     "text": [
      "10000/10000 [==============================] - 0s 30us/step\n"
     ]
    },
    {
     "data": {
      "text/plain": [
       "[4.29503480787389e-05, 1.0]"
      ]
     },
     "execution_count": 47,
     "metadata": {},
     "output_type": "execute_result"
    }
   ],
   "source": [
    "model.evaluate([data1, data2, data3, single1, single2, single3, num1], y=one_hot_labels, batch_size=32)"
   ]
  },
  {
   "cell_type": "code",
   "execution_count": 48,
   "metadata": {},
   "outputs": [
    {
     "data": {
      "text/plain": [
       "(64, 100)"
      ]
     },
     "execution_count": 48,
     "metadata": {},
     "output_type": "execute_result"
    }
   ],
   "source": [
    "model.layers[-1].get_weights()[0].shape   # category embedding matrix"
   ]
  },
  {
   "cell_type": "code",
   "execution_count": 49,
   "metadata": {},
   "outputs": [
    {
     "data": {
      "text/plain": [
       "<tf.Tensor 'user_embedding_1/Relu:0' shape=(?, 64) dtype=float32>"
      ]
     },
     "execution_count": 49,
     "metadata": {},
     "output_type": "execute_result"
    }
   ],
   "source": [
    "model.layers[-2].output  ### user embedding"
   ]
  },
  {
   "cell_type": "code",
   "execution_count": null,
   "metadata": {},
   "outputs": [],
   "source": []
  },
  {
   "cell_type": "markdown",
   "metadata": {},
   "source": [
    "* make it easy to use and config\n",
    "* implement some new ideas beforehand\n",
    "* some document work\n",
    "* data loader interface\n",
    "* training env preparation"
   ]
  }
 ],
 "metadata": {
  "kernelspec": {
   "display_name": "Python 3",
   "language": "python",
   "name": "python3"
  },
  "language_info": {
   "codemirror_mode": {
    "name": "ipython",
    "version": 3
   },
   "file_extension": ".py",
   "mimetype": "text/x-python",
   "name": "python",
   "nbconvert_exporter": "python",
   "pygments_lexer": "ipython3",
   "version": "3.6.8"
  }
 },
 "nbformat": 4,
 "nbformat_minor": 2
}
