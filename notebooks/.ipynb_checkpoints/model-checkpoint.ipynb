{
 "cells": [
  {
   "cell_type": "code",
   "execution_count": 1,
   "metadata": {},
   "outputs": [
    {
     "name": "stderr",
     "output_type": "stream",
     "text": [
      "Using TensorFlow backend.\n"
     ]
    }
   ],
   "source": [
    "from keras.layers import Input, Dense, Embedding, Lambda\n",
    "from keras.models import Model\n",
    "from keras.backend import mean"
   ]
  },
  {
   "cell_type": "code",
   "execution_count": 2,
   "metadata": {},
   "outputs": [],
   "source": []
  },
  {
   "cell_type": "code",
   "execution_count": 45,
   "metadata": {},
   "outputs": [],
   "source": [
    "from IPython.display import SVG\n",
    "from keras.utils.vis_utils import plot_model"
   ]
  },
  {
   "cell_type": "code",
   "execution_count": 42,
   "metadata": {},
   "outputs": [],
   "source": [
    "import keras\n",
    "import pydot as pyd\n",
    "from keras.utils.vis_utils import model_to_dot\n",
    "keras.utils.vis_utils.pydot = pyd"
   ]
  },
  {
   "cell_type": "code",
   "execution_count": 5,
   "metadata": {},
   "outputs": [],
   "source": [
    "category_num = 40\n",
    "max_purchase_history = 10"
   ]
  },
  {
   "cell_type": "code",
   "execution_count": null,
   "metadata": {},
   "outputs": [],
   "source": []
  },
  {
   "cell_type": "code",
   "execution_count": 6,
   "metadata": {},
   "outputs": [],
   "source": [
    "t = [1,2,3,4,5]"
   ]
  },
  {
   "cell_type": "code",
   "execution_count": 85,
   "metadata": {},
   "outputs": [],
   "source": [
    "def avg_features(features):\n",
    "    # This embedding layer will encode the input sequence\n",
    "    # into a sequence of dense 128-dimensional vectors.\n",
    "    embeddings = Embedding(output_dim=128, input_dim=category_num, \n",
    "                       input_length=max_purchase_history, mask_zero=True)(features)\n",
    "    avg = Lambda(lambda x: mean(x, axis=1))\n",
    "    avg_embedding = avg(embeddings)\n",
    "    return avg_embedding"
   ]
  },
  {
   "cell_type": "code",
   "execution_count": 80,
   "metadata": {},
   "outputs": [],
   "source": [
    "purchase_seq = Input(shape=(5,), dtype='int32', name='purchase_seq')"
   ]
  },
  {
   "cell_type": "code",
   "execution_count": 81,
   "metadata": {},
   "outputs": [],
   "source": [
    "broswer_seq = Input(shape=(5,), dtype='int32', name='broswer_seq')"
   ]
  },
  {
   "cell_type": "code",
   "execution_count": 88,
   "metadata": {},
   "outputs": [],
   "source": [
    "x1 = avg_features(purchase_seq)"
   ]
  },
  {
   "cell_type": "code",
   "execution_count": 89,
   "metadata": {},
   "outputs": [],
   "source": [
    "x2 = (avg_features(broswer_seq))"
   ]
  },
  {
   "cell_type": "code",
   "execution_count": 90,
   "metadata": {},
   "outputs": [],
   "source": [
    "x = Dense(64, activation='relu')(keras.layers.concatenate([x1, x2]))"
   ]
  },
  {
   "cell_type": "code",
   "execution_count": 91,
   "metadata": {},
   "outputs": [],
   "source": [
    "main_output = Dense(1, activation='sigmoid', name='main_output')(x)"
   ]
  },
  {
   "cell_type": "code",
   "execution_count": 92,
   "metadata": {},
   "outputs": [],
   "source": [
    "model = Model(inputs=[purchase_seq, broswer_seq], outputs=[main_output])"
   ]
  },
  {
   "cell_type": "code",
   "execution_count": null,
   "metadata": {},
   "outputs": [],
   "source": [
    "model()"
   ]
  },
  {
   "cell_type": "code",
   "execution_count": 93,
   "metadata": {},
   "outputs": [
    {
     "name": "stdout",
     "output_type": "stream",
     "text": [
      "__________________________________________________________________________________________________\n",
      "Layer (type)                    Output Shape         Param #     Connected to                     \n",
      "==================================================================================================\n",
      "purchase_seq (InputLayer)       (None, None)         0                                            \n",
      "__________________________________________________________________________________________________\n",
      "broswer_seq (InputLayer)        (None, None)         0                                            \n",
      "__________________________________________________________________________________________________\n",
      "embedding_11 (Embedding)        (None, 500, 128)     51200000    purchase_seq[0][0]               \n",
      "__________________________________________________________________________________________________\n",
      "embedding_12 (Embedding)        (None, 500, 128)     51200000    broswer_seq[0][0]                \n",
      "__________________________________________________________________________________________________\n",
      "lambda_11 (Lambda)              (None, 128)          0           embedding_11[0][0]               \n",
      "__________________________________________________________________________________________________\n",
      "lambda_12 (Lambda)              (None, 128)          0           embedding_12[0][0]               \n",
      "__________________________________________________________________________________________________\n",
      "concatenate_2 (Concatenate)     (None, 256)          0           lambda_11[0][0]                  \n",
      "                                                                 lambda_12[0][0]                  \n",
      "__________________________________________________________________________________________________\n",
      "dense_13 (Dense)                (None, 64)           16448       concatenate_2[0][0]              \n",
      "__________________________________________________________________________________________________\n",
      "main_output (Dense)             (None, 1)            65          dense_13[0][0]                   \n",
      "==================================================================================================\n",
      "Total params: 102,416,513\n",
      "Trainable params: 102,416,513\n",
      "Non-trainable params: 0\n",
      "__________________________________________________________________________________________________\n"
     ]
    }
   ],
   "source": [
    "model.summary()"
   ]
  },
  {
   "cell_type": "code",
   "execution_count": 94,
   "metadata": {},
   "outputs": [],
   "source": [
    "plot_model(model, to_file='model.png', show_shapes=True, show_layer_names=True)"
   ]
  },
  {
   "cell_type": "code",
   "execution_count": 95,
   "metadata": {},
   "outputs": [
    {
     "data": {
      "image/svg+xml": [
       "<svg height=\"410pt\" viewBox=\"0.00 0.00 367.89 410.00\" width=\"368pt\" xmlns=\"http://www.w3.org/2000/svg\" xmlns:xlink=\"http://www.w3.org/1999/xlink\">\n",
       "<g class=\"graph\" id=\"graph0\" transform=\"scale(1 1) rotate(0) translate(4 406)\">\n",
       "<title>G</title>\n",
       "<polygon fill=\"#ffffff\" points=\"-4,4 -4,-406 363.8853,-406 363.8853,4 -4,4\" stroke=\"transparent\"/>\n",
       "<!-- 4865996448 -->\n",
       "<g class=\"node\" id=\"node1\">\n",
       "<title>4865996448</title>\n",
       "<polygon fill=\"none\" points=\"4.8159,-365.5 4.8159,-401.5 165.813,-401.5 165.813,-365.5 4.8159,-365.5\" stroke=\"#000000\"/>\n",
       "<text fill=\"#000000\" font-family=\"Times,serif\" font-size=\"14.00\" text-anchor=\"middle\" x=\"85.3145\" y=\"-379.3\">purchase_seq: InputLayer</text>\n",
       "</g>\n",
       "<!-- 4865996000 -->\n",
       "<g class=\"node\" id=\"node3\">\n",
       "<title>4865996000</title>\n",
       "<polygon fill=\"none\" points=\"0,-292.5 0,-328.5 170.6289,-328.5 170.6289,-292.5 0,-292.5\" stroke=\"#000000\"/>\n",
       "<text fill=\"#000000\" font-family=\"Times,serif\" font-size=\"14.00\" text-anchor=\"middle\" x=\"85.3145\" y=\"-306.3\">embedding_11: Embedding</text>\n",
       "</g>\n",
       "<!-- 4865996448&#45;&gt;4865996000 -->\n",
       "<g class=\"edge\" id=\"edge1\">\n",
       "<title>4865996448-&gt;4865996000</title>\n",
       "<path d=\"M85.3145,-365.4551C85.3145,-357.3828 85.3145,-347.6764 85.3145,-338.6817\" fill=\"none\" stroke=\"#000000\"/>\n",
       "<polygon fill=\"#000000\" points=\"88.8146,-338.5903 85.3145,-328.5904 81.8146,-338.5904 88.8146,-338.5903\" stroke=\"#000000\"/>\n",
       "</g>\n",
       "<!-- 4865995944 -->\n",
       "<g class=\"node\" id=\"node2\">\n",
       "<title>4865995944</title>\n",
       "<polygon fill=\"none\" points=\"196.1436,-365.5 196.1436,-401.5 352.4854,-401.5 352.4854,-365.5 196.1436,-365.5\" stroke=\"#000000\"/>\n",
       "<text fill=\"#000000\" font-family=\"Times,serif\" font-size=\"14.00\" text-anchor=\"middle\" x=\"274.3145\" y=\"-379.3\">broswer_seq: InputLayer</text>\n",
       "</g>\n",
       "<!-- 4865973160 -->\n",
       "<g class=\"node\" id=\"node4\">\n",
       "<title>4865973160</title>\n",
       "<polygon fill=\"none\" points=\"188.7437,-292.5 188.7437,-328.5 359.8853,-328.5 359.8853,-292.5 188.7437,-292.5\" stroke=\"#000000\"/>\n",
       "<text fill=\"#000000\" font-family=\"Times,serif\" font-size=\"14.00\" text-anchor=\"middle\" x=\"274.3145\" y=\"-306.3\">embedding_12: Embedding</text>\n",
       "</g>\n",
       "<!-- 4865995944&#45;&gt;4865973160 -->\n",
       "<g class=\"edge\" id=\"edge2\">\n",
       "<title>4865995944-&gt;4865973160</title>\n",
       "<path d=\"M274.3145,-365.4551C274.3145,-357.3828 274.3145,-347.6764 274.3145,-338.6817\" fill=\"none\" stroke=\"#000000\"/>\n",
       "<polygon fill=\"#000000\" points=\"277.8146,-338.5903 274.3145,-328.5904 270.8146,-338.5904 277.8146,-338.5903\" stroke=\"#000000\"/>\n",
       "</g>\n",
       "<!-- 4865995440 -->\n",
       "<g class=\"node\" id=\"node5\">\n",
       "<title>4865995440</title>\n",
       "<polygon fill=\"none\" points=\"39.8379,-219.5 39.8379,-255.5 170.791,-255.5 170.791,-219.5 39.8379,-219.5\" stroke=\"#000000\"/>\n",
       "<text fill=\"#000000\" font-family=\"Times,serif\" font-size=\"14.00\" text-anchor=\"middle\" x=\"105.3145\" y=\"-233.3\">lambda_11: Lambda</text>\n",
       "</g>\n",
       "<!-- 4865996000&#45;&gt;4865995440 -->\n",
       "<g class=\"edge\" id=\"edge3\">\n",
       "<title>4865996000-&gt;4865995440</title>\n",
       "<path d=\"M90.2583,-292.4551C92.4939,-284.2951 95.187,-274.4652 97.6737,-265.3887\" fill=\"none\" stroke=\"#000000\"/>\n",
       "<polygon fill=\"#000000\" points=\"101.0914,-266.1598 100.3582,-255.5904 94.3402,-264.3101 101.0914,-266.1598\" stroke=\"#000000\"/>\n",
       "</g>\n",
       "<!-- 4865973664 -->\n",
       "<g class=\"node\" id=\"node6\">\n",
       "<title>4865973664</title>\n",
       "<polygon fill=\"none\" points=\"198.5815,-219.5 198.5815,-255.5 330.0474,-255.5 330.0474,-219.5 198.5815,-219.5\" stroke=\"#000000\"/>\n",
       "<text fill=\"#000000\" font-family=\"Times,serif\" font-size=\"14.00\" text-anchor=\"middle\" x=\"264.3145\" y=\"-233.3\">lambda_12: Lambda</text>\n",
       "</g>\n",
       "<!-- 4865973160&#45;&gt;4865973664 -->\n",
       "<g class=\"edge\" id=\"edge4\">\n",
       "<title>4865973160-&gt;4865973664</title>\n",
       "<path d=\"M271.8425,-292.4551C270.7368,-284.3828 269.4071,-274.6764 268.175,-265.6817\" fill=\"none\" stroke=\"#000000\"/>\n",
       "<polygon fill=\"#000000\" points=\"271.6175,-265.0228 266.7926,-255.5904 264.6822,-265.9729 271.6175,-265.0228\" stroke=\"#000000\"/>\n",
       "</g>\n",
       "<!-- 4863208472 -->\n",
       "<g class=\"node\" id=\"node7\">\n",
       "<title>4863208472</title>\n",
       "<polygon fill=\"none\" points=\"92.9951,-146.5 92.9951,-182.5 265.6338,-182.5 265.6338,-146.5 92.9951,-146.5\" stroke=\"#000000\"/>\n",
       "<text fill=\"#000000\" font-family=\"Times,serif\" font-size=\"14.00\" text-anchor=\"middle\" x=\"179.3145\" y=\"-160.3\">concatenate_2: Concatenate</text>\n",
       "</g>\n",
       "<!-- 4865995440&#45;&gt;4863208472 -->\n",
       "<g class=\"edge\" id=\"edge5\">\n",
       "<title>4865995440-&gt;4863208472</title>\n",
       "<path d=\"M123.6066,-219.4551C132.6788,-210.5054 143.7874,-199.547 153.6912,-189.7769\" fill=\"none\" stroke=\"#000000\"/>\n",
       "<polygon fill=\"#000000\" points=\"156.3152,-192.1049 160.9763,-182.5904 151.3993,-187.1215 156.3152,-192.1049\" stroke=\"#000000\"/>\n",
       "</g>\n",
       "<!-- 4865973664&#45;&gt;4863208472 -->\n",
       "<g class=\"edge\" id=\"edge6\">\n",
       "<title>4865973664-&gt;4863208472</title>\n",
       "<path d=\"M243.3032,-219.4551C232.6781,-210.3299 219.6213,-199.1165 208.079,-189.2036\" fill=\"none\" stroke=\"#000000\"/>\n",
       "<polygon fill=\"#000000\" points=\"210.2452,-186.4505 200.3786,-182.5904 205.6845,-191.7609 210.2452,-186.4505\" stroke=\"#000000\"/>\n",
       "</g>\n",
       "<!-- 4864036592 -->\n",
       "<g class=\"node\" id=\"node8\">\n",
       "<title>4864036592</title>\n",
       "<polygon fill=\"none\" points=\"123.6885,-73.5 123.6885,-109.5 234.9404,-109.5 234.9404,-73.5 123.6885,-73.5\" stroke=\"#000000\"/>\n",
       "<text fill=\"#000000\" font-family=\"Times,serif\" font-size=\"14.00\" text-anchor=\"middle\" x=\"179.3145\" y=\"-87.3\">dense_13: Dense</text>\n",
       "</g>\n",
       "<!-- 4863208472&#45;&gt;4864036592 -->\n",
       "<g class=\"edge\" id=\"edge7\">\n",
       "<title>4863208472-&gt;4864036592</title>\n",
       "<path d=\"M179.3145,-146.4551C179.3145,-138.3828 179.3145,-128.6764 179.3145,-119.6817\" fill=\"none\" stroke=\"#000000\"/>\n",
       "<polygon fill=\"#000000\" points=\"182.8146,-119.5903 179.3145,-109.5904 175.8146,-119.5904 182.8146,-119.5903\" stroke=\"#000000\"/>\n",
       "</g>\n",
       "<!-- 4866171232 -->\n",
       "<g class=\"node\" id=\"node9\">\n",
       "<title>4866171232</title>\n",
       "<polygon fill=\"none\" points=\"114.7402,-.5 114.7402,-36.5 243.8887,-36.5 243.8887,-.5 114.7402,-.5\" stroke=\"#000000\"/>\n",
       "<text fill=\"#000000\" font-family=\"Times,serif\" font-size=\"14.00\" text-anchor=\"middle\" x=\"179.3145\" y=\"-14.3\">main_output: Dense</text>\n",
       "</g>\n",
       "<!-- 4864036592&#45;&gt;4866171232 -->\n",
       "<g class=\"edge\" id=\"edge8\">\n",
       "<title>4864036592-&gt;4866171232</title>\n",
       "<path d=\"M179.3145,-73.4551C179.3145,-65.3828 179.3145,-55.6764 179.3145,-46.6817\" fill=\"none\" stroke=\"#000000\"/>\n",
       "<polygon fill=\"#000000\" points=\"182.8146,-46.5903 179.3145,-36.5904 175.8146,-46.5904 182.8146,-46.5903\" stroke=\"#000000\"/>\n",
       "</g>\n",
       "</g>\n",
       "</svg>"
      ],
      "text/plain": [
       "<IPython.core.display.SVG object>"
      ]
     },
     "execution_count": 95,
     "metadata": {},
     "output_type": "execute_result"
    }
   ],
   "source": [
    "SVG(model_to_dot(model).create(prog='dot', format='svg'))"
   ]
  },
  {
   "cell_type": "code",
   "execution_count": null,
   "metadata": {},
   "outputs": [],
   "source": []
  }
 ],
 "metadata": {
  "kernelspec": {
   "display_name": "Python 3",
   "language": "python",
   "name": "python3"
  },
  "language_info": {
   "codemirror_mode": {
    "name": "ipython",
    "version": 3
   },
   "file_extension": ".py",
   "mimetype": "text/x-python",
   "name": "python",
   "nbconvert_exporter": "python",
   "pygments_lexer": "ipython3",
   "version": "3.6.8"
  }
 },
 "nbformat": 4,
 "nbformat_minor": 2
}
