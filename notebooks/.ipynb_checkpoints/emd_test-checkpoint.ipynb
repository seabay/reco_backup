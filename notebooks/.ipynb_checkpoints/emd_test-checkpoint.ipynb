{
 "cells": [
  {
   "cell_type": "code",
   "execution_count": 1,
   "metadata": {},
   "outputs": [],
   "source": [
    "import tensorflow as tf"
   ]
  },
  {
   "cell_type": "code",
   "execution_count": 2,
   "metadata": {},
   "outputs": [],
   "source": [
    "tf.enable_eager_execution()"
   ]
  },
  {
   "cell_type": "code",
   "execution_count": 20,
   "metadata": {},
   "outputs": [],
   "source": [
    "max_history = 5\n",
    "category_size = 100"
   ]
  },
  {
   "cell_type": "code",
   "execution_count": 36,
   "metadata": {},
   "outputs": [],
   "source": [
    "embeddings = tf.keras.layers.Embedding(output_dim=4, input_dim = category_size, \n",
    "                       input_length=max_history, mask_zero=True, name='embedding_category')"
   ]
  },
  {
   "cell_type": "code",
   "execution_count": 37,
   "metadata": {},
   "outputs": [
    {
     "data": {
      "text/plain": [
       "array([[1, 0, 0, 0, 0],\n",
       "       [4, 0, 0, 0, 0]], dtype=int32)"
      ]
     },
     "execution_count": 37,
     "metadata": {},
     "output_type": "execute_result"
    }
   ],
   "source": [
    "tt = [[1], [4]]\n",
    "tt = tf.keras.preprocessing.sequence.pad_sequences(tt, max_history, padding='post')\n",
    "tt"
   ]
  },
  {
   "cell_type": "code",
   "execution_count": 38,
   "metadata": {},
   "outputs": [],
   "source": [
    "tt=tf.convert_to_tensor(tt)"
   ]
  },
  {
   "cell_type": "code",
   "execution_count": 39,
   "metadata": {},
   "outputs": [],
   "source": [
    "embeddings.compute_mask(tt)"
   ]
  },
  {
   "cell_type": "code",
   "execution_count": 40,
   "metadata": {},
   "outputs": [],
   "source": [
    "input_embeddings=embeddings(tt)"
   ]
  },
  {
   "cell_type": "code",
   "execution_count": 41,
   "metadata": {},
   "outputs": [
    {
     "data": {
      "text/plain": [
       "<tf.Tensor: id=149, shape=(2, 5, 4), dtype=float32, numpy=\n",
       "array([[[ 0.01203119,  0.0431386 , -0.02689463, -0.0304104 ],\n",
       "        [ 0.04641477, -0.03574433, -0.02215815,  0.02664269],\n",
       "        [ 0.04641477, -0.03574433, -0.02215815,  0.02664269],\n",
       "        [ 0.04641477, -0.03574433, -0.02215815,  0.02664269],\n",
       "        [ 0.04641477, -0.03574433, -0.02215815,  0.02664269]],\n",
       "\n",
       "       [[ 0.00366269,  0.01153228,  0.02746275,  0.04756794],\n",
       "        [ 0.04641477, -0.03574433, -0.02215815,  0.02664269],\n",
       "        [ 0.04641477, -0.03574433, -0.02215815,  0.02664269],\n",
       "        [ 0.04641477, -0.03574433, -0.02215815,  0.02664269],\n",
       "        [ 0.04641477, -0.03574433, -0.02215815,  0.02664269]]],\n",
       "      dtype=float32)>"
      ]
     },
     "execution_count": 41,
     "metadata": {},
     "output_type": "execute_result"
    }
   ],
   "source": [
    "input_embeddings"
   ]
  },
  {
   "cell_type": "code",
   "execution_count": 42,
   "metadata": {},
   "outputs": [
    {
     "data": {
      "text/plain": [
       "<tf.Tensor: id=152, shape=(2, 4), dtype=float32, numpy=\n",
       "array([[ 0.03953805, -0.01996775, -0.02310544,  0.01523207],\n",
       "       [ 0.03786435, -0.02628901, -0.01223397,  0.03082774]],\n",
       "      dtype=float32)>"
      ]
     },
     "execution_count": 42,
     "metadata": {},
     "output_type": "execute_result"
    }
   ],
   "source": [
    "tf.keras.layers.GlobalAveragePooling1D(name='_avg_embedding')(input_embeddings, mask=embeddings.compute_mask(tt))"
   ]
  },
  {
   "cell_type": "code",
   "execution_count": null,
   "metadata": {},
   "outputs": [],
   "source": []
  }
 ],
 "metadata": {
  "kernelspec": {
   "display_name": "Python 3",
   "language": "python",
   "name": "python3"
  },
  "language_info": {
   "codemirror_mode": {
    "name": "ipython",
    "version": 3
   },
   "file_extension": ".py",
   "mimetype": "text/x-python",
   "name": "python",
   "nbconvert_exporter": "python",
   "pygments_lexer": "ipython3",
   "version": "3.6.8"
  }
 },
 "nbformat": 4,
 "nbformat_minor": 2
}
