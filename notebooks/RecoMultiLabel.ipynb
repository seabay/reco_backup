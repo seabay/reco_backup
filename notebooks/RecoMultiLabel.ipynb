{
 "cells": [
  {
   "cell_type": "code",
   "execution_count": 1,
   "metadata": {},
   "outputs": [],
   "source": [
    "%load_ext autoreload\n",
    "%autoreload 2"
   ]
  },
  {
   "cell_type": "code",
   "execution_count": 2,
   "metadata": {},
   "outputs": [
    {
     "name": "stderr",
     "output_type": "stream",
     "text": [
      "Using TensorFlow backend.\n"
     ]
    }
   ],
   "source": [
    "import numpy as np\n",
    "import builtins\n",
    "import keras\n",
    "import tensorflow as tf\n",
    "import math\n",
    "from extra_keras_metrics import average_precision_at_k"
   ]
  },
  {
   "cell_type": "code",
   "execution_count": 3,
   "metadata": {},
   "outputs": [],
   "source": [
    "import random\n",
    "import keras_metrics as km"
   ]
  },
  {
   "cell_type": "code",
   "execution_count": 4,
   "metadata": {},
   "outputs": [],
   "source": [
    "import sys\n",
    "sys.path.append('..')"
   ]
  },
  {
   "cell_type": "code",
   "execution_count": 5,
   "metadata": {},
   "outputs": [],
   "source": [
    "from data_loader import data_generator"
   ]
  },
  {
   "cell_type": "code",
   "execution_count": 6,
   "metadata": {},
   "outputs": [
    {
     "data": {
      "text/plain": [
       "'1.14.0'"
      ]
     },
     "execution_count": 6,
     "metadata": {},
     "output_type": "execute_result"
    }
   ],
   "source": [
    "tf.__version__"
   ]
  },
  {
   "cell_type": "code",
   "execution_count": 636,
   "metadata": {},
   "outputs": [],
   "source": [
    "tf.compat.v1.logging.set_verbosity(tf.compat.v1.logging.INFO)\n"
   ]
  },
  {
   "cell_type": "code",
   "execution_count": 614,
   "metadata": {},
   "outputs": [],
   "source": [
    "class RecoDNN():\n",
    "    \n",
    "    def __init__(self, max_transaction_history = 50, max_product_click_history = 50, max_promotion_click_history = 50,\n",
    "                 category_size = 100, single_categorical_features = None, numeric_features_size = 10,\n",
    "                 hidden_layer1_size = 256, hidden_layer2_size = 128, hidden_layer3_size = 64, activation='relu',\n",
    "                input_embedding_size = 128):\n",
    "        \n",
    "        self.max_transaction_history = max_transaction_history\n",
    "        self.max_product_click_history = max_product_click_history\n",
    "        self.max_promotion_click_history = max_promotion_click_history\n",
    "        self.category_size = category_size\n",
    "        self.hidden_layer1_size = hidden_layer1_size\n",
    "        self.hidden_layer2_size = hidden_layer2_size\n",
    "        self.hidden_layer3_size = hidden_layer3_size\n",
    "        self.single_categorical_features = single_categorical_features\n",
    "        self.numeric_features_size = numeric_features_size\n",
    "        self.activation = activation\n",
    "        self.input_embedding_size = input_embedding_size\n",
    "        \n",
    "        self.category_embeddings = tf.keras.layers.Embedding(output_dim=self.input_embedding_size, \n",
    "                                                             input_dim = self.category_size, mask_zero=True, name='category_embeddings')\n",
    "        \n",
    "        self.build()\n",
    "        \n",
    "    \n",
    "    def build(self):\n",
    "        \n",
    "        inp_layer, inp_embed = self.create_input()\n",
    "        v = tf.keras.layers.Dense(512, activation = self.activation, kernel_initializer='he_normal')(tf.keras.layers.concatenate(inp_embed)) \n",
    "        v = tf.keras.layers.Dense(self.hidden_layer1_size, activation = self.activation, kernel_initializer='he_normal')(v) \n",
    "        v = tf.keras.layers.Dense(self.hidden_layer2_size, activation = self.activation, kernel_initializer='he_normal')(v)\n",
    "        v = tf.keras.layers.Dense(self.hidden_layer3_size, activation = self.activation, kernel_initializer='he_normal',name='user_embedding')(v)\n",
    "        output = tf.keras.layers.Dense(self.category_size, activation ='sigmoid', name='sigmoid')(v)\n",
    "        self.model = tf.keras.models.Model(inputs = inp_layer, outputs = [output])    \n",
    "        \n",
    "    \n",
    "    def create_input(self):\n",
    "        \n",
    "        transaction_cols = [x for x in range(self.max_transaction_history)]\n",
    "        product_click_cols = [x for x in range(self.max_product_click_history)]\n",
    "        promotion_click_cols = [x for x in range(self.max_promotion_click_history)]\n",
    "        seq_category_cols = [transaction_cols, product_click_cols, promotion_click_cols]\n",
    "        \n",
    "        seqs = []\n",
    "        for i, grp in enumerate(seq_category_cols):\n",
    "            seqs.append(self.seq_categorical_input('seq_categorical_' + str(i), len(grp)))\n",
    "\n",
    "        singles = []\n",
    "        if self.single_categorical_features:\n",
    "            for col in self.single_categorical_features:\n",
    "                singles.append(self.singe_categorical_input(str(col), self.single_categorical_features[col][0],\n",
    "                                                           self.single_categorical_features[col][1]))\n",
    "\n",
    "        nums = self.continous_inputs(self.numeric_features_size)\n",
    "\n",
    "        inp_layer =  [s[0] for s in seqs]\n",
    "        inp_layer += [s[0] for s in singles]\n",
    "        inp_layer.append(nums[0])\n",
    "        inp_embed = [s[1] for s in seqs]\n",
    "        inp_embed += [s[1] for s in singles]\n",
    "        inp_embed.append(nums[1])\n",
    "               \n",
    "        return inp_layer, inp_embed\n",
    "    \n",
    "    \n",
    "    def seq_categorical_input(self, name, max_history):\n",
    "    \n",
    "        seq = tf.keras.layers.Input(shape=(max_history,), dtype='int32', name=name)\n",
    "        category_embeddings = tf.keras.layers.Embedding(output_dim=self.input_embedding_size,input_dim = self.category_size, name=name+'category_embeddings')\n",
    "        input_embeddings = category_embeddings(seq)\n",
    "        \n",
    "        #avg_embedding = tf.keras.layers.GlobalAveragePooling1D(name=name + '_avg_embedding')(input_embeddings, mask=self.category_embeddings.compute_mask(seq))\n",
    "        #cat_embeddings = tf.reshape(input_embeddings, [, -1])\n",
    "\n",
    "        #maxf = tf.keras.layers.Lambda(lambda x: tf.keras.backend.max(x, axis=1), name = name + '_max_embedding')\n",
    "        #max_embedding = maxf(input_embeddings)\n",
    "\n",
    "        #return seq, avg_embedding\n",
    "        return seq, tf.keras.layers.Flatten(name = 'flatten_' + name)(input_embeddings)   #keras.layers.add([avg_embedding, max_embedding])\n",
    "        #return seq, tf.keras.layers.concatenate([avg_embedding, max_embedding])\n",
    "\n",
    "    \n",
    "    def singe_categorical_input(self, name, unique_size, embedding_size):\n",
    "        single = tf.keras.layers.Input(shape=(1,), dtype='int32', name=name)\n",
    "        embeddings = tf.keras.layers.Embedding(output_dim = embedding_size, input_dim = unique_size, \n",
    "                           input_length=1, name=name + '_embedding')(single)\n",
    "        embeddings = tf.keras.layers.Flatten(name = 'flatten_' + name)(embeddings)\n",
    "        return single, embeddings\n",
    "    \n",
    "    def continous_inputs(self, size=None, name='numeric'):\n",
    "        inp = tf.keras.layers.Input(shape=(size,), dtype='float32', name=name)\n",
    "        return inp, inp\n"
   ]
  },
  {
   "cell_type": "markdown",
   "metadata": {},
   "source": [
    "# fake dataset"
   ]
  },
  {
   "cell_type": "code",
   "execution_count": 450,
   "metadata": {},
   "outputs": [],
   "source": [
    "data_size = 500\n",
    "max_transaction_history = 20\n",
    "max_product_click_history = 20\n",
    "max_promotion_click_history = 20\n",
    "input_embedding_size = 8\n",
    "category_size = 5\n",
    "numeric_size = 1\n",
    "k=2\n",
    "\n",
    "data1 = np.random.randint(category_size, size=(data_size, random.randint(1,max_transaction_history)))\n",
    "data1 = tf.keras.preprocessing.sequence.pad_sequences(data1, max_transaction_history, padding='post')\n",
    "#data1 = np.array([[1,2], [1,2,4]])\n",
    "\n",
    "data2 = np.random.randint(category_size, size=(data_size, max_product_click_history-3))\n",
    "data2 = tf.keras.preprocessing.sequence.pad_sequences(data2, max_product_click_history, padding='post')\n",
    "\n",
    "data3 = np.random.randint(category_size, size=(data_size, max_promotion_click_history-4))\n",
    "data3 = tf.keras.preprocessing.sequence.pad_sequences(data3, max_promotion_click_history, padding='post')\n",
    "\n",
    "inputs = [data1, data2, data3]\n",
    "\n",
    "single_category_cols = {105:(3,8),106:(5,8),107:(10,8)}   ## such as location : unique_value_size\n",
    "for key in single_category_cols:\n",
    "    inputs.append(np.random.randint(single_category_cols[key][0], size=(data_size, 1)))\n",
    "\n",
    "num1 = np.random.random(size=(data_size, numeric_size))\n",
    "inputs.append(num1)\n",
    "\n",
    "ninputs = np.hstack(inputs)\n",
    "\n",
    "labels = np.random.randint(0, category_size-1, size=(data_size, k))\n",
    "one_hot_labels = tf.keras.utils.to_categorical(labels, num_classes=category_size)"
   ]
  },
  {
   "cell_type": "code",
   "execution_count": 452,
   "metadata": {},
   "outputs": [
    {
     "data": {
      "text/plain": [
       "(500, 64)"
      ]
     },
     "execution_count": 452,
     "metadata": {},
     "output_type": "execute_result"
    }
   ],
   "source": [
    "ninputs.shape"
   ]
  },
  {
   "cell_type": "code",
   "execution_count": 326,
   "metadata": {},
   "outputs": [],
   "source": [
    "multi_hot_labels=[]\n",
    "for label in labels:\n",
    "    mh_encode = np.zeros(category_size)\n",
    "    mh_encode[label] = 1\n",
    "    multi_hot_labels.append(mh_encode)\n",
    "    #break\n",
    "#print(multi_hot_labels)\n",
    "#multi_hot_labels = tf.convert_to_tensor_or_sparse_tensor(np.array(multi_hot_labels))\n",
    "multi_hot_labels = np.array(multi_hot_labels, dtype=np.int8)"
   ]
  },
  {
   "cell_type": "code",
   "execution_count": 414,
   "metadata": {},
   "outputs": [
    {
     "data": {
      "text/plain": [
       "(500, 5)"
      ]
     },
     "execution_count": 414,
     "metadata": {},
     "output_type": "execute_result"
    }
   ],
   "source": [
    "multi_hot_labels.shape"
   ]
  },
  {
   "cell_type": "code",
   "execution_count": 551,
   "metadata": {},
   "outputs": [
    {
     "data": {
      "text/plain": [
       "array([0, 0, 1, 1, 0], dtype=int8)"
      ]
     },
     "execution_count": 551,
     "metadata": {},
     "output_type": "execute_result"
    }
   ],
   "source": [
    "multi_hot_labels[0]"
   ]
  },
  {
   "cell_type": "code",
   "execution_count": 550,
   "metadata": {},
   "outputs": [
    {
     "data": {
      "text/plain": [
       "(array([2, 3]),)"
      ]
     },
     "execution_count": 550,
     "metadata": {},
     "output_type": "execute_result"
    }
   ],
   "source": [
    "np.nonzero(multi_hot_labels[0])"
   ]
  },
  {
   "cell_type": "markdown",
   "metadata": {},
   "source": [
    " "
   ]
  },
  {
   "cell_type": "markdown",
   "metadata": {},
   "source": [
    "# Training"
   ]
  },
  {
   "cell_type": "code",
   "execution_count": 531,
   "metadata": {},
   "outputs": [],
   "source": [
    "from itertools import tee  # finally! I found something useful for it\n",
    "from sklearn import metrics\n",
    "\n",
    "class Metrics(tf.keras.callbacks.Callback):\n",
    "    def __init__(self, features, labels, validation_steps=None, threshold=0.5):\n",
    "        self.features = features\n",
    "        self.labels = labels\n",
    "        self.validation_steps = validation_steps if validation_steps else len(self.labels)\n",
    "        print('validation_steps', self.validation_steps)\n",
    "        self.threshold = threshold\n",
    "\n",
    "    def on_train_begin(self, logs={}):\n",
    "        self.val_f1_scores = []\n",
    "        self.val_recalls = []\n",
    "        self.val_precisions = []\n",
    "\n",
    "    def on_epoch_end(self, epoch, logs={}):\n",
    "        print('\\n\\nepoch', epoch)\n",
    "        # duplicate generator to make sure y_true and y_pred are calculated from the same observations\n",
    "        #gen_1, gen_2 = tee(self.validation_set)\n",
    "        #y_true = np.vstack(labels for _ in range(self.validation_steps)).astype('int')\n",
    "        y_true = self.labels\n",
    "        y_pred = (self.model.predict(self.features, batch_size=20) > self.threshold).astype('int')\n",
    "        #print(y_true.shape)\n",
    "        #print(y_pred.shape)\n",
    "        f1 = metrics.f1_score(y_true, y_pred, average='weighted')\n",
    "        precision = metrics.precision_score(y_true, y_pred, average='weighted')\n",
    "        recall = metrics.recall_score(y_true, y_pred, average='weighted')\n",
    "        self.val_f1_scores.append(f1)\n",
    "        self.val_recalls.append(recall)\n",
    "        self.val_precisions.append(precision)\n",
    "        print(f\" - val_f1_score: {f1:.5f} - val_precision: {precision:.5f} - val_recall: {recall:.5f}\")"
   ]
  },
  {
   "cell_type": "code",
   "execution_count": null,
   "metadata": {},
   "outputs": [],
   "source": []
  },
  {
   "cell_type": "code",
   "execution_count": 532,
   "metadata": {},
   "outputs": [],
   "source": [
    "def top_2(y_true, y_pred):\n",
    "    return tf.keras.metrics.sparse_top_k_categorical_accuracy(y_true, y_pred, k=2) "
   ]
  },
  {
   "cell_type": "code",
   "execution_count": 533,
   "metadata": {},
   "outputs": [],
   "source": [
    "def tf_loss_wrapper(y_true, y_pred, loss):\n",
    "    score, up_opt = loss(tf.cast(y_true,tf.int64), tf.cast(y_pred,tf.float32), k=2) \n",
    "    tf.keras.backend.get_session().run(tf.local_variables_initializer())\n",
    "    with tf.control_dependencies([up_opt]):\n",
    "        score = tf.identity(score)\n",
    "    return score"
   ]
  },
  {
   "cell_type": "code",
   "execution_count": 534,
   "metadata": {},
   "outputs": [],
   "source": [
    "def average_precision_at_k(y_true, y_pred):\n",
    "    score, up_opt = tf.metrics.average_precision_at_k(tf.cast(y_true,tf.int64), tf.cast(y_pred,tf.float32), k=2) \n",
    "    tf.keras.backend.get_session().run(tf.local_variables_initializer())\n",
    "    with tf.control_dependencies([up_opt]):\n",
    "        score = tf.identity(score)\n",
    "    return score"
   ]
  },
  {
   "cell_type": "code",
   "execution_count": 535,
   "metadata": {},
   "outputs": [],
   "source": [
    "def precision_at_2(y_true, y_pred):\n",
    "    return tf.metrics.precision_at_k(tf.cast(y_true,tf.int64), y_pred, k=2) "
   ]
  },
  {
   "cell_type": "code",
   "execution_count": 536,
   "metadata": {},
   "outputs": [],
   "source": [
    "def precision_at_1(y_true, y_pred):\n",
    "    zero = tf.constant(0, dtype=tf.float32)\n",
    "    where = tf.not_equal(y_true, zero)\n",
    "    idx = tf.where(where)\n",
    "    print(idx)\n",
    "    return tf.metrics.precision_at_k(idx, y_pred, k=1) "
   ]
  },
  {
   "cell_type": "code",
   "execution_count": 537,
   "metadata": {},
   "outputs": [],
   "source": [
    "def overlapping_at_2(y_true, y_pred):\n",
    "    sidx = np.argsort(y_pred)\n",
    "    idx = sidx[:2]\n",
    "    \n",
    "    return 0"
   ]
  },
  {
   "cell_type": "code",
   "execution_count": 538,
   "metadata": {},
   "outputs": [],
   "source": [
    "def tf_accuracy(y_true, y_pred):\n",
    "    score, up_opt = tf.metrics.accuracy(y_true, tf.round(y_pred))\n",
    "    with tf.control_dependencies([up_opt]):\n",
    "        score = tf.identity(score)\n",
    "    return score"
   ]
  },
  {
   "cell_type": "code",
   "execution_count": 632,
   "metadata": {},
   "outputs": [],
   "source": [
    "def train_input():    \n",
    "    '''\n",
    "    for i in range(500):\n",
    "        yield [inputs[j] for j in range(len(inputs))], multi_hot_labels[i]\n",
    "    '''\n",
    "    return inputs, multi_hot_labels"
   ]
  },
  {
   "cell_type": "code",
   "execution_count": 576,
   "metadata": {},
   "outputs": [],
   "source": [
    "def sigmoid_cross_entropy_with_logits(y_true, y_pred):\n",
    "    loss = tf.nn.sigmoid_cross_entropy_with_logits(logits=y_pred, labels=y_true)\n",
    "    loss = tf.reduce_mean(tf.reduce_sum(loss, axis=1))\n",
    "    return loss"
   ]
  },
  {
   "cell_type": "code",
   "execution_count": 639,
   "metadata": {},
   "outputs": [],
   "source": [
    "model = RecoDNN(max_transaction_history, max_product_click_history, max_promotion_click_history, category_size,\n",
    "                numeric_features_size = numeric_size, input_embedding_size = input_embedding_size,\n",
    "                single_categorical_features = single_category_cols).model"
   ]
  },
  {
   "cell_type": "code",
   "execution_count": 640,
   "metadata": {},
   "outputs": [],
   "source": [
    "model.compile(loss='binary_crossentropy',\n",
    "    #loss = sigmoid_cross_entropy_with_logits,\n",
    "                       optimizer=tf.keras.optimizers.Adam(0.001),\n",
    "                       metrics=['accuracy'])"
   ]
  },
  {
   "cell_type": "code",
   "execution_count": 634,
   "metadata": {},
   "outputs": [],
   "source": [
    "model_est=tf.keras.estimator.model_to_estimator(keras_model=model, model_dir=\"kkt\")"
   ]
  },
  {
   "cell_type": "code",
   "execution_count": 641,
   "metadata": {},
   "outputs": [
    {
     "name": "stderr",
     "output_type": "stream",
     "text": [
      "I0815 09:49:09.640091 4572042688 estimator.py:1145] Calling model_fn.\n",
      "I0815 09:49:13.770554 4572042688 estimator.py:1147] Done calling model_fn.\n",
      "I0815 09:49:13.771621 4572042688 estimator.py:1364] Warm-starting with WarmStartSettings: WarmStartSettings(ckpt_to_initialize_from='kkt/keras/keras_model.ckpt', vars_to_warm_start='.*', var_name_to_vocab_info={}, var_name_to_prev_var_name={})\n",
      "I0815 09:49:13.772028 4572042688 warm_starting_util.py:419] Warm-starting from: ('kkt/keras/keras_model.ckpt',)\n",
      "I0815 09:49:13.772552 4572042688 warm_starting_util.py:333] Warm-starting variables only in TRAINABLE_VARIABLES.\n",
      "I0815 09:49:13.815333 4572042688 warm_starting_util.py:481] Warm-started 16 variables.\n",
      "I0815 09:49:13.816998 4572042688 basic_session_run_hooks.py:541] Create CheckpointSaverHook.\n",
      "I0815 09:49:13.941338 4572042688 monitored_session.py:240] Graph was finalized.\n",
      "I0815 09:49:13.943490 4572042688 saver.py:1280] Restoring parameters from kkt/model.ckpt-200\n",
      "I0815 09:49:14.028549 4572042688 session_manager.py:500] Running local_init_op.\n",
      "I0815 09:49:14.044919 4572042688 session_manager.py:502] Done running local_init_op.\n",
      "I0815 09:49:14.458770 4572042688 basic_session_run_hooks.py:606] Saving checkpoints for 200 into kkt/model.ckpt.\n",
      "I0815 09:49:14.791941 4572042688 basic_session_run_hooks.py:262] loss = 2.6569782e-05, step = 201\n",
      "I0815 09:49:15.640563 4572042688 basic_session_run_hooks.py:692] global_step/sec: 117.787\n",
      "I0815 09:49:15.641897 4572042688 basic_session_run_hooks.py:260] loss = 1.0085708e-05, step = 301 (0.850 sec)\n",
      "I0815 09:49:16.300956 4572042688 basic_session_run_hooks.py:692] global_step/sec: 151.425\n",
      "I0815 09:49:16.302141 4572042688 basic_session_run_hooks.py:260] loss = 4.64907e-06, step = 401 (0.660 sec)\n",
      "I0815 09:49:16.953544 4572042688 basic_session_run_hooks.py:692] global_step/sec: 153.235\n",
      "I0815 09:49:16.954694 4572042688 basic_session_run_hooks.py:260] loss = 2.3533744e-06, step = 501 (0.653 sec)\n",
      "I0815 09:49:17.597562 4572042688 basic_session_run_hooks.py:692] global_step/sec: 155.274\n",
      "I0815 09:49:17.598644 4572042688 basic_session_run_hooks.py:260] loss = 1.277655e-06, step = 601 (0.644 sec)\n",
      "I0815 09:49:18.252667 4572042688 basic_session_run_hooks.py:692] global_step/sec: 152.647\n",
      "I0815 09:49:18.254034 4572042688 basic_session_run_hooks.py:260] loss = 7.778116e-07, step = 701 (0.655 sec)\n",
      "I0815 09:49:18.902692 4572042688 basic_session_run_hooks.py:692] global_step/sec: 153.84\n",
      "I0815 09:49:18.904507 4572042688 basic_session_run_hooks.py:260] loss = 5.104459e-07, step = 801 (0.650 sec)\n",
      "I0815 09:49:19.556665 4572042688 basic_session_run_hooks.py:692] global_step/sec: 152.914\n",
      "I0815 09:49:19.559061 4572042688 basic_session_run_hooks.py:260] loss = 3.5924185e-07, step = 901 (0.655 sec)\n",
      "I0815 09:49:20.204033 4572042688 basic_session_run_hooks.py:692] global_step/sec: 154.493\n",
      "I0815 09:49:20.205343 4572042688 basic_session_run_hooks.py:260] loss = 2.6631068e-07, step = 1001 (0.646 sec)\n",
      "I0815 09:49:20.825991 4572042688 basic_session_run_hooks.py:692] global_step/sec: 160.759\n",
      "I0815 09:49:20.827095 4572042688 basic_session_run_hooks.py:260] loss = 2.0496132e-07, step = 1101 (0.622 sec)\n",
      "I0815 09:49:21.505256 4572042688 basic_session_run_hooks.py:606] Saving checkpoints for 1200 into kkt/model.ckpt.\n",
      "I0815 09:49:21.629576 4572042688 estimator.py:368] Loss for final step: 1.6328842e-07.\n"
     ]
    },
    {
     "data": {
      "text/plain": [
       "<tensorflow_estimator.python.estimator.estimator.Estimator at 0x17a7a8550>"
      ]
     },
     "execution_count": 641,
     "metadata": {},
     "output_type": "execute_result"
    }
   ],
   "source": [
    "model_est.train(input_fn=train_input, steps=1000)"
   ]
  },
  {
   "cell_type": "code",
   "execution_count": 642,
   "metadata": {},
   "outputs": [
    {
     "name": "stderr",
     "output_type": "stream",
     "text": [
      "I0815 09:49:21.682789 4572042688 estimator.py:1145] Calling model_fn.\n",
      "I0815 09:49:21.904263 4572042688 estimator.py:1147] Done calling model_fn.\n",
      "I0815 09:49:21.923299 4572042688 evaluation.py:255] Starting evaluation at 2019-08-15T09:49:21Z\n",
      "I0815 09:49:22.012088 4572042688 monitored_session.py:240] Graph was finalized.\n",
      "I0815 09:49:22.013727 4572042688 saver.py:1280] Restoring parameters from kkt/model.ckpt-1200\n",
      "I0815 09:49:22.051066 4572042688 session_manager.py:500] Running local_init_op.\n",
      "I0815 09:49:22.061838 4572042688 session_manager.py:502] Done running local_init_op.\n",
      "I0815 09:49:22.135637 4572042688 evaluation.py:167] Evaluation [10/100]\n",
      "I0815 09:49:22.158746 4572042688 evaluation.py:167] Evaluation [20/100]\n",
      "I0815 09:49:22.182600 4572042688 evaluation.py:167] Evaluation [30/100]\n",
      "I0815 09:49:22.205085 4572042688 evaluation.py:167] Evaluation [40/100]\n",
      "I0815 09:49:22.229595 4572042688 evaluation.py:167] Evaluation [50/100]\n",
      "I0815 09:49:22.253997 4572042688 evaluation.py:167] Evaluation [60/100]\n",
      "I0815 09:49:22.277371 4572042688 evaluation.py:167] Evaluation [70/100]\n",
      "I0815 09:49:22.308261 4572042688 evaluation.py:167] Evaluation [80/100]\n",
      "I0815 09:49:22.338757 4572042688 evaluation.py:167] Evaluation [90/100]\n",
      "I0815 09:49:22.368207 4572042688 evaluation.py:167] Evaluation [100/100]\n",
      "I0815 09:49:22.381243 4572042688 evaluation.py:275] Finished evaluation at 2019-08-15-09:49:22\n",
      "I0815 09:49:22.382064 4572042688 estimator.py:2039] Saving dict for global step 1200: acc = 1.0, global_step = 1200, loss = 1.62937e-07\n",
      "I0815 09:49:22.382894 4572042688 estimator.py:2099] Saving 'checkpoint_path' summary for global step 1200: kkt/model.ckpt-1200\n"
     ]
    },
    {
     "data": {
      "text/plain": [
       "{'acc': 1.0, 'loss': 1.62937e-07, 'global_step': 1200}"
      ]
     },
     "execution_count": 642,
     "metadata": {},
     "output_type": "execute_result"
    }
   ],
   "source": [
    "model_est.evaluate(input_fn=train_input, steps=100)"
   ]
  },
  {
   "cell_type": "code",
   "execution_count": null,
   "metadata": {},
   "outputs": [],
   "source": []
  },
  {
   "cell_type": "code",
   "execution_count": null,
   "metadata": {},
   "outputs": [],
   "source": []
  },
  {
   "cell_type": "code",
   "execution_count": null,
   "metadata": {},
   "outputs": [],
   "source": []
  },
  {
   "cell_type": "code",
   "execution_count": 617,
   "metadata": {},
   "outputs": [],
   "source": [
    "tf.keras.backend.get_session().run(tf.local_variables_initializer())"
   ]
  },
  {
   "cell_type": "code",
   "execution_count": 618,
   "metadata": {},
   "outputs": [],
   "source": [
    "#model.summary()"
   ]
  },
  {
   "cell_type": "code",
   "execution_count": 619,
   "metadata": {},
   "outputs": [],
   "source": [
    "#tf.keras.utils.plot_model(model, to_file='../figures/model.png', show_shapes=True, show_layer_names=True)"
   ]
  },
  {
   "cell_type": "code",
   "execution_count": 620,
   "metadata": {},
   "outputs": [
    {
     "name": "stdout",
     "output_type": "stream",
     "text": [
      "validation_steps 80\n"
     ]
    }
   ],
   "source": [
    "sm=Metrics([inputs[i][20:100] for i in range(len(inputs))], multi_hot_labels[20:100])"
   ]
  },
  {
   "cell_type": "code",
   "execution_count": 621,
   "metadata": {},
   "outputs": [
    {
     "name": "stdout",
     "output_type": "stream",
     "text": [
      "Train on 450 samples, validate on 50 samples\n",
      "Epoch 1/20\n",
      "240/450 [===============>..............] - ETA: 0s - loss: 0.6149 - acc: 0.6050 \n",
      "\n",
      "epoch 0\n",
      " - val_f1_score: 0.14182 - val_precision: 0.10105 - val_recall: 0.23776\n",
      "450/450 [==============================] - 4s 10ms/sample - loss: 0.5917 - acc: 0.6169 - val_loss: 0.5475 - val_acc: 0.6560\n",
      "Epoch 2/20\n",
      "240/450 [===============>..............] - ETA: 0s - loss: 0.5534 - acc: 0.6242\n",
      "\n",
      "epoch 1\n",
      " - val_f1_score: 0.20158 - val_precision: 0.17496 - val_recall: 0.23776\n",
      "450/450 [==============================] - 0s 314us/sample - loss: 0.5507 - acc: 0.6364 - val_loss: 0.5537 - val_acc: 0.6400\n",
      "Epoch 3/20\n",
      " 20/450 [>.............................] - ETA: 0s - loss: 0.5512 - acc: 0.6700"
     ]
    },
    {
     "name": "stderr",
     "output_type": "stream",
     "text": [
      "/Users/pengcheng.jia/anaconda3/envs/reco/lib/python3.6/site-packages/sklearn/metrics/classification.py:1437: UndefinedMetricWarning: F-score is ill-defined and being set to 0.0 in labels with no predicted samples.\n",
      "  'precision', 'predicted', average, warn_for)\n",
      "/Users/pengcheng.jia/anaconda3/envs/reco/lib/python3.6/site-packages/sklearn/metrics/classification.py:1439: UndefinedMetricWarning: F-score is ill-defined and being set to 0.0 in labels with no true samples.\n",
      "  'recall', 'true', average, warn_for)\n",
      "/Users/pengcheng.jia/anaconda3/envs/reco/lib/python3.6/site-packages/sklearn/metrics/classification.py:1437: UndefinedMetricWarning: Precision is ill-defined and being set to 0.0 in labels with no predicted samples.\n",
      "  'precision', 'predicted', average, warn_for)\n",
      "/Users/pengcheng.jia/anaconda3/envs/reco/lib/python3.6/site-packages/sklearn/metrics/classification.py:1439: UndefinedMetricWarning: Recall is ill-defined and being set to 0.0 in labels with no true samples.\n",
      "  'recall', 'true', average, warn_for)\n"
     ]
    },
    {
     "name": "stdout",
     "output_type": "stream",
     "text": [
      "420/450 [===========================>..] - ETA: 0s - loss: 0.5393 - acc: 0.6671\n",
      "\n",
      "epoch 2\n",
      " - val_f1_score: 0.27606 - val_precision: 0.29279 - val_recall: 0.34266\n",
      "450/450 [==============================] - 0s 347us/sample - loss: 0.5384 - acc: 0.6689 - val_loss: 0.5637 - val_acc: 0.6200\n",
      "Epoch 4/20\n",
      "240/450 [===============>..............] - ETA: 0s - loss: 0.5178 - acc: 0.6900\n",
      "\n",
      "epoch 3\n",
      " - val_f1_score: 0.54013 - val_precision: 0.78874 - val_recall: 0.48252\n",
      "450/450 [==============================] - 0s 294us/sample - loss: 0.5134 - acc: 0.6996 - val_loss: 0.5745 - val_acc: 0.6360\n",
      "Epoch 5/20\n",
      "260/450 [================>.............] - ETA: 0s - loss: 0.4704 - acc: 0.7431\n",
      "\n",
      "epoch 4\n",
      " - val_f1_score: 0.67908 - val_precision: 0.79436 - val_recall: 0.71329\n",
      "450/450 [==============================] - 0s 294us/sample - loss: 0.4678 - acc: 0.7493 - val_loss: 0.6757 - val_acc: 0.5560\n",
      "Epoch 6/20\n",
      "260/450 [================>.............] - ETA: 0s - loss: 0.4119 - acc: 0.7900\n",
      "\n",
      "epoch 5\n",
      " - val_f1_score: 0.87882 - val_precision: 0.85528 - val_recall: 0.90909\n",
      "450/450 [==============================] - 0s 285us/sample - loss: 0.4003 - acc: 0.7996 - val_loss: 0.7533 - val_acc: 0.5400\n",
      "Epoch 7/20\n",
      "260/450 [================>.............] - ETA: 0s - loss: 0.2910 - acc: 0.8862\n",
      "\n",
      "epoch 6\n",
      " - val_f1_score: 0.92616 - val_precision: 0.92994 - val_recall: 0.93007\n",
      "450/450 [==============================] - 0s 285us/sample - loss: 0.2949 - acc: 0.8773 - val_loss: 0.9712 - val_acc: 0.5360\n",
      "Epoch 8/20\n",
      "260/450 [================>.............] - ETA: 0s - loss: 0.1807 - acc: 0.9454\n",
      "\n",
      "epoch 7\n",
      " - val_f1_score: 0.96582 - val_precision: 0.95469 - val_recall: 0.97902\n",
      "450/450 [==============================] - 0s 291us/sample - loss: 0.1701 - acc: 0.9480 - val_loss: 1.2401 - val_acc: 0.5520\n",
      "Epoch 9/20\n",
      "260/450 [================>.............] - ETA: 0s - loss: 0.0766 - acc: 0.9862\n",
      "\n",
      "epoch 8\n",
      " - val_f1_score: 0.99280 - val_precision: 1.00000 - val_recall: 0.98601\n",
      "450/450 [==============================] - 0s 302us/sample - loss: 0.0755 - acc: 0.9831 - val_loss: 1.6049 - val_acc: 0.5200\n",
      "Epoch 10/20\n",
      "240/450 [===============>..............] - ETA: 0s - loss: 0.0344 - acc: 0.9958\n",
      "\n",
      "epoch 9\n",
      " - val_f1_score: 1.00000 - val_precision: 1.00000 - val_recall: 1.00000\n",
      "450/450 [==============================] - 0s 310us/sample - loss: 0.0297 - acc: 0.9964 - val_loss: 1.7560 - val_acc: 0.5720\n",
      "Epoch 11/20\n",
      "260/450 [================>.............] - ETA: 0s - loss: 0.0108 - acc: 0.9977\n",
      "\n",
      "epoch 10\n",
      " - val_f1_score: 1.00000 - val_precision: 1.00000 - val_recall: 1.00000\n",
      "450/450 [==============================] - 0s 294us/sample - loss: 0.0115 - acc: 0.9973 - val_loss: 2.0136 - val_acc: 0.5800\n",
      "Epoch 12/20\n",
      "260/450 [================>.............] - ETA: 0s - loss: 0.0070 - acc: 0.9985\n",
      "\n",
      "epoch 11\n",
      " - val_f1_score: 1.00000 - val_precision: 1.00000 - val_recall: 1.00000\n",
      "450/450 [==============================] - 0s 295us/sample - loss: 0.0068 - acc: 0.9987 - val_loss: 2.1604 - val_acc: 0.5680\n",
      "Epoch 13/20\n",
      "260/450 [================>.............] - ETA: 0s - loss: 0.0034 - acc: 1.0000\n",
      "\n",
      "epoch 12\n",
      " - val_f1_score: 1.00000 - val_precision: 1.00000 - val_recall: 1.00000\n",
      "450/450 [==============================] - 0s 292us/sample - loss: 0.0030 - acc: 1.0000 - val_loss: 2.2305 - val_acc: 0.5600\n",
      "Epoch 14/20\n",
      "260/450 [================>.............] - ETA: 0s - loss: 0.0016 - acc: 1.0000\n",
      "\n",
      "epoch 13\n",
      " - val_f1_score: 1.00000 - val_precision: 1.00000 - val_recall: 1.00000\n",
      "450/450 [==============================] - 0s 301us/sample - loss: 0.0014 - acc: 1.0000 - val_loss: 2.3803 - val_acc: 0.5560\n",
      "Epoch 15/20\n",
      "240/450 [===============>..............] - ETA: 0s - loss: 9.5589e-04 - acc: 1.0000\n",
      "\n",
      "epoch 14\n",
      " - val_f1_score: 1.00000 - val_precision: 1.00000 - val_recall: 1.00000\n",
      "450/450 [==============================] - 0s 300us/sample - loss: 9.3301e-04 - acc: 1.0000 - val_loss: 2.4265 - val_acc: 0.5640\n",
      "Epoch 16/20\n",
      "260/450 [================>.............] - ETA: 0s - loss: 6.7457e-04 - acc: 1.0000\n",
      "\n",
      "epoch 15\n",
      " - val_f1_score: 1.00000 - val_precision: 1.00000 - val_recall: 1.00000\n",
      "450/450 [==============================] - 0s 278us/sample - loss: 6.8109e-04 - acc: 1.0000 - val_loss: 2.5081 - val_acc: 0.5560\n",
      "Epoch 17/20\n",
      "260/450 [================>.............] - ETA: 0s - loss: 5.6356e-04 - acc: 1.0000\n",
      "\n",
      "epoch 16\n",
      " - val_f1_score: 1.00000 - val_precision: 1.00000 - val_recall: 1.00000\n",
      "450/450 [==============================] - 0s 281us/sample - loss: 5.4389e-04 - acc: 1.0000 - val_loss: 2.5657 - val_acc: 0.5560\n",
      "Epoch 18/20\n",
      "260/450 [================>.............] - ETA: 0s - loss: 4.4987e-04 - acc: 1.0000\n",
      "\n",
      "epoch 17\n",
      " - val_f1_score: 1.00000 - val_precision: 1.00000 - val_recall: 1.00000\n",
      "450/450 [==============================] - 0s 275us/sample - loss: 4.4728e-04 - acc: 1.0000 - val_loss: 2.6231 - val_acc: 0.5560\n",
      "Epoch 19/20\n",
      "280/450 [=================>............] - ETA: 0s - loss: 3.7106e-04 - acc: 1.0000\n",
      "\n",
      "epoch 18\n",
      " - val_f1_score: 1.00000 - val_precision: 1.00000 - val_recall: 1.00000\n",
      "450/450 [==============================] - 0s 273us/sample - loss: 3.7668e-04 - acc: 1.0000 - val_loss: 2.6768 - val_acc: 0.5560\n",
      "Epoch 20/20\n",
      "260/450 [================>.............] - ETA: 0s - loss: 3.2160e-04 - acc: 1.0000\n",
      "\n",
      "epoch 19\n",
      " - val_f1_score: 1.00000 - val_precision: 1.00000 - val_recall: 1.00000\n",
      "450/450 [==============================] - 0s 284us/sample - loss: 3.1937e-04 - acc: 1.0000 - val_loss: 2.7232 - val_acc: 0.5560\n"
     ]
    }
   ],
   "source": [
    "history = model.fit(x=inputs, y=multi_hot_labels, validation_split=0.1, epochs=20, batch_size=20, callbacks=[sm])"
   ]
  },
  {
   "cell_type": "code",
   "execution_count": 611,
   "metadata": {},
   "outputs": [
    {
     "data": {
      "image/png": "[encoded data removed]",
      "text/plain": [
       "<Figure size 432x288 with 1 Axes>"
      ]
     },
     "metadata": {
      "needs_background": "light"
     },
     "output_type": "display_data"
    },
    {
     "data": {
      "image/png": "[encoded data removed]",
      "text/plain": [
       "<Figure size 432x288 with 1 Axes>"
      ]
     },
     "metadata": {
      "needs_background": "light"
     },
     "output_type": "display_data"
    }
   ],
   "source": [
    "import matplotlib.pyplot as plt\n",
    "\n",
    "acc = history.history['acc']\n",
    "val_acc = history.history['val_acc']\n",
    "loss = history.history['loss']\n",
    "val_loss = history.history['val_loss']\n",
    "\n",
    "epochs = range(len(acc))\n",
    "\n",
    "plt.plot(epochs, acc, 'bo', label='Training acc')\n",
    "plt.plot(epochs, val_acc, 'b', label='Validation acc')\n",
    "plt.title('Training and validation accuracy')\n",
    "plt.legend()\n",
    "\n",
    "plt.figure()\n",
    "\n",
    "plt.plot(epochs, loss, 'bo', label='Training loss')\n",
    "plt.plot(epochs, val_loss, 'b', label='Validation loss')\n",
    "plt.title('Training and validation loss')\n",
    "plt.legend()\n",
    "\n",
    "plt.show()"
   ]
  },
  {
   "cell_type": "code",
   "execution_count": 315,
   "metadata": {},
   "outputs": [],
   "source": [
    "model.save('../outputs/reco_dnn.h5')  # save model "
   ]
  },
  {
   "cell_type": "code",
   "execution_count": 280,
   "metadata": {},
   "outputs": [
    {
     "name": "stdout",
     "output_type": "stream",
     "text": [
      "500/500 [==============================] - 0s 718us/sample - loss: 4.5309e-04 - acc: 1.0000 - tf_accuracy: 0.0804\n"
     ]
    },
    {
     "data": {
      "text/plain": [
       "[0.00045308884559199213, 1.0, 0.08043264]"
      ]
     },
     "execution_count": 280,
     "metadata": {},
     "output_type": "execute_result"
    }
   ],
   "source": [
    "model.evaluate(inputs, multi_hot_labels)"
   ]
  },
  {
   "cell_type": "markdown",
   "metadata": {},
   "source": [
    "# infere user embedding"
   ]
  },
  {
   "cell_type": "code",
   "execution_count": 262,
   "metadata": {},
   "outputs": [],
   "source": [
    "lmodel = tf.keras.models.load_model('../outputs/reco_dnn.h5', compile=False)"
   ]
  },
  {
   "cell_type": "code",
   "execution_count": 263,
   "metadata": {},
   "outputs": [],
   "source": [
    "layer_name = 'user_embedding'\n",
    "intermediate_layer_model = tf.keras.Model(inputs=lmodel.input,\n",
    "                                 outputs=lmodel.get_layer(layer_name).output)\n"
   ]
  },
  {
   "cell_type": "code",
   "execution_count": 264,
   "metadata": {},
   "outputs": [],
   "source": [
    "sz=3  # use first three rows as inputs\n",
    "dat = inputs[0][0:sz], inputs[1][0:sz],inputs[2][0:sz],inputs[3][0:sz],inputs[4][0:sz],inputs[5][0:sz],inputs[6][0:sz]"
   ]
  },
  {
   "cell_type": "code",
   "execution_count": 265,
   "metadata": {},
   "outputs": [],
   "source": [
    "intermediate_output = intermediate_layer_model.predict(dat)"
   ]
  },
  {
   "cell_type": "code",
   "execution_count": 266,
   "metadata": {},
   "outputs": [
    {
     "data": {
      "text/plain": [
       "array([[ 0.        ,  0.        , 11.98904   ,  9.113922  ,  0.        ,\n",
       "         0.        , 21.0179    ,  0.        , 17.729858  ,  0.        ,\n",
       "         6.1496673 , 10.724029  ,  6.9300375 ,  0.        ,  7.4779935 ,\n",
       "         7.5301666 ,  7.3297377 ,  6.8732986 ,  0.        ,  0.        ,\n",
       "         0.        ,  0.        ,  2.1289222 ,  0.        , 10.810701  ,\n",
       "         7.4345446 ,  0.        ,  0.        ,  0.        ,  0.        ,\n",
       "         0.        ,  0.3126397 ,  0.        ,  0.        ,  0.        ,\n",
       "         0.        ,  2.4478593 ,  6.635885  ,  0.        ,  0.        ,\n",
       "         6.822124  ,  0.        ,  0.        , 13.865654  ,  0.        ,\n",
       "         0.        ,  0.        ,  0.        ,  0.        ,  8.586072  ,\n",
       "         0.        ,  4.683244  ,  0.3855984 ,  0.        ,  0.        ,\n",
       "         0.        ,  1.6309222 ,  0.        ,  0.        ,  0.        ,\n",
       "         3.7835302 ,  0.9176029 ,  0.8315637 ,  0.        ],\n",
       "       [ 0.        ,  0.        ,  3.8426456 ,  2.8792574 ,  0.        ,\n",
       "         0.        , 12.240325  ,  1.6658136 ,  7.4812603 ,  0.        ,\n",
       "         1.0513952 ,  5.451871  ,  3.420502  ,  0.        ,  4.132745  ,\n",
       "         0.        ,  0.        ,  5.866193  ,  7.430934  ,  0.        ,\n",
       "         0.        ,  0.        , 13.989587  ,  0.        ,  7.8613887 ,\n",
       "         3.300058  ,  7.786233  ,  0.        ,  0.        ,  0.        ,\n",
       "         7.2952824 ,  0.84015304,  0.        ,  0.        ,  0.        ,\n",
       "         0.        , 11.419354  ,  2.123434  ,  0.        ,  0.        ,\n",
       "         3.1096807 ,  0.        ,  0.        , 10.281544  ,  0.        ,\n",
       "         0.        ,  0.        ,  3.0383277 ,  0.        , 11.183013  ,\n",
       "         0.        ,  0.        ,  1.7903764 ,  0.        ,  0.        ,\n",
       "         0.        ,  7.045709  ,  3.7342072 ,  0.        ,  0.        ,\n",
       "         7.635397  ,  0.19539307,  2.030272  ,  0.        ],\n",
       "       [ 0.        ,  0.        ,  7.334284  ,  6.50092   ,  0.        ,\n",
       "         0.        ,  6.2174425 ,  4.8897166 ,  5.944804  ,  0.        ,\n",
       "         8.178561  ,  5.6109915 ,  0.6117182 ,  0.        , 11.804811  ,\n",
       "         6.31005   ,  3.7240217 ,  1.7607088 ,  4.8361135 ,  0.        ,\n",
       "         0.        ,  0.        ,  5.821287  ,  0.        ,  5.3001227 ,\n",
       "         7.9658527 ,  5.7353096 ,  0.        ,  0.        ,  0.        ,\n",
       "         1.2877738 ,  2.988449  ,  0.        ,  0.        ,  0.        ,\n",
       "         0.        ,  7.4713936 ,  3.3485968 ,  0.        ,  0.        ,\n",
       "         0.        ,  0.        ,  0.        ,  7.6387653 ,  0.        ,\n",
       "         0.        ,  0.        ,  1.1795391 ,  0.        , 10.721811  ,\n",
       "         0.        ,  5.554551  ,  4.180667  ,  0.        ,  0.        ,\n",
       "         0.        ,  3.8435965 ,  5.780997  ,  0.        ,  0.        ,\n",
       "         7.388593  ,  0.        ,  5.3694205 ,  0.        ]],\n",
       "      dtype=float32)"
      ]
     },
     "execution_count": 266,
     "metadata": {},
     "output_type": "execute_result"
    }
   ],
   "source": [
    "intermediate_output   # these are embeddings for users"
   ]
  },
  {
   "cell_type": "code",
   "execution_count": 267,
   "metadata": {},
   "outputs": [
    {
     "data": {
      "text/plain": [
       "array([[2.0861626e-07, 1.2609363e-04, 9.9842501e-01, 9.9996066e-01,\n",
       "        0.0000000e+00],\n",
       "       [9.9958515e-01, 7.2628260e-05, 9.9902403e-01, 3.4957218e-05,\n",
       "        0.0000000e+00],\n",
       "       [4.7533883e-04, 9.9914777e-01, 9.9993169e-01, 7.4460684e-07,\n",
       "        0.0000000e+00]], dtype=float32)"
      ]
     },
     "execution_count": 267,
     "metadata": {},
     "output_type": "execute_result"
    }
   ],
   "source": [
    "p=lmodel.predict(dat)\n",
    "p"
   ]
  },
  {
   "cell_type": "code",
   "execution_count": 278,
   "metadata": {},
   "outputs": [
    {
     "data": {
      "text/plain": [
       "array([[2, 3],\n",
       "       [2, 0],\n",
       "       [1, 2]])"
      ]
     },
     "execution_count": 278,
     "metadata": {},
     "output_type": "execute_result"
    }
   ],
   "source": [
    "np.argsort(p)[:, -2:]"
   ]
  },
  {
   "cell_type": "code",
   "execution_count": 364,
   "metadata": {},
   "outputs": [
    {
     "data": {
      "text/plain": [
       "array([[0, 0, 1, 1, 0],\n",
       "       [1, 0, 1, 0, 0],\n",
       "       [0, 1, 1, 0, 0]], dtype=int8)"
      ]
     },
     "execution_count": 364,
     "metadata": {},
     "output_type": "execute_result"
    }
   ],
   "source": [
    "multi_hot_labels[:3]"
   ]
  },
  {
   "cell_type": "code",
   "execution_count": 269,
   "metadata": {},
   "outputs": [
    {
     "data": {
      "text/plain": [
       "1"
      ]
     },
     "execution_count": 269,
     "metadata": {},
     "output_type": "execute_result"
    }
   ],
   "source": [
    "np.argmax([0,1,1,0])"
   ]
  },
  {
   "cell_type": "code",
   "execution_count": null,
   "metadata": {},
   "outputs": [],
   "source": []
  },
  {
   "cell_type": "code",
   "execution_count": null,
   "metadata": {},
   "outputs": [],
   "source": []
  }
 ],
 "metadata": {
  "kernelspec": {
   "display_name": "Python 3",
   "language": "python",
   "name": "python3"
  },
  "language_info": {
   "codemirror_mode": {
    "name": "ipython",
    "version": 3
   },
   "file_extension": ".py",
   "mimetype": "text/x-python",
   "name": "python",
   "nbconvert_exporter": "python",
   "pygments_lexer": "ipython3",
   "version": "3.6.8"
  }
 },
 "nbformat": 4,
 "nbformat_minor": 2
}
