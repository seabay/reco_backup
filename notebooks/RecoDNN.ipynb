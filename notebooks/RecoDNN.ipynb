{
 "cells": [
  {
   "cell_type": "code",
   "execution_count": 1,
   "metadata": {},
   "outputs": [
    {
     "name": "stderr",
     "output_type": "stream",
     "text": [
      "Using TensorFlow backend.\n"
     ]
    }
   ],
   "source": [
    "import numpy as np\n",
    "import keras\n",
    "import tensorflow as tf\n",
    "from keras import backend as K\n",
    "from extra_keras_metrics import average_precision_at_k\n",
    "from IPython.display import SVG\n",
    "from keras.utils.vis_utils import plot_model\n",
    "import pydot as pyd\n",
    "from keras.utils.vis_utils import model_to_dot\n",
    "from keras.layers import Input, Dense, Embedding, Lambda, Reshape, Flatten, Average\n",
    "from keras.models import Model\n",
    "from keras.backend import mean, max\n",
    "from keras.preprocessing.sequence import pad_sequences\n",
    "\n",
    "keras.utils.vis_utils.pydot = pyd"
   ]
  },
  {
   "cell_type": "code",
   "execution_count": 2,
   "metadata": {},
   "outputs": [
    {
     "data": {
      "text/plain": [
       "'1.13.1'"
      ]
     },
     "execution_count": 2,
     "metadata": {},
     "output_type": "execute_result"
    }
   ],
   "source": [
    "tf.__version__"
   ]
  },
  {
   "cell_type": "code",
   "execution_count": 3,
   "metadata": {},
   "outputs": [],
   "source": [
    "max_history = 50\n",
    "category_size = 100\n"
   ]
  },
  {
   "cell_type": "code",
   "execution_count": 4,
   "metadata": {},
   "outputs": [],
   "source": [
    "hidden_layer1_size = 256\n",
    "hidden_layer2_size = 128\n",
    "hidden_layer3_size = 64\n",
    "\n",
    "input_embedding_size = 64\n"
   ]
  },
  {
   "cell_type": "code",
   "execution_count": 5,
   "metadata": {},
   "outputs": [],
   "source": [
    "purchase_cols = [x for x in range(max_history)]\n",
    "product_click_cols = [x for x in range(max_history, max_history*2)]\n",
    "promotion_click_cols = [x for x in range(max_history*2, max_history*3)]\n",
    "seq_category_cols = [purchase_cols, product_click_cols, promotion_click_cols]\n",
    "\n",
    "\n",
    "numeric_cols = [x for x in range(max_history*3, max_history*3 + 10)]\n",
    "single_category_cols = {105:3,106:5,107:10}   ## such as location : unique_value_size"
   ]
  },
  {
   "cell_type": "code",
   "execution_count": 6,
   "metadata": {},
   "outputs": [],
   "source": [
    "category_embeddings = Embedding(output_dim=input_embedding_size, input_dim = category_size, \n",
    "                       input_length=max_history, mask_zero=True, name='category_embeddings')"
   ]
  },
  {
   "cell_type": "code",
   "execution_count": 35,
   "metadata": {},
   "outputs": [],
   "source": [
    "def seq_categorical_input(name):\n",
    "    \n",
    "    seq = Input(shape=(max_history,), dtype='int32', name=name)\n",
    "    input_embeddings = category_embeddings(seq)\n",
    "    avg = Lambda(lambda x: mean(x, axis=1), name= name + '_avg_embedding')\n",
    "    avg_embedding = avg(input_embeddings)\n",
    "    \n",
    "    maxf = Lambda(lambda x: max(x, axis=1), name = name + '_max_embedding')\n",
    "    max_embedding = maxf(input_embeddings)\n",
    "    \n",
    "    return seq, avg_embedding   #keras.layers.add([avg_embedding, max_embedding])"
   ]
  },
  {
   "cell_type": "code",
   "execution_count": 29,
   "metadata": {},
   "outputs": [],
   "source": [
    "def singe_categorical_input(name, unique_size):\n",
    "    single = Input(shape=(1,), dtype='int32', name=name)\n",
    "    embeddings = Embedding(output_dim=input_embedding_size, input_dim = unique_size, \n",
    "                       input_length=1, name=name + '_embedding')(single)\n",
    "    embeddings = Flatten(name = 'flatten_' + name)(embeddings)\n",
    "    return single, embeddings"
   ]
  },
  {
   "cell_type": "code",
   "execution_count": 9,
   "metadata": {},
   "outputs": [],
   "source": [
    "def continous_inputs(size=None, name='numeric'):\n",
    "    inp = Input(shape=(size,), dtype='float32', name=name)\n",
    "    return inp, inp"
   ]
  },
  {
   "cell_type": "code",
   "execution_count": 40,
   "metadata": {},
   "outputs": [],
   "source": [
    "def RecoDNN():\n",
    "\n",
    "    seqs = []\n",
    "    for i, grp in enumerate(seq_category_cols):\n",
    "        seqs.append(seq_categorical_input('categorical_' + str(i)))\n",
    "        \n",
    "    singles = []\n",
    "    for col in single_category_cols:\n",
    "        singles.append(singe_categorical_input(str(col), single_category_cols[col]))\n",
    "\n",
    "    nums = continous_inputs(len(numeric_cols))\n",
    "    \n",
    "    inp_layer =  [s[0] for s in seqs]\n",
    "    inp_layer += [s[0] for s in singles]\n",
    "    inp_layer.append(nums[0])\n",
    "    inp_embed = [s[1] for s in seqs]\n",
    "    inp_embed += [s[1] for s in singles]\n",
    "    inp_embed.append(nums[1])\n",
    "    \n",
    "    v = Dense(hidden_layer1_size, activation='relu')(keras.layers.concatenate(inp_embed)) \n",
    "    v = Dense(hidden_layer2_size, activation='relu')(v)\n",
    "    v = Dense(hidden_layer3_size, activation='relu', name='user_embedding')(v)\n",
    "    output = Dense(category_size, activation='softmax', name='softmax_layer')(v)\n",
    "    model = Model(inputs=inp_layer, outputs=[output])\n",
    "    \n",
    "    return model"
   ]
  },
  {
   "cell_type": "code",
   "execution_count": null,
   "metadata": {},
   "outputs": [],
   "source": []
  },
  {
   "cell_type": "markdown",
   "metadata": {},
   "source": [
    "# Fake data"
   ]
  },
  {
   "cell_type": "code",
   "execution_count": 11,
   "metadata": {},
   "outputs": [],
   "source": [
    "data_size = 10000\n"
   ]
  },
  {
   "cell_type": "code",
   "execution_count": 12,
   "metadata": {},
   "outputs": [],
   "source": [
    "\n",
    "data1 = np.random.randint(category_size, size=(data_size, max_history))\n",
    "data2 = np.random.randint(category_size, size=(data_size, max_history))\n",
    "data3 = np.random.randint(category_size, size=(data_size, max_history))\n",
    "\n",
    "single1 = np.random.randint(3, size=(data_size, 1))\n",
    "single2 = np.random.randint(5, size=(data_size, 1))\n",
    "single3 = np.random.randint(10, size=(data_size, 1))\n",
    "num1 = np.random.random(size=(data_size, len(numeric_cols)))\n",
    "\n",
    "labels = np.random.randint(category_size, size=(data_size, 1))\n",
    "one_hot_labels = keras.utils.to_categorical(labels, num_classes=category_size)\n",
    "\n"
   ]
  },
  {
   "cell_type": "markdown",
   "metadata": {},
   "source": [
    "* raw features extraction and integration\n",
    "* sample and build raw training set\n",
    "* feature creation, transformation and normalization"
   ]
  },
  {
   "cell_type": "markdown",
   "metadata": {},
   "source": [
    "# Train model"
   ]
  },
  {
   "cell_type": "code",
   "execution_count": 50,
   "metadata": {},
   "outputs": [],
   "source": [
    "model = RecoDNN()\n"
   ]
  },
  {
   "cell_type": "code",
   "execution_count": 51,
   "metadata": {},
   "outputs": [
    {
     "name": "stdout",
     "output_type": "stream",
     "text": [
      "__________________________________________________________________________________________________\n",
      "Layer (type)                    Output Shape         Param #     Connected to                     \n",
      "==================================================================================================\n",
      "categorical_0 (InputLayer)      (None, 50)           0                                            \n",
      "__________________________________________________________________________________________________\n",
      "categorical_1 (InputLayer)      (None, 50)           0                                            \n",
      "__________________________________________________________________________________________________\n",
      "categorical_2 (InputLayer)      (None, 50)           0                                            \n",
      "__________________________________________________________________________________________________\n",
      "105 (InputLayer)                (None, 1)            0                                            \n",
      "__________________________________________________________________________________________________\n",
      "106 (InputLayer)                (None, 1)            0                                            \n",
      "__________________________________________________________________________________________________\n",
      "107 (InputLayer)                (None, 1)            0                                            \n",
      "__________________________________________________________________________________________________\n",
      "category_embeddings (Embedding) (None, 50, 64)       6400        categorical_0[0][0]              \n",
      "                                                                 categorical_1[0][0]              \n",
      "                                                                 categorical_2[0][0]              \n",
      "__________________________________________________________________________________________________\n",
      "105_embedding (Embedding)       (None, 1, 64)        192         105[0][0]                        \n",
      "__________________________________________________________________________________________________\n",
      "106_embedding (Embedding)       (None, 1, 64)        320         106[0][0]                        \n",
      "__________________________________________________________________________________________________\n",
      "107_embedding (Embedding)       (None, 1, 64)        640         107[0][0]                        \n",
      "__________________________________________________________________________________________________\n",
      "categorical_0_avg_embedding (La (None, 64)           0           category_embeddings[12][0]       \n",
      "__________________________________________________________________________________________________\n",
      "categorical_1_avg_embedding (La (None, 64)           0           category_embeddings[13][0]       \n",
      "__________________________________________________________________________________________________\n",
      "categorical_2_avg_embedding (La (None, 64)           0           category_embeddings[14][0]       \n",
      "__________________________________________________________________________________________________\n",
      "flatten_105 (Flatten)           (None, 64)           0           105_embedding[0][0]              \n",
      "__________________________________________________________________________________________________\n",
      "flatten_106 (Flatten)           (None, 64)           0           106_embedding[0][0]              \n",
      "__________________________________________________________________________________________________\n",
      "flatten_107 (Flatten)           (None, 64)           0           107_embedding[0][0]              \n",
      "__________________________________________________________________________________________________\n",
      "numeric (InputLayer)            (None, 10)           0                                            \n",
      "__________________________________________________________________________________________________\n",
      "concatenate_5 (Concatenate)     (None, 394)          0           categorical_0_avg_embedding[0][0]\n",
      "                                                                 categorical_1_avg_embedding[0][0]\n",
      "                                                                 categorical_2_avg_embedding[0][0]\n",
      "                                                                 flatten_105[0][0]                \n",
      "                                                                 flatten_106[0][0]                \n",
      "                                                                 flatten_107[0][0]                \n",
      "                                                                 numeric[0][0]                    \n",
      "__________________________________________________________________________________________________\n",
      "dense_12 (Dense)                (None, 256)          101120      concatenate_5[0][0]              \n",
      "__________________________________________________________________________________________________\n",
      "dense_13 (Dense)                (None, 128)          32896       dense_12[0][0]                   \n",
      "__________________________________________________________________________________________________\n",
      "user_embedding (Dense)          (None, 64)           8256        dense_13[0][0]                   \n",
      "__________________________________________________________________________________________________\n",
      "softmax_layer (Dense)           (None, 100)          6500        user_embedding[0][0]             \n",
      "==================================================================================================\n",
      "Total params: 156,324\n",
      "Trainable params: 156,324\n",
      "Non-trainable params: 0\n",
      "__________________________________________________________________________________________________\n"
     ]
    }
   ],
   "source": [
    "model.summary()"
   ]
  },
  {
   "cell_type": "code",
   "execution_count": 52,
   "metadata": {},
   "outputs": [],
   "source": [
    "plot_model(model, to_file='model.png', show_shapes=True, show_layer_names=True)"
   ]
  },
  {
   "cell_type": "code",
   "execution_count": 53,
   "metadata": {},
   "outputs": [
    {
     "data": {
      "image/svg+xml": [
       "<svg height=\"556pt\" viewBox=\"0.00 0.00 1345.27 556.00\" width=\"1345pt\" xmlns=\"http://www.w3.org/2000/svg\" xmlns:xlink=\"http://www.w3.org/1999/xlink\">\n",
       "<g class=\"graph\" id=\"graph0\" transform=\"scale(1 1) rotate(0) translate(4 552)\">\n",
       "<title>G</title>\n",
       "<polygon fill=\"#ffffff\" points=\"-4,4 -4,-552 1341.2661,-552 1341.2661,4 -4,4\" stroke=\"transparent\"/>\n",
       "<!-- 5132118392 -->\n",
       "<g class=\"node\" id=\"node1\">\n",
       "<title>5132118392</title>\n",
       "<polygon fill=\"none\" points=\"120.0483,-511.5 120.0483,-547.5 281.0317,-547.5 281.0317,-511.5 120.0483,-511.5\" stroke=\"#000000\"/>\n",
       "<text fill=\"#000000\" font-family=\"Times,serif\" font-size=\"14.00\" text-anchor=\"middle\" x=\"200.54\" y=\"-525.3\">categorical_0: InputLayer</text>\n",
       "</g>\n",
       "<!-- 5073248040 -->\n",
       "<g class=\"node\" id=\"node7\">\n",
       "<title>5073248040</title>\n",
       "<polygon fill=\"none\" points=\"274.1484,-438.5 274.1484,-474.5 484.9316,-474.5 484.9316,-438.5 274.1484,-438.5\" stroke=\"#000000\"/>\n",
       "<text fill=\"#000000\" font-family=\"Times,serif\" font-size=\"14.00\" text-anchor=\"middle\" x=\"379.54\" y=\"-452.3\">category_embeddings: Embedding</text>\n",
       "</g>\n",
       "<!-- 5132118392&#45;&gt;5073248040 -->\n",
       "<g class=\"edge\" id=\"edge1\">\n",
       "<title>5132118392-&gt;5073248040</title>\n",
       "<path d=\"M244.7872,-511.4551C269.314,-501.4525 299.9937,-488.9407 325.8811,-478.3833\" fill=\"none\" stroke=\"#000000\"/>\n",
       "<polygon fill=\"#000000\" points=\"327.2436,-481.6075 335.1815,-474.5904 324.6002,-475.1258 327.2436,-481.6075\" stroke=\"#000000\"/>\n",
       "</g>\n",
       "<!-- 5130517136 -->\n",
       "<g class=\"node\" id=\"node2\">\n",
       "<title>5130517136</title>\n",
       "<polygon fill=\"none\" points=\"299.0483,-511.5 299.0483,-547.5 460.0317,-547.5 460.0317,-511.5 299.0483,-511.5\" stroke=\"#000000\"/>\n",
       "<text fill=\"#000000\" font-family=\"Times,serif\" font-size=\"14.00\" text-anchor=\"middle\" x=\"379.54\" y=\"-525.3\">categorical_1: InputLayer</text>\n",
       "</g>\n",
       "<!-- 5130517136&#45;&gt;5073248040 -->\n",
       "<g class=\"edge\" id=\"edge2\">\n",
       "<title>5130517136-&gt;5073248040</title>\n",
       "<path d=\"M379.54,-511.4551C379.54,-503.3828 379.54,-493.6764 379.54,-484.6817\" fill=\"none\" stroke=\"#000000\"/>\n",
       "<polygon fill=\"#000000\" points=\"383.0401,-484.5903 379.54,-474.5904 376.0401,-484.5904 383.0401,-484.5903\" stroke=\"#000000\"/>\n",
       "</g>\n",
       "<!-- 5131742456 -->\n",
       "<g class=\"node\" id=\"node3\">\n",
       "<title>5131742456</title>\n",
       "<polygon fill=\"none\" points=\"478.0483,-511.5 478.0483,-547.5 639.0317,-547.5 639.0317,-511.5 478.0483,-511.5\" stroke=\"#000000\"/>\n",
       "<text fill=\"#000000\" font-family=\"Times,serif\" font-size=\"14.00\" text-anchor=\"middle\" x=\"558.54\" y=\"-525.3\">categorical_2: InputLayer</text>\n",
       "</g>\n",
       "<!-- 5131742456&#45;&gt;5073248040 -->\n",
       "<g class=\"edge\" id=\"edge3\">\n",
       "<title>5131742456-&gt;5073248040</title>\n",
       "<path d=\"M514.2928,-511.4551C489.7661,-501.4525 459.0864,-488.9407 433.199,-478.3833\" fill=\"none\" stroke=\"#000000\"/>\n",
       "<polygon fill=\"#000000\" points=\"434.4799,-475.1258 423.8986,-474.5904 431.8365,-481.6075 434.4799,-475.1258\" stroke=\"#000000\"/>\n",
       "</g>\n",
       "<!-- 5132108352 -->\n",
       "<g class=\"node\" id=\"node4\">\n",
       "<title>5132108352</title>\n",
       "<polygon fill=\"none\" points=\"733.2485,-511.5 733.2485,-547.5 839.8315,-547.5 839.8315,-511.5 733.2485,-511.5\" stroke=\"#000000\"/>\n",
       "<text fill=\"#000000\" font-family=\"Times,serif\" font-size=\"14.00\" text-anchor=\"middle\" x=\"786.54\" y=\"-525.3\">105: InputLayer</text>\n",
       "</g>\n",
       "<!-- 5132293904 -->\n",
       "<g class=\"node\" id=\"node8\">\n",
       "<title>5132293904</title>\n",
       "<polygon fill=\"none\" points=\"697.4692,-438.5 697.4692,-474.5 875.6108,-474.5 875.6108,-438.5 697.4692,-438.5\" stroke=\"#000000\"/>\n",
       "<text fill=\"#000000\" font-family=\"Times,serif\" font-size=\"14.00\" text-anchor=\"middle\" x=\"786.54\" y=\"-452.3\">105_embedding: Embedding</text>\n",
       "</g>\n",
       "<!-- 5132108352&#45;&gt;5132293904 -->\n",
       "<g class=\"edge\" id=\"edge4\">\n",
       "<title>5132108352-&gt;5132293904</title>\n",
       "<path d=\"M786.54,-511.4551C786.54,-503.3828 786.54,-493.6764 786.54,-484.6817\" fill=\"none\" stroke=\"#000000\"/>\n",
       "<polygon fill=\"#000000\" points=\"790.0401,-484.5903 786.54,-474.5904 783.0401,-484.5904 790.0401,-484.5903\" stroke=\"#000000\"/>\n",
       "</g>\n",
       "<!-- 5132074624 -->\n",
       "<g class=\"node\" id=\"node5\">\n",
       "<title>5132074624</title>\n",
       "<polygon fill=\"none\" points=\"929.2485,-511.5 929.2485,-547.5 1035.8315,-547.5 1035.8315,-511.5 929.2485,-511.5\" stroke=\"#000000\"/>\n",
       "<text fill=\"#000000\" font-family=\"Times,serif\" font-size=\"14.00\" text-anchor=\"middle\" x=\"982.54\" y=\"-525.3\">106: InputLayer</text>\n",
       "</g>\n",
       "<!-- 5132272248 -->\n",
       "<g class=\"node\" id=\"node9\">\n",
       "<title>5132272248</title>\n",
       "<polygon fill=\"none\" points=\"893.4692,-438.5 893.4692,-474.5 1071.6108,-474.5 1071.6108,-438.5 893.4692,-438.5\" stroke=\"#000000\"/>\n",
       "<text fill=\"#000000\" font-family=\"Times,serif\" font-size=\"14.00\" text-anchor=\"middle\" x=\"982.54\" y=\"-452.3\">106_embedding: Embedding</text>\n",
       "</g>\n",
       "<!-- 5132074624&#45;&gt;5132272248 -->\n",
       "<g class=\"edge\" id=\"edge5\">\n",
       "<title>5132074624-&gt;5132272248</title>\n",
       "<path d=\"M982.54,-511.4551C982.54,-503.3828 982.54,-493.6764 982.54,-484.6817\" fill=\"none\" stroke=\"#000000\"/>\n",
       "<polygon fill=\"#000000\" points=\"986.0401,-484.5903 982.54,-474.5904 979.0401,-484.5904 986.0401,-484.5903\" stroke=\"#000000\"/>\n",
       "</g>\n",
       "<!-- 5132283576 -->\n",
       "<g class=\"node\" id=\"node6\">\n",
       "<title>5132283576</title>\n",
       "<polygon fill=\"none\" points=\"1125.2485,-511.5 1125.2485,-547.5 1231.8315,-547.5 1231.8315,-511.5 1125.2485,-511.5\" stroke=\"#000000\"/>\n",
       "<text fill=\"#000000\" font-family=\"Times,serif\" font-size=\"14.00\" text-anchor=\"middle\" x=\"1178.54\" y=\"-525.3\">107: InputLayer</text>\n",
       "</g>\n",
       "<!-- 5132283520 -->\n",
       "<g class=\"node\" id=\"node10\">\n",
       "<title>5132283520</title>\n",
       "<polygon fill=\"none\" points=\"1089.4692,-438.5 1089.4692,-474.5 1267.6108,-474.5 1267.6108,-438.5 1089.4692,-438.5\" stroke=\"#000000\"/>\n",
       "<text fill=\"#000000\" font-family=\"Times,serif\" font-size=\"14.00\" text-anchor=\"middle\" x=\"1178.54\" y=\"-452.3\">107_embedding: Embedding</text>\n",
       "</g>\n",
       "<!-- 5132283576&#45;&gt;5132283520 -->\n",
       "<g class=\"edge\" id=\"edge6\">\n",
       "<title>5132283576-&gt;5132283520</title>\n",
       "<path d=\"M1178.54,-511.4551C1178.54,-503.3828 1178.54,-493.6764 1178.54,-484.6817\" fill=\"none\" stroke=\"#000000\"/>\n",
       "<polygon fill=\"#000000\" points=\"1182.0401,-484.5903 1178.54,-474.5904 1175.0401,-484.5904 1182.0401,-484.5903\" stroke=\"#000000\"/>\n",
       "</g>\n",
       "<!-- 5132117384 -->\n",
       "<g class=\"node\" id=\"node11\">\n",
       "<title>5132117384</title>\n",
       "<polygon fill=\"none\" points=\"0,-365.5 0,-401.5 241.0801,-401.5 241.0801,-365.5 0,-365.5\" stroke=\"#000000\"/>\n",
       "<text fill=\"#000000\" font-family=\"Times,serif\" font-size=\"14.00\" text-anchor=\"middle\" x=\"120.54\" y=\"-379.3\">categorical_0_avg_embedding: Lambda</text>\n",
       "</g>\n",
       "<!-- 5073248040&#45;&gt;5132117384 -->\n",
       "<g class=\"edge\" id=\"edge7\">\n",
       "<title>5073248040-&gt;5132117384</title>\n",
       "<path d=\"M315.5176,-438.4551C278.9396,-428.1454 232.9037,-415.1701 194.7507,-404.4165\" fill=\"none\" stroke=\"#000000\"/>\n",
       "<polygon fill=\"#000000\" points=\"195.2982,-400.9345 184.7236,-401.5904 193.3991,-407.672 195.2982,-400.9345\" stroke=\"#000000\"/>\n",
       "</g>\n",
       "<!-- 5132185952 -->\n",
       "<g class=\"node\" id=\"node12\">\n",
       "<title>5132185952</title>\n",
       "<polygon fill=\"none\" points=\"259,-365.5 259,-401.5 500.0801,-401.5 500.0801,-365.5 259,-365.5\" stroke=\"#000000\"/>\n",
       "<text fill=\"#000000\" font-family=\"Times,serif\" font-size=\"14.00\" text-anchor=\"middle\" x=\"379.54\" y=\"-379.3\">categorical_1_avg_embedding: Lambda</text>\n",
       "</g>\n",
       "<!-- 5073248040&#45;&gt;5132185952 -->\n",
       "<g class=\"edge\" id=\"edge8\">\n",
       "<title>5073248040-&gt;5132185952</title>\n",
       "<path d=\"M379.54,-438.4551C379.54,-430.3828 379.54,-420.6764 379.54,-411.6817\" fill=\"none\" stroke=\"#000000\"/>\n",
       "<polygon fill=\"#000000\" points=\"383.0401,-411.5903 379.54,-401.5904 376.0401,-411.5904 383.0401,-411.5903\" stroke=\"#000000\"/>\n",
       "</g>\n",
       "<!-- 5131727256 -->\n",
       "<g class=\"node\" id=\"node13\">\n",
       "<title>5131727256</title>\n",
       "<polygon fill=\"none\" points=\"518,-365.5 518,-401.5 759.0801,-401.5 759.0801,-365.5 518,-365.5\" stroke=\"#000000\"/>\n",
       "<text fill=\"#000000\" font-family=\"Times,serif\" font-size=\"14.00\" text-anchor=\"middle\" x=\"638.54\" y=\"-379.3\">categorical_2_avg_embedding: Lambda</text>\n",
       "</g>\n",
       "<!-- 5073248040&#45;&gt;5131727256 -->\n",
       "<g class=\"edge\" id=\"edge9\">\n",
       "<title>5073248040-&gt;5131727256</title>\n",
       "<path d=\"M443.5625,-438.4551C480.1405,-428.1454 526.1764,-415.1701 564.3294,-404.4165\" fill=\"none\" stroke=\"#000000\"/>\n",
       "<polygon fill=\"#000000\" points=\"565.681,-407.672 574.3564,-401.5904 563.7819,-400.9345 565.681,-407.672\" stroke=\"#000000\"/>\n",
       "</g>\n",
       "<!-- 5131805640 -->\n",
       "<g class=\"node\" id=\"node14\">\n",
       "<title>5131805640</title>\n",
       "<polygon fill=\"none\" points=\"776.9072,-365.5 776.9072,-401.5 902.1729,-401.5 902.1729,-365.5 776.9072,-365.5\" stroke=\"#000000\"/>\n",
       "<text fill=\"#000000\" font-family=\"Times,serif\" font-size=\"14.00\" text-anchor=\"middle\" x=\"839.54\" y=\"-379.3\">flatten_105: Flatten</text>\n",
       "</g>\n",
       "<!-- 5132293904&#45;&gt;5131805640 -->\n",
       "<g class=\"edge\" id=\"edge10\">\n",
       "<title>5132293904-&gt;5131805640</title>\n",
       "<path d=\"M799.6412,-438.4551C805.884,-429.8564 813.4732,-419.4034 820.3499,-409.9316\" fill=\"none\" stroke=\"#000000\"/>\n",
       "<polygon fill=\"#000000\" points=\"823.363,-411.7388 826.4059,-401.5904 817.6985,-407.6262 823.363,-411.7388\" stroke=\"#000000\"/>\n",
       "</g>\n",
       "<!-- 5132294688 -->\n",
       "<g class=\"node\" id=\"node15\">\n",
       "<title>5132294688</title>\n",
       "<polygon fill=\"none\" points=\"919.9072,-365.5 919.9072,-401.5 1045.1729,-401.5 1045.1729,-365.5 919.9072,-365.5\" stroke=\"#000000\"/>\n",
       "<text fill=\"#000000\" font-family=\"Times,serif\" font-size=\"14.00\" text-anchor=\"middle\" x=\"982.54\" y=\"-379.3\">flatten_106: Flatten</text>\n",
       "</g>\n",
       "<!-- 5132272248&#45;&gt;5132294688 -->\n",
       "<g class=\"edge\" id=\"edge11\">\n",
       "<title>5132272248-&gt;5132294688</title>\n",
       "<path d=\"M982.54,-438.4551C982.54,-430.3828 982.54,-420.6764 982.54,-411.6817\" fill=\"none\" stroke=\"#000000\"/>\n",
       "<polygon fill=\"#000000\" points=\"986.0401,-411.5903 982.54,-401.5904 979.0401,-411.5904 986.0401,-411.5903\" stroke=\"#000000\"/>\n",
       "</g>\n",
       "<!-- 5132300752 -->\n",
       "<g class=\"node\" id=\"node16\">\n",
       "<title>5132300752</title>\n",
       "<polygon fill=\"none\" points=\"1062.9072,-365.5 1062.9072,-401.5 1188.1729,-401.5 1188.1729,-365.5 1062.9072,-365.5\" stroke=\"#000000\"/>\n",
       "<text fill=\"#000000\" font-family=\"Times,serif\" font-size=\"14.00\" text-anchor=\"middle\" x=\"1125.54\" y=\"-379.3\">flatten_107: Flatten</text>\n",
       "</g>\n",
       "<!-- 5132283520&#45;&gt;5132300752 -->\n",
       "<g class=\"edge\" id=\"edge12\">\n",
       "<title>5132283520-&gt;5132300752</title>\n",
       "<path d=\"M1165.4389,-438.4551C1159.196,-429.8564 1151.6069,-419.4034 1144.7301,-409.9316\" fill=\"none\" stroke=\"#000000\"/>\n",
       "<polygon fill=\"#000000\" points=\"1147.3816,-407.6262 1138.6741,-401.5904 1141.717,-411.7388 1147.3816,-407.6262\" stroke=\"#000000\"/>\n",
       "</g>\n",
       "<!-- 5132381376 -->\n",
       "<g class=\"node\" id=\"node18\">\n",
       "<title>5132381376</title>\n",
       "<polygon fill=\"none\" points=\"753.2207,-292.5 753.2207,-328.5 925.8594,-328.5 925.8594,-292.5 753.2207,-292.5\" stroke=\"#000000\"/>\n",
       "<text fill=\"#000000\" font-family=\"Times,serif\" font-size=\"14.00\" text-anchor=\"middle\" x=\"839.54\" y=\"-306.3\">concatenate_5: Concatenate</text>\n",
       "</g>\n",
       "<!-- 5132117384&#45;&gt;5132381376 -->\n",
       "<g class=\"edge\" id=\"edge13\">\n",
       "<title>5132117384-&gt;5132381376</title>\n",
       "<path d=\"M241.3678,-365.9839C244.1167,-365.6462 246.8437,-365.3177 249.54,-365 423.0089,-344.5626 625.928,-327.2597 742.9124,-317.9246\" fill=\"none\" stroke=\"#000000\"/>\n",
       "<polygon fill=\"#000000\" points=\"743.2283,-321.4106 752.9193,-317.1288 742.6733,-314.4326 743.2283,-321.4106\" stroke=\"#000000\"/>\n",
       "</g>\n",
       "<!-- 5132185952&#45;&gt;5132381376 -->\n",
       "<g class=\"edge\" id=\"edge14\">\n",
       "<title>5132185952-&gt;5132381376</title>\n",
       "<path d=\"M493.2479,-365.4551C569.9866,-353.277 670.1634,-337.3793 743.017,-325.8178\" fill=\"none\" stroke=\"#000000\"/>\n",
       "<polygon fill=\"#000000\" points=\"743.7826,-329.2402 753.1104,-324.216 742.6854,-322.3267 743.7826,-329.2402\" stroke=\"#000000\"/>\n",
       "</g>\n",
       "<!-- 5131727256&#45;&gt;5132381376 -->\n",
       "<g class=\"edge\" id=\"edge15\">\n",
       "<title>5131727256-&gt;5132381376</title>\n",
       "<path d=\"M688.2254,-365.4551C716.0082,-355.3648 750.8219,-342.721 780.0499,-332.1059\" fill=\"none\" stroke=\"#000000\"/>\n",
       "<polygon fill=\"#000000\" points=\"781.5251,-335.2939 789.7296,-328.5904 779.1355,-328.7143 781.5251,-335.2939\" stroke=\"#000000\"/>\n",
       "</g>\n",
       "<!-- 5131805640&#45;&gt;5132381376 -->\n",
       "<g class=\"edge\" id=\"edge16\">\n",
       "<title>5131805640-&gt;5132381376</title>\n",
       "<path d=\"M839.54,-365.4551C839.54,-357.3828 839.54,-347.6764 839.54,-338.6817\" fill=\"none\" stroke=\"#000000\"/>\n",
       "<polygon fill=\"#000000\" points=\"843.0401,-338.5903 839.54,-328.5904 836.0401,-338.5904 843.0401,-338.5903\" stroke=\"#000000\"/>\n",
       "</g>\n",
       "<!-- 5132294688&#45;&gt;5132381376 -->\n",
       "<g class=\"edge\" id=\"edge17\">\n",
       "<title>5132294688-&gt;5132381376</title>\n",
       "<path d=\"M947.1917,-365.4551C928.1134,-355.7157 904.3748,-343.5975 884.0477,-333.2207\" fill=\"none\" stroke=\"#000000\"/>\n",
       "<polygon fill=\"#000000\" points=\"885.4753,-330.0198 874.9773,-328.5904 882.2925,-336.2544 885.4753,-330.0198\" stroke=\"#000000\"/>\n",
       "</g>\n",
       "<!-- 5132300752&#45;&gt;5132381376 -->\n",
       "<g class=\"edge\" id=\"edge18\">\n",
       "<title>5132300752-&gt;5132381376</title>\n",
       "<path d=\"M1062.826,-367.1349C1060.0262,-366.4119 1057.2542,-365.6976 1054.54,-365 1010.439,-353.665 961.2063,-341.1732 920.9924,-331.0118\" fill=\"none\" stroke=\"#000000\"/>\n",
       "<polygon fill=\"#000000\" points=\"921.7897,-327.6034 911.237,-328.5478 920.0754,-334.3902 921.7897,-327.6034\" stroke=\"#000000\"/>\n",
       "</g>\n",
       "<!-- 5132300864 -->\n",
       "<g class=\"node\" id=\"node17\">\n",
       "<title>5132300864</title>\n",
       "<polygon fill=\"none\" points=\"1205.814,-365.5 1205.814,-401.5 1337.2661,-401.5 1337.2661,-365.5 1205.814,-365.5\" stroke=\"#000000\"/>\n",
       "<text fill=\"#000000\" font-family=\"Times,serif\" font-size=\"14.00\" text-anchor=\"middle\" x=\"1271.54\" y=\"-379.3\">numeric: InputLayer</text>\n",
       "</g>\n",
       "<!-- 5132300864&#45;&gt;5132381376 -->\n",
       "<g class=\"edge\" id=\"edge19\">\n",
       "<title>5132300864-&gt;5132381376</title>\n",
       "<path d=\"M1205.445,-366.6496C1202.7795,-366.0736 1200.1368,-365.5211 1197.54,-365 1109.5276,-347.3397 1008.3244,-332.4253 936.0242,-322.6877\" fill=\"none\" stroke=\"#000000\"/>\n",
       "<polygon fill=\"#000000\" points=\"936.3946,-319.2061 926.0186,-321.3482 935.4657,-326.1442 936.3946,-319.2061\" stroke=\"#000000\"/>\n",
       "</g>\n",
       "<!-- 5132300696 -->\n",
       "<g class=\"node\" id=\"node19\">\n",
       "<title>5132300696</title>\n",
       "<polygon fill=\"none\" points=\"783.9141,-219.5 783.9141,-255.5 895.166,-255.5 895.166,-219.5 783.9141,-219.5\" stroke=\"#000000\"/>\n",
       "<text fill=\"#000000\" font-family=\"Times,serif\" font-size=\"14.00\" text-anchor=\"middle\" x=\"839.54\" y=\"-233.3\">dense_12: Dense</text>\n",
       "</g>\n",
       "<!-- 5132381376&#45;&gt;5132300696 -->\n",
       "<g class=\"edge\" id=\"edge20\">\n",
       "<title>5132381376-&gt;5132300696</title>\n",
       "<path d=\"M839.54,-292.4551C839.54,-284.3828 839.54,-274.6764 839.54,-265.6817\" fill=\"none\" stroke=\"#000000\"/>\n",
       "<polygon fill=\"#000000\" points=\"843.0401,-265.5903 839.54,-255.5904 836.0401,-265.5904 843.0401,-265.5903\" stroke=\"#000000\"/>\n",
       "</g>\n",
       "<!-- 5132381208 -->\n",
       "<g class=\"node\" id=\"node20\">\n",
       "<title>5132381208</title>\n",
       "<polygon fill=\"none\" points=\"783.9141,-146.5 783.9141,-182.5 895.166,-182.5 895.166,-146.5 783.9141,-146.5\" stroke=\"#000000\"/>\n",
       "<text fill=\"#000000\" font-family=\"Times,serif\" font-size=\"14.00\" text-anchor=\"middle\" x=\"839.54\" y=\"-160.3\">dense_13: Dense</text>\n",
       "</g>\n",
       "<!-- 5132300696&#45;&gt;5132381208 -->\n",
       "<g class=\"edge\" id=\"edge21\">\n",
       "<title>5132300696-&gt;5132381208</title>\n",
       "<path d=\"M839.54,-219.4551C839.54,-211.3828 839.54,-201.6764 839.54,-192.6817\" fill=\"none\" stroke=\"#000000\"/>\n",
       "<polygon fill=\"#000000\" points=\"843.0401,-192.5903 839.54,-182.5904 836.0401,-192.5904 843.0401,-192.5903\" stroke=\"#000000\"/>\n",
       "</g>\n",
       "<!-- 5132369312 -->\n",
       "<g class=\"node\" id=\"node21\">\n",
       "<title>5132369312</title>\n",
       "<polygon fill=\"none\" points=\"764.0864,-73.5 764.0864,-109.5 914.9937,-109.5 914.9937,-73.5 764.0864,-73.5\" stroke=\"#000000\"/>\n",
       "<text fill=\"#000000\" font-family=\"Times,serif\" font-size=\"14.00\" text-anchor=\"middle\" x=\"839.54\" y=\"-87.3\">user_embedding: Dense</text>\n",
       "</g>\n",
       "<!-- 5132381208&#45;&gt;5132369312 -->\n",
       "<g class=\"edge\" id=\"edge22\">\n",
       "<title>5132381208-&gt;5132369312</title>\n",
       "<path d=\"M839.54,-146.4551C839.54,-138.3828 839.54,-128.6764 839.54,-119.6817\" fill=\"none\" stroke=\"#000000\"/>\n",
       "<polygon fill=\"#000000\" points=\"843.0401,-119.5903 839.54,-109.5904 836.0401,-119.5904 843.0401,-119.5903\" stroke=\"#000000\"/>\n",
       "</g>\n",
       "<!-- 5132359664 -->\n",
       "<g class=\"node\" id=\"node22\">\n",
       "<title>5132359664</title>\n",
       "<polygon fill=\"none\" points=\"770.3105,-.5 770.3105,-36.5 908.7695,-36.5 908.7695,-.5 770.3105,-.5\" stroke=\"#000000\"/>\n",
       "<text fill=\"#000000\" font-family=\"Times,serif\" font-size=\"14.00\" text-anchor=\"middle\" x=\"839.54\" y=\"-14.3\">softmax_layer: Dense</text>\n",
       "</g>\n",
       "<!-- 5132369312&#45;&gt;5132359664 -->\n",
       "<g class=\"edge\" id=\"edge23\">\n",
       "<title>5132369312-&gt;5132359664</title>\n",
       "<path d=\"M839.54,-73.4551C839.54,-65.3828 839.54,-55.6764 839.54,-46.6817\" fill=\"none\" stroke=\"#000000\"/>\n",
       "<polygon fill=\"#000000\" points=\"843.0401,-46.5903 839.54,-36.5904 836.0401,-46.5904 843.0401,-46.5903\" stroke=\"#000000\"/>\n",
       "</g>\n",
       "</g>\n",
       "</svg>"
      ],
      "text/plain": [
       "<IPython.core.display.SVG object>"
      ]
     },
     "execution_count": 53,
     "metadata": {},
     "output_type": "execute_result"
    }
   ],
   "source": [
    "SVG(model_to_dot(model).create(prog='dot', format='svg'))"
   ]
  },
  {
   "cell_type": "code",
   "execution_count": 54,
   "metadata": {},
   "outputs": [],
   "source": [
    "model.compile(loss='categorical_crossentropy',\n",
    "                       optimizer='adam',\n",
    "                       metrics=['accuracy'])"
   ]
  },
  {
   "cell_type": "code",
   "execution_count": 55,
   "metadata": {},
   "outputs": [
    {
     "name": "stdout",
     "output_type": "stream",
     "text": [
      "Epoch 1/70\n",
      "10000/10000 [==============================] - 1s 145us/step - loss: 4.6068 - acc: 0.0115\n",
      "Epoch 2/70\n",
      "10000/10000 [==============================] - 1s 91us/step - loss: 4.5982 - acc: 0.0137\n",
      "Epoch 3/70\n",
      "10000/10000 [==============================] - 1s 90us/step - loss: 4.5678 - acc: 0.0220\n",
      "Epoch 4/70\n",
      "10000/10000 [==============================] - 1s 92us/step - loss: 4.4743 - acc: 0.0314\n",
      "Epoch 5/70\n",
      "10000/10000 [==============================] - 1s 93us/step - loss: 4.3153 - acc: 0.0559\n",
      "Epoch 6/70\n",
      "10000/10000 [==============================] - 1s 96us/step - loss: 4.0767 - acc: 0.0841\n",
      "Epoch 7/70\n",
      "10000/10000 [==============================] - 1s 92us/step - loss: 3.7725 - acc: 0.1363\n",
      "Epoch 8/70\n",
      "10000/10000 [==============================] - 1s 93us/step - loss: 3.4301 - acc: 0.1877\n",
      "Epoch 9/70\n",
      "10000/10000 [==============================] - 1s 95us/step - loss: 3.0715 - acc: 0.2536\n",
      "Epoch 10/70\n",
      "10000/10000 [==============================] - 1s 95us/step - loss: 2.7223 - acc: 0.3214\n",
      "Epoch 11/70\n",
      "10000/10000 [==============================] - 1s 97us/step - loss: 2.3862 - acc: 0.3958\n",
      "Epoch 12/70\n",
      "10000/10000 [==============================] - 1s 105us/step - loss: 2.0842 - acc: 0.4688\n",
      "Epoch 13/70\n",
      "10000/10000 [==============================] - 1s 97us/step - loss: 1.7930 - acc: 0.5276\n",
      "Epoch 14/70\n",
      "10000/10000 [==============================] - 1s 90us/step - loss: 1.5479 - acc: 0.5928\n",
      "Epoch 15/70\n",
      "10000/10000 [==============================] - 1s 93us/step - loss: 1.2979 - acc: 0.6625\n",
      "Epoch 16/70\n",
      "10000/10000 [==============================] - 1s 94us/step - loss: 1.0923 - acc: 0.7127\n",
      "Epoch 17/70\n",
      "10000/10000 [==============================] - 1s 98us/step - loss: 0.9029 - acc: 0.7697\n",
      "Epoch 18/70\n",
      "10000/10000 [==============================] - 1s 103us/step - loss: 0.7387 - acc: 0.8118\n",
      "Epoch 19/70\n",
      "10000/10000 [==============================] - 1s 98us/step - loss: 0.5870 - acc: 0.8605\n",
      "Epoch 20/70\n",
      "10000/10000 [==============================] - 1s 95us/step - loss: 0.4593 - acc: 0.8992\n",
      "Epoch 21/70\n",
      "10000/10000 [==============================] - 1s 100us/step - loss: 0.3562 - acc: 0.9273\n",
      "Epoch 22/70\n",
      "10000/10000 [==============================] - 1s 96us/step - loss: 0.2830 - acc: 0.9484\n",
      "Epoch 23/70\n",
      "10000/10000 [==============================] - 1s 130us/step - loss: 0.2105 - acc: 0.9679\n",
      "Epoch 24/70\n",
      "10000/10000 [==============================] - 1s 100us/step - loss: 0.1693 - acc: 0.9765\n",
      "Epoch 25/70\n",
      "10000/10000 [==============================] - 1s 98us/step - loss: 0.1286 - acc: 0.9841\n",
      "Epoch 26/70\n",
      "10000/10000 [==============================] - 1s 103us/step - loss: 0.1029 - acc: 0.9916\n",
      "Epoch 27/70\n",
      "10000/10000 [==============================] - 1s 103us/step - loss: 0.1144 - acc: 0.9819\n",
      "Epoch 28/70\n",
      "10000/10000 [==============================] - 1s 99us/step - loss: 0.4019 - acc: 0.8791\n",
      "Epoch 29/70\n",
      "10000/10000 [==============================] - 1s 100us/step - loss: 0.3541 - acc: 0.8919\n",
      "Epoch 30/70\n",
      "10000/10000 [==============================] - 1s 101us/step - loss: 0.1429 - acc: 0.9679\n",
      "Epoch 31/70\n",
      "10000/10000 [==============================] - 1s 97us/step - loss: 0.0477 - acc: 0.9961\n",
      "Epoch 32/70\n",
      "10000/10000 [==============================] - 1s 99us/step - loss: 0.0179 - acc: 0.9999\n",
      "Epoch 33/70\n",
      "10000/10000 [==============================] - 1s 97us/step - loss: 0.0098 - acc: 1.0000\n",
      "Epoch 34/70\n",
      "10000/10000 [==============================] - 1s 100us/step - loss: 0.0076 - acc: 1.0000 1s - loss: 0\n",
      "Epoch 35/70\n",
      "10000/10000 [==============================] - 1s 96us/step - loss: 0.0062 - acc: 1.0000\n",
      "Epoch 36/70\n",
      "10000/10000 [==============================] - 1s 96us/step - loss: 0.0053 - acc: 1.0000\n",
      "Epoch 37/70\n",
      "10000/10000 [==============================] - 1s 95us/step - loss: 0.0045 - acc: 1.0000\n",
      "Epoch 38/70\n",
      "10000/10000 [==============================] - 1s 96us/step - loss: 0.0039 - acc: 1.0000\n",
      "Epoch 39/70\n",
      "10000/10000 [==============================] - 1s 96us/step - loss: 0.0034 - acc: 1.0000\n",
      "Epoch 40/70\n",
      "10000/10000 [==============================] - 1s 113us/step - loss: 0.0029 - acc: 1.0000\n",
      "Epoch 41/70\n",
      "10000/10000 [==============================] - 1s 104us/step - loss: 0.0026 - acc: 1.0000\n",
      "Epoch 42/70\n",
      "10000/10000 [==============================] - 1s 101us/step - loss: 0.0022 - acc: 1.0000\n",
      "Epoch 43/70\n",
      "10000/10000 [==============================] - 1s 102us/step - loss: 0.0019 - acc: 1.0000\n",
      "Epoch 44/70\n",
      "10000/10000 [==============================] - 1s 111us/step - loss: 0.0017 - acc: 1.0000\n",
      "Epoch 45/70\n",
      "10000/10000 [==============================] - 1s 106us/step - loss: 0.0014 - acc: 1.0000\n",
      "Epoch 46/70\n",
      "10000/10000 [==============================] - 1s 104us/step - loss: 0.0012 - acc: 1.0000\n",
      "Epoch 47/70\n",
      "10000/10000 [==============================] - 1s 102us/step - loss: 0.0011 - acc: 1.0000\n",
      "Epoch 48/70\n",
      "10000/10000 [==============================] - 1s 105us/step - loss: 9.2085e-04 - acc: 1.0000\n",
      "Epoch 49/70\n",
      "10000/10000 [==============================] - 1s 102us/step - loss: 7.8715e-04 - acc: 1.0000\n",
      "Epoch 50/70\n",
      "10000/10000 [==============================] - 1s 104us/step - loss: 6.7252e-04 - acc: 1.0000\n",
      "Epoch 51/70\n",
      "10000/10000 [==============================] - 1s 105us/step - loss: 5.7567e-04 - acc: 1.0000\n",
      "Epoch 52/70\n",
      "10000/10000 [==============================] - 1s 106us/step - loss: 4.9085e-04 - acc: 1.0000\n",
      "Epoch 53/70\n",
      " 1824/10000 [====>.........................] - ETA: 0s - loss: 3.8807e-04 - acc: 1.0000"
     ]
    },
    {
     "ename": "KeyboardInterrupt",
     "evalue": "",
     "output_type": "error",
     "traceback": [
      "\u001b[0;31m---------------------------------------------------------------------------\u001b[0m",
      "\u001b[0;31mKeyboardInterrupt\u001b[0m                         Traceback (most recent call last)",
      "\u001b[0;32m<ipython-input-55-a31466e702a0>\u001b[0m in \u001b[0;36m<module>\u001b[0;34m\u001b[0m\n\u001b[1;32m      1\u001b[0m model.fit(x=[data1, data2, data3, single1, single2, single3, num1], \n\u001b[0;32m----> 2\u001b[0;31m           y=one_hot_labels, epochs=70, batch_size=32)\n\u001b[0m",
      "\u001b[0;32m~/anaconda3/envs/reco/lib/python3.6/site-packages/keras/engine/training.py\u001b[0m in \u001b[0;36mfit\u001b[0;34m(self, x, y, batch_size, epochs, verbose, callbacks, validation_split, validation_data, shuffle, class_weight, sample_weight, initial_epoch, steps_per_epoch, validation_steps, **kwargs)\u001b[0m\n\u001b[1;32m   1037\u001b[0m                                         \u001b[0minitial_epoch\u001b[0m\u001b[0;34m=\u001b[0m\u001b[0minitial_epoch\u001b[0m\u001b[0;34m,\u001b[0m\u001b[0;34m\u001b[0m\u001b[0;34m\u001b[0m\u001b[0m\n\u001b[1;32m   1038\u001b[0m                                         \u001b[0msteps_per_epoch\u001b[0m\u001b[0;34m=\u001b[0m\u001b[0msteps_per_epoch\u001b[0m\u001b[0;34m,\u001b[0m\u001b[0;34m\u001b[0m\u001b[0;34m\u001b[0m\u001b[0m\n\u001b[0;32m-> 1039\u001b[0;31m                                         validation_steps=validation_steps)\n\u001b[0m\u001b[1;32m   1040\u001b[0m \u001b[0;34m\u001b[0m\u001b[0m\n\u001b[1;32m   1041\u001b[0m     def evaluate(self, x=None, y=None,\n",
      "\u001b[0;32m~/anaconda3/envs/reco/lib/python3.6/site-packages/keras/engine/training_arrays.py\u001b[0m in \u001b[0;36mfit_loop\u001b[0;34m(model, f, ins, out_labels, batch_size, epochs, verbose, callbacks, val_f, val_ins, shuffle, callback_metrics, initial_epoch, steps_per_epoch, validation_steps)\u001b[0m\n\u001b[1;32m    193\u001b[0m                 \u001b[0mbatch_logs\u001b[0m\u001b[0;34m[\u001b[0m\u001b[0;34m'batch'\u001b[0m\u001b[0;34m]\u001b[0m \u001b[0;34m=\u001b[0m \u001b[0mbatch_index\u001b[0m\u001b[0;34m\u001b[0m\u001b[0;34m\u001b[0m\u001b[0m\n\u001b[1;32m    194\u001b[0m                 \u001b[0mbatch_logs\u001b[0m\u001b[0;34m[\u001b[0m\u001b[0;34m'size'\u001b[0m\u001b[0;34m]\u001b[0m \u001b[0;34m=\u001b[0m \u001b[0mlen\u001b[0m\u001b[0;34m(\u001b[0m\u001b[0mbatch_ids\u001b[0m\u001b[0;34m)\u001b[0m\u001b[0;34m\u001b[0m\u001b[0;34m\u001b[0m\u001b[0m\n\u001b[0;32m--> 195\u001b[0;31m                 \u001b[0mcallbacks\u001b[0m\u001b[0;34m.\u001b[0m\u001b[0mon_batch_begin\u001b[0m\u001b[0;34m(\u001b[0m\u001b[0mbatch_index\u001b[0m\u001b[0;34m,\u001b[0m \u001b[0mbatch_logs\u001b[0m\u001b[0;34m)\u001b[0m\u001b[0;34m\u001b[0m\u001b[0;34m\u001b[0m\u001b[0m\n\u001b[0m\u001b[1;32m    196\u001b[0m                 \u001b[0;32mfor\u001b[0m \u001b[0mi\u001b[0m \u001b[0;32min\u001b[0m \u001b[0mindices_for_conversion_to_dense\u001b[0m\u001b[0;34m:\u001b[0m\u001b[0;34m\u001b[0m\u001b[0;34m\u001b[0m\u001b[0m\n\u001b[1;32m    197\u001b[0m                     \u001b[0mins_batch\u001b[0m\u001b[0;34m[\u001b[0m\u001b[0mi\u001b[0m\u001b[0;34m]\u001b[0m \u001b[0;34m=\u001b[0m \u001b[0mins_batch\u001b[0m\u001b[0;34m[\u001b[0m\u001b[0mi\u001b[0m\u001b[0;34m]\u001b[0m\u001b[0;34m.\u001b[0m\u001b[0mtoarray\u001b[0m\u001b[0;34m(\u001b[0m\u001b[0;34m)\u001b[0m\u001b[0;34m\u001b[0m\u001b[0;34m\u001b[0m\u001b[0m\n",
      "\u001b[0;32m~/anaconda3/envs/reco/lib/python3.6/site-packages/keras/callbacks.py\u001b[0m in \u001b[0;36mon_batch_begin\u001b[0;34m(self, batch, logs)\u001b[0m\n\u001b[1;32m     91\u001b[0m             \u001b[0mcallback\u001b[0m\u001b[0;34m.\u001b[0m\u001b[0mon_batch_begin\u001b[0m\u001b[0;34m(\u001b[0m\u001b[0mbatch\u001b[0m\u001b[0;34m,\u001b[0m \u001b[0mlogs\u001b[0m\u001b[0;34m)\u001b[0m\u001b[0;34m\u001b[0m\u001b[0;34m\u001b[0m\u001b[0m\n\u001b[1;32m     92\u001b[0m         \u001b[0mself\u001b[0m\u001b[0;34m.\u001b[0m\u001b[0m_delta_ts_batch_begin\u001b[0m\u001b[0;34m.\u001b[0m\u001b[0mappend\u001b[0m\u001b[0;34m(\u001b[0m\u001b[0mtime\u001b[0m\u001b[0;34m.\u001b[0m\u001b[0mtime\u001b[0m\u001b[0;34m(\u001b[0m\u001b[0;34m)\u001b[0m \u001b[0;34m-\u001b[0m \u001b[0mt_before_callbacks\u001b[0m\u001b[0;34m)\u001b[0m\u001b[0;34m\u001b[0m\u001b[0;34m\u001b[0m\u001b[0m\n\u001b[0;32m---> 93\u001b[0;31m         \u001b[0mdelta_t_median\u001b[0m \u001b[0;34m=\u001b[0m \u001b[0mnp\u001b[0m\u001b[0;34m.\u001b[0m\u001b[0mmedian\u001b[0m\u001b[0;34m(\u001b[0m\u001b[0mself\u001b[0m\u001b[0;34m.\u001b[0m\u001b[0m_delta_ts_batch_begin\u001b[0m\u001b[0;34m)\u001b[0m\u001b[0;34m\u001b[0m\u001b[0;34m\u001b[0m\u001b[0m\n\u001b[0m\u001b[1;32m     94\u001b[0m         if (self._delta_t_batch > 0. and\n\u001b[1;32m     95\u001b[0m            \u001b[0mdelta_t_median\u001b[0m \u001b[0;34m>\u001b[0m \u001b[0;36m0.95\u001b[0m \u001b[0;34m*\u001b[0m \u001b[0mself\u001b[0m\u001b[0;34m.\u001b[0m\u001b[0m_delta_t_batch\u001b[0m \u001b[0;32mand\u001b[0m\u001b[0;34m\u001b[0m\u001b[0;34m\u001b[0m\u001b[0m\n",
      "\u001b[0;32m~/anaconda3/envs/reco/lib/python3.6/site-packages/numpy/lib/function_base.py\u001b[0m in \u001b[0;36mmedian\u001b[0;34m(a, axis, out, overwrite_input, keepdims)\u001b[0m\n\u001b[1;32m   3495\u001b[0m     \"\"\"\n\u001b[1;32m   3496\u001b[0m     r, k = _ureduce(a, func=_median, axis=axis, out=out,\n\u001b[0;32m-> 3497\u001b[0;31m                     overwrite_input=overwrite_input)\n\u001b[0m\u001b[1;32m   3498\u001b[0m     \u001b[0;32mif\u001b[0m \u001b[0mkeepdims\u001b[0m\u001b[0;34m:\u001b[0m\u001b[0;34m\u001b[0m\u001b[0;34m\u001b[0m\u001b[0m\n\u001b[1;32m   3499\u001b[0m         \u001b[0;32mreturn\u001b[0m \u001b[0mr\u001b[0m\u001b[0;34m.\u001b[0m\u001b[0mreshape\u001b[0m\u001b[0;34m(\u001b[0m\u001b[0mk\u001b[0m\u001b[0;34m)\u001b[0m\u001b[0;34m\u001b[0m\u001b[0;34m\u001b[0m\u001b[0m\n",
      "\u001b[0;32m~/anaconda3/envs/reco/lib/python3.6/site-packages/numpy/lib/function_base.py\u001b[0m in \u001b[0;36m_ureduce\u001b[0;34m(a, func, **kwargs)\u001b[0m\n\u001b[1;32m   3403\u001b[0m         \u001b[0mkeepdim\u001b[0m \u001b[0;34m=\u001b[0m \u001b[0;34m(\u001b[0m\u001b[0;36m1\u001b[0m\u001b[0;34m,\u001b[0m\u001b[0;34m)\u001b[0m \u001b[0;34m*\u001b[0m \u001b[0ma\u001b[0m\u001b[0;34m.\u001b[0m\u001b[0mndim\u001b[0m\u001b[0;34m\u001b[0m\u001b[0;34m\u001b[0m\u001b[0m\n\u001b[1;32m   3404\u001b[0m \u001b[0;34m\u001b[0m\u001b[0m\n\u001b[0;32m-> 3405\u001b[0;31m     \u001b[0mr\u001b[0m \u001b[0;34m=\u001b[0m \u001b[0mfunc\u001b[0m\u001b[0;34m(\u001b[0m\u001b[0ma\u001b[0m\u001b[0;34m,\u001b[0m \u001b[0;34m**\u001b[0m\u001b[0mkwargs\u001b[0m\u001b[0;34m)\u001b[0m\u001b[0;34m\u001b[0m\u001b[0;34m\u001b[0m\u001b[0m\n\u001b[0m\u001b[1;32m   3406\u001b[0m     \u001b[0;32mreturn\u001b[0m \u001b[0mr\u001b[0m\u001b[0;34m,\u001b[0m \u001b[0mkeepdim\u001b[0m\u001b[0;34m\u001b[0m\u001b[0;34m\u001b[0m\u001b[0m\n\u001b[1;32m   3407\u001b[0m \u001b[0;34m\u001b[0m\u001b[0m\n",
      "\u001b[0;32m~/anaconda3/envs/reco/lib/python3.6/site-packages/numpy/lib/function_base.py\u001b[0m in \u001b[0;36m_median\u001b[0;34m(a, axis, out, overwrite_input)\u001b[0m\n\u001b[1;32m   3549\u001b[0m         \u001b[0;31m# warn and return nans like mean would\u001b[0m\u001b[0;34m\u001b[0m\u001b[0;34m\u001b[0m\u001b[0;34m\u001b[0m\u001b[0m\n\u001b[1;32m   3550\u001b[0m         \u001b[0mrout\u001b[0m \u001b[0;34m=\u001b[0m \u001b[0mmean\u001b[0m\u001b[0;34m(\u001b[0m\u001b[0mpart\u001b[0m\u001b[0;34m[\u001b[0m\u001b[0mindexer\u001b[0m\u001b[0;34m]\u001b[0m\u001b[0;34m,\u001b[0m \u001b[0maxis\u001b[0m\u001b[0;34m=\u001b[0m\u001b[0maxis\u001b[0m\u001b[0;34m,\u001b[0m \u001b[0mout\u001b[0m\u001b[0;34m=\u001b[0m\u001b[0mout\u001b[0m\u001b[0;34m)\u001b[0m\u001b[0;34m\u001b[0m\u001b[0;34m\u001b[0m\u001b[0m\n\u001b[0;32m-> 3551\u001b[0;31m         \u001b[0;32mreturn\u001b[0m \u001b[0mnp\u001b[0m\u001b[0;34m.\u001b[0m\u001b[0mlib\u001b[0m\u001b[0;34m.\u001b[0m\u001b[0mutils\u001b[0m\u001b[0;34m.\u001b[0m\u001b[0m_median_nancheck\u001b[0m\u001b[0;34m(\u001b[0m\u001b[0mpart\u001b[0m\u001b[0;34m,\u001b[0m \u001b[0mrout\u001b[0m\u001b[0;34m,\u001b[0m \u001b[0maxis\u001b[0m\u001b[0;34m,\u001b[0m \u001b[0mout\u001b[0m\u001b[0;34m)\u001b[0m\u001b[0;34m\u001b[0m\u001b[0;34m\u001b[0m\u001b[0m\n\u001b[0m\u001b[1;32m   3552\u001b[0m     \u001b[0;32melse\u001b[0m\u001b[0;34m:\u001b[0m\u001b[0;34m\u001b[0m\u001b[0;34m\u001b[0m\u001b[0m\n\u001b[1;32m   3553\u001b[0m         \u001b[0;31m# if there are no nans\u001b[0m\u001b[0;34m\u001b[0m\u001b[0;34m\u001b[0m\u001b[0;34m\u001b[0m\u001b[0m\n",
      "\u001b[0;32m~/anaconda3/envs/reco/lib/python3.6/site-packages/numpy/lib/utils.py\u001b[0m in \u001b[0;36m_median_nancheck\u001b[0;34m(data, result, axis, out)\u001b[0m\n\u001b[1;32m   1136\u001b[0m     \u001b[0;32mif\u001b[0m \u001b[0mdata\u001b[0m\u001b[0;34m.\u001b[0m\u001b[0msize\u001b[0m \u001b[0;34m==\u001b[0m \u001b[0;36m0\u001b[0m\u001b[0;34m:\u001b[0m\u001b[0;34m\u001b[0m\u001b[0;34m\u001b[0m\u001b[0m\n\u001b[1;32m   1137\u001b[0m         \u001b[0;32mreturn\u001b[0m \u001b[0mresult\u001b[0m\u001b[0;34m\u001b[0m\u001b[0;34m\u001b[0m\u001b[0m\n\u001b[0;32m-> 1138\u001b[0;31m     \u001b[0mdata\u001b[0m \u001b[0;34m=\u001b[0m \u001b[0mnp\u001b[0m\u001b[0;34m.\u001b[0m\u001b[0mmoveaxis\u001b[0m\u001b[0;34m(\u001b[0m\u001b[0mdata\u001b[0m\u001b[0;34m,\u001b[0m \u001b[0maxis\u001b[0m\u001b[0;34m,\u001b[0m \u001b[0;34m-\u001b[0m\u001b[0;36m1\u001b[0m\u001b[0;34m)\u001b[0m\u001b[0;34m\u001b[0m\u001b[0;34m\u001b[0m\u001b[0m\n\u001b[0m\u001b[1;32m   1139\u001b[0m     \u001b[0mn\u001b[0m \u001b[0;34m=\u001b[0m \u001b[0mnp\u001b[0m\u001b[0;34m.\u001b[0m\u001b[0misnan\u001b[0m\u001b[0;34m(\u001b[0m\u001b[0mdata\u001b[0m\u001b[0;34m[\u001b[0m\u001b[0;34m...\u001b[0m\u001b[0;34m,\u001b[0m \u001b[0;34m-\u001b[0m\u001b[0;36m1\u001b[0m\u001b[0;34m]\u001b[0m\u001b[0;34m)\u001b[0m\u001b[0;34m\u001b[0m\u001b[0;34m\u001b[0m\u001b[0m\n\u001b[1;32m   1140\u001b[0m     \u001b[0;31m# masked NaN values are ok\u001b[0m\u001b[0;34m\u001b[0m\u001b[0;34m\u001b[0m\u001b[0;34m\u001b[0m\u001b[0m\n",
      "\u001b[0;32m~/anaconda3/envs/reco/lib/python3.6/site-packages/numpy/core/numeric.py\u001b[0m in \u001b[0;36mmoveaxis\u001b[0;34m(a, source, destination)\u001b[0m\n\u001b[1;32m   1683\u001b[0m     \u001b[0morder\u001b[0m \u001b[0;34m=\u001b[0m \u001b[0;34m[\u001b[0m\u001b[0mn\u001b[0m \u001b[0;32mfor\u001b[0m \u001b[0mn\u001b[0m \u001b[0;32min\u001b[0m \u001b[0mrange\u001b[0m\u001b[0;34m(\u001b[0m\u001b[0ma\u001b[0m\u001b[0;34m.\u001b[0m\u001b[0mndim\u001b[0m\u001b[0;34m)\u001b[0m \u001b[0;32mif\u001b[0m \u001b[0mn\u001b[0m \u001b[0;32mnot\u001b[0m \u001b[0;32min\u001b[0m \u001b[0msource\u001b[0m\u001b[0;34m]\u001b[0m\u001b[0;34m\u001b[0m\u001b[0;34m\u001b[0m\u001b[0m\n\u001b[1;32m   1684\u001b[0m \u001b[0;34m\u001b[0m\u001b[0m\n\u001b[0;32m-> 1685\u001b[0;31m     \u001b[0;32mfor\u001b[0m \u001b[0mdest\u001b[0m\u001b[0;34m,\u001b[0m \u001b[0msrc\u001b[0m \u001b[0;32min\u001b[0m \u001b[0msorted\u001b[0m\u001b[0;34m(\u001b[0m\u001b[0mzip\u001b[0m\u001b[0;34m(\u001b[0m\u001b[0mdestination\u001b[0m\u001b[0;34m,\u001b[0m \u001b[0msource\u001b[0m\u001b[0;34m)\u001b[0m\u001b[0;34m)\u001b[0m\u001b[0;34m:\u001b[0m\u001b[0;34m\u001b[0m\u001b[0;34m\u001b[0m\u001b[0m\n\u001b[0m\u001b[1;32m   1686\u001b[0m         \u001b[0morder\u001b[0m\u001b[0;34m.\u001b[0m\u001b[0minsert\u001b[0m\u001b[0;34m(\u001b[0m\u001b[0mdest\u001b[0m\u001b[0;34m,\u001b[0m \u001b[0msrc\u001b[0m\u001b[0;34m)\u001b[0m\u001b[0;34m\u001b[0m\u001b[0;34m\u001b[0m\u001b[0m\n\u001b[1;32m   1687\u001b[0m \u001b[0;34m\u001b[0m\u001b[0m\n",
      "\u001b[0;31mKeyboardInterrupt\u001b[0m: "
     ]
    }
   ],
   "source": [
    "model.fit(x=[data1, data2, data3, single1, single2, single3, num1], \n",
    "          y=one_hot_labels, epochs=70, batch_size=32)"
   ]
  },
  {
   "cell_type": "code",
   "execution_count": 56,
   "metadata": {},
   "outputs": [
    {
     "name": "stdout",
     "output_type": "stream",
     "text": [
      "10000/10000 [==============================] - 0s 39us/step\n"
     ]
    },
    {
     "data": {
      "text/plain": [
       "[0.0003717466065660119, 1.0]"
      ]
     },
     "execution_count": 56,
     "metadata": {},
     "output_type": "execute_result"
    }
   ],
   "source": [
    "model.evaluate([data1, data2, data3, single1, single2, single3, num1], y=one_hot_labels, batch_size=32)"
   ]
  },
  {
   "cell_type": "code",
   "execution_count": 57,
   "metadata": {},
   "outputs": [
    {
     "data": {
      "text/plain": [
       "(64, 100)"
      ]
     },
     "execution_count": 57,
     "metadata": {},
     "output_type": "execute_result"
    }
   ],
   "source": [
    "model.layers[-1].get_weights()[0].shape   # category embedding matrix\n"
   ]
  },
  {
   "cell_type": "code",
   "execution_count": 58,
   "metadata": {},
   "outputs": [
    {
     "data": {
      "text/plain": [
       "<tf.Tensor 'softmax_layer_1/Softmax:0' shape=(?, 100) dtype=float32>"
      ]
     },
     "execution_count": 58,
     "metadata": {},
     "output_type": "execute_result"
    }
   ],
   "source": [
    "model.layers[-1].output"
   ]
  },
  {
   "cell_type": "code",
   "execution_count": 49,
   "metadata": {},
   "outputs": [
    {
     "data": {
      "text/plain": [
       "<tf.Tensor 'user_embedding_1/Relu:0' shape=(?, 64) dtype=float32>"
      ]
     },
     "execution_count": 49,
     "metadata": {},
     "output_type": "execute_result"
    }
   ],
   "source": [
    "model.layers[-2].output  ### user embedding\n"
   ]
  },
  {
   "cell_type": "code",
   "execution_count": null,
   "metadata": {},
   "outputs": [],
   "source": []
  },
  {
   "cell_type": "markdown",
   "metadata": {},
   "source": [
    "* make it easy to use and config\n",
    "* implement some new ideas beforehand\n",
    "* some document work\n",
    "* data loader interface\n",
    "* training env preparation"
   ]
  }
 ],
 "metadata": {
  "kernelspec": {
   "display_name": "Python 3",
   "language": "python",
   "name": "python3"
  },
  "language_info": {
   "codemirror_mode": {
    "name": "ipython",
    "version": 3
   },
   "file_extension": ".py",
   "mimetype": "text/x-python",
   "name": "python",
   "nbconvert_exporter": "python",
   "pygments_lexer": "ipython3",
   "version": "3.6.8"
  }
 },
 "nbformat": 4,
 "nbformat_minor": 2
}
