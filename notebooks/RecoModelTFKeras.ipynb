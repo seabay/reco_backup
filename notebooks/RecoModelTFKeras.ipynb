{
 "cells": [
  {
   "cell_type": "code",
   "execution_count": 2,
   "metadata": {},
   "outputs": [],
   "source": [
    "%load_ext autoreload\n",
    "%autoreload 2"
   ]
  },
  {
   "cell_type": "code",
   "execution_count": 13,
   "metadata": {},
   "outputs": [],
   "source": [
    "import numpy as np\n",
    "import builtins\n",
    "import keras\n",
    "import tensorflow as tf\n",
    "from keras import backend as K\n",
    "from extra_keras_metrics import average_precision_at_k\n",
    "from IPython.display import SVG\n",
    "from keras.utils.vis_utils import plot_model\n",
    "import pydot as pyd\n",
    "from keras.utils.vis_utils import model_to_dot\n",
    "from keras.layers import Input, Dense, Embedding, Lambda, Reshape, Flatten, Average\n",
    "from keras.models import Model\n",
    "from keras.backend import mean, max\n",
    "from keras.preprocessing.sequence import pad_sequences\n",
    "\n",
    "keras.utils.vis_utils.pydot = pyd"
   ]
  },
  {
   "cell_type": "code",
   "execution_count": 4,
   "metadata": {},
   "outputs": [],
   "source": [
    "import data_generator"
   ]
  },
  {
   "cell_type": "code",
   "execution_count": 5,
   "metadata": {},
   "outputs": [
    {
     "data": {
      "text/plain": [
       "'1.13.1'"
      ]
     },
     "execution_count": 5,
     "metadata": {},
     "output_type": "execute_result"
    }
   ],
   "source": [
    "tf.__version__"
   ]
  },
  {
   "cell_type": "code",
   "execution_count": 6,
   "metadata": {},
   "outputs": [],
   "source": [
    "tf.keras.backend.clear_session()  # For easy reset of notebook state."
   ]
  },
  {
   "cell_type": "code",
   "execution_count": 7,
   "metadata": {},
   "outputs": [],
   "source": [
    "class RecoDNN():\n",
    "    \n",
    "    def __init__(self, max_transaction_history = 50, max_product_click_history = 50, max_promotion_click_history = 50,\n",
    "                 category_size = 100, single_categorical_features = None, numeric_features_size = 10,\n",
    "                 hidden_layer1_size = 256, hidden_layer2_size = 128, hidden_layer3_size = 64, activation='relu',\n",
    "                input_embedding_size = 128):\n",
    "        \n",
    "        self.max_transaction_history = max_transaction_history\n",
    "        self.max_product_click_history = max_product_click_history\n",
    "        self.max_promotion_click_history = max_promotion_click_history\n",
    "        self.category_size = category_size\n",
    "        self.hidden_layer1_size = hidden_layer1_size\n",
    "        self.hidden_layer2_size = hidden_layer2_size\n",
    "        self.hidden_layer3_size = hidden_layer3_size\n",
    "        self.single_categorical_features = single_categorical_features\n",
    "        self.numeric_features_size = numeric_features_size\n",
    "        self.activation = activation\n",
    "        self.input_embedding_size = input_embedding_size\n",
    "        \n",
    "        self.category_embeddings = tf.keras.layers.Embedding(output_dim=self.input_embedding_size, input_dim = self.category_size, \n",
    "                       input_length = builtins.max(self.max_transaction_history, self.max_product_click_history, self.max_promotion_click_history), mask_zero=True, name='category_embeddings')\n",
    "        \n",
    "        self.build()\n",
    "        \n",
    "    \n",
    "    def build(self):\n",
    "        \n",
    "        inp_layer, inp_embed = self.create_input()\n",
    "        \n",
    "        v = tf.keras.layers.Dense(self.hidden_layer1_size, activation = self.activation)(tf.keras.layers.concatenate(inp_embed)) \n",
    "        v = tf.keras.layers.Dense(self.hidden_layer2_size, activation = self.activation)(v)\n",
    "        v = tf.keras.layers.Dense(self.hidden_layer3_size, activation = self.activation, name='user_embedding')(v)\n",
    "        output = tf.keras.layers.Dense(self.category_size, activation ='softmax', name='softmax_layer')(v)\n",
    "        self.model = tf.keras.models.Model(inputs = inp_layer, outputs = [output])    \n",
    "        \n",
    "    \n",
    "    def create_input(self):\n",
    "        \n",
    "        transaction_cols = [x for x in range(self.max_transaction_history)]\n",
    "        product_click_cols = [x for x in range(self.max_product_click_history)]\n",
    "        promotion_click_cols = [x for x in range(self.max_promotion_click_history)]\n",
    "        seq_category_cols = [transaction_cols, product_click_cols, promotion_click_cols]\n",
    "        \n",
    "        seqs = []\n",
    "        for i, grp in enumerate(seq_category_cols):\n",
    "            seqs.append(self.seq_categorical_input('seq_categorical_' + str(i), len(grp)))\n",
    "\n",
    "        singles = []\n",
    "        if self.single_categorical_features:\n",
    "            for col in self.single_categorical_features:\n",
    "                singles.append(self.singe_categorical_input(str(col), self.single_categorical_features[col]))\n",
    "\n",
    "        nums = self.continous_inputs(self.numeric_features_size)\n",
    "\n",
    "        inp_layer =  [s[0] for s in seqs]\n",
    "        inp_layer += [s[0] for s in singles]\n",
    "        inp_layer.append(nums[0])\n",
    "        inp_embed = [s[1] for s in seqs]\n",
    "        inp_embed += [s[1] for s in singles]\n",
    "        inp_embed.append(nums[1])\n",
    "               \n",
    "        return inp_layer, inp_embed\n",
    "    \n",
    "    \n",
    "    def seq_categorical_input(self, name, max_history):\n",
    "    \n",
    "        seq = tf.keras.layers.Input(shape=(max_history,), dtype='int32', name=name)\n",
    "        input_embeddings = self.category_embeddings(seq)\n",
    "        avg = tf.keras.layers.Lambda(lambda x: tf.reduce_mean(x, axis=1), name= name + '_avg_embedding')\n",
    "        #avg_embedding = tf.reduce_mean(input_embeddings, axis=0), name= name + '_avg_embedding'))\n",
    "        avg_embedding = avg(input_embeddings)\n",
    "\n",
    "        #maxf = Lambda(lambda x: max(x, axis=1), name = name + '_max_embedding')\n",
    "        #max_embedding = maxf(input_embeddings)\n",
    "\n",
    "        return seq, avg_embedding   #keras.layers.add([avg_embedding, max_embedding])\n",
    "\n",
    "    \n",
    "    def singe_categorical_input(self, name, unique_size):\n",
    "        single = tf.keras.layers.Input(shape=(1,), dtype='int32', name=name)\n",
    "        embeddings = tf.keras.layers.Embedding(output_dim = self.input_embedding_size, input_dim = unique_size, \n",
    "                           input_length=1, name=name + '_embedding')(single)\n",
    "        embeddings = tf.keras.layers.Flatten(name = 'flatten_' + name)(embeddings)\n",
    "        return single, embeddings\n",
    "    \n",
    "    def continous_inputs(self, size=None, name='numeric'):\n",
    "        inp = tf.keras.layers.Input(shape=(size,), dtype='float32', name=name)\n",
    "        return inp, inp\n"
   ]
  },
  {
   "cell_type": "markdown",
   "metadata": {},
   "source": [
    "# fake dataset"
   ]
  },
  {
   "cell_type": "code",
   "execution_count": 8,
   "metadata": {},
   "outputs": [],
   "source": [
    "data_size = 10000\n",
    "max_transaction_history = 50\n",
    "max_product_click_history = 50\n",
    "max_promotion_click_history = 50\n",
    "input_embedding_size = 128\n",
    "category_size = 100\n",
    "numeric_size = 10\n",
    "\n",
    "data1 = np.random.randint(category_size, size=(data_size, max_transaction_history))\n",
    "data2 = np.random.randint(category_size, size=(data_size, max_product_click_history))\n",
    "data3 = np.random.randint(category_size, size=(data_size, max_promotion_click_history))\n",
    "inputs = [data1, data2, data3]\n",
    "\n",
    "single_category_cols = {105:3,106:5,107:10}   ## such as location : unique_value_size\n",
    "for k in single_category_cols:\n",
    "    inputs.append(np.random.randint(single_category_cols[k], size=(data_size, 1)))\n",
    "\n",
    "num1 = np.random.random(size=(data_size, numeric_size))\n",
    "inputs.append(num1)\n",
    "\n",
    "labels = np.random.randint(category_size, size=(data_size, 1))\n",
    "one_hot_labels = keras.utils.to_categorical(labels, num_classes=category_size)\n"
   ]
  },
  {
   "cell_type": "markdown",
   "metadata": {},
   "source": [
    "## save locally"
   ]
  },
  {
   "cell_type": "code",
   "execution_count": 7,
   "metadata": {},
   "outputs": [],
   "source": [
    "inputs1 = inputs.copy()\n",
    "inputs1.append(labels)\n",
    "merge = np.hstack(inputs1)\n",
    "np.savetxt('../data/features.csv', merge, fmt=\"%2.3f\")"
   ]
  },
  {
   "cell_type": "code",
   "execution_count": null,
   "metadata": {},
   "outputs": [],
   "source": []
  },
  {
   "cell_type": "code",
   "execution_count": 496,
   "metadata": {},
   "outputs": [],
   "source": [
    "# create tfrecord file for test\n",
    "output_filename = \"../data/tf.tfrecord\"\n",
    "\n",
    "def float_feature(value):\n",
    "    return tf.train.Feature(float_list=tf.train.FloatList(value=value))\n",
    "\n",
    "def int64_feature(value):\n",
    "    return tf.train.Feature(int64_list=tf.train.Int64List(value=list(value)))\n",
    "\n",
    "with tf.python_io.TFRecordWriter(output_filename) as writer:\n",
    "    for (v1,v2,v3,v4,v5,v6,v7,v8) in zip(data1, data2, data3, inputs[3], inputs[4], inputs[5], inputs[6], one_hot_labels):\n",
    "        features = {'seq_categorical_0': int64_feature(v1), 'seq_categorical_1': int64_feature(v2),\n",
    "                    'seq_categorical_2': int64_feature(v3),'105': int64_feature(v4),\n",
    "                    '106': int64_feature(v5),'107': int64_feature(v6), 'numeric': float_feature(v7),\n",
    "                    'labels': float_feature(v8)}\n",
    "        tf_example = tf.train.Example(features=tf.train.Features(feature=features))\n",
    "        writer.write(tf_example.SerializeToString())\n",
    "\n"
   ]
  },
  {
   "cell_type": "code",
   "execution_count": null,
   "metadata": {},
   "outputs": [],
   "source": []
  },
  {
   "cell_type": "code",
   "execution_count": 427,
   "metadata": {},
   "outputs": [],
   "source": [
    "def parse_function(example_proto):\n",
    "    features = {\"seq_categorical_0\":tf.FixedLenFeature([50],tf.int64),\n",
    "                \"seq_categorical_1\":tf.FixedLenFeature([50], tf.int64),\n",
    "                \"seq_categorical_2\":tf.FixedLenFeature([50], tf.int64),\n",
    "                \"105\":tf.FixedLenFeature([1], tf.int64),\n",
    "                \"106\":tf.FixedLenFeature([1], tf.int64),\n",
    "                \"107\":tf.FixedLenFeature([1], tf.int64),\n",
    "                \"numeric\":tf.FixedLenFeature([10], tf.float32),\n",
    "                \"labels\":tf.FixedLenFeature([100], tf.float32),\n",
    "         }\n",
    "    parsed_features = tf.parse_single_example(example_proto, features)\n",
    "    #return parsed_features\n",
    "    return (parsed_features[\"seq_categorical_0\"], parsed_features[\"seq_categorical_1\"], parsed_features[\"seq_categorical_2\"], parsed_features[\"105\"], parsed_features[\"106\"], parsed_features[\"107\"], parsed_features[\"numeric\"]), parsed_features[\"labels\"]"
   ]
  },
  {
   "cell_type": "code",
   "execution_count": 497,
   "metadata": {},
   "outputs": [],
   "source": [
    "#debug generated tfrecord\n",
    "try:\n",
    "    for i, str_rec in enumerate(tf.python_io.tf_record_iterator(\"../data/tf.tfrecord\")):\n",
    "        example = tf.train.Example()\n",
    "        example.ParseFromString(str_rec)\n",
    "        #print(i, dict(example.features.feature).keys())\n",
    "except:\n",
    "    print(i)"
   ]
  },
  {
   "cell_type": "code",
   "execution_count": 498,
   "metadata": {},
   "outputs": [],
   "source": [
    "ds3=tf.data.TFRecordDataset('../data/tf.tfrecord')"
   ]
  },
  {
   "cell_type": "code",
   "execution_count": 499,
   "metadata": {},
   "outputs": [],
   "source": [
    "ds3=ds3.map(parse_function)"
   ]
  },
  {
   "cell_type": "code",
   "execution_count": 500,
   "metadata": {},
   "outputs": [],
   "source": [
    "ds3 = ds3.repeat()  # Repeat the input indefinitely.\n",
    "ds3 = ds3.batch(32)\n",
    "#iterator = ds3.make_initializable_iterator()"
   ]
  },
  {
   "cell_type": "code",
   "execution_count": 501,
   "metadata": {},
   "outputs": [],
   "source": [
    "#iterator.get_next()"
   ]
  },
  {
   "cell_type": "code",
   "execution_count": 502,
   "metadata": {},
   "outputs": [
    {
     "data": {
      "text/plain": [
       "((TensorShape([Dimension(None), Dimension(50)]),\n",
       "  TensorShape([Dimension(None), Dimension(50)]),\n",
       "  TensorShape([Dimension(None), Dimension(50)]),\n",
       "  TensorShape([Dimension(None), Dimension(1)]),\n",
       "  TensorShape([Dimension(None), Dimension(1)]),\n",
       "  TensorShape([Dimension(None), Dimension(1)]),\n",
       "  TensorShape([Dimension(None), Dimension(10)])),\n",
       " TensorShape([Dimension(None), Dimension(100)]))"
      ]
     },
     "execution_count": 502,
     "metadata": {},
     "output_type": "execute_result"
    }
   ],
   "source": [
    "ds3.output_shapes"
   ]
  },
  {
   "cell_type": "code",
   "execution_count": null,
   "metadata": {},
   "outputs": [],
   "source": []
  },
  {
   "cell_type": "code",
   "execution_count": null,
   "metadata": {},
   "outputs": [],
   "source": []
  },
  {
   "cell_type": "code",
   "execution_count": 296,
   "metadata": {},
   "outputs": [],
   "source": [
    "ds2=tf.data.Dataset.from_tensor_slices(\n",
    "    ({'seq_categorical_0': data1, 'seq_categorical_1': data2, 'seq_categorical_2': data3, \n",
    "     '105': inputs[3], '106': inputs[4],'107': inputs[5],'numeric': inputs[6]},\n",
    "     {'softmax_layer': one_hot_labels}))\n"
   ]
  },
  {
   "cell_type": "code",
   "execution_count": 297,
   "metadata": {},
   "outputs": [],
   "source": [
    "ds2=ds2.repeat()\n",
    "ds2=ds2.batch(32)"
   ]
  },
  {
   "cell_type": "code",
   "execution_count": null,
   "metadata": {},
   "outputs": [],
   "source": []
  },
  {
   "cell_type": "code",
   "execution_count": 42,
   "metadata": {},
   "outputs": [
    {
     "data": {
      "text/plain": [
       "(10000, 1)"
      ]
     },
     "execution_count": 42,
     "metadata": {},
     "output_type": "execute_result"
    }
   ],
   "source": [
    "labels.shape"
   ]
  },
  {
   "cell_type": "code",
   "execution_count": 163,
   "metadata": {},
   "outputs": [],
   "source": [
    "input_dataset = tf.data.Dataset.from_tensor_slices((data1, data2, data3, inputs[3], inputs[4], inputs[5], num1))"
   ]
  },
  {
   "cell_type": "code",
   "execution_count": 164,
   "metadata": {},
   "outputs": [
    {
     "data": {
      "text/plain": [
       "(TensorShape([Dimension(50)]),\n",
       " TensorShape([Dimension(50)]),\n",
       " TensorShape([Dimension(50)]),\n",
       " TensorShape([Dimension(1)]),\n",
       " TensorShape([Dimension(1)]),\n",
       " TensorShape([Dimension(1)]),\n",
       " TensorShape([Dimension(10)]))"
      ]
     },
     "execution_count": 164,
     "metadata": {},
     "output_type": "execute_result"
    }
   ],
   "source": [
    "input_dataset.output_shapes"
   ]
  },
  {
   "cell_type": "code",
   "execution_count": 165,
   "metadata": {},
   "outputs": [],
   "source": [
    "output_dataset = tf.data.Dataset.from_tensor_slices((one_hot_labels))"
   ]
  },
  {
   "cell_type": "code",
   "execution_count": 166,
   "metadata": {},
   "outputs": [
    {
     "data": {
      "text/plain": [
       "TensorShape([Dimension(100)])"
      ]
     },
     "execution_count": 166,
     "metadata": {},
     "output_type": "execute_result"
    }
   ],
   "source": [
    "output_dataset.output_shapes"
   ]
  },
  {
   "cell_type": "code",
   "execution_count": 167,
   "metadata": {},
   "outputs": [],
   "source": [
    "input_dataset = input_dataset.batch(32).repeat()\n",
    "output_dataset = output_dataset.batch(32).repeat()"
   ]
  },
  {
   "cell_type": "code",
   "execution_count": 168,
   "metadata": {},
   "outputs": [],
   "source": [
    "dataset = tf.data.Dataset.zip((input_dataset, output_dataset))"
   ]
  },
  {
   "cell_type": "code",
   "execution_count": null,
   "metadata": {},
   "outputs": [],
   "source": [
    "dataset.output_shapes"
   ]
  },
  {
   "cell_type": "code",
   "execution_count": 138,
   "metadata": {},
   "outputs": [],
   "source": [
    "#dataset = dataset.shuffle(100).batch(32).repeat()"
   ]
  },
  {
   "cell_type": "code",
   "execution_count": null,
   "metadata": {},
   "outputs": [],
   "source": []
  },
  {
   "cell_type": "code",
   "execution_count": null,
   "metadata": {},
   "outputs": [],
   "source": [
    "ds2 = ds2.shuffle(buffer_size=1024).batch(64)"
   ]
  },
  {
   "cell_type": "markdown",
   "metadata": {},
   "source": [
    " "
   ]
  },
  {
   "cell_type": "markdown",
   "metadata": {},
   "source": [
    "# Training"
   ]
  },
  {
   "cell_type": "code",
   "execution_count": 9,
   "metadata": {},
   "outputs": [
    {
     "name": "stdout",
     "output_type": "stream",
     "text": [
      "WARNING:tensorflow:From /Users/pengcheng.jia/anaconda3/envs/reco/lib/python3.6/site-packages/tensorflow/python/ops/resource_variable_ops.py:435: colocate_with (from tensorflow.python.framework.ops) is deprecated and will be removed in a future version.\n",
      "Instructions for updating:\n",
      "Colocations handled automatically by placer.\n"
     ]
    }
   ],
   "source": [
    "model = RecoDNN(max_transaction_history,max_product_click_history, max_promotion_click_history, category_size,\n",
    "                numeric_features_size = numeric_size, input_embedding_size = input_embedding_size,\n",
    "                single_categorical_features = single_category_cols).model"
   ]
  },
  {
   "cell_type": "code",
   "execution_count": 10,
   "metadata": {},
   "outputs": [],
   "source": [
    "model.compile(loss='categorical_crossentropy',\n",
    "                       optimizer='adam',\n",
    "                       metrics=['accuracy'])"
   ]
  },
  {
   "cell_type": "code",
   "execution_count": 11,
   "metadata": {},
   "outputs": [],
   "source": [
    "#model.summary()"
   ]
  },
  {
   "cell_type": "code",
   "execution_count": 14,
   "metadata": {},
   "outputs": [],
   "source": [
    "plot_model(model, to_file='../figures/model.png', show_shapes=True, show_layer_names=True)"
   ]
  },
  {
   "cell_type": "code",
   "execution_count": 16,
   "metadata": {},
   "outputs": [
    {
     "data": {
      "image/svg+xml": [
       "<svg height=\"556pt\" viewBox=\"0.00 0.00 1423.10 556.00\" width=\"1423pt\" xmlns=\"http://www.w3.org/2000/svg\" xmlns:xlink=\"http://www.w3.org/1999/xlink\">\n",
       "<g class=\"graph\" id=\"graph0\" transform=\"scale(1 1) rotate(0) translate(4 552)\">\n",
       "<title>G</title>\n",
       "<polygon fill=\"#ffffff\" points=\"-4,4 -4,-552 1419.0972,-552 1419.0972,4 -4,4\" stroke=\"transparent\"/>\n",
       "<!-- 5094288128 -->\n",
       "<g class=\"node\" id=\"node1\">\n",
       "<title>5094288128</title>\n",
       "<polygon fill=\"none\" points=\"120.0483,-511.5 120.0483,-547.5 306.6938,-547.5 306.6938,-511.5 120.0483,-511.5\" stroke=\"#000000\"/>\n",
       "<text fill=\"#000000\" font-family=\"Times,serif\" font-size=\"14.00\" text-anchor=\"middle\" x=\"213.3711\" y=\"-525.3\">seq_categorical_0: InputLayer</text>\n",
       "</g>\n",
       "<!-- 5094288072 -->\n",
       "<g class=\"node\" id=\"node7\">\n",
       "<title>5094288072</title>\n",
       "<polygon fill=\"none\" points=\"312.9795,-438.5 312.9795,-474.5 523.7627,-474.5 523.7627,-438.5 312.9795,-438.5\" stroke=\"#000000\"/>\n",
       "<text fill=\"#000000\" font-family=\"Times,serif\" font-size=\"14.00\" text-anchor=\"middle\" x=\"418.3711\" y=\"-452.3\">category_embeddings: Embedding</text>\n",
       "</g>\n",
       "<!-- 5094288128&#45;&gt;5094288072 -->\n",
       "<g class=\"edge\" id=\"edge1\">\n",
       "<title>5094288128-&gt;5094288072</title>\n",
       "<path d=\"M264.0453,-511.4551C292.5042,-501.3209 328.1963,-488.611 358.0855,-477.9675\" fill=\"none\" stroke=\"#000000\"/>\n",
       "<polygon fill=\"#000000\" points=\"359.323,-481.2422 367.5694,-474.5904 356.9747,-474.6479 359.323,-481.2422\" stroke=\"#000000\"/>\n",
       "</g>\n",
       "<!-- 4566427296 -->\n",
       "<g class=\"node\" id=\"node2\">\n",
       "<title>4566427296</title>\n",
       "<polygon fill=\"none\" points=\"325.0483,-511.5 325.0483,-547.5 511.6938,-547.5 511.6938,-511.5 325.0483,-511.5\" stroke=\"#000000\"/>\n",
       "<text fill=\"#000000\" font-family=\"Times,serif\" font-size=\"14.00\" text-anchor=\"middle\" x=\"418.3711\" y=\"-525.3\">seq_categorical_1: InputLayer</text>\n",
       "</g>\n",
       "<!-- 4566427296&#45;&gt;5094288072 -->\n",
       "<g class=\"edge\" id=\"edge2\">\n",
       "<title>4566427296-&gt;5094288072</title>\n",
       "<path d=\"M418.3711,-511.4551C418.3711,-503.3828 418.3711,-493.6764 418.3711,-484.6817\" fill=\"none\" stroke=\"#000000\"/>\n",
       "<polygon fill=\"#000000\" points=\"421.8712,-484.5903 418.3711,-474.5904 414.8712,-484.5904 421.8712,-484.5903\" stroke=\"#000000\"/>\n",
       "</g>\n",
       "<!-- 5094288688 -->\n",
       "<g class=\"node\" id=\"node3\">\n",
       "<title>5094288688</title>\n",
       "<polygon fill=\"none\" points=\"530.0483,-511.5 530.0483,-547.5 716.6938,-547.5 716.6938,-511.5 530.0483,-511.5\" stroke=\"#000000\"/>\n",
       "<text fill=\"#000000\" font-family=\"Times,serif\" font-size=\"14.00\" text-anchor=\"middle\" x=\"623.3711\" y=\"-525.3\">seq_categorical_2: InputLayer</text>\n",
       "</g>\n",
       "<!-- 5094288688&#45;&gt;5094288072 -->\n",
       "<g class=\"edge\" id=\"edge3\">\n",
       "<title>5094288688-&gt;5094288072</title>\n",
       "<path d=\"M572.6969,-511.4551C544.238,-501.3209 508.5459,-488.611 478.6566,-477.9675\" fill=\"none\" stroke=\"#000000\"/>\n",
       "<polygon fill=\"#000000\" points=\"479.7675,-474.6479 469.1728,-474.5904 477.4192,-481.2422 479.7675,-474.6479\" stroke=\"#000000\"/>\n",
       "</g>\n",
       "<!-- 5094599256 -->\n",
       "<g class=\"node\" id=\"node4\">\n",
       "<title>5094599256</title>\n",
       "<polygon fill=\"none\" points=\"811.0796,-511.5 811.0796,-547.5 917.6626,-547.5 917.6626,-511.5 811.0796,-511.5\" stroke=\"#000000\"/>\n",
       "<text fill=\"#000000\" font-family=\"Times,serif\" font-size=\"14.00\" text-anchor=\"middle\" x=\"864.3711\" y=\"-525.3\">105: InputLayer</text>\n",
       "</g>\n",
       "<!-- 5094597240 -->\n",
       "<g class=\"node\" id=\"node8\">\n",
       "<title>5094597240</title>\n",
       "<polygon fill=\"none\" points=\"775.3003,-438.5 775.3003,-474.5 953.4419,-474.5 953.4419,-438.5 775.3003,-438.5\" stroke=\"#000000\"/>\n",
       "<text fill=\"#000000\" font-family=\"Times,serif\" font-size=\"14.00\" text-anchor=\"middle\" x=\"864.3711\" y=\"-452.3\">105_embedding: Embedding</text>\n",
       "</g>\n",
       "<!-- 5094599256&#45;&gt;5094597240 -->\n",
       "<g class=\"edge\" id=\"edge4\">\n",
       "<title>5094599256-&gt;5094597240</title>\n",
       "<path d=\"M864.3711,-511.4551C864.3711,-503.3828 864.3711,-493.6764 864.3711,-484.6817\" fill=\"none\" stroke=\"#000000\"/>\n",
       "<polygon fill=\"#000000\" points=\"867.8712,-484.5903 864.3711,-474.5904 860.8712,-484.5904 867.8712,-484.5903\" stroke=\"#000000\"/>\n",
       "</g>\n",
       "<!-- 5111854696 -->\n",
       "<g class=\"node\" id=\"node5\">\n",
       "<title>5111854696</title>\n",
       "<polygon fill=\"none\" points=\"1007.0796,-511.5 1007.0796,-547.5 1113.6626,-547.5 1113.6626,-511.5 1007.0796,-511.5\" stroke=\"#000000\"/>\n",
       "<text fill=\"#000000\" font-family=\"Times,serif\" font-size=\"14.00\" text-anchor=\"middle\" x=\"1060.3711\" y=\"-525.3\">106: InputLayer</text>\n",
       "</g>\n",
       "<!-- 5111854808 -->\n",
       "<g class=\"node\" id=\"node9\">\n",
       "<title>5111854808</title>\n",
       "<polygon fill=\"none\" points=\"971.3003,-438.5 971.3003,-474.5 1149.4419,-474.5 1149.4419,-438.5 971.3003,-438.5\" stroke=\"#000000\"/>\n",
       "<text fill=\"#000000\" font-family=\"Times,serif\" font-size=\"14.00\" text-anchor=\"middle\" x=\"1060.3711\" y=\"-452.3\">106_embedding: Embedding</text>\n",
       "</g>\n",
       "<!-- 5111854696&#45;&gt;5111854808 -->\n",
       "<g class=\"edge\" id=\"edge5\">\n",
       "<title>5111854696-&gt;5111854808</title>\n",
       "<path d=\"M1060.3711,-511.4551C1060.3711,-503.3828 1060.3711,-493.6764 1060.3711,-484.6817\" fill=\"none\" stroke=\"#000000\"/>\n",
       "<polygon fill=\"#000000\" points=\"1063.8712,-484.5903 1060.3711,-474.5904 1056.8712,-484.5904 1063.8712,-484.5903\" stroke=\"#000000\"/>\n",
       "</g>\n",
       "<!-- 5112099504 -->\n",
       "<g class=\"node\" id=\"node6\">\n",
       "<title>5112099504</title>\n",
       "<polygon fill=\"none\" points=\"1203.0796,-511.5 1203.0796,-547.5 1309.6626,-547.5 1309.6626,-511.5 1203.0796,-511.5\" stroke=\"#000000\"/>\n",
       "<text fill=\"#000000\" font-family=\"Times,serif\" font-size=\"14.00\" text-anchor=\"middle\" x=\"1256.3711\" y=\"-525.3\">107: InputLayer</text>\n",
       "</g>\n",
       "<!-- 5112216992 -->\n",
       "<g class=\"node\" id=\"node10\">\n",
       "<title>5112216992</title>\n",
       "<polygon fill=\"none\" points=\"1167.3003,-438.5 1167.3003,-474.5 1345.4419,-474.5 1345.4419,-438.5 1167.3003,-438.5\" stroke=\"#000000\"/>\n",
       "<text fill=\"#000000\" font-family=\"Times,serif\" font-size=\"14.00\" text-anchor=\"middle\" x=\"1256.3711\" y=\"-452.3\">107_embedding: Embedding</text>\n",
       "</g>\n",
       "<!-- 5112099504&#45;&gt;5112216992 -->\n",
       "<g class=\"edge\" id=\"edge6\">\n",
       "<title>5112099504-&gt;5112216992</title>\n",
       "<path d=\"M1256.3711,-511.4551C1256.3711,-503.3828 1256.3711,-493.6764 1256.3711,-484.6817\" fill=\"none\" stroke=\"#000000\"/>\n",
       "<polygon fill=\"#000000\" points=\"1259.8712,-484.5903 1256.3711,-474.5904 1252.8712,-484.5904 1259.8712,-484.5903\" stroke=\"#000000\"/>\n",
       "</g>\n",
       "<!-- 4580968040 -->\n",
       "<g class=\"node\" id=\"node11\">\n",
       "<title>4580968040</title>\n",
       "<polygon fill=\"none\" points=\"0,-365.5 0,-401.5 266.7422,-401.5 266.7422,-365.5 0,-365.5\" stroke=\"#000000\"/>\n",
       "<text fill=\"#000000\" font-family=\"Times,serif\" font-size=\"14.00\" text-anchor=\"middle\" x=\"133.3711\" y=\"-379.3\">seq_categorical_0_avg_embedding: Lambda</text>\n",
       "</g>\n",
       "<!-- 5094288072&#45;&gt;4580968040 -->\n",
       "<g class=\"edge\" id=\"edge7\">\n",
       "<title>5094288072-&gt;4580968040</title>\n",
       "<path d=\"M347.9216,-438.4551C307.2435,-428.0358 255.9355,-414.8937 213.6945,-404.0741\" fill=\"none\" stroke=\"#000000\"/>\n",
       "<polygon fill=\"#000000\" points=\"214.5536,-400.6812 203.9978,-401.5904 212.8166,-407.4623 214.5536,-400.6812\" stroke=\"#000000\"/>\n",
       "</g>\n",
       "<!-- 4577300320 -->\n",
       "<g class=\"node\" id=\"node12\">\n",
       "<title>4577300320</title>\n",
       "<polygon fill=\"none\" points=\"285,-365.5 285,-401.5 551.7422,-401.5 551.7422,-365.5 285,-365.5\" stroke=\"#000000\"/>\n",
       "<text fill=\"#000000\" font-family=\"Times,serif\" font-size=\"14.00\" text-anchor=\"middle\" x=\"418.3711\" y=\"-379.3\">seq_categorical_1_avg_embedding: Lambda</text>\n",
       "</g>\n",
       "<!-- 5094288072&#45;&gt;4577300320 -->\n",
       "<g class=\"edge\" id=\"edge8\">\n",
       "<title>5094288072-&gt;4577300320</title>\n",
       "<path d=\"M418.3711,-438.4551C418.3711,-430.3828 418.3711,-420.6764 418.3711,-411.6817\" fill=\"none\" stroke=\"#000000\"/>\n",
       "<polygon fill=\"#000000\" points=\"421.8712,-411.5903 418.3711,-401.5904 414.8712,-411.5904 421.8712,-411.5903\" stroke=\"#000000\"/>\n",
       "</g>\n",
       "<!-- 5094286672 -->\n",
       "<g class=\"node\" id=\"node13\">\n",
       "<title>5094286672</title>\n",
       "<polygon fill=\"none\" points=\"570,-365.5 570,-401.5 836.7422,-401.5 836.7422,-365.5 570,-365.5\" stroke=\"#000000\"/>\n",
       "<text fill=\"#000000\" font-family=\"Times,serif\" font-size=\"14.00\" text-anchor=\"middle\" x=\"703.3711\" y=\"-379.3\">seq_categorical_2_avg_embedding: Lambda</text>\n",
       "</g>\n",
       "<!-- 5094288072&#45;&gt;5094286672 -->\n",
       "<g class=\"edge\" id=\"edge9\">\n",
       "<title>5094288072-&gt;5094286672</title>\n",
       "<path d=\"M488.8205,-438.4551C529.4986,-428.0358 580.8067,-414.8937 623.0477,-404.0741\" fill=\"none\" stroke=\"#000000\"/>\n",
       "<polygon fill=\"#000000\" points=\"623.9256,-407.4623 632.7443,-401.5904 622.1886,-400.6812 623.9256,-407.4623\" stroke=\"#000000\"/>\n",
       "</g>\n",
       "<!-- 5111853240 -->\n",
       "<g class=\"node\" id=\"node14\">\n",
       "<title>5111853240</title>\n",
       "<polygon fill=\"none\" points=\"854.7383,-365.5 854.7383,-401.5 980.0039,-401.5 980.0039,-365.5 854.7383,-365.5\" stroke=\"#000000\"/>\n",
       "<text fill=\"#000000\" font-family=\"Times,serif\" font-size=\"14.00\" text-anchor=\"middle\" x=\"917.3711\" y=\"-379.3\">flatten_105: Flatten</text>\n",
       "</g>\n",
       "<!-- 5094597240&#45;&gt;5111853240 -->\n",
       "<g class=\"edge\" id=\"edge10\">\n",
       "<title>5094597240-&gt;5111853240</title>\n",
       "<path d=\"M877.4722,-438.4551C883.7151,-429.8564 891.3043,-419.4034 898.181,-409.9316\" fill=\"none\" stroke=\"#000000\"/>\n",
       "<polygon fill=\"#000000\" points=\"901.1941,-411.7388 904.237,-401.5904 895.5296,-407.6262 901.1941,-411.7388\" stroke=\"#000000\"/>\n",
       "</g>\n",
       "<!-- 5111856152 -->\n",
       "<g class=\"node\" id=\"node15\">\n",
       "<title>5111856152</title>\n",
       "<polygon fill=\"none\" points=\"997.7383,-365.5 997.7383,-401.5 1123.0039,-401.5 1123.0039,-365.5 997.7383,-365.5\" stroke=\"#000000\"/>\n",
       "<text fill=\"#000000\" font-family=\"Times,serif\" font-size=\"14.00\" text-anchor=\"middle\" x=\"1060.3711\" y=\"-379.3\">flatten_106: Flatten</text>\n",
       "</g>\n",
       "<!-- 5111854808&#45;&gt;5111856152 -->\n",
       "<g class=\"edge\" id=\"edge11\">\n",
       "<title>5111854808-&gt;5111856152</title>\n",
       "<path d=\"M1060.3711,-438.4551C1060.3711,-430.3828 1060.3711,-420.6764 1060.3711,-411.6817\" fill=\"none\" stroke=\"#000000\"/>\n",
       "<polygon fill=\"#000000\" points=\"1063.8712,-411.5903 1060.3711,-401.5904 1056.8712,-411.5904 1063.8712,-411.5903\" stroke=\"#000000\"/>\n",
       "</g>\n",
       "<!-- 5112217104 -->\n",
       "<g class=\"node\" id=\"node16\">\n",
       "<title>5112217104</title>\n",
       "<polygon fill=\"none\" points=\"1140.7383,-365.5 1140.7383,-401.5 1266.0039,-401.5 1266.0039,-365.5 1140.7383,-365.5\" stroke=\"#000000\"/>\n",
       "<text fill=\"#000000\" font-family=\"Times,serif\" font-size=\"14.00\" text-anchor=\"middle\" x=\"1203.3711\" y=\"-379.3\">flatten_107: Flatten</text>\n",
       "</g>\n",
       "<!-- 5112216992&#45;&gt;5112217104 -->\n",
       "<g class=\"edge\" id=\"edge12\">\n",
       "<title>5112216992-&gt;5112217104</title>\n",
       "<path d=\"M1243.27,-438.4551C1237.0271,-429.8564 1229.4379,-419.4034 1222.5612,-409.9316\" fill=\"none\" stroke=\"#000000\"/>\n",
       "<polygon fill=\"#000000\" points=\"1225.2126,-407.6262 1216.5052,-401.5904 1219.5481,-411.7388 1225.2126,-407.6262\" stroke=\"#000000\"/>\n",
       "</g>\n",
       "<!-- 5112437728 -->\n",
       "<g class=\"node\" id=\"node18\">\n",
       "<title>5112437728</title>\n",
       "<polygon fill=\"none\" points=\"838.0518,-292.5 838.0518,-328.5 996.6904,-328.5 996.6904,-292.5 838.0518,-292.5\" stroke=\"#000000\"/>\n",
       "<text fill=\"#000000\" font-family=\"Times,serif\" font-size=\"14.00\" text-anchor=\"middle\" x=\"917.3711\" y=\"-306.3\">concatenate: Concatenate</text>\n",
       "</g>\n",
       "<!-- 4580968040&#45;&gt;5112437728 -->\n",
       "<g class=\"edge\" id=\"edge13\">\n",
       "<title>4580968040-&gt;5112437728</title>\n",
       "<path d=\"M266.9368,-366.0328C270.1113,-365.6783 273.2597,-365.3334 276.3711,-365 472.6867,-343.9658 703.5366,-325.9932 827.6113,-316.8841\" fill=\"none\" stroke=\"#000000\"/>\n",
       "<polygon fill=\"#000000\" points=\"828.1013,-320.3577 837.8191,-316.137 827.5903,-313.3763 828.1013,-320.3577\" stroke=\"#000000\"/>\n",
       "</g>\n",
       "<!-- 4577300320&#45;&gt;5112437728 -->\n",
       "<g class=\"edge\" id=\"edge14\">\n",
       "<title>4577300320-&gt;5112437728</title>\n",
       "<path d=\"M541.7194,-365.4551C630.4249,-352.4781 748.001,-335.2776 827.8193,-323.6008\" fill=\"none\" stroke=\"#000000\"/>\n",
       "<polygon fill=\"#000000\" points=\"828.4604,-327.0443 837.8484,-322.1336 827.447,-320.118 828.4604,-327.0443\" stroke=\"#000000\"/>\n",
       "</g>\n",
       "<!-- 5094286672&#45;&gt;5112437728 -->\n",
       "<g class=\"edge\" id=\"edge15\">\n",
       "<title>5094286672-&gt;5112437728</title>\n",
       "<path d=\"M756.27,-365.4551C786.1069,-355.277 823.5602,-342.5009 854.8437,-331.8294\" fill=\"none\" stroke=\"#000000\"/>\n",
       "<polygon fill=\"#000000\" points=\"856.0046,-335.1315 864.3391,-328.5904 853.7446,-328.5064 856.0046,-335.1315\" stroke=\"#000000\"/>\n",
       "</g>\n",
       "<!-- 5111853240&#45;&gt;5112437728 -->\n",
       "<g class=\"edge\" id=\"edge16\">\n",
       "<title>5111853240-&gt;5112437728</title>\n",
       "<path d=\"M917.3711,-365.4551C917.3711,-357.3828 917.3711,-347.6764 917.3711,-338.6817\" fill=\"none\" stroke=\"#000000\"/>\n",
       "<polygon fill=\"#000000\" points=\"920.8712,-338.5903 917.3711,-328.5904 913.8712,-338.5904 920.8712,-338.5903\" stroke=\"#000000\"/>\n",
       "</g>\n",
       "<!-- 5111856152&#45;&gt;5112437728 -->\n",
       "<g class=\"edge\" id=\"edge17\">\n",
       "<title>5111856152-&gt;5112437728</title>\n",
       "<path d=\"M1025.0228,-365.4551C1005.9444,-355.7157 982.2059,-343.5975 961.8788,-333.2207\" fill=\"none\" stroke=\"#000000\"/>\n",
       "<polygon fill=\"#000000\" points=\"963.3063,-330.0198 952.8084,-328.5904 960.1236,-336.2544 963.3063,-330.0198\" stroke=\"#000000\"/>\n",
       "</g>\n",
       "<!-- 5112217104&#45;&gt;5112437728 -->\n",
       "<g class=\"edge\" id=\"edge18\">\n",
       "<title>5112217104-&gt;5112437728</title>\n",
       "<path d=\"M1140.6571,-367.1349C1137.8572,-366.4119 1135.0852,-365.6976 1132.3711,-365 1088.27,-353.665 1039.0374,-341.1732 998.8234,-331.0118\" fill=\"none\" stroke=\"#000000\"/>\n",
       "<polygon fill=\"#000000\" points=\"999.6208,-327.6034 989.0681,-328.5478 997.9065,-334.3902 999.6208,-327.6034\" stroke=\"#000000\"/>\n",
       "</g>\n",
       "<!-- 5112099056 -->\n",
       "<g class=\"node\" id=\"node17\">\n",
       "<title>5112099056</title>\n",
       "<polygon fill=\"none\" points=\"1283.645,-365.5 1283.645,-401.5 1415.0972,-401.5 1415.0972,-365.5 1283.645,-365.5\" stroke=\"#000000\"/>\n",
       "<text fill=\"#000000\" font-family=\"Times,serif\" font-size=\"14.00\" text-anchor=\"middle\" x=\"1349.3711\" y=\"-379.3\">numeric: InputLayer</text>\n",
       "</g>\n",
       "<!-- 5112099056&#45;&gt;5112437728 -->\n",
       "<g class=\"edge\" id=\"edge19\">\n",
       "<title>5112099056-&gt;5112437728</title>\n",
       "<path d=\"M1283.2761,-366.6496C1280.6105,-366.0736 1277.9679,-365.5211 1275.3711,-365 1184.5623,-346.7786 1079.7112,-331.4804 1007.0527,-321.7752\" fill=\"none\" stroke=\"#000000\"/>\n",
       "<polygon fill=\"#000000\" points=\"1007.3924,-318.2897 997.0187,-320.4432 1006.4711,-325.2288 1007.3924,-318.2897\" stroke=\"#000000\"/>\n",
       "</g>\n",
       "<!-- 5112099224 -->\n",
       "<g class=\"node\" id=\"node19\">\n",
       "<title>5112099224</title>\n",
       "<polygon fill=\"none\" points=\"872.2451,-219.5 872.2451,-255.5 962.4971,-255.5 962.4971,-219.5 872.2451,-219.5\" stroke=\"#000000\"/>\n",
       "<text fill=\"#000000\" font-family=\"Times,serif\" font-size=\"14.00\" text-anchor=\"middle\" x=\"917.3711\" y=\"-233.3\">dense: Dense</text>\n",
       "</g>\n",
       "<!-- 5112437728&#45;&gt;5112099224 -->\n",
       "<g class=\"edge\" id=\"edge20\">\n",
       "<title>5112437728-&gt;5112099224</title>\n",
       "<path d=\"M917.3711,-292.4551C917.3711,-284.3828 917.3711,-274.6764 917.3711,-265.6817\" fill=\"none\" stroke=\"#000000\"/>\n",
       "<polygon fill=\"#000000\" points=\"920.8712,-265.5903 917.3711,-255.5904 913.8712,-265.5904 920.8712,-265.5903\" stroke=\"#000000\"/>\n",
       "</g>\n",
       "<!-- 5112437448 -->\n",
       "<g class=\"node\" id=\"node20\">\n",
       "<title>5112437448</title>\n",
       "<polygon fill=\"none\" points=\"865.2451,-146.5 865.2451,-182.5 969.4971,-182.5 969.4971,-146.5 865.2451,-146.5\" stroke=\"#000000\"/>\n",
       "<text fill=\"#000000\" font-family=\"Times,serif\" font-size=\"14.00\" text-anchor=\"middle\" x=\"917.3711\" y=\"-160.3\">dense_1: Dense</text>\n",
       "</g>\n",
       "<!-- 5112099224&#45;&gt;5112437448 -->\n",
       "<g class=\"edge\" id=\"edge21\">\n",
       "<title>5112099224-&gt;5112437448</title>\n",
       "<path d=\"M917.3711,-219.4551C917.3711,-211.3828 917.3711,-201.6764 917.3711,-192.6817\" fill=\"none\" stroke=\"#000000\"/>\n",
       "<polygon fill=\"#000000\" points=\"920.8712,-192.5903 917.3711,-182.5904 913.8712,-192.5904 920.8712,-192.5903\" stroke=\"#000000\"/>\n",
       "</g>\n",
       "<!-- 5112216824 -->\n",
       "<g class=\"node\" id=\"node21\">\n",
       "<title>5112216824</title>\n",
       "<polygon fill=\"none\" points=\"841.9175,-73.5 841.9175,-109.5 992.8247,-109.5 992.8247,-73.5 841.9175,-73.5\" stroke=\"#000000\"/>\n",
       "<text fill=\"#000000\" font-family=\"Times,serif\" font-size=\"14.00\" text-anchor=\"middle\" x=\"917.3711\" y=\"-87.3\">user_embedding: Dense</text>\n",
       "</g>\n",
       "<!-- 5112437448&#45;&gt;5112216824 -->\n",
       "<g class=\"edge\" id=\"edge22\">\n",
       "<title>5112437448-&gt;5112216824</title>\n",
       "<path d=\"M917.3711,-146.4551C917.3711,-138.3828 917.3711,-128.6764 917.3711,-119.6817\" fill=\"none\" stroke=\"#000000\"/>\n",
       "<polygon fill=\"#000000\" points=\"920.8712,-119.5903 917.3711,-109.5904 913.8712,-119.5904 920.8712,-119.5903\" stroke=\"#000000\"/>\n",
       "</g>\n",
       "<!-- 5112659752 -->\n",
       "<g class=\"node\" id=\"node22\">\n",
       "<title>5112659752</title>\n",
       "<polygon fill=\"none\" points=\"848.1416,-.5 848.1416,-36.5 986.6006,-36.5 986.6006,-.5 848.1416,-.5\" stroke=\"#000000\"/>\n",
       "<text fill=\"#000000\" font-family=\"Times,serif\" font-size=\"14.00\" text-anchor=\"middle\" x=\"917.3711\" y=\"-14.3\">softmax_layer: Dense</text>\n",
       "</g>\n",
       "<!-- 5112216824&#45;&gt;5112659752 -->\n",
       "<g class=\"edge\" id=\"edge23\">\n",
       "<title>5112216824-&gt;5112659752</title>\n",
       "<path d=\"M917.3711,-73.4551C917.3711,-65.3828 917.3711,-55.6764 917.3711,-46.6817\" fill=\"none\" stroke=\"#000000\"/>\n",
       "<polygon fill=\"#000000\" points=\"920.8712,-46.5903 917.3711,-36.5904 913.8712,-46.5904 920.8712,-46.5903\" stroke=\"#000000\"/>\n",
       "</g>\n",
       "</g>\n",
       "</svg>"
      ],
      "text/plain": [
       "<IPython.core.display.SVG object>"
      ]
     },
     "execution_count": 16,
     "metadata": {},
     "output_type": "execute_result"
    }
   ],
   "source": [
    "SVG(model_to_dot(model).create(prog='dot', format='svg'))\n"
   ]
  },
  {
   "cell_type": "code",
   "execution_count": 508,
   "metadata": {},
   "outputs": [],
   "source": [
    "#%time model.fit(x=inputs, y=one_hot_labels, epochs=50, batch_size=32)"
   ]
  },
  {
   "cell_type": "code",
   "execution_count": 510,
   "metadata": {},
   "outputs": [
    {
     "name": "stdout",
     "output_type": "stream",
     "text": [
      "Epoch 1/50\n",
      "312/312 [==============================] - 3s 10ms/step - loss: 4.5935 - acc: 0.0149\n",
      "Epoch 2/50\n",
      "312/312 [==============================] - 2s 5ms/step - loss: 4.5767 - acc: 0.0164\n",
      "Epoch 3/50\n",
      "312/312 [==============================] - 2s 5ms/step - loss: 4.5484 - acc: 0.0194\n",
      "Epoch 4/50\n",
      "312/312 [==============================] - 2s 5ms/step - loss: 4.5083 - acc: 0.0242\n",
      "Epoch 5/50\n",
      "312/312 [==============================] - 2s 5ms/step - loss: 4.4582 - acc: 0.0279\n",
      "Epoch 6/50\n",
      "312/312 [==============================] - 2s 5ms/step - loss: 4.4038 - acc: 0.0341\n",
      "Epoch 7/50\n",
      "312/312 [==============================] - 2s 5ms/step - loss: 4.3475 - acc: 0.0425\n",
      "Epoch 8/50\n",
      "312/312 [==============================] - 2s 5ms/step - loss: 4.2938 - acc: 0.0478\n",
      "Epoch 9/50\n",
      "312/312 [==============================] - 2s 5ms/step - loss: 4.2428 - acc: 0.0539\n",
      "Epoch 10/50\n",
      "312/312 [==============================] - 2s 5ms/step - loss: 4.1943 - acc: 0.0594\n",
      "Epoch 11/50\n",
      "312/312 [==============================] - 2s 5ms/step - loss: 4.1410 - acc: 0.0660\n",
      "Epoch 12/50\n",
      "312/312 [==============================] - 2s 5ms/step - loss: 4.0857 - acc: 0.0714\n",
      "Epoch 13/50\n",
      "312/312 [==============================] - 2s 5ms/step - loss: 4.0280 - acc: 0.0809\n",
      "Epoch 14/50\n",
      "312/312 [==============================] - 2s 5ms/step - loss: 3.9717 - acc: 0.0895\n",
      "Epoch 15/50\n",
      "312/312 [==============================] - 2s 5ms/step - loss: 3.9112 - acc: 0.0994\n",
      "Epoch 16/50\n",
      "312/312 [==============================] - 2s 5ms/step - loss: 3.8558 - acc: 0.1057\n",
      "Epoch 17/50\n",
      "312/312 [==============================] - 2s 5ms/step - loss: 3.7878 - acc: 0.1211\n",
      "Epoch 18/50\n",
      "312/312 [==============================] - 2s 5ms/step - loss: 3.7244 - acc: 0.1279\n",
      "Epoch 19/50\n",
      "312/312 [==============================] - 2s 5ms/step - loss: 3.6615 - acc: 0.1406\n",
      "Epoch 20/50\n",
      "312/312 [==============================] - 2s 6ms/step - loss: 3.5974 - acc: 0.1485\n",
      "Epoch 21/50\n",
      "312/312 [==============================] - 2s 5ms/step - loss: 3.5336 - acc: 0.1574\n",
      "Epoch 22/50\n",
      "312/312 [==============================] - 2s 5ms/step - loss: 3.4700 - acc: 0.1701\n",
      "Epoch 23/50\n",
      "312/312 [==============================] - 2s 5ms/step - loss: 3.4078 - acc: 0.1851\n",
      "Epoch 24/50\n",
      "312/312 [==============================] - 2s 5ms/step - loss: 3.3382 - acc: 0.1953\n",
      "Epoch 25/50\n",
      "312/312 [==============================] - 2s 5ms/step - loss: 3.2631 - acc: 0.2090\n",
      "Epoch 26/50\n",
      "312/312 [==============================] - 1s 5ms/step - loss: 3.1854 - acc: 0.2228\n",
      "Epoch 27/50\n",
      "312/312 [==============================] - 2s 5ms/step - loss: 3.0980 - acc: 0.2395\n",
      "Epoch 28/50\n",
      "312/312 [==============================] - 2s 5ms/step - loss: 3.0131 - acc: 0.2605\n",
      "Epoch 29/50\n",
      "312/312 [==============================] - 2s 5ms/step - loss: 2.9338 - acc: 0.2731\n",
      "Epoch 30/50\n",
      "312/312 [==============================] - 2s 5ms/step - loss: 2.8579 - acc: 0.2894\n",
      "Epoch 31/50\n",
      "312/312 [==============================] - 2s 5ms/step - loss: 2.7769 - acc: 0.3025\n",
      "Epoch 32/50\n",
      "312/312 [==============================] - 2s 5ms/step - loss: 2.6820 - acc: 0.3216\n",
      "Epoch 33/50\n",
      "312/312 [==============================] - 2s 5ms/step - loss: 2.6036 - acc: 0.3381\n",
      "Epoch 34/50\n",
      "312/312 [==============================] - 2s 5ms/step - loss: 2.5236 - acc: 0.3529\n",
      "Epoch 35/50\n",
      "312/312 [==============================] - 2s 5ms/step - loss: 2.4449 - acc: 0.3728\n",
      "Epoch 36/50\n",
      "312/312 [==============================] - 2s 5ms/step - loss: 2.3671 - acc: 0.3877\n",
      "Epoch 37/50\n",
      "312/312 [==============================] - 2s 5ms/step - loss: 2.2761 - acc: 0.4101\n",
      "Epoch 38/50\n",
      "312/312 [==============================] - 2s 5ms/step - loss: 2.1928 - acc: 0.4313\n",
      "Epoch 39/50\n",
      "312/312 [==============================] - 1s 5ms/step - loss: 2.1178 - acc: 0.4464\n",
      "Epoch 40/50\n",
      "312/312 [==============================] - 2s 5ms/step - loss: 2.0376 - acc: 0.4649\n",
      "Epoch 41/50\n",
      "312/312 [==============================] - 2s 5ms/step - loss: 1.9631 - acc: 0.4811\n",
      "Epoch 42/50\n",
      "312/312 [==============================] - 2s 5ms/step - loss: 1.8777 - acc: 0.5040\n",
      "Epoch 43/50\n",
      "312/312 [==============================] - 2s 6ms/step - loss: 1.8058 - acc: 0.5189\n",
      "Epoch 44/50\n",
      "312/312 [==============================] - 2s 6ms/step - loss: 1.7330 - acc: 0.5431\n",
      "Epoch 45/50\n",
      "312/312 [==============================] - 2s 5ms/step - loss: 1.6616 - acc: 0.5601\n",
      "Epoch 46/50\n",
      "312/312 [==============================] - 2s 5ms/step - loss: 1.5989 - acc: 0.5738\n",
      "Epoch 47/50\n",
      "312/312 [==============================] - 1s 5ms/step - loss: 1.5268 - acc: 0.5965\n",
      "Epoch 48/50\n",
      "312/312 [==============================] - 2s 5ms/step - loss: 1.4623 - acc: 0.6065\n",
      "Epoch 49/50\n",
      "312/312 [==============================] - 2s 5ms/step - loss: 1.4058 - acc: 0.6228\n",
      "Epoch 50/50\n",
      "312/312 [==============================] - 2s 5ms/step - loss: 1.3530 - acc: 0.6315\n",
      "CPU times: user 3min 5s, sys: 2min 10s, total: 5min 16s\n",
      "Wall time: 1min 20s\n"
     ]
    },
    {
     "data": {
      "text/plain": [
       "<tensorflow.python.keras.callbacks.History at 0x315088ba8>"
      ]
     },
     "execution_count": 510,
     "metadata": {},
     "output_type": "execute_result"
    }
   ],
   "source": [
    "%time model.fit(ds3.make_one_shot_iterator(), epochs=50, steps_per_epoch=int(10000//32))"
   ]
  },
  {
   "cell_type": "code",
   "execution_count": null,
   "metadata": {},
   "outputs": [],
   "source": []
  },
  {
   "cell_type": "code",
   "execution_count": 57,
   "metadata": {},
   "outputs": [],
   "source": [
    "generator=data_generator.data_generator('../data/features.csv', 64, [50, 100, 150], [150,151,152], [153])\n"
   ]
  },
  {
   "cell_type": "code",
   "execution_count": 58,
   "metadata": {},
   "outputs": [],
   "source": [
    "#generator=data_generator.DataGenerator('../data/features.csv', 10000, 64, 100, [50, 100, 150], [150,151,152], [153])"
   ]
  },
  {
   "cell_type": "code",
   "execution_count": null,
   "metadata": {},
   "outputs": [],
   "source": [
    "%time model.fit_generator(generator,steps_per_epoch=10000//64, verbose=1, epochs=50, shuffle=True, use_multiprocessing=True, workers=15)\n"
   ]
  },
  {
   "cell_type": "code",
   "execution_count": null,
   "metadata": {},
   "outputs": [],
   "source": []
  }
 ],
 "metadata": {
  "kernelspec": {
   "display_name": "Python 3",
   "language": "python",
   "name": "python3"
  },
  "language_info": {
   "codemirror_mode": {
    "name": "ipython",
    "version": 3
   },
   "file_extension": ".py",
   "mimetype": "text/x-python",
   "name": "python",
   "nbconvert_exporter": "python",
   "pygments_lexer": "ipython3",
   "version": "3.6.8"
  }
 },
 "nbformat": 4,
 "nbformat_minor": 2
}
