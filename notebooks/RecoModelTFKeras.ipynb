{
 "cells": [
  {
   "cell_type": "code",
   "execution_count": 1,
   "metadata": {},
   "outputs": [],
   "source": [
    "%load_ext autoreload\n",
    "%autoreload 2"
   ]
  },
  {
   "cell_type": "code",
   "execution_count": 12,
   "metadata": {},
   "outputs": [],
   "source": [
    "import numpy as np\n",
    "import builtins\n",
    "import keras\n",
    "import tensorflow as tf\n",
    "#from keras import backend as K\n",
    "from extra_keras_metrics import average_precision_at_k\n",
    "from IPython.display import SVG\n",
    "#from keras.utils.vis_utils import plot_model\n",
    "import pydot as pyd\n",
    "#from keras.utils.vis_utils import model_to_dot\n",
    "#from keras.layers import Input, Dense, Embedding, Lambda, Reshape, Flatten, Average\n",
    "#from keras.models import Model\n",
    "#from keras.backend import mean, max\n",
    "#from keras.preprocessing.sequence import pad_sequences\n",
    "\n",
    "keras.utils.vis_utils.pydot = pyd"
   ]
  },
  {
   "cell_type": "code",
   "execution_count": 7,
   "metadata": {},
   "outputs": [],
   "source": [
    "import sys\n",
    "sys.path.append('..')"
   ]
  },
  {
   "cell_type": "code",
   "execution_count": 8,
   "metadata": {},
   "outputs": [],
   "source": [
    "from data_loader import data_generator"
   ]
  },
  {
   "cell_type": "code",
   "execution_count": 9,
   "metadata": {},
   "outputs": [
    {
     "data": {
      "text/plain": [
       "'1.13.1'"
      ]
     },
     "execution_count": 9,
     "metadata": {},
     "output_type": "execute_result"
    }
   ],
   "source": [
    "tf.__version__"
   ]
  },
  {
   "cell_type": "code",
   "execution_count": 10,
   "metadata": {},
   "outputs": [],
   "source": [
    "tf.keras.backend.clear_session()  # For easy reset of notebook state."
   ]
  },
  {
   "cell_type": "code",
   "execution_count": 13,
   "metadata": {},
   "outputs": [],
   "source": [
    "class RecoDNN():\n",
    "    \n",
    "    def __init__(self, max_transaction_history = 50, max_product_click_history = 50, max_promotion_click_history = 50,\n",
    "                 category_size = 100, single_categorical_features = None, numeric_features_size = 10,\n",
    "                 hidden_layer1_size = 256, hidden_layer2_size = 128, hidden_layer3_size = 64, activation='relu',\n",
    "                input_embedding_size = 128):\n",
    "        \n",
    "        self.max_transaction_history = max_transaction_history\n",
    "        self.max_product_click_history = max_product_click_history\n",
    "        self.max_promotion_click_history = max_promotion_click_history\n",
    "        self.category_size = category_size\n",
    "        self.hidden_layer1_size = hidden_layer1_size\n",
    "        self.hidden_layer2_size = hidden_layer2_size\n",
    "        self.hidden_layer3_size = hidden_layer3_size\n",
    "        self.single_categorical_features = single_categorical_features\n",
    "        self.numeric_features_size = numeric_features_size\n",
    "        self.activation = activation\n",
    "        self.input_embedding_size = input_embedding_size\n",
    "        \n",
    "        self.category_embeddings = tf.keras.layers.Embedding(output_dim=self.input_embedding_size, input_dim = self.category_size, \n",
    "                       input_length = builtins.max(self.max_transaction_history, self.max_product_click_history, self.max_promotion_click_history), mask_zero=True, name='category_embeddings')\n",
    "        \n",
    "        self.build()\n",
    "        \n",
    "    \n",
    "    def build(self):\n",
    "        \n",
    "        inp_layer, inp_embed = self.create_input()\n",
    "        \n",
    "        v = tf.keras.layers.Dense(self.hidden_layer1_size, activation = self.activation)(tf.keras.layers.concatenate(inp_embed)) \n",
    "        v = tf.keras.layers.Dense(self.hidden_layer2_size, activation = self.activation)(v)\n",
    "        v = tf.keras.layers.Dense(self.hidden_layer3_size, activation = self.activation, name='user_embedding')(v)\n",
    "        output = tf.keras.layers.Dense(self.category_size, activation ='softmax', name='softmax_layer')(v)\n",
    "        self.model = tf.keras.models.Model(inputs = inp_layer, outputs = [output])    \n",
    "        \n",
    "    \n",
    "    def create_input(self):\n",
    "        \n",
    "        transaction_cols = [x for x in range(self.max_transaction_history)]\n",
    "        product_click_cols = [x for x in range(self.max_product_click_history)]\n",
    "        promotion_click_cols = [x for x in range(self.max_promotion_click_history)]\n",
    "        seq_category_cols = [transaction_cols, product_click_cols, promotion_click_cols]\n",
    "        \n",
    "        seqs = []\n",
    "        for i, grp in enumerate(seq_category_cols):\n",
    "            seqs.append(self.seq_categorical_input('seq_categorical_' + str(i), len(grp)))\n",
    "\n",
    "        singles = []\n",
    "        if self.single_categorical_features:\n",
    "            for col in self.single_categorical_features:\n",
    "                singles.append(self.singe_categorical_input(str(col), self.single_categorical_features[col]))\n",
    "\n",
    "        nums = self.continous_inputs(self.numeric_features_size)\n",
    "\n",
    "        inp_layer =  [s[0] for s in seqs]\n",
    "        inp_layer += [s[0] for s in singles]\n",
    "        inp_layer.append(nums[0])\n",
    "        inp_embed = [s[1] for s in seqs]\n",
    "        inp_embed += [s[1] for s in singles]\n",
    "        inp_embed.append(nums[1])\n",
    "               \n",
    "        return inp_layer, inp_embed\n",
    "    \n",
    "    \n",
    "    def seq_categorical_input(self, name, max_history):\n",
    "    \n",
    "        seq = tf.keras.layers.Input(shape=(max_history,), dtype='int32', name=name)\n",
    "        input_embeddings = self.category_embeddings(seq)\n",
    "        #avg = tf.keras.layers.Lambda(lambda x: tf.reduce_mean(x, axis=1), name= name + '_avg_embedding')\n",
    "        #avg_embedding = tf.reduce_mean(input_embeddings, axis=0), name= name + '_avg_embedding'))\n",
    "        avg_embedding = tf.keras.layers.GlobalAveragePooling1D(name=name + '_avg_embedding')(input_embeddings, mask=self.category_embeddings.compute_mask(seq))\n",
    "\n",
    "\n",
    "        #maxf = Lambda(lambda x: max(x, axis=1), name = name + '_max_embedding')\n",
    "        #max_embedding = maxf(input_embeddings)\n",
    "\n",
    "        return seq, avg_embedding   #keras.layers.add([avg_embedding, max_embedding])\n",
    "\n",
    "    \n",
    "    def singe_categorical_input(self, name, unique_size):\n",
    "        single = tf.keras.layers.Input(shape=(1,), dtype='int32', name=name)\n",
    "        embeddings = tf.keras.layers.Embedding(output_dim = self.input_embedding_size, input_dim = unique_size, \n",
    "                           input_length=1, name=name + '_embedding')(single)\n",
    "        embeddings = tf.keras.layers.Flatten(name = 'flatten_' + name)(embeddings)\n",
    "        return single, embeddings\n",
    "    \n",
    "    def continous_inputs(self, size=None, name='numeric'):\n",
    "        inp = tf.keras.layers.Input(shape=(size,), dtype='float32', name=name)\n",
    "        return inp, inp\n"
   ]
  },
  {
   "cell_type": "markdown",
   "metadata": {},
   "source": [
    "# fake dataset"
   ]
  },
  {
   "cell_type": "code",
   "execution_count": 14,
   "metadata": {},
   "outputs": [],
   "source": [
    "data_size = 10000\n",
    "max_transaction_history = 50\n",
    "max_product_click_history = 50\n",
    "max_promotion_click_history = 50\n",
    "input_embedding_size = 128\n",
    "category_size = 100\n",
    "numeric_size = 10\n",
    "\n",
    "data1 = np.random.randint(category_size, size=(data_size, max_transaction_history-2))\n",
    "data1 = tf.keras.preprocessing.sequence.pad_sequences(data1, 50, padding='post')\n",
    "data2 = np.random.randint(category_size, size=(data_size, max_product_click_history-3))\n",
    "data2 = tf.keras.preprocessing.sequence.pad_sequences(data2, 50, padding='post')\n",
    "\n",
    "data3 = np.random.randint(category_size, size=(data_size, max_promotion_click_history-4))\n",
    "data3 = tf.keras.preprocessing.sequence.pad_sequences(data3, 50, padding='post')\n",
    "\n",
    "inputs = [data1, data2, data3]\n",
    "\n",
    "single_category_cols = {105:3,106:5,107:10}   ## such as location : unique_value_size\n",
    "for k in single_category_cols:\n",
    "    inputs.append(np.random.randint(single_category_cols[k], size=(data_size, 1)))\n",
    "\n",
    "num1 = np.random.random(size=(data_size, numeric_size))\n",
    "inputs.append(num1)\n",
    "\n",
    "labels = np.random.randint(category_size, size=(data_size, 1))\n",
    "one_hot_labels = keras.utils.to_categorical(labels, num_classes=category_size)\n"
   ]
  },
  {
   "cell_type": "code",
   "execution_count": 15,
   "metadata": {},
   "outputs": [
    {
     "data": {
      "text/plain": [
       "array([[46, 49, 23, ..., 52,  0,  0],\n",
       "       [74,  8, 48, ..., 89,  0,  0],\n",
       "       [44, 26, 52, ..., 43,  0,  0],\n",
       "       ...,\n",
       "       [19, 66,  5, ..., 79,  0,  0],\n",
       "       [78, 46, 52, ..., 77,  0,  0],\n",
       "       [33, 66, 71, ..., 65,  0,  0]], dtype=int32)"
      ]
     },
     "execution_count": 15,
     "metadata": {},
     "output_type": "execute_result"
    }
   ],
   "source": [
    "data1"
   ]
  },
  {
   "cell_type": "markdown",
   "metadata": {},
   "source": [
    "## save locally"
   ]
  },
  {
   "cell_type": "code",
   "execution_count": 24,
   "metadata": {},
   "outputs": [],
   "source": [
    "#inputs1 = inputs.copy()\n",
    "#inputs1.append(labels)\n",
    "#merge = np.hstack(inputs1)\n",
    "#np.savetxt('../data/features.csv', merge, fmt=\"%2.3f\")"
   ]
  },
  {
   "cell_type": "markdown",
   "metadata": {},
   "source": [
    "# test tfrecord inputs"
   ]
  },
  {
   "cell_type": "markdown",
   "metadata": {},
   "source": [
    "## save tfrecord file for test"
   ]
  },
  {
   "cell_type": "code",
   "execution_count": 21,
   "metadata": {},
   "outputs": [],
   "source": [
    "\n",
    "output_filename = \"../data/tf.tfrecord\"\n",
    "\n",
    "def float_feature(value):\n",
    "    return tf.train.Feature(float_list=tf.train.FloatList(value=value))\n",
    "\n",
    "def int64_feature(value):\n",
    "    return tf.train.Feature(int64_list=tf.train.Int64List(value=list(value)))\n",
    "\n",
    "with tf.python_io.TFRecordWriter(output_filename) as writer:\n",
    "    for (v1,v2,v3,v4,v5,v6,v7,v8) in zip(data1, data2, data3, inputs[3], inputs[4], inputs[5], inputs[6], labels):\n",
    "        features = {'seq_categorical_0': int64_feature(v1), 'seq_categorical_1': int64_feature(v2),\n",
    "                    'seq_categorical_2': int64_feature(v3),'105': int64_feature(v4),\n",
    "                    '106': int64_feature(v5),'107': int64_feature(v6), 'numeric': float_feature(v7),\n",
    "                    'labels': float_feature(v8)}\n",
    "        tf_example = tf.train.Example(features=tf.train.Features(feature=features))\n",
    "        writer.write(tf_example.SerializeToString())\n",
    "\n"
   ]
  },
  {
   "cell_type": "markdown",
   "metadata": {},
   "source": [
    "## load tfrecord file"
   ]
  },
  {
   "cell_type": "code",
   "execution_count": 22,
   "metadata": {},
   "outputs": [],
   "source": [
    "def parse_function(example_proto):\n",
    "    features = {\"seq_categorical_0\":tf.FixedLenFeature([50],tf.int64),\n",
    "                \"seq_categorical_1\":tf.FixedLenFeature([50], tf.int64),\n",
    "                \"seq_categorical_2\":tf.FixedLenFeature([50], tf.int64),\n",
    "                \"105\":tf.FixedLenFeature([1], tf.int64),\n",
    "                \"106\":tf.FixedLenFeature([1], tf.int64),\n",
    "                \"107\":tf.FixedLenFeature([1], tf.int64),\n",
    "                \"numeric\":tf.FixedLenFeature([10], tf.float32),\n",
    "                \"labels\":tf.FixedLenFeature([1], tf.float32),\n",
    "         }\n",
    "    parsed_features = tf.parse_single_example(example_proto, features)\n",
    "    #return parsed_features\n",
    "    return (parsed_features[\"seq_categorical_0\"], parsed_features[\"seq_categorical_1\"], parsed_features[\"seq_categorical_2\"], parsed_features[\"105\"], parsed_features[\"106\"], parsed_features[\"107\"], parsed_features[\"numeric\"]), parsed_features[\"labels\"]"
   ]
  },
  {
   "cell_type": "code",
   "execution_count": 23,
   "metadata": {},
   "outputs": [
    {
     "name": "stdout",
     "output_type": "stream",
     "text": [
      "WARNING:tensorflow:From <ipython-input-23-3b66a34d5f3d>:3: tf_record_iterator (from tensorflow.python.lib.io.tf_record) is deprecated and will be removed in a future version.\n",
      "Instructions for updating:\n",
      "Use eager execution and: \n",
      "`tf.data.TFRecordDataset(path)`\n"
     ]
    }
   ],
   "source": [
    "#debug generated tfrecord\n",
    "try:\n",
    "    for i, str_rec in enumerate(tf.python_io.tf_record_iterator(\"../data/tf.tfrecord\")):\n",
    "        example = tf.train.Example()\n",
    "        example.ParseFromString(str_rec)\n",
    "        #print(i, dict(example.features.feature).keys())\n",
    "except:\n",
    "    print(i)"
   ]
  },
  {
   "cell_type": "code",
   "execution_count": 24,
   "metadata": {},
   "outputs": [],
   "source": [
    "ds3=tf.data.TFRecordDataset('../data/tf.tfrecord')"
   ]
  },
  {
   "cell_type": "code",
   "execution_count": 25,
   "metadata": {},
   "outputs": [],
   "source": [
    "ds3=ds3.map(parse_function, num_parallel_calls=4)"
   ]
  },
  {
   "cell_type": "code",
   "execution_count": 26,
   "metadata": {},
   "outputs": [],
   "source": [
    "ds3 = ds3.repeat()  # Repeat the input indefinitely.\n",
    "ds3 = ds3.batch(32)\n",
    "#iterator = ds3.make_initializable_iterator()"
   ]
  },
  {
   "cell_type": "code",
   "execution_count": 28,
   "metadata": {},
   "outputs": [
    {
     "data": {
      "text/plain": [
       "((TensorShape([Dimension(None), Dimension(50)]),\n",
       "  TensorShape([Dimension(None), Dimension(50)]),\n",
       "  TensorShape([Dimension(None), Dimension(50)]),\n",
       "  TensorShape([Dimension(None), Dimension(1)]),\n",
       "  TensorShape([Dimension(None), Dimension(1)]),\n",
       "  TensorShape([Dimension(None), Dimension(1)]),\n",
       "  TensorShape([Dimension(None), Dimension(10)])),\n",
       " TensorShape([Dimension(None), Dimension(1)]))"
      ]
     },
     "execution_count": 28,
     "metadata": {},
     "output_type": "execute_result"
    }
   ],
   "source": [
    "ds3.output_shapes"
   ]
  },
  {
   "cell_type": "code",
   "execution_count": null,
   "metadata": {},
   "outputs": [],
   "source": []
  },
  {
   "cell_type": "markdown",
   "metadata": {},
   "source": [
    "# test dataset from ndarray"
   ]
  },
  {
   "cell_type": "code",
   "execution_count": 296,
   "metadata": {},
   "outputs": [],
   "source": [
    "ds2=tf.data.Dataset.from_tensor_slices(\n",
    "    ({'seq_categorical_0': data1, 'seq_categorical_1': data2, 'seq_categorical_2': data3, \n",
    "     '105': inputs[3], '106': inputs[4],'107': inputs[5],'numeric': inputs[6]},\n",
    "     {'softmax_layer': one_hot_labels}))\n"
   ]
  },
  {
   "cell_type": "code",
   "execution_count": 297,
   "metadata": {},
   "outputs": [],
   "source": [
    "ds2=ds2.repeat()\n",
    "ds2=ds2.batch(32)"
   ]
  },
  {
   "cell_type": "code",
   "execution_count": null,
   "metadata": {},
   "outputs": [],
   "source": [
    "ds2 = ds2.shuffle(buffer_size=1024).batch(64)"
   ]
  },
  {
   "cell_type": "code",
   "execution_count": null,
   "metadata": {},
   "outputs": [],
   "source": []
  },
  {
   "cell_type": "code",
   "execution_count": 41,
   "metadata": {},
   "outputs": [],
   "source": [
    "input_dataset = tf.data.Dataset.from_tensor_slices((data1, data2, data3, inputs[3], inputs[4], inputs[5], num1))"
   ]
  },
  {
   "cell_type": "code",
   "execution_count": 42,
   "metadata": {},
   "outputs": [
    {
     "data": {
      "text/plain": [
       "(TensorShape([Dimension(50)]),\n",
       " TensorShape([Dimension(50)]),\n",
       " TensorShape([Dimension(50)]),\n",
       " TensorShape([Dimension(1)]),\n",
       " TensorShape([Dimension(1)]),\n",
       " TensorShape([Dimension(1)]),\n",
       " TensorShape([Dimension(10)]))"
      ]
     },
     "execution_count": 42,
     "metadata": {},
     "output_type": "execute_result"
    }
   ],
   "source": [
    "input_dataset.output_shapes"
   ]
  },
  {
   "cell_type": "code",
   "execution_count": 38,
   "metadata": {},
   "outputs": [],
   "source": [
    "output_dataset = tf.data.Dataset.from_tensor_slices((labels))"
   ]
  },
  {
   "cell_type": "code",
   "execution_count": 39,
   "metadata": {},
   "outputs": [
    {
     "data": {
      "text/plain": [
       "TensorShape([Dimension(1)])"
      ]
     },
     "execution_count": 39,
     "metadata": {},
     "output_type": "execute_result"
    }
   ],
   "source": [
    "output_dataset.output_shapes"
   ]
  },
  {
   "cell_type": "code",
   "execution_count": 43,
   "metadata": {},
   "outputs": [],
   "source": [
    "input_dataset = input_dataset.batch(32).repeat()\n",
    "output_dataset = output_dataset.batch(32).repeat()"
   ]
  },
  {
   "cell_type": "code",
   "execution_count": 44,
   "metadata": {},
   "outputs": [],
   "source": [
    "dataset = tf.data.Dataset.zip((input_dataset, output_dataset))"
   ]
  },
  {
   "cell_type": "code",
   "execution_count": 45,
   "metadata": {},
   "outputs": [
    {
     "data": {
      "text/plain": [
       "((TensorShape([Dimension(None), Dimension(50)]),\n",
       "  TensorShape([Dimension(None), Dimension(50)]),\n",
       "  TensorShape([Dimension(None), Dimension(50)]),\n",
       "  TensorShape([Dimension(None), Dimension(1)]),\n",
       "  TensorShape([Dimension(None), Dimension(1)]),\n",
       "  TensorShape([Dimension(None), Dimension(1)]),\n",
       "  TensorShape([Dimension(None), Dimension(10)])),\n",
       " TensorShape([Dimension(None), Dimension(1)]))"
      ]
     },
     "execution_count": 45,
     "metadata": {},
     "output_type": "execute_result"
    }
   ],
   "source": [
    "dataset.output_shapes"
   ]
  },
  {
   "cell_type": "markdown",
   "metadata": {},
   "source": [
    " "
   ]
  },
  {
   "cell_type": "markdown",
   "metadata": {},
   "source": [
    "# Training"
   ]
  },
  {
   "cell_type": "code",
   "execution_count": 29,
   "metadata": {},
   "outputs": [],
   "source": [
    "model = RecoDNN(max_transaction_history,max_product_click_history, max_promotion_click_history, category_size,\n",
    "                numeric_features_size = numeric_size, input_embedding_size = input_embedding_size,\n",
    "                single_categorical_features = single_category_cols).model"
   ]
  },
  {
   "cell_type": "code",
   "execution_count": 31,
   "metadata": {},
   "outputs": [],
   "source": [
    "model.compile(loss='sparse_categorical_crossentropy',\n",
    "                       optimizer='adam',\n",
    "                       metrics=['sparse_categorical_accuracy'])"
   ]
  },
  {
   "cell_type": "code",
   "execution_count": 32,
   "metadata": {},
   "outputs": [],
   "source": [
    "#model.summary()"
   ]
  },
  {
   "cell_type": "code",
   "execution_count": 33,
   "metadata": {},
   "outputs": [],
   "source": [
    "plot_model(model, to_file='../figures/model.png', show_shapes=True, show_layer_names=True)"
   ]
  },
  {
   "cell_type": "code",
   "execution_count": 46,
   "metadata": {},
   "outputs": [
    {
     "data": {
      "image/svg+xml": [
       "<svg height=\"556pt\" viewBox=\"0.00 0.00 1720.74 556.00\" width=\"1721pt\" xmlns=\"http://www.w3.org/2000/svg\" xmlns:xlink=\"http://www.w3.org/1999/xlink\">\n",
       "<g class=\"graph\" id=\"graph0\" transform=\"scale(1 1) rotate(0) translate(4 552)\">\n",
       "<title>G</title>\n",
       "<polygon fill=\"#ffffff\" points=\"-4,4 -4,-552 1716.7432,-552 1716.7432,4 -4,4\" stroke=\"transparent\"/>\n",
       "<!-- 5237262544 -->\n",
       "<g class=\"node\" id=\"node1\">\n",
       "<title>5237262544</title>\n",
       "<polygon fill=\"none\" points=\"268.6943,-511.5 268.6943,-547.5 455.3398,-547.5 455.3398,-511.5 268.6943,-511.5\" stroke=\"#000000\"/>\n",
       "<text fill=\"#000000\" font-family=\"Times,serif\" font-size=\"14.00\" text-anchor=\"middle\" x=\"362.0171\" y=\"-525.3\">seq_categorical_0: InputLayer</text>\n",
       "</g>\n",
       "<!-- 5237262040 -->\n",
       "<g class=\"node\" id=\"node7\">\n",
       "<title>5237262040</title>\n",
       "<polygon fill=\"none\" points=\"461.6255,-438.5 461.6255,-474.5 672.4087,-474.5 672.4087,-438.5 461.6255,-438.5\" stroke=\"#000000\"/>\n",
       "<text fill=\"#000000\" font-family=\"Times,serif\" font-size=\"14.00\" text-anchor=\"middle\" x=\"567.0171\" y=\"-452.3\">category_embeddings: Embedding</text>\n",
       "</g>\n",
       "<!-- 5237262544&#45;&gt;5237262040 -->\n",
       "<g class=\"edge\" id=\"edge1\">\n",
       "<title>5237262544-&gt;5237262040</title>\n",
       "<path d=\"M412.6913,-511.4551C441.1501,-501.3209 476.8423,-488.611 506.7315,-477.9675\" fill=\"none\" stroke=\"#000000\"/>\n",
       "<polygon fill=\"#000000\" points=\"507.969,-481.2422 516.2154,-474.5904 505.6207,-474.6479 507.969,-481.2422\" stroke=\"#000000\"/>\n",
       "</g>\n",
       "<!-- 5236402440 -->\n",
       "<g class=\"node\" id=\"node2\">\n",
       "<title>5236402440</title>\n",
       "<polygon fill=\"none\" points=\"473.6943,-511.5 473.6943,-547.5 660.3398,-547.5 660.3398,-511.5 473.6943,-511.5\" stroke=\"#000000\"/>\n",
       "<text fill=\"#000000\" font-family=\"Times,serif\" font-size=\"14.00\" text-anchor=\"middle\" x=\"567.0171\" y=\"-525.3\">seq_categorical_1: InputLayer</text>\n",
       "</g>\n",
       "<!-- 5236402440&#45;&gt;5237262040 -->\n",
       "<g class=\"edge\" id=\"edge2\">\n",
       "<title>5236402440-&gt;5237262040</title>\n",
       "<path d=\"M567.0171,-511.4551C567.0171,-503.3828 567.0171,-493.6764 567.0171,-484.6817\" fill=\"none\" stroke=\"#000000\"/>\n",
       "<polygon fill=\"#000000\" points=\"570.5172,-484.5903 567.0171,-474.5904 563.5172,-484.5904 570.5172,-484.5903\" stroke=\"#000000\"/>\n",
       "</g>\n",
       "<!-- 5237263776 -->\n",
       "<g class=\"node\" id=\"node3\">\n",
       "<title>5237263776</title>\n",
       "<polygon fill=\"none\" points=\"678.6943,-511.5 678.6943,-547.5 865.3398,-547.5 865.3398,-511.5 678.6943,-511.5\" stroke=\"#000000\"/>\n",
       "<text fill=\"#000000\" font-family=\"Times,serif\" font-size=\"14.00\" text-anchor=\"middle\" x=\"772.0171\" y=\"-525.3\">seq_categorical_2: InputLayer</text>\n",
       "</g>\n",
       "<!-- 5237263776&#45;&gt;5237262040 -->\n",
       "<g class=\"edge\" id=\"edge3\">\n",
       "<title>5237263776-&gt;5237262040</title>\n",
       "<path d=\"M721.3429,-511.4551C692.884,-501.3209 657.1918,-488.611 627.3026,-477.9675\" fill=\"none\" stroke=\"#000000\"/>\n",
       "<polygon fill=\"#000000\" points=\"628.4135,-474.6479 617.8188,-474.5904 626.0652,-481.2422 628.4135,-474.6479\" stroke=\"#000000\"/>\n",
       "</g>\n",
       "<!-- 5206568464 -->\n",
       "<g class=\"node\" id=\"node4\">\n",
       "<title>5206568464</title>\n",
       "<polygon fill=\"none\" points=\"1108.7256,-511.5 1108.7256,-547.5 1215.3086,-547.5 1215.3086,-511.5 1108.7256,-511.5\" stroke=\"#000000\"/>\n",
       "<text fill=\"#000000\" font-family=\"Times,serif\" font-size=\"14.00\" text-anchor=\"middle\" x=\"1162.0171\" y=\"-525.3\">105: InputLayer</text>\n",
       "</g>\n",
       "<!-- 5206703352 -->\n",
       "<g class=\"node\" id=\"node8\">\n",
       "<title>5206703352</title>\n",
       "<polygon fill=\"none\" points=\"1072.9463,-438.5 1072.9463,-474.5 1251.0879,-474.5 1251.0879,-438.5 1072.9463,-438.5\" stroke=\"#000000\"/>\n",
       "<text fill=\"#000000\" font-family=\"Times,serif\" font-size=\"14.00\" text-anchor=\"middle\" x=\"1162.0171\" y=\"-452.3\">105_embedding: Embedding</text>\n",
       "</g>\n",
       "<!-- 5206568464&#45;&gt;5206703352 -->\n",
       "<g class=\"edge\" id=\"edge4\">\n",
       "<title>5206568464-&gt;5206703352</title>\n",
       "<path d=\"M1162.0171,-511.4551C1162.0171,-503.3828 1162.0171,-493.6764 1162.0171,-484.6817\" fill=\"none\" stroke=\"#000000\"/>\n",
       "<polygon fill=\"#000000\" points=\"1165.5172,-484.5903 1162.0171,-474.5904 1158.5172,-484.5904 1165.5172,-484.5903\" stroke=\"#000000\"/>\n",
       "</g>\n",
       "<!-- 5206946256 -->\n",
       "<g class=\"node\" id=\"node5\">\n",
       "<title>5206946256</title>\n",
       "<polygon fill=\"none\" points=\"1304.7256,-511.5 1304.7256,-547.5 1411.3086,-547.5 1411.3086,-511.5 1304.7256,-511.5\" stroke=\"#000000\"/>\n",
       "<text fill=\"#000000\" font-family=\"Times,serif\" font-size=\"14.00\" text-anchor=\"middle\" x=\"1358.0171\" y=\"-525.3\">106: InputLayer</text>\n",
       "</g>\n",
       "<!-- 5206946872 -->\n",
       "<g class=\"node\" id=\"node9\">\n",
       "<title>5206946872</title>\n",
       "<polygon fill=\"none\" points=\"1268.9463,-438.5 1268.9463,-474.5 1447.0879,-474.5 1447.0879,-438.5 1268.9463,-438.5\" stroke=\"#000000\"/>\n",
       "<text fill=\"#000000\" font-family=\"Times,serif\" font-size=\"14.00\" text-anchor=\"middle\" x=\"1358.0171\" y=\"-452.3\">106_embedding: Embedding</text>\n",
       "</g>\n",
       "<!-- 5206946256&#45;&gt;5206946872 -->\n",
       "<g class=\"edge\" id=\"edge5\">\n",
       "<title>5206946256-&gt;5206946872</title>\n",
       "<path d=\"M1358.0171,-511.4551C1358.0171,-503.3828 1358.0171,-493.6764 1358.0171,-484.6817\" fill=\"none\" stroke=\"#000000\"/>\n",
       "<polygon fill=\"#000000\" points=\"1361.5172,-484.5903 1358.0171,-474.5904 1354.5172,-484.5904 1361.5172,-484.5903\" stroke=\"#000000\"/>\n",
       "</g>\n",
       "<!-- 5207030976 -->\n",
       "<g class=\"node\" id=\"node6\">\n",
       "<title>5207030976</title>\n",
       "<polygon fill=\"none\" points=\"1500.7256,-511.5 1500.7256,-547.5 1607.3086,-547.5 1607.3086,-511.5 1500.7256,-511.5\" stroke=\"#000000\"/>\n",
       "<text fill=\"#000000\" font-family=\"Times,serif\" font-size=\"14.00\" text-anchor=\"middle\" x=\"1554.0171\" y=\"-525.3\">107: InputLayer</text>\n",
       "</g>\n",
       "<!-- 5207030864 -->\n",
       "<g class=\"node\" id=\"node10\">\n",
       "<title>5207030864</title>\n",
       "<polygon fill=\"none\" points=\"1464.9463,-438.5 1464.9463,-474.5 1643.0879,-474.5 1643.0879,-438.5 1464.9463,-438.5\" stroke=\"#000000\"/>\n",
       "<text fill=\"#000000\" font-family=\"Times,serif\" font-size=\"14.00\" text-anchor=\"middle\" x=\"1554.0171\" y=\"-452.3\">107_embedding: Embedding</text>\n",
       "</g>\n",
       "<!-- 5207030976&#45;&gt;5207030864 -->\n",
       "<g class=\"edge\" id=\"edge6\">\n",
       "<title>5207030976-&gt;5207030864</title>\n",
       "<path d=\"M1554.0171,-511.4551C1554.0171,-503.3828 1554.0171,-493.6764 1554.0171,-484.6817\" fill=\"none\" stroke=\"#000000\"/>\n",
       "<polygon fill=\"#000000\" points=\"1557.5172,-484.5903 1554.0171,-474.5904 1550.5172,-484.5904 1557.5172,-484.5903\" stroke=\"#000000\"/>\n",
       "</g>\n",
       "<!-- 5237262656 -->\n",
       "<g class=\"node\" id=\"node11\">\n",
       "<title>5237262656</title>\n",
       "<polygon fill=\"none\" points=\"0,-365.5 0,-401.5 366.0342,-401.5 366.0342,-365.5 0,-365.5\" stroke=\"#000000\"/>\n",
       "<text fill=\"#000000\" font-family=\"Times,serif\" font-size=\"14.00\" text-anchor=\"middle\" x=\"183.0171\" y=\"-379.3\">seq_categorical_0_avg_embedding: GlobalAveragePooling1D</text>\n",
       "</g>\n",
       "<!-- 5237262040&#45;&gt;5237262656 -->\n",
       "<g class=\"edge\" id=\"edge7\">\n",
       "<title>5237262040-&gt;5237262656</title>\n",
       "<path d=\"M472.0957,-438.4551C416.1439,-427.8184 345.2658,-414.3442 287.6964,-403.4\" fill=\"none\" stroke=\"#000000\"/>\n",
       "<polygon fill=\"#000000\" points=\"288.3219,-399.9563 277.8441,-401.527 287.0145,-406.8331 288.3219,-399.9563\" stroke=\"#000000\"/>\n",
       "</g>\n",
       "<!-- 5237263608 -->\n",
       "<g class=\"node\" id=\"node12\">\n",
       "<title>5237263608</title>\n",
       "<polygon fill=\"none\" points=\"384,-365.5 384,-401.5 750.0342,-401.5 750.0342,-365.5 384,-365.5\" stroke=\"#000000\"/>\n",
       "<text fill=\"#000000\" font-family=\"Times,serif\" font-size=\"14.00\" text-anchor=\"middle\" x=\"567.0171\" y=\"-379.3\">seq_categorical_1_avg_embedding: GlobalAveragePooling1D</text>\n",
       "</g>\n",
       "<!-- 5237262040&#45;&gt;5237263608 -->\n",
       "<g class=\"edge\" id=\"edge8\">\n",
       "<title>5237262040-&gt;5237263608</title>\n",
       "<path d=\"M567.0171,-438.4551C567.0171,-430.3828 567.0171,-420.6764 567.0171,-411.6817\" fill=\"none\" stroke=\"#000000\"/>\n",
       "<polygon fill=\"#000000\" points=\"570.5172,-411.5903 567.0171,-401.5904 563.5172,-411.5904 570.5172,-411.5903\" stroke=\"#000000\"/>\n",
       "</g>\n",
       "<!-- 5206565440 -->\n",
       "<g class=\"node\" id=\"node13\">\n",
       "<title>5206565440</title>\n",
       "<polygon fill=\"none\" points=\"768,-365.5 768,-401.5 1134.0342,-401.5 1134.0342,-365.5 768,-365.5\" stroke=\"#000000\"/>\n",
       "<text fill=\"#000000\" font-family=\"Times,serif\" font-size=\"14.00\" text-anchor=\"middle\" x=\"951.0171\" y=\"-379.3\">seq_categorical_2_avg_embedding: GlobalAveragePooling1D</text>\n",
       "</g>\n",
       "<!-- 5237262040&#45;&gt;5206565440 -->\n",
       "<g class=\"edge\" id=\"edge9\">\n",
       "<title>5237262040-&gt;5206565440</title>\n",
       "<path d=\"M661.9385,-438.4551C717.8903,-427.8184 788.7684,-414.3442 846.3378,-403.4\" fill=\"none\" stroke=\"#000000\"/>\n",
       "<polygon fill=\"#000000\" points=\"847.0197,-406.8331 856.1901,-401.527 845.7123,-399.9563 847.0197,-406.8331\" stroke=\"#000000\"/>\n",
       "</g>\n",
       "<!-- 5206701112 -->\n",
       "<g class=\"node\" id=\"node14\">\n",
       "<title>5206701112</title>\n",
       "<polygon fill=\"none\" points=\"1152.3843,-365.5 1152.3843,-401.5 1277.6499,-401.5 1277.6499,-365.5 1152.3843,-365.5\" stroke=\"#000000\"/>\n",
       "<text fill=\"#000000\" font-family=\"Times,serif\" font-size=\"14.00\" text-anchor=\"middle\" x=\"1215.0171\" y=\"-379.3\">flatten_105: Flatten</text>\n",
       "</g>\n",
       "<!-- 5206703352&#45;&gt;5206701112 -->\n",
       "<g class=\"edge\" id=\"edge10\">\n",
       "<title>5206703352-&gt;5206701112</title>\n",
       "<path d=\"M1175.1182,-438.4551C1181.3611,-429.8564 1188.9503,-419.4034 1195.827,-409.9316\" fill=\"none\" stroke=\"#000000\"/>\n",
       "<polygon fill=\"#000000\" points=\"1198.8401,-411.7388 1201.883,-401.5904 1193.1756,-407.6262 1198.8401,-411.7388\" stroke=\"#000000\"/>\n",
       "</g>\n",
       "<!-- 5206945920 -->\n",
       "<g class=\"node\" id=\"node15\">\n",
       "<title>5206945920</title>\n",
       "<polygon fill=\"none\" points=\"1295.3843,-365.5 1295.3843,-401.5 1420.6499,-401.5 1420.6499,-365.5 1295.3843,-365.5\" stroke=\"#000000\"/>\n",
       "<text fill=\"#000000\" font-family=\"Times,serif\" font-size=\"14.00\" text-anchor=\"middle\" x=\"1358.0171\" y=\"-379.3\">flatten_106: Flatten</text>\n",
       "</g>\n",
       "<!-- 5206946872&#45;&gt;5206945920 -->\n",
       "<g class=\"edge\" id=\"edge11\">\n",
       "<title>5206946872-&gt;5206945920</title>\n",
       "<path d=\"M1358.0171,-438.4551C1358.0171,-430.3828 1358.0171,-420.6764 1358.0171,-411.6817\" fill=\"none\" stroke=\"#000000\"/>\n",
       "<polygon fill=\"#000000\" points=\"1361.5172,-411.5903 1358.0171,-401.5904 1354.5172,-411.5904 1361.5172,-411.5903\" stroke=\"#000000\"/>\n",
       "</g>\n",
       "<!-- 5207030920 -->\n",
       "<g class=\"node\" id=\"node16\">\n",
       "<title>5207030920</title>\n",
       "<polygon fill=\"none\" points=\"1438.3843,-365.5 1438.3843,-401.5 1563.6499,-401.5 1563.6499,-365.5 1438.3843,-365.5\" stroke=\"#000000\"/>\n",
       "<text fill=\"#000000\" font-family=\"Times,serif\" font-size=\"14.00\" text-anchor=\"middle\" x=\"1501.0171\" y=\"-379.3\">flatten_107: Flatten</text>\n",
       "</g>\n",
       "<!-- 5207030864&#45;&gt;5207030920 -->\n",
       "<g class=\"edge\" id=\"edge12\">\n",
       "<title>5207030864-&gt;5207030920</title>\n",
       "<path d=\"M1540.916,-438.4551C1534.6731,-429.8564 1527.0839,-419.4034 1520.2072,-409.9316\" fill=\"none\" stroke=\"#000000\"/>\n",
       "<polygon fill=\"#000000\" points=\"1522.8586,-407.6262 1514.1512,-401.5904 1517.1941,-411.7388 1522.8586,-407.6262\" stroke=\"#000000\"/>\n",
       "</g>\n",
       "<!-- 5207433400 -->\n",
       "<g class=\"node\" id=\"node18\">\n",
       "<title>5207433400</title>\n",
       "<polygon fill=\"none\" points=\"1128.6978,-292.5 1128.6978,-328.5 1301.3364,-328.5 1301.3364,-292.5 1128.6978,-292.5\" stroke=\"#000000\"/>\n",
       "<text fill=\"#000000\" font-family=\"Times,serif\" font-size=\"14.00\" text-anchor=\"middle\" x=\"1215.0171\" y=\"-306.3\">concatenate_1: Concatenate</text>\n",
       "</g>\n",
       "<!-- 5237262656&#45;&gt;5207433400 -->\n",
       "<g class=\"edge\" id=\"edge13\">\n",
       "<title>5237262656-&gt;5207433400</title>\n",
       "<path d=\"M366.1861,-365.7221C369.151,-365.4763 372.0964,-365.2354 375.0171,-365 644.0576,-343.3159 962.1208,-324.5526 1118.432,-315.7824\" fill=\"none\" stroke=\"#000000\"/>\n",
       "<polygon fill=\"#000000\" points=\"1118.7031,-319.2728 1128.4918,-315.2192 1118.3118,-312.2837 1118.7031,-319.2728\" stroke=\"#000000\"/>\n",
       "</g>\n",
       "<!-- 5237263608&#45;&gt;5207433400 -->\n",
       "<g class=\"edge\" id=\"edge14\">\n",
       "<title>5237263608-&gt;5207433400</title>\n",
       "<path d=\"M727.1969,-365.4551C849.9741,-351.6237 1015.342,-332.9943 1118.537,-321.3689\" fill=\"none\" stroke=\"#000000\"/>\n",
       "<polygon fill=\"#000000\" points=\"1119.0901,-324.8288 1128.6354,-320.2313 1118.3064,-317.8728 1119.0901,-324.8288\" stroke=\"#000000\"/>\n",
       "</g>\n",
       "<!-- 5206565440&#45;&gt;5207433400 -->\n",
       "<g class=\"edge\" id=\"edge15\">\n",
       "<title>5206565440-&gt;5207433400</title>\n",
       "<path d=\"M1016.2755,-365.4551C1053.7183,-355.1016 1100.8838,-342.0596 1139.8698,-331.2794\" fill=\"none\" stroke=\"#000000\"/>\n",
       "<polygon fill=\"#000000\" points=\"1140.8889,-334.629 1149.5944,-328.5904 1139.0233,-327.8822 1140.8889,-334.629\" stroke=\"#000000\"/>\n",
       "</g>\n",
       "<!-- 5206701112&#45;&gt;5207433400 -->\n",
       "<g class=\"edge\" id=\"edge16\">\n",
       "<title>5206701112-&gt;5207433400</title>\n",
       "<path d=\"M1215.0171,-365.4551C1215.0171,-357.3828 1215.0171,-347.6764 1215.0171,-338.6817\" fill=\"none\" stroke=\"#000000\"/>\n",
       "<polygon fill=\"#000000\" points=\"1218.5172,-338.5903 1215.0171,-328.5904 1211.5172,-338.5904 1218.5172,-338.5903\" stroke=\"#000000\"/>\n",
       "</g>\n",
       "<!-- 5206945920&#45;&gt;5207433400 -->\n",
       "<g class=\"edge\" id=\"edge17\">\n",
       "<title>5206945920-&gt;5207433400</title>\n",
       "<path d=\"M1322.6688,-365.4551C1303.5904,-355.7157 1279.8519,-343.5975 1259.5248,-333.2207\" fill=\"none\" stroke=\"#000000\"/>\n",
       "<polygon fill=\"#000000\" points=\"1260.9523,-330.0198 1250.4544,-328.5904 1257.7696,-336.2544 1260.9523,-330.0198\" stroke=\"#000000\"/>\n",
       "</g>\n",
       "<!-- 5207030920&#45;&gt;5207433400 -->\n",
       "<g class=\"edge\" id=\"edge18\">\n",
       "<title>5207030920-&gt;5207433400</title>\n",
       "<path d=\"M1438.3031,-367.1349C1435.5032,-366.4119 1432.7312,-365.6976 1430.0171,-365 1385.916,-353.665 1336.6834,-341.1732 1296.4694,-331.0118\" fill=\"none\" stroke=\"#000000\"/>\n",
       "<polygon fill=\"#000000\" points=\"1297.2667,-327.6034 1286.7141,-328.5478 1295.5525,-334.3902 1297.2667,-327.6034\" stroke=\"#000000\"/>\n",
       "</g>\n",
       "<!-- 5207182136 -->\n",
       "<g class=\"node\" id=\"node17\">\n",
       "<title>5207182136</title>\n",
       "<polygon fill=\"none\" points=\"1581.291,-365.5 1581.291,-401.5 1712.7432,-401.5 1712.7432,-365.5 1581.291,-365.5\" stroke=\"#000000\"/>\n",
       "<text fill=\"#000000\" font-family=\"Times,serif\" font-size=\"14.00\" text-anchor=\"middle\" x=\"1647.0171\" y=\"-379.3\">numeric: InputLayer</text>\n",
       "</g>\n",
       "<!-- 5207182136&#45;&gt;5207433400 -->\n",
       "<g class=\"edge\" id=\"edge19\">\n",
       "<title>5207182136-&gt;5207433400</title>\n",
       "<path d=\"M1580.9221,-366.6496C1578.2565,-366.0736 1575.6139,-365.5211 1573.0171,-365 1485.0046,-347.3397 1383.8015,-332.4253 1311.5013,-322.6877\" fill=\"none\" stroke=\"#000000\"/>\n",
       "<polygon fill=\"#000000\" points=\"1311.8716,-319.2061 1301.4956,-321.3482 1310.9428,-326.1442 1311.8716,-319.2061\" stroke=\"#000000\"/>\n",
       "</g>\n",
       "<!-- 5207181520 -->\n",
       "<g class=\"node\" id=\"node19\">\n",
       "<title>5207181520</title>\n",
       "<polygon fill=\"none\" points=\"1162.8911,-219.5 1162.8911,-255.5 1267.1431,-255.5 1267.1431,-219.5 1162.8911,-219.5\" stroke=\"#000000\"/>\n",
       "<text fill=\"#000000\" font-family=\"Times,serif\" font-size=\"14.00\" text-anchor=\"middle\" x=\"1215.0171\" y=\"-233.3\">dense_2: Dense</text>\n",
       "</g>\n",
       "<!-- 5207433400&#45;&gt;5207181520 -->\n",
       "<g class=\"edge\" id=\"edge20\">\n",
       "<title>5207433400-&gt;5207181520</title>\n",
       "<path d=\"M1215.0171,-292.4551C1215.0171,-284.3828 1215.0171,-274.6764 1215.0171,-265.6817\" fill=\"none\" stroke=\"#000000\"/>\n",
       "<polygon fill=\"#000000\" points=\"1218.5172,-265.5903 1215.0171,-255.5904 1211.5172,-265.5904 1218.5172,-265.5903\" stroke=\"#000000\"/>\n",
       "</g>\n",
       "<!-- 5207181408 -->\n",
       "<g class=\"node\" id=\"node20\">\n",
       "<title>5207181408</title>\n",
       "<polygon fill=\"none\" points=\"1162.8911,-146.5 1162.8911,-182.5 1267.1431,-182.5 1267.1431,-146.5 1162.8911,-146.5\" stroke=\"#000000\"/>\n",
       "<text fill=\"#000000\" font-family=\"Times,serif\" font-size=\"14.00\" text-anchor=\"middle\" x=\"1215.0171\" y=\"-160.3\">dense_3: Dense</text>\n",
       "</g>\n",
       "<!-- 5207181520&#45;&gt;5207181408 -->\n",
       "<g class=\"edge\" id=\"edge21\">\n",
       "<title>5207181520-&gt;5207181408</title>\n",
       "<path d=\"M1215.0171,-219.4551C1215.0171,-211.3828 1215.0171,-201.6764 1215.0171,-192.6817\" fill=\"none\" stroke=\"#000000\"/>\n",
       "<polygon fill=\"#000000\" points=\"1218.5172,-192.5903 1215.0171,-182.5904 1211.5172,-192.5904 1218.5172,-192.5903\" stroke=\"#000000\"/>\n",
       "</g>\n",
       "<!-- 5207434240 -->\n",
       "<g class=\"node\" id=\"node21\">\n",
       "<title>5207434240</title>\n",
       "<polygon fill=\"none\" points=\"1139.5635,-73.5 1139.5635,-109.5 1290.4707,-109.5 1290.4707,-73.5 1139.5635,-73.5\" stroke=\"#000000\"/>\n",
       "<text fill=\"#000000\" font-family=\"Times,serif\" font-size=\"14.00\" text-anchor=\"middle\" x=\"1215.0171\" y=\"-87.3\">user_embedding: Dense</text>\n",
       "</g>\n",
       "<!-- 5207181408&#45;&gt;5207434240 -->\n",
       "<g class=\"edge\" id=\"edge22\">\n",
       "<title>5207181408-&gt;5207434240</title>\n",
       "<path d=\"M1215.0171,-146.4551C1215.0171,-138.3828 1215.0171,-128.6764 1215.0171,-119.6817\" fill=\"none\" stroke=\"#000000\"/>\n",
       "<polygon fill=\"#000000\" points=\"1218.5172,-119.5903 1215.0171,-109.5904 1211.5172,-119.5904 1218.5172,-119.5903\" stroke=\"#000000\"/>\n",
       "</g>\n",
       "<!-- 5207572040 -->\n",
       "<g class=\"node\" id=\"node22\">\n",
       "<title>5207572040</title>\n",
       "<polygon fill=\"none\" points=\"1145.7876,-.5 1145.7876,-36.5 1284.2466,-36.5 1284.2466,-.5 1145.7876,-.5\" stroke=\"#000000\"/>\n",
       "<text fill=\"#000000\" font-family=\"Times,serif\" font-size=\"14.00\" text-anchor=\"middle\" x=\"1215.0171\" y=\"-14.3\">softmax_layer: Dense</text>\n",
       "</g>\n",
       "<!-- 5207434240&#45;&gt;5207572040 -->\n",
       "<g class=\"edge\" id=\"edge23\">\n",
       "<title>5207434240-&gt;5207572040</title>\n",
       "<path d=\"M1215.0171,-73.4551C1215.0171,-65.3828 1215.0171,-55.6764 1215.0171,-46.6817\" fill=\"none\" stroke=\"#000000\"/>\n",
       "<polygon fill=\"#000000\" points=\"1218.5172,-46.5903 1215.0171,-36.5904 1211.5172,-46.5904 1218.5172,-46.5903\" stroke=\"#000000\"/>\n",
       "</g>\n",
       "</g>\n",
       "</svg>"
      ],
      "text/plain": [
       "<IPython.core.display.SVG object>"
      ]
     },
     "execution_count": 46,
     "metadata": {},
     "output_type": "execute_result"
    }
   ],
   "source": [
    "SVG(model_to_dot(model).create(prog='dot', format='svg'))\n"
   ]
  },
  {
   "cell_type": "code",
   "execution_count": null,
   "metadata": {},
   "outputs": [],
   "source": [
    "#%time model.fit(x=inputs, y=labels, epochs=50, batch_size=32)"
   ]
  },
  {
   "cell_type": "code",
   "execution_count": null,
   "metadata": {},
   "outputs": [],
   "source": [
    "%time model.fit(ds3, epochs=50, steps_per_epoch=int(10000//32))"
   ]
  },
  {
   "cell_type": "code",
   "execution_count": null,
   "metadata": {},
   "outputs": [],
   "source": []
  },
  {
   "cell_type": "code",
   "execution_count": 57,
   "metadata": {},
   "outputs": [],
   "source": [
    "generator=data_generator.data_generator('../data/features.csv', 64, [50, 100, 150], [150,151,152], [153])\n"
   ]
  },
  {
   "cell_type": "code",
   "execution_count": 58,
   "metadata": {},
   "outputs": [],
   "source": [
    "#generator=data_generator.DataGenerator('../data/features.csv', 10000, 64, 100, [50, 100, 150], [150,151,152], [153])"
   ]
  },
  {
   "cell_type": "code",
   "execution_count": null,
   "metadata": {},
   "outputs": [],
   "source": [
    "%time model.fit_generator(generator,steps_per_epoch=10000//64, verbose=1, epochs=50, shuffle=True, use_multiprocessing=True, workers=15)\n"
   ]
  },
  {
   "cell_type": "code",
   "execution_count": null,
   "metadata": {},
   "outputs": [],
   "source": []
  }
 ],
 "metadata": {
  "kernelspec": {
   "display_name": "Python 3",
   "language": "python",
   "name": "python3"
  },
  "language_info": {
   "codemirror_mode": {
    "name": "ipython",
    "version": 3
   },
   "file_extension": ".py",
   "mimetype": "text/x-python",
   "name": "python",
   "nbconvert_exporter": "python",
   "pygments_lexer": "ipython3",
   "version": "3.6.8"
  }
 },
 "nbformat": 4,
 "nbformat_minor": 2
}
