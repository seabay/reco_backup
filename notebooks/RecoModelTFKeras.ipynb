{
 "cells": [
  {
   "cell_type": "code",
   "execution_count": 1,
   "metadata": {},
   "outputs": [],
   "source": [
    "%load_ext autoreload\n",
    "%autoreload 2"
   ]
  },
  {
   "cell_type": "code",
   "execution_count": 205,
   "metadata": {},
   "outputs": [],
   "source": [
    "import numpy as np\n",
    "import builtins\n",
    "import keras\n",
    "import tensorflow as tf\n",
    "#from keras import backend as K\n",
    "from extra_keras_metrics import average_precision_at_k\n",
    "from IPython.display import SVG\n",
    "from keras.utils.vis_utils import plot_model\n",
    "import pydot as pyd\n",
    "from keras.utils.vis_utils import model_to_dot\n",
    "#from keras.layers import Input, Dense, Embedding, Lambda, Reshape, Flatten, Average\n",
    "#from keras.models import Model\n",
    "#from keras.backend import mean, max\n",
    "#from keras.preprocessing.sequence import pad_sequences\n",
    "\n",
    "keras.utils.vis_utils.pydot = pyd"
   ]
  },
  {
   "cell_type": "code",
   "execution_count": 206,
   "metadata": {},
   "outputs": [],
   "source": [
    "import random"
   ]
  },
  {
   "cell_type": "code",
   "execution_count": 207,
   "metadata": {},
   "outputs": [],
   "source": [
    "import sys\n",
    "sys.path.append('..')"
   ]
  },
  {
   "cell_type": "code",
   "execution_count": 208,
   "metadata": {},
   "outputs": [],
   "source": [
    "from data_loader import data_generator"
   ]
  },
  {
   "cell_type": "code",
   "execution_count": 209,
   "metadata": {},
   "outputs": [
    {
     "data": {
      "text/plain": [
       "'1.13.1'"
      ]
     },
     "execution_count": 209,
     "metadata": {},
     "output_type": "execute_result"
    }
   ],
   "source": [
    "tf.__version__"
   ]
  },
  {
   "cell_type": "code",
   "execution_count": 210,
   "metadata": {},
   "outputs": [],
   "source": [
    "tf.keras.backend.clear_session()  # For easy reset of notebook state."
   ]
  },
  {
   "cell_type": "code",
   "execution_count": 243,
   "metadata": {},
   "outputs": [],
   "source": [
    "class RecoDNN():\n",
    "    \n",
    "    def __init__(self, max_transaction_history = 50, max_product_click_history = 50, max_promotion_click_history = 50,\n",
    "                 category_size = 100, single_categorical_features = None, numeric_features_size = 10,\n",
    "                 hidden_layer1_size = 256, hidden_layer2_size = 64, hidden_layer3_size = 16, activation='relu',\n",
    "                input_embedding_size = 128):\n",
    "        \n",
    "        self.max_transaction_history = max_transaction_history\n",
    "        self.max_product_click_history = max_product_click_history\n",
    "        self.max_promotion_click_history = max_promotion_click_history\n",
    "        self.category_size = category_size\n",
    "        self.hidden_layer1_size = hidden_layer1_size\n",
    "        self.hidden_layer2_size = hidden_layer2_size\n",
    "        self.hidden_layer3_size = hidden_layer3_size\n",
    "        self.single_categorical_features = single_categorical_features\n",
    "        self.numeric_features_size = numeric_features_size\n",
    "        self.activation = activation\n",
    "        self.input_embedding_size = input_embedding_size\n",
    "        \n",
    "        self.category_embeddings = tf.keras.layers.Embedding(output_dim=self.input_embedding_size, \n",
    "                                                             input_dim = self.category_size, mask_zero=True, name='category_embeddings')\n",
    "        \n",
    "        self.build()\n",
    "        \n",
    "    \n",
    "    def build(self):\n",
    "        \n",
    "        inp_layer, inp_embed = self.create_input()\n",
    "        \n",
    "        v = tf.keras.layers.Dense(self.hidden_layer1_size, activation = self.activation)(tf.keras.layers.concatenate(inp_embed)) \n",
    "        v = tf.keras.layers.Dense(self.hidden_layer2_size, activation = self.activation)(v)\n",
    "        v = tf.keras.layers.Dense(self.hidden_layer3_size, activation = self.activation, name='user_embedding')(v)\n",
    "        output = tf.keras.layers.Dense(self.category_size, activation ='softmax', name='softmax_layer')(v)\n",
    "        self.model = tf.keras.models.Model(inputs = inp_layer, outputs = [output])    \n",
    "        \n",
    "    \n",
    "    def create_input(self):\n",
    "        \n",
    "        transaction_cols = [x for x in range(self.max_transaction_history)]\n",
    "        product_click_cols = [x for x in range(self.max_product_click_history)]\n",
    "        promotion_click_cols = [x for x in range(self.max_promotion_click_history)]\n",
    "        seq_category_cols = [transaction_cols, product_click_cols, promotion_click_cols]\n",
    "        \n",
    "        seqs = []\n",
    "        for i, grp in enumerate(seq_category_cols):\n",
    "            seqs.append(self.seq_categorical_input('seq_categorical_' + str(i), len(grp)))\n",
    "\n",
    "        singles = []\n",
    "        if self.single_categorical_features:\n",
    "            for col in self.single_categorical_features:\n",
    "                singles.append(self.singe_categorical_input(str(col), self.single_categorical_features[col][0], \n",
    "                                                           self.single_categorical_features[col][1]))\n",
    "\n",
    "        nums = self.continous_inputs(self.numeric_features_size)\n",
    "\n",
    "        inp_layer =  [s[0] for s in seqs]\n",
    "        inp_layer += [s[0] for s in singles]\n",
    "        inp_layer.append(nums[0])\n",
    "        inp_embed = [s[1] for s in seqs]\n",
    "        inp_embed += [s[1] for s in singles]\n",
    "        inp_embed.append(nums[1])\n",
    "               \n",
    "        return inp_layer, inp_embed\n",
    "    \n",
    "    \n",
    "    def seq_categorical_input(self, name, max_history):\n",
    "    \n",
    "        seq = tf.keras.layers.Input(shape=(max_history,), dtype='int32', name=name)\n",
    "        category_embeddings = tf.keras.layers.Embedding(output_dim=self.input_embedding_size,input_dim = self.category_size, name=name+'category_embeddings')\n",
    "        input_embeddings = category_embeddings(seq)\n",
    "        #avg = tf.keras.layers.Lambda(lambda x: tf.reduce_mean(x, axis=1), name= name + '_avg_embedding')\n",
    "        #avg_embedding = tf.reduce_mean(input_embeddings, axis=0), name= name + '_avg_embedding'))\n",
    "        #avg_embedding = tf.keras.layers.GlobalAveragePooling1D(name=name + '_avg_embedding')(input_embeddings, mask=self.category_embeddings.compute_mask(seq))\n",
    "        #cat_embeddings = tf.reshape(input_embeddings, [, -1])\n",
    "\n",
    "        #maxf = tf.keras.layers.Lambda(lambda x: tf.keras.backend.max(x, axis=1), name = name + '_max_embedding')\n",
    "        #max_embedding = maxf(input_embeddings)\n",
    "\n",
    "        return seq, tf.keras.layers.Flatten(name = 'flatten_' + name)(input_embeddings)   #keras.layers.add([avg_embedding, max_embedding])\n",
    "        #return seq, tf.keras.layers.concatenate([avg_embedding, max_embedding])\n",
    "\n",
    "    \n",
    "    def singe_categorical_input(self, name, unique_size, embedding_size):\n",
    "        single = tf.keras.layers.Input(shape=(1,), dtype='int32', name=name)\n",
    "        embeddings = tf.keras.layers.Embedding(output_dim = embedding_size, input_dim = unique_size, \n",
    "                           input_length=1, name=name + '_embedding')(single)\n",
    "        embeddings = tf.keras.layers.Flatten(name = 'flatten_' + name)(embeddings)\n",
    "        return single, embeddings\n",
    "    \n",
    "    def continous_inputs(self, size=None, name='numeric'):\n",
    "        inp = tf.keras.layers.Input(shape=(size,), dtype='float32', name=name)\n",
    "        return inp, inp\n"
   ]
  },
  {
   "cell_type": "markdown",
   "metadata": {},
   "source": [
    "# fake dataset"
   ]
  },
  {
   "cell_type": "code",
   "execution_count": 228,
   "metadata": {},
   "outputs": [],
   "source": [
    "data_size = 500\n",
    "max_transaction_history = 50\n",
    "max_product_click_history = 50\n",
    "max_promotion_click_history = 50\n",
    "input_embedding_size = 16\n",
    "category_size = 10\n",
    "numeric_size = 10\n",
    "\n",
    "data1 = np.random.randint(category_size, size=(data_size, random.randint(1,max_transaction_history)))\n",
    "data1 = tf.keras.preprocessing.sequence.pad_sequences(data1, 50, padding='post')\n",
    "#data1 = np.array([[1,2], [1,2,4]])\n",
    "\n",
    "data2 = np.random.randint(category_size, size=(data_size, max_product_click_history-3))\n",
    "data2 = tf.keras.preprocessing.sequence.pad_sequences(data2, 50, padding='post')\n",
    "\n",
    "data3 = np.random.randint(category_size, size=(data_size, max_promotion_click_history-4))\n",
    "data3 = tf.keras.preprocessing.sequence.pad_sequences(data3, 50, padding='post')\n",
    "\n",
    "inputs = [data1, data2, data3]\n",
    "\n",
    "single_category_cols = {105:(3,8),106:(5,8),107:(10,8)}   ## such as location : unique_value_size\n",
    "for k in single_category_cols:\n",
    "    inputs.append(np.random.randint(single_category_cols[k][0], size=(data_size, 1)))\n",
    "\n",
    "num1 = np.random.random(size=(data_size, numeric_size))\n",
    "inputs.append(num1)\n",
    "\n",
    "labels = np.random.randint(category_size, size=(data_size, 1))\n",
    "one_hot_labels = keras.utils.to_categorical(labels, num_classes=category_size)\n"
   ]
  },
  {
   "cell_type": "code",
   "execution_count": 229,
   "metadata": {},
   "outputs": [
    {
     "data": {
      "text/plain": [
       "array([[9, 1, 1, ..., 0, 0, 0],\n",
       "       [6, 2, 9, ..., 0, 0, 0],\n",
       "       [9, 6, 8, ..., 0, 0, 0],\n",
       "       ...,\n",
       "       [3, 7, 6, ..., 0, 0, 0],\n",
       "       [6, 6, 8, ..., 0, 0, 0],\n",
       "       [8, 7, 1, ..., 0, 0, 0]], dtype=int32)"
      ]
     },
     "execution_count": 229,
     "metadata": {},
     "output_type": "execute_result"
    }
   ],
   "source": [
    "data1"
   ]
  },
  {
   "cell_type": "markdown",
   "metadata": {},
   "source": [
    "## save locally"
   ]
  },
  {
   "cell_type": "code",
   "execution_count": 215,
   "metadata": {},
   "outputs": [],
   "source": [
    "#inputs1 = inputs.copy()\n",
    "#inputs1.append(labels)\n",
    "#merge = np.hstack(inputs1)\n",
    "#np.savetxt('../data/features.csv', merge, fmt=\"%2.3f\")"
   ]
  },
  {
   "cell_type": "markdown",
   "metadata": {},
   "source": [
    "# test tfrecord inputs"
   ]
  },
  {
   "cell_type": "markdown",
   "metadata": {},
   "source": [
    "## save tfrecord file for test"
   ]
  },
  {
   "cell_type": "code",
   "execution_count": 230,
   "metadata": {},
   "outputs": [],
   "source": [
    "\n",
    "output_filename = \"../data/tf.tfrecord\"\n",
    "\n",
    "def float_feature(value):\n",
    "    return tf.train.Feature(float_list=tf.train.FloatList(value=value))\n",
    "\n",
    "def int64_feature(value):\n",
    "    return tf.train.Feature(int64_list=tf.train.Int64List(value=list(value)))\n",
    "\n",
    "with tf.python_io.TFRecordWriter(output_filename) as writer:\n",
    "    for (v1,v2,v3,v4,v5,v6,v7,v8) in zip(data1, data2, data3, inputs[3], inputs[4], inputs[5], inputs[6], labels):\n",
    "        features = {'seq_categorical_0': int64_feature(v1), 'seq_categorical_1': int64_feature(v2),\n",
    "                    'seq_categorical_2': int64_feature(v3),'105': int64_feature(v4),\n",
    "                    '106': int64_feature(v5),'107': int64_feature(v6), 'numeric': float_feature(v7),\n",
    "                    'labels': float_feature(v8)}\n",
    "        tf_example = tf.train.Example(features=tf.train.Features(feature=features))\n",
    "        writer.write(tf_example.SerializeToString())\n",
    "\n"
   ]
  },
  {
   "cell_type": "markdown",
   "metadata": {},
   "source": [
    "## load tfrecord file"
   ]
  },
  {
   "cell_type": "code",
   "execution_count": 231,
   "metadata": {},
   "outputs": [],
   "source": [
    "def parse_function(example_proto):\n",
    "    features = {\"seq_categorical_0\":tf.FixedLenFeature([50],tf.int64),\n",
    "                \"seq_categorical_1\":tf.FixedLenFeature([50], tf.int64),\n",
    "                \"seq_categorical_2\":tf.FixedLenFeature([50], tf.int64),\n",
    "                \"105\":tf.FixedLenFeature([1], tf.int64),\n",
    "                \"106\":tf.FixedLenFeature([1], tf.int64),\n",
    "                \"107\":tf.FixedLenFeature([1], tf.int64),\n",
    "                \"numeric\":tf.FixedLenFeature([10], tf.float32),\n",
    "                \"labels\":tf.FixedLenFeature([1], tf.float32),\n",
    "         }\n",
    "    parsed_features = tf.parse_single_example(example_proto, features)\n",
    "    #return parsed_features\n",
    "    return (parsed_features[\"seq_categorical_0\"], parsed_features[\"seq_categorical_1\"], parsed_features[\"seq_categorical_2\"], parsed_features[\"105\"], parsed_features[\"106\"], parsed_features[\"107\"], parsed_features[\"numeric\"]), parsed_features[\"labels\"]"
   ]
  },
  {
   "cell_type": "code",
   "execution_count": 232,
   "metadata": {},
   "outputs": [],
   "source": [
    "#debug generated tfrecord\n",
    "try:\n",
    "    for i, str_rec in enumerate(tf.python_io.tf_record_iterator(\"../data/tf.tfrecord\")):\n",
    "        example = tf.train.Example()\n",
    "        example.ParseFromString(str_rec)\n",
    "        #print(i, dict(example.features.feature).keys())\n",
    "except:\n",
    "    print(i)"
   ]
  },
  {
   "cell_type": "code",
   "execution_count": 272,
   "metadata": {},
   "outputs": [],
   "source": [
    "def load_data():\n",
    "    ds=tf.data.TFRecordDataset('../data/tf.tfrecord')\n",
    "    ds=ds.map(parse_function, num_parallel_calls=4)\n",
    "    ds=ds.repeat()  # Repeat the input indefinitely.\n",
    "    ds=ds.batch(32)\n",
    "    iterator = ds.make_one_shot_iterator()\n",
    "    features, labels = iterator.get_next()\n",
    " \n",
    "    return features, labels"
   ]
  },
  {
   "cell_type": "code",
   "execution_count": 250,
   "metadata": {},
   "outputs": [],
   "source": [
    "ds3=tf.data.TFRecordDataset('../data/tf.tfrecord')"
   ]
  },
  {
   "cell_type": "code",
   "execution_count": 251,
   "metadata": {},
   "outputs": [],
   "source": [
    "ds3=ds3.map(parse_function, num_parallel_calls=4)"
   ]
  },
  {
   "cell_type": "code",
   "execution_count": 252,
   "metadata": {},
   "outputs": [],
   "source": [
    "ds3 = ds3.repeat()  # Repeat the input indefinitely.\n",
    "ds3 = ds3.batch(32)\n",
    "#iterator = ds3.make_initializable_iterator()"
   ]
  },
  {
   "cell_type": "code",
   "execution_count": 253,
   "metadata": {},
   "outputs": [
    {
     "data": {
      "text/plain": [
       "((TensorShape([Dimension(None), Dimension(50)]),\n",
       "  TensorShape([Dimension(None), Dimension(50)]),\n",
       "  TensorShape([Dimension(None), Dimension(50)]),\n",
       "  TensorShape([Dimension(None), Dimension(1)]),\n",
       "  TensorShape([Dimension(None), Dimension(1)]),\n",
       "  TensorShape([Dimension(None), Dimension(1)]),\n",
       "  TensorShape([Dimension(None), Dimension(10)])),\n",
       " TensorShape([Dimension(None), Dimension(1)]))"
      ]
     },
     "execution_count": 253,
     "metadata": {},
     "output_type": "execute_result"
    }
   ],
   "source": [
    "ds3.output_shapes"
   ]
  },
  {
   "cell_type": "code",
   "execution_count": null,
   "metadata": {},
   "outputs": [],
   "source": []
  },
  {
   "cell_type": "markdown",
   "metadata": {},
   "source": [
    "# test dataset from ndarray"
   ]
  },
  {
   "cell_type": "code",
   "execution_count": 296,
   "metadata": {},
   "outputs": [],
   "source": [
    "ds2=tf.data.Dataset.from_tensor_slices(\n",
    "    ({'seq_categorical_0': data1, 'seq_categorical_1': data2, 'seq_categorical_2': data3, \n",
    "     '105': inputs[3], '106': inputs[4],'107': inputs[5],'numeric': inputs[6]},\n",
    "     {'softmax_layer': one_hot_labels}))\n"
   ]
  },
  {
   "cell_type": "code",
   "execution_count": 297,
   "metadata": {},
   "outputs": [],
   "source": [
    "ds2=ds2.repeat()\n",
    "ds2=ds2.batch(32)"
   ]
  },
  {
   "cell_type": "code",
   "execution_count": null,
   "metadata": {},
   "outputs": [],
   "source": [
    "ds2 = ds2.shuffle(buffer_size=1024).batch(64)"
   ]
  },
  {
   "cell_type": "code",
   "execution_count": null,
   "metadata": {},
   "outputs": [],
   "source": []
  },
  {
   "cell_type": "code",
   "execution_count": 41,
   "metadata": {},
   "outputs": [],
   "source": [
    "input_dataset = tf.data.Dataset.from_tensor_slices((data1, data2, data3, inputs[3], inputs[4], inputs[5], num1))"
   ]
  },
  {
   "cell_type": "code",
   "execution_count": 42,
   "metadata": {},
   "outputs": [
    {
     "data": {
      "text/plain": [
       "(TensorShape([Dimension(50)]),\n",
       " TensorShape([Dimension(50)]),\n",
       " TensorShape([Dimension(50)]),\n",
       " TensorShape([Dimension(1)]),\n",
       " TensorShape([Dimension(1)]),\n",
       " TensorShape([Dimension(1)]),\n",
       " TensorShape([Dimension(10)]))"
      ]
     },
     "execution_count": 42,
     "metadata": {},
     "output_type": "execute_result"
    }
   ],
   "source": [
    "input_dataset.output_shapes"
   ]
  },
  {
   "cell_type": "code",
   "execution_count": 38,
   "metadata": {},
   "outputs": [],
   "source": [
    "output_dataset = tf.data.Dataset.from_tensor_slices((labels))"
   ]
  },
  {
   "cell_type": "code",
   "execution_count": 39,
   "metadata": {},
   "outputs": [
    {
     "data": {
      "text/plain": [
       "TensorShape([Dimension(1)])"
      ]
     },
     "execution_count": 39,
     "metadata": {},
     "output_type": "execute_result"
    }
   ],
   "source": [
    "output_dataset.output_shapes"
   ]
  },
  {
   "cell_type": "code",
   "execution_count": 43,
   "metadata": {},
   "outputs": [],
   "source": [
    "input_dataset = input_dataset.batch(32).repeat()\n",
    "output_dataset = output_dataset.batch(32).repeat()"
   ]
  },
  {
   "cell_type": "code",
   "execution_count": 44,
   "metadata": {},
   "outputs": [],
   "source": [
    "dataset = tf.data.Dataset.zip((input_dataset, output_dataset))"
   ]
  },
  {
   "cell_type": "code",
   "execution_count": 45,
   "metadata": {},
   "outputs": [
    {
     "data": {
      "text/plain": [
       "((TensorShape([Dimension(None), Dimension(50)]),\n",
       "  TensorShape([Dimension(None), Dimension(50)]),\n",
       "  TensorShape([Dimension(None), Dimension(50)]),\n",
       "  TensorShape([Dimension(None), Dimension(1)]),\n",
       "  TensorShape([Dimension(None), Dimension(1)]),\n",
       "  TensorShape([Dimension(None), Dimension(1)]),\n",
       "  TensorShape([Dimension(None), Dimension(10)])),\n",
       " TensorShape([Dimension(None), Dimension(1)]))"
      ]
     },
     "execution_count": 45,
     "metadata": {},
     "output_type": "execute_result"
    }
   ],
   "source": [
    "dataset.output_shapes"
   ]
  },
  {
   "cell_type": "markdown",
   "metadata": {},
   "source": [
    " "
   ]
  },
  {
   "cell_type": "markdown",
   "metadata": {},
   "source": [
    "# Training"
   ]
  },
  {
   "cell_type": "code",
   "execution_count": 261,
   "metadata": {},
   "outputs": [],
   "source": [
    "model = RecoDNN(50,50, 50, category_size,\n",
    "                numeric_features_size = numeric_size, input_embedding_size = input_embedding_size,\n",
    "                single_categorical_features = single_category_cols).model"
   ]
  },
  {
   "cell_type": "code",
   "execution_count": 262,
   "metadata": {},
   "outputs": [],
   "source": [
    "model.compile(loss='sparse_categorical_crossentropy',\n",
    "                       optimizer='adam',\n",
    "                       metrics=['sparse_categorical_accuracy'])"
   ]
  },
  {
   "cell_type": "code",
   "execution_count": null,
   "metadata": {},
   "outputs": [],
   "source": [
    "model.summary()"
   ]
  },
  {
   "cell_type": "code",
   "execution_count": null,
   "metadata": {},
   "outputs": [],
   "source": [
    "model_est=tf.keras.estimator.model_to_estimator(keras_model=model, model_dir=\"kkt\")"
   ]
  },
  {
   "cell_type": "code",
   "execution_count": 278,
   "metadata": {},
   "outputs": [],
   "source": [
    "train_input = lambda:load_data()"
   ]
  },
  {
   "cell_type": "code",
   "execution_count": 279,
   "metadata": {},
   "outputs": [
    {
     "data": {
      "text/plain": [
       "((<tf.Tensor 'IteratorGetNext_4:0' shape=(?, 50) dtype=int64>,\n",
       "  <tf.Tensor 'IteratorGetNext_4:1' shape=(?, 50) dtype=int64>,\n",
       "  <tf.Tensor 'IteratorGetNext_4:2' shape=(?, 50) dtype=int64>,\n",
       "  <tf.Tensor 'IteratorGetNext_4:3' shape=(?, 1) dtype=int64>,\n",
       "  <tf.Tensor 'IteratorGetNext_4:4' shape=(?, 1) dtype=int64>,\n",
       "  <tf.Tensor 'IteratorGetNext_4:5' shape=(?, 1) dtype=int64>,\n",
       "  <tf.Tensor 'IteratorGetNext_4:6' shape=(?, 10) dtype=float32>),\n",
       " <tf.Tensor 'IteratorGetNext_4:7' shape=(?, 1) dtype=float32>)"
      ]
     },
     "execution_count": 279,
     "metadata": {},
     "output_type": "execute_result"
    }
   ],
   "source": [
    "train_input()"
   ]
  },
  {
   "cell_type": "code",
   "execution_count": null,
   "metadata": {},
   "outputs": [],
   "source": [
    "model_est.train(input_fn=train_input, steps=100)"
   ]
  },
  {
   "cell_type": "code",
   "execution_count": 191,
   "metadata": {},
   "outputs": [],
   "source": [
    "plot_model(model, to_file='../figures/model.png', show_shapes=True, show_layer_names=True)"
   ]
  },
  {
   "cell_type": "code",
   "execution_count": 192,
   "metadata": {},
   "outputs": [
    {
     "data": {
      "image/svg+xml": [
       "<svg height=\"556pt\" viewBox=\"0.00 0.00 1567.99 556.00\" width=\"1568pt\" xmlns=\"http://www.w3.org/2000/svg\" xmlns:xlink=\"http://www.w3.org/1999/xlink\">\n",
       "<g class=\"graph\" id=\"graph0\" transform=\"scale(1 1) rotate(0) translate(4 552)\">\n",
       "<title>G</title>\n",
       "<polygon fill=\"#ffffff\" points=\"-4,4 -4,-552 1563.9937,-552 1563.9937,4 -4,4\" stroke=\"transparent\"/>\n",
       "<!-- 5084825360 -->\n",
       "<g class=\"node\" id=\"node1\">\n",
       "<title>5084825360</title>\n",
       "<polygon fill=\"none\" points=\"62.6001,-511.5 62.6001,-547.5 249.2456,-547.5 249.2456,-511.5 62.6001,-511.5\" stroke=\"#000000\"/>\n",
       "<text fill=\"#000000\" font-family=\"Times,serif\" font-size=\"14.00\" text-anchor=\"middle\" x=\"155.9229\" y=\"-525.3\">seq_categorical_0: InputLayer</text>\n",
       "</g>\n",
       "<!-- 5084824744 -->\n",
       "<g class=\"node\" id=\"node7\">\n",
       "<title>5084824744</title>\n",
       "<polygon fill=\"none\" points=\"0,-438.5 0,-474.5 311.8457,-474.5 311.8457,-438.5 0,-438.5\" stroke=\"#000000\"/>\n",
       "<text fill=\"#000000\" font-family=\"Times,serif\" font-size=\"14.00\" text-anchor=\"middle\" x=\"155.9229\" y=\"-452.3\">seq_categorical_0category_embeddings: Embedding</text>\n",
       "</g>\n",
       "<!-- 5084825360&#45;&gt;5084824744 -->\n",
       "<g class=\"edge\" id=\"edge1\">\n",
       "<title>5084825360-&gt;5084824744</title>\n",
       "<path d=\"M155.9229,-511.4551C155.9229,-503.3828 155.9229,-493.6764 155.9229,-484.6817\" fill=\"none\" stroke=\"#000000\"/>\n",
       "<polygon fill=\"#000000\" points=\"159.423,-484.5903 155.9229,-474.5904 152.423,-484.5904 159.423,-484.5903\" stroke=\"#000000\"/>\n",
       "</g>\n",
       "<!-- 5084824240 -->\n",
       "<g class=\"node\" id=\"node2\">\n",
       "<title>5084824240</title>\n",
       "<polygon fill=\"none\" points=\"392.6001,-511.5 392.6001,-547.5 579.2456,-547.5 579.2456,-511.5 392.6001,-511.5\" stroke=\"#000000\"/>\n",
       "<text fill=\"#000000\" font-family=\"Times,serif\" font-size=\"14.00\" text-anchor=\"middle\" x=\"485.9229\" y=\"-525.3\">seq_categorical_1: InputLayer</text>\n",
       "</g>\n",
       "<!-- 5084827544 -->\n",
       "<g class=\"node\" id=\"node8\">\n",
       "<title>5084827544</title>\n",
       "<polygon fill=\"none\" points=\"330,-438.5 330,-474.5 641.8457,-474.5 641.8457,-438.5 330,-438.5\" stroke=\"#000000\"/>\n",
       "<text fill=\"#000000\" font-family=\"Times,serif\" font-size=\"14.00\" text-anchor=\"middle\" x=\"485.9229\" y=\"-452.3\">seq_categorical_1category_embeddings: Embedding</text>\n",
       "</g>\n",
       "<!-- 5084824240&#45;&gt;5084827544 -->\n",
       "<g class=\"edge\" id=\"edge2\">\n",
       "<title>5084824240-&gt;5084827544</title>\n",
       "<path d=\"M485.9229,-511.4551C485.9229,-503.3828 485.9229,-493.6764 485.9229,-484.6817\" fill=\"none\" stroke=\"#000000\"/>\n",
       "<polygon fill=\"#000000\" points=\"489.423,-484.5903 485.9229,-474.5904 482.423,-484.5904 489.423,-484.5903\" stroke=\"#000000\"/>\n",
       "</g>\n",
       "<!-- 5076887368 -->\n",
       "<g class=\"node\" id=\"node3\">\n",
       "<title>5076887368</title>\n",
       "<polygon fill=\"none\" points=\"722.6001,-511.5 722.6001,-547.5 909.2456,-547.5 909.2456,-511.5 722.6001,-511.5\" stroke=\"#000000\"/>\n",
       "<text fill=\"#000000\" font-family=\"Times,serif\" font-size=\"14.00\" text-anchor=\"middle\" x=\"815.9229\" y=\"-525.3\">seq_categorical_2: InputLayer</text>\n",
       "</g>\n",
       "<!-- 5076889104 -->\n",
       "<g class=\"node\" id=\"node9\">\n",
       "<title>5076889104</title>\n",
       "<polygon fill=\"none\" points=\"660,-438.5 660,-474.5 971.8457,-474.5 971.8457,-438.5 660,-438.5\" stroke=\"#000000\"/>\n",
       "<text fill=\"#000000\" font-family=\"Times,serif\" font-size=\"14.00\" text-anchor=\"middle\" x=\"815.9229\" y=\"-452.3\">seq_categorical_2category_embeddings: Embedding</text>\n",
       "</g>\n",
       "<!-- 5076887368&#45;&gt;5076889104 -->\n",
       "<g class=\"edge\" id=\"edge3\">\n",
       "<title>5076887368-&gt;5076889104</title>\n",
       "<path d=\"M815.9229,-511.4551C815.9229,-503.3828 815.9229,-493.6764 815.9229,-484.6817\" fill=\"none\" stroke=\"#000000\"/>\n",
       "<polygon fill=\"#000000\" points=\"819.423,-484.5903 815.9229,-474.5904 812.423,-484.5904 819.423,-484.5903\" stroke=\"#000000\"/>\n",
       "</g>\n",
       "<!-- 5075202736 -->\n",
       "<g class=\"node\" id=\"node4\">\n",
       "<title>5075202736</title>\n",
       "<polygon fill=\"none\" points=\"1025.6313,-511.5 1025.6313,-547.5 1132.2144,-547.5 1132.2144,-511.5 1025.6313,-511.5\" stroke=\"#000000\"/>\n",
       "<text fill=\"#000000\" font-family=\"Times,serif\" font-size=\"14.00\" text-anchor=\"middle\" x=\"1078.9229\" y=\"-525.3\">105: InputLayer</text>\n",
       "</g>\n",
       "<!-- 5075204472 -->\n",
       "<g class=\"node\" id=\"node10\">\n",
       "<title>5075204472</title>\n",
       "<polygon fill=\"none\" points=\"989.8521,-438.5 989.8521,-474.5 1167.9937,-474.5 1167.9937,-438.5 989.8521,-438.5\" stroke=\"#000000\"/>\n",
       "<text fill=\"#000000\" font-family=\"Times,serif\" font-size=\"14.00\" text-anchor=\"middle\" x=\"1078.9229\" y=\"-452.3\">105_embedding: Embedding</text>\n",
       "</g>\n",
       "<!-- 5075202736&#45;&gt;5075204472 -->\n",
       "<g class=\"edge\" id=\"edge4\">\n",
       "<title>5075202736-&gt;5075204472</title>\n",
       "<path d=\"M1078.9229,-511.4551C1078.9229,-503.3828 1078.9229,-493.6764 1078.9229,-484.6817\" fill=\"none\" stroke=\"#000000\"/>\n",
       "<polygon fill=\"#000000\" points=\"1082.423,-484.5903 1078.9229,-474.5904 1075.423,-484.5904 1082.423,-484.5903\" stroke=\"#000000\"/>\n",
       "</g>\n",
       "<!-- 5075218616 -->\n",
       "<g class=\"node\" id=\"node5\">\n",
       "<title>5075218616</title>\n",
       "<polygon fill=\"none\" points=\"1221.6313,-511.5 1221.6313,-547.5 1328.2144,-547.5 1328.2144,-511.5 1221.6313,-511.5\" stroke=\"#000000\"/>\n",
       "<text fill=\"#000000\" font-family=\"Times,serif\" font-size=\"14.00\" text-anchor=\"middle\" x=\"1274.9229\" y=\"-525.3\">106: InputLayer</text>\n",
       "</g>\n",
       "<!-- 5075219624 -->\n",
       "<g class=\"node\" id=\"node11\">\n",
       "<title>5075219624</title>\n",
       "<polygon fill=\"none\" points=\"1185.8521,-438.5 1185.8521,-474.5 1363.9937,-474.5 1363.9937,-438.5 1185.8521,-438.5\" stroke=\"#000000\"/>\n",
       "<text fill=\"#000000\" font-family=\"Times,serif\" font-size=\"14.00\" text-anchor=\"middle\" x=\"1274.9229\" y=\"-452.3\">106_embedding: Embedding</text>\n",
       "</g>\n",
       "<!-- 5075218616&#45;&gt;5075219624 -->\n",
       "<g class=\"edge\" id=\"edge5\">\n",
       "<title>5075218616-&gt;5075219624</title>\n",
       "<path d=\"M1274.9229,-511.4551C1274.9229,-503.3828 1274.9229,-493.6764 1274.9229,-484.6817\" fill=\"none\" stroke=\"#000000\"/>\n",
       "<polygon fill=\"#000000\" points=\"1278.423,-484.5903 1274.9229,-474.5904 1271.423,-484.5904 1278.423,-484.5903\" stroke=\"#000000\"/>\n",
       "</g>\n",
       "<!-- 5076440008 -->\n",
       "<g class=\"node\" id=\"node6\">\n",
       "<title>5076440008</title>\n",
       "<polygon fill=\"none\" points=\"1417.6313,-511.5 1417.6313,-547.5 1524.2144,-547.5 1524.2144,-511.5 1417.6313,-511.5\" stroke=\"#000000\"/>\n",
       "<text fill=\"#000000\" font-family=\"Times,serif\" font-size=\"14.00\" text-anchor=\"middle\" x=\"1470.9229\" y=\"-525.3\">107: InputLayer</text>\n",
       "</g>\n",
       "<!-- 5189813752 -->\n",
       "<g class=\"node\" id=\"node12\">\n",
       "<title>5189813752</title>\n",
       "<polygon fill=\"none\" points=\"1381.8521,-438.5 1381.8521,-474.5 1559.9937,-474.5 1559.9937,-438.5 1381.8521,-438.5\" stroke=\"#000000\"/>\n",
       "<text fill=\"#000000\" font-family=\"Times,serif\" font-size=\"14.00\" text-anchor=\"middle\" x=\"1470.9229\" y=\"-452.3\">107_embedding: Embedding</text>\n",
       "</g>\n",
       "<!-- 5076440008&#45;&gt;5189813752 -->\n",
       "<g class=\"edge\" id=\"edge6\">\n",
       "<title>5076440008-&gt;5189813752</title>\n",
       "<path d=\"M1470.9229,-511.4551C1470.9229,-503.3828 1470.9229,-493.6764 1470.9229,-484.6817\" fill=\"none\" stroke=\"#000000\"/>\n",
       "<polygon fill=\"#000000\" points=\"1474.423,-484.5903 1470.9229,-474.5904 1467.423,-484.5904 1474.423,-484.5903\" stroke=\"#000000\"/>\n",
       "</g>\n",
       "<!-- 5084823736 -->\n",
       "<g class=\"node\" id=\"node13\">\n",
       "<title>5084823736</title>\n",
       "<polygon fill=\"none\" points=\"160.2588,-365.5 160.2588,-401.5 365.5869,-401.5 365.5869,-365.5 160.2588,-365.5\" stroke=\"#000000\"/>\n",
       "<text fill=\"#000000\" font-family=\"Times,serif\" font-size=\"14.00\" text-anchor=\"middle\" x=\"262.9229\" y=\"-379.3\">flatten_seq_categorical_0: Flatten</text>\n",
       "</g>\n",
       "<!-- 5084824744&#45;&gt;5084823736 -->\n",
       "<g class=\"edge\" id=\"edge7\">\n",
       "<title>5084824744-&gt;5084823736</title>\n",
       "<path d=\"M182.3723,-438.4551C196.1333,-429.0667 213.1345,-417.4678 227.9659,-407.3491\" fill=\"none\" stroke=\"#000000\"/>\n",
       "<polygon fill=\"#000000\" points=\"230.1187,-410.1174 236.4068,-401.5904 226.1737,-404.3349 230.1187,-410.1174\" stroke=\"#000000\"/>\n",
       "</g>\n",
       "<!-- 5084824688 -->\n",
       "<g class=\"node\" id=\"node14\">\n",
       "<title>5084824688</title>\n",
       "<polygon fill=\"none\" points=\"436.2588,-365.5 436.2588,-401.5 641.5869,-401.5 641.5869,-365.5 436.2588,-365.5\" stroke=\"#000000\"/>\n",
       "<text fill=\"#000000\" font-family=\"Times,serif\" font-size=\"14.00\" text-anchor=\"middle\" x=\"538.9229\" y=\"-379.3\">flatten_seq_categorical_1: Flatten</text>\n",
       "</g>\n",
       "<!-- 5084827544&#45;&gt;5084824688 -->\n",
       "<g class=\"edge\" id=\"edge8\">\n",
       "<title>5084827544-&gt;5084824688</title>\n",
       "<path d=\"M499.024,-438.4551C505.2668,-429.8564 512.856,-419.4034 519.7327,-409.9316\" fill=\"none\" stroke=\"#000000\"/>\n",
       "<polygon fill=\"#000000\" points=\"522.7459,-411.7388 525.7888,-401.5904 517.0813,-407.6262 522.7459,-411.7388\" stroke=\"#000000\"/>\n",
       "</g>\n",
       "<!-- 5076888824 -->\n",
       "<g class=\"node\" id=\"node15\">\n",
       "<title>5076888824</title>\n",
       "<polygon fill=\"none\" points=\"733.2588,-365.5 733.2588,-401.5 938.5869,-401.5 938.5869,-365.5 733.2588,-365.5\" stroke=\"#000000\"/>\n",
       "<text fill=\"#000000\" font-family=\"Times,serif\" font-size=\"14.00\" text-anchor=\"middle\" x=\"835.9229\" y=\"-379.3\">flatten_seq_categorical_2: Flatten</text>\n",
       "</g>\n",
       "<!-- 5076889104&#45;&gt;5076888824 -->\n",
       "<g class=\"edge\" id=\"edge9\">\n",
       "<title>5076889104-&gt;5076888824</title>\n",
       "<path d=\"M820.8667,-438.4551C823.1023,-430.2951 825.7954,-420.4652 828.2821,-411.3887\" fill=\"none\" stroke=\"#000000\"/>\n",
       "<polygon fill=\"#000000\" points=\"831.6998,-412.1598 830.9666,-401.5904 824.9486,-410.3101 831.6998,-412.1598\" stroke=\"#000000\"/>\n",
       "</g>\n",
       "<!-- 5075204640 -->\n",
       "<g class=\"node\" id=\"node16\">\n",
       "<title>5075204640</title>\n",
       "<polygon fill=\"none\" points=\"996.29,-365.5 996.29,-401.5 1121.5557,-401.5 1121.5557,-365.5 996.29,-365.5\" stroke=\"#000000\"/>\n",
       "<text fill=\"#000000\" font-family=\"Times,serif\" font-size=\"14.00\" text-anchor=\"middle\" x=\"1058.9229\" y=\"-379.3\">flatten_105: Flatten</text>\n",
       "</g>\n",
       "<!-- 5075204472&#45;&gt;5075204640 -->\n",
       "<g class=\"edge\" id=\"edge10\">\n",
       "<title>5075204472-&gt;5075204640</title>\n",
       "<path d=\"M1073.979,-438.4551C1071.7434,-430.2951 1069.0503,-420.4652 1066.5636,-411.3887\" fill=\"none\" stroke=\"#000000\"/>\n",
       "<polygon fill=\"#000000\" points=\"1069.8971,-410.3101 1063.8791,-401.5904 1063.1459,-412.1598 1069.8971,-410.3101\" stroke=\"#000000\"/>\n",
       "</g>\n",
       "<!-- 5075218952 -->\n",
       "<g class=\"node\" id=\"node17\">\n",
       "<title>5075218952</title>\n",
       "<polygon fill=\"none\" points=\"1139.29,-365.5 1139.29,-401.5 1264.5557,-401.5 1264.5557,-365.5 1139.29,-365.5\" stroke=\"#000000\"/>\n",
       "<text fill=\"#000000\" font-family=\"Times,serif\" font-size=\"14.00\" text-anchor=\"middle\" x=\"1201.9229\" y=\"-379.3\">flatten_106: Flatten</text>\n",
       "</g>\n",
       "<!-- 5075219624&#45;&gt;5075218952 -->\n",
       "<g class=\"edge\" id=\"edge11\">\n",
       "<title>5075219624-&gt;5075218952</title>\n",
       "<path d=\"M1256.8779,-438.4551C1247.9283,-429.5054 1236.9698,-418.547 1227.1998,-408.7769\" fill=\"none\" stroke=\"#000000\"/>\n",
       "<polygon fill=\"#000000\" points=\"1229.5592,-406.1866 1220.0132,-401.5904 1224.6094,-411.1363 1229.5592,-406.1866\" stroke=\"#000000\"/>\n",
       "</g>\n",
       "<!-- 5075751712 -->\n",
       "<g class=\"node\" id=\"node18\">\n",
       "<title>5075751712</title>\n",
       "<polygon fill=\"none\" points=\"1282.29,-365.5 1282.29,-401.5 1407.5557,-401.5 1407.5557,-365.5 1282.29,-365.5\" stroke=\"#000000\"/>\n",
       "<text fill=\"#000000\" font-family=\"Times,serif\" font-size=\"14.00\" text-anchor=\"middle\" x=\"1344.9229\" y=\"-379.3\">flatten_107: Flatten</text>\n",
       "</g>\n",
       "<!-- 5189813752&#45;&gt;5075751712 -->\n",
       "<g class=\"edge\" id=\"edge12\">\n",
       "<title>5189813752-&gt;5075751712</title>\n",
       "<path d=\"M1439.7768,-438.4551C1423.2694,-428.8912 1402.8024,-417.0334 1385.1105,-406.7833\" fill=\"none\" stroke=\"#000000\"/>\n",
       "<polygon fill=\"#000000\" points=\"1386.5546,-403.575 1376.1473,-401.5904 1383.0454,-409.6319 1386.5546,-403.575\" stroke=\"#000000\"/>\n",
       "</g>\n",
       "<!-- 5076353936 -->\n",
       "<g class=\"node\" id=\"node20\">\n",
       "<title>5076353936</title>\n",
       "<polygon fill=\"none\" points=\"969.1035,-292.5 969.1035,-328.5 1148.7422,-328.5 1148.7422,-292.5 969.1035,-292.5\" stroke=\"#000000\"/>\n",
       "<text fill=\"#000000\" font-family=\"Times,serif\" font-size=\"14.00\" text-anchor=\"middle\" x=\"1058.9229\" y=\"-306.3\">concatenate_18: Concatenate</text>\n",
       "</g>\n",
       "<!-- 5084823736&#45;&gt;5076353936 -->\n",
       "<g class=\"edge\" id=\"edge13\">\n",
       "<title>5084823736-&gt;5076353936</title>\n",
       "<path d=\"M365.6728,-371.4896C385.9631,-369.2364 407.107,-366.9717 426.9229,-365 614.5243,-346.3333 833.833,-328.2612 958.5556,-318.3355\" fill=\"none\" stroke=\"#000000\"/>\n",
       "<polygon fill=\"#000000\" points=\"959.1559,-321.7989 968.8473,-317.5179 958.6015,-314.8209 959.1559,-321.7989\" stroke=\"#000000\"/>\n",
       "</g>\n",
       "<!-- 5084824688&#45;&gt;5076353936 -->\n",
       "<g class=\"edge\" id=\"edge14\">\n",
       "<title>5084824688-&gt;5076353936</title>\n",
       "<path d=\"M641.6581,-369.0775C733.664,-356.1613 867.7553,-337.337 958.9167,-324.5393\" fill=\"none\" stroke=\"#000000\"/>\n",
       "<polygon fill=\"#000000\" points=\"959.5671,-327.9824 968.9834,-323.1261 958.5939,-321.0504 959.5671,-327.9824\" stroke=\"#000000\"/>\n",
       "</g>\n",
       "<!-- 5076888824&#45;&gt;5076353936 -->\n",
       "<g class=\"edge\" id=\"edge15\">\n",
       "<title>5076888824-&gt;5076353936</title>\n",
       "<path d=\"M891.0465,-365.4551C922.1382,-355.277 961.1666,-342.5009 993.7658,-331.8294\" fill=\"none\" stroke=\"#000000\"/>\n",
       "<polygon fill=\"#000000\" points=\"995.2457,-335.0278 1003.6605,-328.5904 993.0679,-328.3752 995.2457,-335.0278\" stroke=\"#000000\"/>\n",
       "</g>\n",
       "<!-- 5075204640&#45;&gt;5076353936 -->\n",
       "<g class=\"edge\" id=\"edge16\">\n",
       "<title>5075204640-&gt;5076353936</title>\n",
       "<path d=\"M1058.9229,-365.4551C1058.9229,-357.3828 1058.9229,-347.6764 1058.9229,-338.6817\" fill=\"none\" stroke=\"#000000\"/>\n",
       "<polygon fill=\"#000000\" points=\"1062.423,-338.5903 1058.9229,-328.5904 1055.423,-338.5904 1062.423,-338.5903\" stroke=\"#000000\"/>\n",
       "</g>\n",
       "<!-- 5075218952&#45;&gt;5076353936 -->\n",
       "<g class=\"edge\" id=\"edge17\">\n",
       "<title>5075218952-&gt;5076353936</title>\n",
       "<path d=\"M1166.5745,-365.4551C1147.4962,-355.7157 1123.7576,-343.5975 1103.4306,-333.2207\" fill=\"none\" stroke=\"#000000\"/>\n",
       "<polygon fill=\"#000000\" points=\"1104.8581,-330.0198 1094.3601,-328.5904 1101.6754,-336.2544 1104.8581,-330.0198\" stroke=\"#000000\"/>\n",
       "</g>\n",
       "<!-- 5075751712&#45;&gt;5076353936 -->\n",
       "<g class=\"edge\" id=\"edge18\">\n",
       "<title>5075751712-&gt;5076353936</title>\n",
       "<path d=\"M1282.2089,-367.1349C1279.409,-366.4119 1276.637,-365.6976 1273.9229,-365 1229.8218,-353.665 1180.5891,-341.1732 1140.3752,-331.0118\" fill=\"none\" stroke=\"#000000\"/>\n",
       "<polygon fill=\"#000000\" points=\"1141.1725,-327.6034 1130.6199,-328.5478 1139.4582,-334.3902 1141.1725,-327.6034\" stroke=\"#000000\"/>\n",
       "</g>\n",
       "<!-- 5076367680 -->\n",
       "<g class=\"node\" id=\"node19\">\n",
       "<title>5076367680</title>\n",
       "<polygon fill=\"none\" points=\"1425.1968,-365.5 1425.1968,-401.5 1556.6489,-401.5 1556.6489,-365.5 1425.1968,-365.5\" stroke=\"#000000\"/>\n",
       "<text fill=\"#000000\" font-family=\"Times,serif\" font-size=\"14.00\" text-anchor=\"middle\" x=\"1490.9229\" y=\"-379.3\">numeric: InputLayer</text>\n",
       "</g>\n",
       "<!-- 5076367680&#45;&gt;5076353936 -->\n",
       "<g class=\"edge\" id=\"edge19\">\n",
       "<title>5076367680-&gt;5076353936</title>\n",
       "<path d=\"M1424.8279,-366.6496C1422.1623,-366.0736 1419.5196,-365.5211 1416.9229,-365 1330.3822,-347.6351 1231.0883,-332.9249 1159.0582,-323.1805\" fill=\"none\" stroke=\"#000000\"/>\n",
       "<polygon fill=\"#000000\" points=\"1159.4568,-319.7027 1149.0795,-321.8387 1158.5239,-326.6402 1159.4568,-319.7027\" stroke=\"#000000\"/>\n",
       "</g>\n",
       "<!-- 5076368184 -->\n",
       "<g class=\"node\" id=\"node21\">\n",
       "<title>5076368184</title>\n",
       "<polygon fill=\"none\" points=\"1003.2969,-219.5 1003.2969,-255.5 1114.5488,-255.5 1114.5488,-219.5 1003.2969,-219.5\" stroke=\"#000000\"/>\n",
       "<text fill=\"#000000\" font-family=\"Times,serif\" font-size=\"14.00\" text-anchor=\"middle\" x=\"1058.9229\" y=\"-233.3\">dense_21: Dense</text>\n",
       "</g>\n",
       "<!-- 5076353936&#45;&gt;5076368184 -->\n",
       "<g class=\"edge\" id=\"edge20\">\n",
       "<title>5076353936-&gt;5076368184</title>\n",
       "<path d=\"M1058.9229,-292.4551C1058.9229,-284.3828 1058.9229,-274.6764 1058.9229,-265.6817\" fill=\"none\" stroke=\"#000000\"/>\n",
       "<polygon fill=\"#000000\" points=\"1062.423,-265.5903 1058.9229,-255.5904 1055.423,-265.5904 1062.423,-265.5903\" stroke=\"#000000\"/>\n",
       "</g>\n",
       "<!-- 5076353264 -->\n",
       "<g class=\"node\" id=\"node22\">\n",
       "<title>5076353264</title>\n",
       "<polygon fill=\"none\" points=\"1003.2969,-146.5 1003.2969,-182.5 1114.5488,-182.5 1114.5488,-146.5 1003.2969,-146.5\" stroke=\"#000000\"/>\n",
       "<text fill=\"#000000\" font-family=\"Times,serif\" font-size=\"14.00\" text-anchor=\"middle\" x=\"1058.9229\" y=\"-160.3\">dense_22: Dense</text>\n",
       "</g>\n",
       "<!-- 5076368184&#45;&gt;5076353264 -->\n",
       "<g class=\"edge\" id=\"edge21\">\n",
       "<title>5076368184-&gt;5076353264</title>\n",
       "<path d=\"M1058.9229,-219.4551C1058.9229,-211.3828 1058.9229,-201.6764 1058.9229,-192.6817\" fill=\"none\" stroke=\"#000000\"/>\n",
       "<polygon fill=\"#000000\" points=\"1062.423,-192.5903 1058.9229,-182.5904 1055.423,-192.5904 1062.423,-192.5903\" stroke=\"#000000\"/>\n",
       "</g>\n",
       "<!-- 5104414560 -->\n",
       "<g class=\"node\" id=\"node23\">\n",
       "<title>5104414560</title>\n",
       "<polygon fill=\"none\" points=\"983.4692,-73.5 983.4692,-109.5 1134.3765,-109.5 1134.3765,-73.5 983.4692,-73.5\" stroke=\"#000000\"/>\n",
       "<text fill=\"#000000\" font-family=\"Times,serif\" font-size=\"14.00\" text-anchor=\"middle\" x=\"1058.9229\" y=\"-87.3\">user_embedding: Dense</text>\n",
       "</g>\n",
       "<!-- 5076353264&#45;&gt;5104414560 -->\n",
       "<g class=\"edge\" id=\"edge22\">\n",
       "<title>5076353264-&gt;5104414560</title>\n",
       "<path d=\"M1058.9229,-146.4551C1058.9229,-138.3828 1058.9229,-128.6764 1058.9229,-119.6817\" fill=\"none\" stroke=\"#000000\"/>\n",
       "<polygon fill=\"#000000\" points=\"1062.423,-119.5903 1058.9229,-109.5904 1055.423,-119.5904 1062.423,-119.5903\" stroke=\"#000000\"/>\n",
       "</g>\n",
       "<!-- 5076353488 -->\n",
       "<g class=\"node\" id=\"node24\">\n",
       "<title>5076353488</title>\n",
       "<polygon fill=\"none\" points=\"989.6934,-.5 989.6934,-36.5 1128.1523,-36.5 1128.1523,-.5 989.6934,-.5\" stroke=\"#000000\"/>\n",
       "<text fill=\"#000000\" font-family=\"Times,serif\" font-size=\"14.00\" text-anchor=\"middle\" x=\"1058.9229\" y=\"-14.3\">softmax_layer: Dense</text>\n",
       "</g>\n",
       "<!-- 5104414560&#45;&gt;5076353488 -->\n",
       "<g class=\"edge\" id=\"edge23\">\n",
       "<title>5104414560-&gt;5076353488</title>\n",
       "<path d=\"M1058.9229,-73.4551C1058.9229,-65.3828 1058.9229,-55.6764 1058.9229,-46.6817\" fill=\"none\" stroke=\"#000000\"/>\n",
       "<polygon fill=\"#000000\" points=\"1062.423,-46.5903 1058.9229,-36.5904 1055.423,-46.5904 1062.423,-46.5903\" stroke=\"#000000\"/>\n",
       "</g>\n",
       "</g>\n",
       "</svg>"
      ],
      "text/plain": [
       "<IPython.core.display.SVG object>"
      ]
     },
     "execution_count": 192,
     "metadata": {},
     "output_type": "execute_result"
    }
   ],
   "source": [
    "SVG(model_to_dot(model).create(prog='dot', format='svg'))\n"
   ]
  },
  {
   "cell_type": "code",
   "execution_count": 193,
   "metadata": {},
   "outputs": [
    {
     "name": "stdout",
     "output_type": "stream",
     "text": [
      "Epoch 1/10\n",
      "500/500 [==============================] - 0s 788us/sample - loss: 2.3083 - sparse_categorical_accuracy: 0.0880\n",
      "Epoch 2/10\n",
      "500/500 [==============================] - 0s 242us/sample - loss: 2.2780 - sparse_categorical_accuracy: 0.1800\n",
      "Epoch 3/10\n",
      "500/500 [==============================] - 0s 233us/sample - loss: 2.2018 - sparse_categorical_accuracy: 0.3140\n",
      "Epoch 4/10\n",
      "500/500 [==============================] - 0s 229us/sample - loss: 1.9722 - sparse_categorical_accuracy: 0.4260\n",
      "Epoch 5/10\n",
      "500/500 [==============================] - 0s 220us/sample - loss: 1.5302 - sparse_categorical_accuracy: 0.5200\n",
      "Epoch 6/10\n",
      "500/500 [==============================] - 0s 221us/sample - loss: 0.9851 - sparse_categorical_accuracy: 0.7240\n",
      "Epoch 7/10\n",
      "500/500 [==============================] - 0s 235us/sample - loss: 0.5536 - sparse_categorical_accuracy: 0.9000\n",
      "Epoch 8/10\n",
      "500/500 [==============================] - 0s 221us/sample - loss: 0.2633 - sparse_categorical_accuracy: 0.9680\n",
      "Epoch 9/10\n",
      "500/500 [==============================] - 0s 228us/sample - loss: 0.1145 - sparse_categorical_accuracy: 0.9940\n",
      "Epoch 10/10\n",
      "500/500 [==============================] - 0s 212us/sample - loss: 0.0556 - sparse_categorical_accuracy: 1.0000\n",
      "CPU times: user 4.44 s, sys: 1.94 s, total: 6.39 s\n",
      "Wall time: 2.8 s\n"
     ]
    },
    {
     "data": {
      "text/plain": [
       "<tensorflow.python.keras.callbacks.History at 0x137dcdef0>"
      ]
     },
     "execution_count": 193,
     "metadata": {},
     "output_type": "execute_result"
    }
   ],
   "source": [
    "%time model.fit(x=inputs, y=labels, epochs=10, batch_size=32)"
   ]
  },
  {
   "cell_type": "code",
   "execution_count": 194,
   "metadata": {},
   "outputs": [],
   "source": [
    "layer_name = 'user_embedding'\n",
    "intermediate_layer_model = tf.keras.Model(inputs=model.input,\n",
    "                                 outputs=model.get_layer(layer_name).output)\n"
   ]
  },
  {
   "cell_type": "code",
   "execution_count": 202,
   "metadata": {},
   "outputs": [],
   "source": [
    "sz=3\n",
    "dat = inputs[0][0:sz], inputs[1][0:sz],inputs[2][0:sz],inputs[3][0:sz],inputs[4][0:sz],inputs[5][0:sz],inputs[6][0:sz]"
   ]
  },
  {
   "cell_type": "code",
   "execution_count": 203,
   "metadata": {},
   "outputs": [],
   "source": [
    "intermediate_output = intermediate_layer_model.predict(dat)"
   ]
  },
  {
   "cell_type": "code",
   "execution_count": 204,
   "metadata": {},
   "outputs": [
    {
     "data": {
      "text/plain": [
       "array([[ 3.4217505 ,  0.        ,  1.8892728 ,  0.        ,  0.        ,\n",
       "         0.        ,  0.        ,  2.8937824 ,  3.1557918 ,  0.        ,\n",
       "         0.        ,  5.1789002 ,  0.0221468 ,  0.        , 17.113266  ,\n",
       "         9.922755  ],\n",
       "       [ 4.4615135 ,  0.        ,  3.7027073 ,  5.613692  ,  6.465666  ,\n",
       "         0.        ,  0.        ,  1.0816196 ,  5.9028044 ,  0.        ,\n",
       "         0.        ,  6.047719  ,  2.0617576 ,  0.        , 11.872618  ,\n",
       "         7.839364  ],\n",
       "       [ 4.933783  ,  0.        ,  3.2941856 ,  0.        ,  8.209257  ,\n",
       "         0.        ,  0.        ,  2.6238837 ,  0.73382074,  0.        ,\n",
       "         0.        ,  5.059444  , 10.050886  ,  0.        , 16.556997  ,\n",
       "         5.6532245 ]], dtype=float32)"
      ]
     },
     "execution_count": 204,
     "metadata": {},
     "output_type": "execute_result"
    }
   ],
   "source": [
    "intermediate_output"
   ]
  },
  {
   "cell_type": "code",
   "execution_count": null,
   "metadata": {},
   "outputs": [],
   "source": [
    "#%time model.fit(ds3, epochs=50, steps_per_epoch=int(10000//32))"
   ]
  },
  {
   "cell_type": "code",
   "execution_count": null,
   "metadata": {},
   "outputs": [],
   "source": []
  },
  {
   "cell_type": "code",
   "execution_count": 57,
   "metadata": {},
   "outputs": [],
   "source": [
    "generator=data_generator.data_generator('../data/features.csv', 64, [50, 100, 150], [150,151,152], [153])\n"
   ]
  },
  {
   "cell_type": "code",
   "execution_count": 58,
   "metadata": {},
   "outputs": [],
   "source": [
    "#generator=data_generator.DataGenerator('../data/features.csv', 10000, 64, 100, [50, 100, 150], [150,151,152], [153])"
   ]
  },
  {
   "cell_type": "code",
   "execution_count": null,
   "metadata": {},
   "outputs": [],
   "source": [
    "%time model.fit_generator(generator,steps_per_epoch=10000//64, verbose=1, epochs=50, shuffle=True, use_multiprocessing=True, workers=15)\n"
   ]
  },
  {
   "cell_type": "code",
   "execution_count": null,
   "metadata": {},
   "outputs": [],
   "source": []
  }
 ],
 "metadata": {
  "kernelspec": {
   "display_name": "Python 3",
   "language": "python",
   "name": "python3"
  },
  "language_info": {
   "codemirror_mode": {
    "name": "ipython",
    "version": 3
   },
   "file_extension": ".py",
   "mimetype": "text/x-python",
   "name": "python",
   "nbconvert_exporter": "python",
   "pygments_lexer": "ipython3",
   "version": "3.6.8"
  }
 },
 "nbformat": 4,
 "nbformat_minor": 2
}
