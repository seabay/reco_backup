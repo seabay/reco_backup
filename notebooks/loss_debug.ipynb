{
 "cells": [
  {
   "cell_type": "code",
   "execution_count": 1,
   "metadata": {},
   "outputs": [],
   "source": [
    "import tensorflow as tf\n",
    "import numpy as np"
   ]
  },
  {
   "cell_type": "code",
   "execution_count": 2,
   "metadata": {},
   "outputs": [],
   "source": [
    "tf.enable_eager_execution() "
   ]
  },
  {
   "cell_type": "code",
   "execution_count": 5,
   "metadata": {},
   "outputs": [
    {
     "name": "stdout",
     "output_type": "stream",
     "text": [
      "Final result:  0.75\n"
     ]
    }
   ],
   "source": [
    "m = tf.keras.metrics.BinaryAccuracy()\n",
    "m.update_state([1, 1, 0, 0], [0.98, 1, 0, 0.51])\n",
    "print('Final result: ', m.result().numpy())  # Final result: 0.75"
   ]
  },
  {
   "cell_type": "markdown",
   "metadata": {},
   "source": [
    "# "
   ]
  },
  {
   "cell_type": "code",
   "execution_count": 2,
   "metadata": {},
   "outputs": [],
   "source": [
    "y_true = np.array([[2], [1], [0], [3], [0]]).astype(np.int64)\n",
    "y_true = tf.identity(y_true)\n",
    "\n",
    "y_pred = np.array([[0.1, 0.2, 0.6, 0.1],\n",
    "                   [0.8, 0.05, 0.1, 0.05],\n",
    "                   [0.3, 0.4, 0.1, 0.2],\n",
    "                   [0.6, 0.25, 0.1, 0.05],\n",
    "                   [0.1, 0.2, 0.6, 0.1]\n",
    "                   ]).astype(np.float32)\n",
    "y_pred = tf.identity(y_pred)"
   ]
  },
  {
   "cell_type": "code",
   "execution_count": 3,
   "metadata": {},
   "outputs": [
    {
     "name": "stderr",
     "output_type": "stream",
     "text": [
      "WARNING: Logging before flag parsing goes to stderr.\n",
      "W0813 09:28:34.108921 4508128704 deprecation.py:323] From <ipython-input-3-b34b6f113efb>:1: sparse_average_precision_at_k (from tensorflow.python.ops.metrics_impl) is deprecated and will be removed in a future version.\n",
      "Instructions for updating:\n",
      "Use average_precision_at_k instead\n",
      "W0813 09:28:34.149288 4508128704 deprecation.py:323] From /Users/pengcheng.jia/anaconda3/envs/reco/lib/python3.6/site-packages/tensorflow/python/ops/metrics_impl.py:3066: div (from tensorflow.python.ops.math_ops) is deprecated and will be removed in a future version.\n",
      "Instructions for updating:\n",
      "Deprecated in favor of operator or tf.math.divide.\n"
     ]
    },
    {
     "name": "stdout",
     "output_type": "stream",
     "text": [
      "TF_MAP 0.4333333333333333\n",
      "STREAM_VARS [5.0, 2.1666666666666665]\n",
      "TMP_RANK TopKV2(values=array([[0.6 , 0.2 , 0.1 ],\n",
      "       [0.8 , 0.1 , 0.05],\n",
      "       [0.4 , 0.3 , 0.2 ],\n",
      "       [0.6 , 0.25, 0.1 ],\n",
      "       [0.6 , 0.2 , 0.1 ]], dtype=float32), indices=array([[2, 1, 0],\n",
      "       [0, 2, 1],\n",
      "       [1, 0, 3],\n",
      "       [0, 1, 2],\n",
      "       [2, 1, 0]], dtype=int32))\n"
     ]
    }
   ],
   "source": [
    "_, m_ap = tf.metrics.sparse_average_precision_at_k(y_true, y_pred, 3)\n",
    "\n",
    "sess = tf.Session()\n",
    "sess.run(tf.local_variables_initializer())\n",
    "\n",
    "stream_vars = [i for i in tf.local_variables()]\n",
    "\n",
    "tf_map = sess.run(m_ap)\n",
    "print(\"TF_MAP\",tf_map)\n",
    "\n",
    "print(\"STREAM_VARS\",(sess.run(stream_vars)))\n",
    "\n",
    "tmp_rank = tf.nn.top_k(y_pred,3)\n",
    "\n",
    "print(\"TMP_RANK\",sess.run(tmp_rank))"
   ]
  },
  {
   "cell_type": "code",
   "execution_count": null,
   "metadata": {},
   "outputs": [],
   "source": []
  },
  {
   "cell_type": "code",
   "execution_count": 6,
   "metadata": {},
   "outputs": [
    {
     "ename": "RuntimeError",
     "evalue": "tf.placeholder() is not compatible with eager execution.",
     "output_type": "error",
     "traceback": [
      "\u001b[0;31m---------------------------------------------------------------------------\u001b[0m",
      "\u001b[0;31mRuntimeError\u001b[0m                              Traceback (most recent call last)",
      "\u001b[0;32m<ipython-input-6-9de6e8f3a02e>\u001b[0m in \u001b[0;36m<module>\u001b[0;34m\u001b[0m\n\u001b[0;32m----> 1\u001b[0;31m \u001b[0mx\u001b[0m \u001b[0;34m=\u001b[0m \u001b[0mtf\u001b[0m\u001b[0;34m.\u001b[0m\u001b[0mplaceholder\u001b[0m\u001b[0;34m(\u001b[0m\u001b[0mtf\u001b[0m\u001b[0;34m.\u001b[0m\u001b[0mfloat32\u001b[0m\u001b[0;34m,\u001b[0m \u001b[0;34m[\u001b[0m\u001b[0;36m1\u001b[0m\u001b[0;34m,\u001b[0m\u001b[0;36m2\u001b[0m\u001b[0;34m]\u001b[0m\u001b[0;34m)\u001b[0m\u001b[0;34m\u001b[0m\u001b[0;34m\u001b[0m\u001b[0m\n\u001b[0m\u001b[1;32m      2\u001b[0m \u001b[0;31m#x = tf.constant([0.7, 2.2], dtype=tf.float32)\u001b[0m\u001b[0;34m\u001b[0m\u001b[0;34m\u001b[0m\u001b[0;34m\u001b[0m\u001b[0m\n\u001b[1;32m      3\u001b[0m \u001b[0my\u001b[0m \u001b[0;34m=\u001b[0m \u001b[0mtf\u001b[0m\u001b[0;34m.\u001b[0m\u001b[0mconstant\u001b[0m\u001b[0;34m(\u001b[0m\u001b[0;34m[\u001b[0m\u001b[0;34m[\u001b[0m\u001b[0;36m0\u001b[0m\u001b[0;34m,\u001b[0m \u001b[0;36m1\u001b[0m\u001b[0;34m]\u001b[0m\u001b[0;34m]\u001b[0m\u001b[0;34m,\u001b[0m \u001b[0mdtype\u001b[0m\u001b[0;34m=\u001b[0m\u001b[0mtf\u001b[0m\u001b[0;34m.\u001b[0m\u001b[0mfloat32\u001b[0m\u001b[0;34m)\u001b[0m\u001b[0;34m\u001b[0m\u001b[0;34m\u001b[0m\u001b[0m\n\u001b[1;32m      4\u001b[0m \u001b[0macc\u001b[0m\u001b[0;34m,\u001b[0m \u001b[0mopt\u001b[0m \u001b[0;34m=\u001b[0m \u001b[0mtf\u001b[0m\u001b[0;34m.\u001b[0m\u001b[0mmetrics\u001b[0m\u001b[0;34m.\u001b[0m\u001b[0maccuracy\u001b[0m\u001b[0;34m(\u001b[0m\u001b[0mtf\u001b[0m\u001b[0;34m.\u001b[0m\u001b[0mround\u001b[0m\u001b[0;34m(\u001b[0m\u001b[0mx\u001b[0m\u001b[0;34m)\u001b[0m\u001b[0;34m,\u001b[0m \u001b[0my\u001b[0m\u001b[0;34m)\u001b[0m\u001b[0;34m\u001b[0m\u001b[0;34m\u001b[0m\u001b[0m\n\u001b[1;32m      5\u001b[0m \u001b[0;34m\u001b[0m\u001b[0m\n",
      "\u001b[0;32m~/anaconda3/envs/reco/lib/python3.6/site-packages/tensorflow/python/ops/array_ops.py\u001b[0m in \u001b[0;36mplaceholder\u001b[0;34m(dtype, shape, name)\u001b[0m\n\u001b[1;32m   2138\u001b[0m   \"\"\"\n\u001b[1;32m   2139\u001b[0m   \u001b[0;32mif\u001b[0m \u001b[0mcontext\u001b[0m\u001b[0;34m.\u001b[0m\u001b[0mexecuting_eagerly\u001b[0m\u001b[0;34m(\u001b[0m\u001b[0;34m)\u001b[0m\u001b[0;34m:\u001b[0m\u001b[0;34m\u001b[0m\u001b[0;34m\u001b[0m\u001b[0m\n\u001b[0;32m-> 2140\u001b[0;31m     raise RuntimeError(\"tf.placeholder() is not compatible with \"\n\u001b[0m\u001b[1;32m   2141\u001b[0m                        \"eager execution.\")\n\u001b[1;32m   2142\u001b[0m \u001b[0;34m\u001b[0m\u001b[0m\n",
      "\u001b[0;31mRuntimeError\u001b[0m: tf.placeholder() is not compatible with eager execution."
     ]
    }
   ],
   "source": [
    "x = tf.placeholder(tf.float32, [1,2])\n",
    "#x = tf.constant([0.7, 2.2], dtype=tf.float32)\n",
    "y = tf.constant([[0, 1]], dtype=tf.float32)\n",
    "acc, opt = tf.metrics.accuracy(tf.round(x), y)\n",
    "\n",
    "\n",
    "sess = tf.Session()\n",
    "sess.run(tf.local_variables_initializer())\n",
    "\n",
    "stream_vars = [i for i in tf.local_variables()]\n",
    "\n",
    "print(sess.run(acc, {x:[[0.501, 1.2]]}))\n",
    "print(sess.run(opt, {x:[[0.501, 1.2]]}))\n",
    "\n",
    "print(sess.run(acc, {x:[[0.4, 1.2]]}))\n",
    "print(sess.run(opt, {x:[[0.4, 1.2]]}))"
   ]
  },
  {
   "cell_type": "code",
   "execution_count": null,
   "metadata": {},
   "outputs": [],
   "source": []
  },
  {
   "cell_type": "code",
   "execution_count": 9,
   "metadata": {},
   "outputs": [
    {
     "name": "stdout",
     "output_type": "stream",
     "text": [
      "[PRECSION_1]:  nan\n",
      "[UPDATE_OP_1]: 0.2\n",
      "[STREAM_VARS_1]: [0.0, 0.0, 0.0, 0.0, 0.0, 0.0, 0.0, 0.0, 0.0, 0.0, 0.0, 0.0, 2.0, 8.0]\n",
      "[PRECISION_1]: 0.2\n",
      "[UPDATE_OP_2]: 0.15\n",
      "[STREAM_VARS_2]: [0.0, 0.0, 0.0, 0.0, 0.0, 0.0, 0.0, 0.0, 0.0, 0.0, 0.0, 0.0, 3.0, 17.0]\n"
     ]
    }
   ],
   "source": [
    "rel = tf.placeholder(tf.int64, [1,3])\n",
    "rec = tf.constant([[7, 5, 10, 6, 3, 1, 8, 12, 31, 88]], tf.int64) \n",
    "precision, update_op = tf.metrics.precision_at_k(rel, rec, 10)\n",
    "\n",
    "# 当k=10，即对rec = tf.constant([[7, 5, 10, 6, 3, 1, 8, 12, 31, 88]], tf.int64) 所有的样本进行排序，\n",
    "# 进而在函数中实际运用的是rec中样本数值从大到小排列的索引值 = [9,8,7,2,6,0,3,1,4,5]\n",
    "\n",
    "sess = tf.Session()\n",
    "sess.run(tf.local_variables_initializer())\n",
    "\n",
    "stream_vars = [i for i in tf.local_variables()]\n",
    "#Get the local variables true_positive and false_positive\n",
    "\n",
    "print(\"[PRECSION_1]: \",sess.run(precision, {rel:[[1,5,10]]})) # nan\n",
    "#tf.metrics.precision maintains two variables true_positives \n",
    "#and  false_positives, each starts at zero.\n",
    "#so the output at this step is 'nan'\n",
    "\n",
    "print(\"[UPDATE_OP_1]:\",sess.run(update_op, {rel:[[1,5,10]]})) #0.2, [1,5] 在 排序的索引值list里\n",
    "#when the update_op is called, it updates true_positives \n",
    "#and false_positives using labels and predictions.\n",
    "\n",
    "print(\"[STREAM_VARS_1]:\",sess.run(stream_vars)) #[2.0, 8.0]\n",
    "# Get true positive rate and false positive rate\n",
    "\n",
    "print(\"[PRECISION_1]:\",sess.run(precision,{rel:[[1,10,15]]})) # 0.2\n",
    "#So calling precision will use true_positives and false_positives and outputs 0.2\n",
    "\n",
    "print(\"[UPDATE_OP_2]:\",sess.run(update_op,{rel:[[1,10,15]]})) #0.15\n",
    "#the update_op updates the values to the new calculated value 0.15.\n",
    "\n",
    "print(\"[STREAM_VARS_2]:\",sess.run(stream_vars)) #[3.0, 17.0]"
   ]
  },
  {
   "cell_type": "code",
   "execution_count": null,
   "metadata": {},
   "outputs": [],
   "source": []
  }
 ],
 "metadata": {
  "kernelspec": {
   "display_name": "Python 3",
   "language": "python",
   "name": "python3"
  },
  "language_info": {
   "codemirror_mode": {
    "name": "ipython",
    "version": 3
   },
   "file_extension": ".py",
   "mimetype": "text/x-python",
   "name": "python",
   "nbconvert_exporter": "python",
   "pygments_lexer": "ipython3",
   "version": "3.6.8"
  }
 },
 "nbformat": 4,
 "nbformat_minor": 2
}
